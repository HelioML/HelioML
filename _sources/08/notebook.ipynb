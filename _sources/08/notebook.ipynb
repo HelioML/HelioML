{
 "cells": [
  {
   "cell_type": "markdown",
   "metadata": {
    "colab_type": "text",
    "id": "D7UvwwCM0wC7"
   },
   "source": [
    "# Notebook\n",
    "\n",
    "**Authors:** Colin Small (crs1031@wildcats.unh.edu), Matthew Argall (Matthew.Argall@unh.edu), Marek Petrik (Marek.Petrik@unh.edu)"
   ]
  },
  {
   "cell_type": "markdown",
   "metadata": {
    "colab_type": "text",
    "id": "tdDrn6mBTUgT"
   },
   "source": [
    "[![MMS Mission Video](https://upload.wikimedia.org/wikipedia/commons/thumb/b/b3/Artist_depiction_of_MMS_spacecraft_%28SVS12239%29.png/640px-Artist_depiction_of_MMS_spacecraft_%28SVS12239%29.png)](https://upload.wikimedia.org/wikipedia/commons/c/c9/NASA_Spacecraft_Finds_New_Magnetic_Process_in_Turbulent_Space.webm)"
   ]
  },
  {
   "cell_type": "markdown",
   "metadata": {
    "colab_type": "text",
    "id": "rL5p5pJQ39Dd"
   },
   "source": [
    "## Introduction\n",
    "Global-scale energy flow throughout Earth’s magnetosphere is catalyzed by processes that occur at Earth’s magnetopause (MP) in the electron diffusion region (EDR) of magnetic reconnection. Until the launch of the Magnetospheric Multiscale (MMS) mission, only rare, fortuitous circumstances permitted a glimpse of the electron dynamics that break magnetic field lines and energize plasma. MMS employs automated burst triggers onboard the spacecraft and a  Scientist-in-the-Loop (SITL) on the ground to select intervals likely to contain diffusion regions. Only low-resolution survey data is available to the SITL, which is insufficient to resolve electron dynamics. A strategy for the SITL, then, is to select all MP crossings. This has resulted in over 35 potential MP EDR encounters but is labor- and resource-intensive; after manual reclassification, just ∼ 0.7% of MP crossings, or 0.0001% of the mission lifetime during MMS’s first two years contained an EDR.\n",
    "\n",
    "In this notebook, we develop a Long-Short Term Memory (LSTM) neural network to detect magnetopause crossings and automate the SITL classification process. An LSTM developed with this notebook has been implemented in the MMS data stream to provide automated predictions to the SITL.\n",
    "\n",
    "\n",
    "This model facilitates EDR studies and helps free-up mission operation costs by consolidating manual classification processes into automated routines."
   ]
  },
  {
   "cell_type": "markdown",
   "metadata": {
    "colab_type": "text",
    "id": "xRLV_B1CtKIP"
   },
   "source": [
    "**Authors' notes:** \n",
    "\n",
    "1. This notebook was developed after the development of the original model in use at the SDC. We have tried our best to replicate the development steps and hyperparameters of that model, but we cannot guarantee that models developed with this notebook will exactly match the performance of the original.\n",
    "\n",
    "2. This notebook was designed on, and is best run on, Google Colab. It must either be run on Colab or on a machine with an NVIDIA GPU and cuDNN installed. If your machine does not have an NVIDIA GPU, does not have cuDNN installed, or if you run into issues running this notebook yourself, please open the notebook in Google Colab, which provides you with a virtual GPU to run the notebook. (If TF Keras is unable to identify a GPU to run on, make sure the notebook is set to use one by clicking the \"Runtime\" tab in the top menu bar, selecting \"Change runtime type\", selecting \"GPU\" in the dropdown menu under \"Hardware accelerator\", and clicking save. Colab will refresh your timetime, and you will need to re-run all cells.):"
   ]
  },
  {
   "cell_type": "markdown",
   "metadata": {
    "colab_type": "text",
    "id": "K8513yuEtKIP"
   },
   "source": [
    "<a href=\"https://colab.research.google.com/drive/1Mh7GEQfXCR5xKvtKmbG9Uh8yAlOtFgwO?usp=sharing\" target=\"_parent\"><img src=\"https://colab.research.google.com/assets/colab-badge.svg\" alt=\"Open In Colab\"/></a>\n"
   ]
  },
  {
   "cell_type": "markdown",
   "metadata": {
    "colab_type": "text",
    "id": "4Em6RZ8Z6UFl"
   },
   "source": [
    "## Import Libraries\n",
    "\n",
    "To start, we import the neccesary libraries for this notebook."
   ]
  },
  {
   "cell_type": "code",
   "execution_count": 1,
   "metadata": {
    "colab": {
     "base_uri": "https://localhost:8080/",
     "height": 318
    },
    "colab_type": "code",
    "id": "3WshufyyiiLd",
    "outputId": "fb577231-e76a-4f6e-e81d-1c191e5e164e"
   },
   "outputs": [
    {
     "name": "stdout",
     "output_type": "stream",
     "text": [
      "Requirement already satisfied: nasa-pymms in /usr/local/lib/python3.6/dist-packages (0.3.1)\n",
      "Requirement already satisfied: tqdm>=4.36.1 in /usr/local/lib/python3.6/dist-packages (from nasa-pymms) (4.41.1)\n",
      "Requirement already satisfied: matplotlib>=3.1.1 in /usr/local/lib/python3.6/dist-packages (from nasa-pymms) (3.2.2)\n",
      "Requirement already satisfied: requests>=2.22.0 in /usr/local/lib/python3.6/dist-packages (from nasa-pymms) (2.23.0)\n",
      "Requirement already satisfied: scipy>=1.4.1 in /usr/local/lib/python3.6/dist-packages (from nasa-pymms) (1.4.1)\n",
      "Requirement already satisfied: cdflib in /usr/local/lib/python3.6/dist-packages (from nasa-pymms) (0.3.19)\n",
      "Requirement already satisfied: numpy>=1.8 in /usr/local/lib/python3.6/dist-packages (from nasa-pymms) (1.18.5)\n",
      "Requirement already satisfied: kiwisolver>=1.0.1 in /usr/local/lib/python3.6/dist-packages (from matplotlib>=3.1.1->nasa-pymms) (1.2.0)\n",
      "Requirement already satisfied: cycler>=0.10 in /usr/local/lib/python3.6/dist-packages (from matplotlib>=3.1.1->nasa-pymms) (0.10.0)\n",
      "Requirement already satisfied: pyparsing!=2.0.4,!=2.1.2,!=2.1.6,>=2.0.1 in /usr/local/lib/python3.6/dist-packages (from matplotlib>=3.1.1->nasa-pymms) (2.4.7)\n",
      "Requirement already satisfied: python-dateutil>=2.1 in /usr/local/lib/python3.6/dist-packages (from matplotlib>=3.1.1->nasa-pymms) (2.8.1)\n",
      "Requirement already satisfied: certifi>=2017.4.17 in /usr/local/lib/python3.6/dist-packages (from requests>=2.22.0->nasa-pymms) (2020.6.20)\n",
      "Requirement already satisfied: chardet<4,>=3.0.2 in /usr/local/lib/python3.6/dist-packages (from requests>=2.22.0->nasa-pymms) (3.0.4)\n",
      "Requirement already satisfied: urllib3!=1.25.0,!=1.25.1,<1.26,>=1.21.1 in /usr/local/lib/python3.6/dist-packages (from requests>=2.22.0->nasa-pymms) (1.24.3)\n",
      "Requirement already satisfied: idna<3,>=2.5 in /usr/local/lib/python3.6/dist-packages (from requests>=2.22.0->nasa-pymms) (2.10)\n",
      "Requirement already satisfied: attrs>=19.2.0 in /usr/local/lib/python3.6/dist-packages (from cdflib->nasa-pymms) (20.2.0)\n",
      "Requirement already satisfied: six in /usr/local/lib/python3.6/dist-packages (from cycler>=0.10->matplotlib>=3.1.1->nasa-pymms) (1.15.0)\n"
     ]
    }
   ],
   "source": [
    "!pip install nasa-pymms"
   ]
  },
  {
   "cell_type": "code",
   "execution_count": 2,
   "metadata": {
    "colab": {
     "base_uri": "https://localhost:8080/",
     "height": 87
    },
    "colab_type": "code",
    "id": "MwnLUN2cUd4S",
    "outputId": "784c11cf-a6ce-4e24-ad6e-2afe19051981"
   },
   "outputs": [
    {
     "name": "stdout",
     "output_type": "stream",
     "text": [
      "TensorFlow 1.x selected.\n"
     ]
    },
    {
     "name": "stderr",
     "output_type": "stream",
     "text": [
      "Using TensorFlow backend.\n"
     ]
    },
    {
     "name": "stdout",
     "output_type": "stream",
     "text": [
      "Creating root data directory /root/data/mms\n",
      "Creating root data directory /root/data/mms/dropbox\n"
     ]
    }
   ],
   "source": [
    "from pathlib import Path\n",
    "from sklearn import preprocessing\n",
    "from tensorflow.keras.models import Sequential\n",
    "from tensorflow.keras.layers import Dense, Dropout, LSTM, CuDNNLSTM, BatchNormalization, Bidirectional, Reshape, TimeDistributed\n",
    "from tensorflow.keras.callbacks import TensorBoard, ModelCheckpoint\n",
    "from matplotlib import pyplot\n",
    "from sklearn.metrics import roc_curve, auc, confusion_matrix\n",
    "from keras import backend as K\n",
    "from pymms.sdc import mrmms_sdc_api as mms\n",
    "import keras.backend.tensorflow_backend as tfb\n",
    "import tensorflow as tf\n",
    "import numpy as np\n",
    "import pandas as pd\n",
    "import tensorflow as tf\n",
    "import matplotlib.pyplot as plt\n",
    "plt.rcParams.update({'font.size': 18})\n",
    "import datetime as dt\n",
    "import os\n",
    "import time\n",
    "import sklearn\n",
    "import scipy\n",
    "import pickle\n",
    "import random\n",
    "import requests"
   ]
  },
  {
   "cell_type": "markdown",
   "metadata": {
    "colab_type": "text",
    "id": "x-LAsDIG3XD7"
   },
   "source": [
    "## Download, Preprocess, and Format MMS Data"
   ]
  },
  {
   "cell_type": "markdown",
   "metadata": {
    "colab_type": "text",
    "id": "gWIpfE2zSCOP"
   },
   "source": [
    "After installing and importinng the neccesary libraries, we download our training and validation data. "
   ]
  },
  {
   "cell_type": "code",
   "execution_count": 3,
   "metadata": {
    "colab": {
     "base_uri": "https://localhost:8080/",
     "height": 407
    },
    "colab_type": "code",
    "id": "mcytuTHUR8U8",
    "outputId": "04175787-010b-43d0-9951-104ec5782768"
   },
   "outputs": [
    {
     "name": "stdout",
     "output_type": "stream",
     "text": [
      "--2020-09-16 16:36:14--  https://zenodo.org/record/3884266/files/original_training_data.csv?download=1\n",
      "Resolving zenodo.org (zenodo.org)... 188.184.117.155\n",
      "Connecting to zenodo.org (zenodo.org)|188.184.117.155|:443... connected.\n",
      "HTTP request sent, awaiting response... 200 OK\n",
      "Length: 447842635 (427M) [text/plain]\n",
      "Saving to: ‘training_data.csv’\n",
      "\n",
      "training_data.csv   100%[===================>] 427.10M  7.45MB/s    in 24s     \n",
      "\n",
      "2020-09-16 16:36:39 (18.0 MB/s) - ‘training_data.csv’ saved [447842635/447842635]\n",
      "\n",
      "--2020-09-16 16:36:39--  https://zenodo.org/record/3884266/files/original_validation_data.csv?download=1\n",
      "Resolving zenodo.org (zenodo.org)... 188.184.117.155\n",
      "Connecting to zenodo.org (zenodo.org)|188.184.117.155|:443... connected.\n",
      "HTTP request sent, awaiting response... 200 OK\n",
      "Length: 90314951 (86M) [text/plain]\n",
      "Saving to: ‘validation_data.csv’\n",
      "\n",
      "validation_data.csv 100%[===================>]  86.13M  8.10MB/s    in 10s     \n",
      "\n",
      "2020-09-16 16:36:49 (8.45 MB/s) - ‘validation_data.csv’ saved [90314951/90314951]\n",
      "\n"
     ]
    }
   ],
   "source": [
    "!wget -O training_data.csv https://zenodo.org/record/3884266/files/original_training_data.csv?download=1\n",
    "!wget -O validation_data.csv https://zenodo.org/record/3884266/files/original_validation_data.csv?download=1"
   ]
  },
  {
   "cell_type": "markdown",
   "metadata": {
    "colab_type": "text",
    "id": "aDg-HJ0MAtjS"
   },
   "source": [
    "After downloading the training and validation data, we preprocess our training data in preparation for training the neural network."
   ]
  },
  {
   "cell_type": "markdown",
   "metadata": {
    "colab_type": "text",
    "id": "fp4mcnLfFZXw"
   },
   "source": [
    "We first load the data we downloaded above. The data is a table of measurements from the MMS spacecraft, where each row represents individual measurements taken at a given time and where each column represents a feature (variable) recorded at that time. There is an additional column representing the ground truths for each measurement (whether this measurement was selected by a SITL or not). Then, we will adjust the formatting and datatypes of several of the columns and sort the data by the time of the measurement."
   ]
  },
  {
   "cell_type": "code",
   "execution_count": 4,
   "metadata": {
    "colab": {},
    "colab_type": "code",
    "id": "tojTr8i472HY"
   },
   "outputs": [],
   "source": [
    "mms_data = pd.read_csv('training_data.csv', index_col=0, infer_datetime_format=True,\n",
    "\t\t\t\t\t\t   parse_dates=[0])"
   ]
  },
  {
   "cell_type": "code",
   "execution_count": 5,
   "metadata": {
    "colab": {
     "base_uri": "https://localhost:8080/",
     "height": 623
    },
    "colab_type": "code",
    "id": "U2yZv1MwGqWQ",
    "outputId": "78dc7f6b-3f8c-43e6-b7b3-0bda18e92966"
   },
   "outputs": [
    {
     "data": {
      "text/html": [
       "<div>\n",
       "<style scoped>\n",
       "    .dataframe tbody tr th:only-of-type {\n",
       "        vertical-align: middle;\n",
       "    }\n",
       "\n",
       "    .dataframe tbody tr th {\n",
       "        vertical-align: top;\n",
       "    }\n",
       "\n",
       "    .dataframe thead th {\n",
       "        text-align: right;\n",
       "    }\n",
       "</style>\n",
       "<table border=\"1\" class=\"dataframe\">\n",
       "  <thead>\n",
       "    <tr style=\"text-align: right;\">\n",
       "      <th></th>\n",
       "      <th>mms1_des_energyspectr_omni_fast_0</th>\n",
       "      <th>mms1_des_energyspectr_omni_fast_1</th>\n",
       "      <th>mms1_des_energyspectr_omni_fast_2</th>\n",
       "      <th>mms1_des_energyspectr_omni_fast_3</th>\n",
       "      <th>mms1_des_energyspectr_omni_fast_4</th>\n",
       "      <th>mms1_des_energyspectr_omni_fast_5</th>\n",
       "      <th>mms1_des_energyspectr_omni_fast_6</th>\n",
       "      <th>mms1_des_energyspectr_omni_fast_7</th>\n",
       "      <th>mms1_des_energyspectr_omni_fast_8</th>\n",
       "      <th>mms1_des_energyspectr_omni_fast_9</th>\n",
       "      <th>mms1_des_energyspectr_omni_fast_10</th>\n",
       "      <th>mms1_des_energyspectr_omni_fast_11</th>\n",
       "      <th>mms1_des_energyspectr_omni_fast_12</th>\n",
       "      <th>mms1_des_energyspectr_omni_fast_13</th>\n",
       "      <th>mms1_des_energyspectr_omni_fast_14</th>\n",
       "      <th>mms1_des_energyspectr_omni_fast_15</th>\n",
       "      <th>mms1_des_energyspectr_omni_fast_16</th>\n",
       "      <th>mms1_des_energyspectr_omni_fast_17</th>\n",
       "      <th>mms1_des_energyspectr_omni_fast_18</th>\n",
       "      <th>mms1_des_energyspectr_omni_fast_19</th>\n",
       "      <th>mms1_des_energyspectr_omni_fast_20</th>\n",
       "      <th>mms1_des_energyspectr_omni_fast_21</th>\n",
       "      <th>mms1_des_energyspectr_omni_fast_22</th>\n",
       "      <th>mms1_des_energyspectr_omni_fast_23</th>\n",
       "      <th>mms1_des_energyspectr_omni_fast_24</th>\n",
       "      <th>mms1_des_energyspectr_omni_fast_25</th>\n",
       "      <th>mms1_des_energyspectr_omni_fast_26</th>\n",
       "      <th>mms1_des_energyspectr_omni_fast_27</th>\n",
       "      <th>mms1_des_energyspectr_omni_fast_28</th>\n",
       "      <th>mms1_des_energyspectr_omni_fast_29</th>\n",
       "      <th>mms1_des_energyspectr_omni_fast_30</th>\n",
       "      <th>mms1_des_numberdensity_fast</th>\n",
       "      <th>mms1_des_bulkv_dbcs_fast_0</th>\n",
       "      <th>mms1_des_bulkv_dbcs_fast_1</th>\n",
       "      <th>mms1_des_heatq_dbcs_fast_0</th>\n",
       "      <th>mms1_des_heatq_dbcs_fast_1</th>\n",
       "      <th>mms1_des_temppara_fast</th>\n",
       "      <th>mms1_des_tempperp_fast</th>\n",
       "      <th>mms1_des_prestensor_dbcs_fast_x1_y1</th>\n",
       "      <th>mms1_des_prestensor_dbcs_fast_x2_y1</th>\n",
       "      <th>...</th>\n",
       "      <th>mms1_dis_energyspectr_omni_fast_29</th>\n",
       "      <th>mms1_dis_energyspectr_omni_fast_30</th>\n",
       "      <th>mms1_dis_numberdensity_fast</th>\n",
       "      <th>mms1_dis_bulkv_dbcs_fast_0</th>\n",
       "      <th>mms1_dis_bulkv_dbcs_fast_1</th>\n",
       "      <th>mms1_dis_heatq_dbcs_fast_0</th>\n",
       "      <th>mms1_dis_heatq_dbcs_fast_1</th>\n",
       "      <th>mms1_dis_temppara_fast</th>\n",
       "      <th>mms1_dis_tempperp_fast</th>\n",
       "      <th>mms1_dis_prestensor_dbcs_fast_x1_y1</th>\n",
       "      <th>mms1_dis_prestensor_dbcs_fast_x2_y1</th>\n",
       "      <th>mms1_dis_prestensor_dbcs_fast_x2_y2</th>\n",
       "      <th>mms1_dis_prestensor_dbcs_fast_x3_y1</th>\n",
       "      <th>mms1_dis_prestensor_dbcs_fast_x3_y2</th>\n",
       "      <th>mms1_dis_prestensor_dbcs_fast_x3_y3</th>\n",
       "      <th>mms1_dis_temptensor_dbcs_fast_x1_y1</th>\n",
       "      <th>mms1_dis_temptensor_dbcs_fast_x2_y1</th>\n",
       "      <th>mms1_dis_temptensor_dbcs_fast_x2_y2</th>\n",
       "      <th>mms1_dis_temptensor_dbcs_fast_x3_y1</th>\n",
       "      <th>mms1_dis_temptensor_dbcs_fast_x3_y2</th>\n",
       "      <th>mms1_dis_temptensor_dbcs_fast_x3_y3</th>\n",
       "      <th>mms1_dis_temp_anisotropy</th>\n",
       "      <th>mms1_dis_scalar_temperature</th>\n",
       "      <th>mms1_dis_N_Q</th>\n",
       "      <th>mms1_dis_Vz_Q</th>\n",
       "      <th>mms1_dis_nV_Q</th>\n",
       "      <th>mms1_afg_srvy_dmpa_Bx</th>\n",
       "      <th>mms1_afg_srvy_dmpa_By</th>\n",
       "      <th>mms1_afg_srvy_dmpa_Bz</th>\n",
       "      <th>mms1_afg_srvy_dmpa_|B|</th>\n",
       "      <th>mms1_afg_magnetic_pressure</th>\n",
       "      <th>mms1_afg_clock_angle</th>\n",
       "      <th>mms1_afg_Bz_Q</th>\n",
       "      <th>mms1_edp_x</th>\n",
       "      <th>mms1_edp_y</th>\n",
       "      <th>mms1_edp_z</th>\n",
       "      <th>mms1_edp_|E|</th>\n",
       "      <th>mms1_temp_ratio</th>\n",
       "      <th>mms1_plasma_beta</th>\n",
       "      <th>selected</th>\n",
       "    </tr>\n",
       "    <tr>\n",
       "      <th>Epoch</th>\n",
       "      <th></th>\n",
       "      <th></th>\n",
       "      <th></th>\n",
       "      <th></th>\n",
       "      <th></th>\n",
       "      <th></th>\n",
       "      <th></th>\n",
       "      <th></th>\n",
       "      <th></th>\n",
       "      <th></th>\n",
       "      <th></th>\n",
       "      <th></th>\n",
       "      <th></th>\n",
       "      <th></th>\n",
       "      <th></th>\n",
       "      <th></th>\n",
       "      <th></th>\n",
       "      <th></th>\n",
       "      <th></th>\n",
       "      <th></th>\n",
       "      <th></th>\n",
       "      <th></th>\n",
       "      <th></th>\n",
       "      <th></th>\n",
       "      <th></th>\n",
       "      <th></th>\n",
       "      <th></th>\n",
       "      <th></th>\n",
       "      <th></th>\n",
       "      <th></th>\n",
       "      <th></th>\n",
       "      <th></th>\n",
       "      <th></th>\n",
       "      <th></th>\n",
       "      <th></th>\n",
       "      <th></th>\n",
       "      <th></th>\n",
       "      <th></th>\n",
       "      <th></th>\n",
       "      <th></th>\n",
       "      <th></th>\n",
       "      <th></th>\n",
       "      <th></th>\n",
       "      <th></th>\n",
       "      <th></th>\n",
       "      <th></th>\n",
       "      <th></th>\n",
       "      <th></th>\n",
       "      <th></th>\n",
       "      <th></th>\n",
       "      <th></th>\n",
       "      <th></th>\n",
       "      <th></th>\n",
       "      <th></th>\n",
       "      <th></th>\n",
       "      <th></th>\n",
       "      <th></th>\n",
       "      <th></th>\n",
       "      <th></th>\n",
       "      <th></th>\n",
       "      <th></th>\n",
       "      <th></th>\n",
       "      <th></th>\n",
       "      <th></th>\n",
       "      <th></th>\n",
       "      <th></th>\n",
       "      <th></th>\n",
       "      <th></th>\n",
       "      <th></th>\n",
       "      <th></th>\n",
       "      <th></th>\n",
       "      <th></th>\n",
       "      <th></th>\n",
       "      <th></th>\n",
       "      <th></th>\n",
       "      <th></th>\n",
       "      <th></th>\n",
       "      <th></th>\n",
       "      <th></th>\n",
       "      <th></th>\n",
       "      <th></th>\n",
       "    </tr>\n",
       "  </thead>\n",
       "  <tbody>\n",
       "    <tr>\n",
       "      <th>2017-01-01 01:49:08.736524</th>\n",
       "      <td>172560370.0</td>\n",
       "      <td>141811650.0</td>\n",
       "      <td>115564310.0</td>\n",
       "      <td>103489660.0</td>\n",
       "      <td>109156240.0</td>\n",
       "      <td>138017710.0</td>\n",
       "      <td>199794740.0</td>\n",
       "      <td>313011970.0</td>\n",
       "      <td>495821400.0</td>\n",
       "      <td>7.675890e+08</td>\n",
       "      <td>1.102645e+09</td>\n",
       "      <td>1.355750e+09</td>\n",
       "      <td>1.283706e+09</td>\n",
       "      <td>876457860.0</td>\n",
       "      <td>437018100.0</td>\n",
       "      <td>178497440.0</td>\n",
       "      <td>61324772.0</td>\n",
       "      <td>17706034.0</td>\n",
       "      <td>5950672.0</td>\n",
       "      <td>1453186.0</td>\n",
       "      <td>1230702.8</td>\n",
       "      <td>1290793.0</td>\n",
       "      <td>1361365.00</td>\n",
       "      <td>1443553.0</td>\n",
       "      <td>1538581.10</td>\n",
       "      <td>1600447.1</td>\n",
       "      <td>1693706.6</td>\n",
       "      <td>1860683.8</td>\n",
       "      <td>1821310.1</td>\n",
       "      <td>1785482.6</td>\n",
       "      <td>2143655.0</td>\n",
       "      <td>47.289574</td>\n",
       "      <td>-64.066220</td>\n",
       "      <td>-59.850384</td>\n",
       "      <td>0.067417</td>\n",
       "      <td>-0.033087</td>\n",
       "      <td>68.663414</td>\n",
       "      <td>69.643720</td>\n",
       "      <td>0.530681</td>\n",
       "      <td>0.000513</td>\n",
       "      <td>...</td>\n",
       "      <td>1847614.4</td>\n",
       "      <td>1368769.60</td>\n",
       "      <td>45.166210</td>\n",
       "      <td>-65.301070</td>\n",
       "      <td>-75.960210</td>\n",
       "      <td>-0.017214</td>\n",
       "      <td>-0.054081</td>\n",
       "      <td>496.30145</td>\n",
       "      <td>558.62010</td>\n",
       "      <td>4.105384</td>\n",
       "      <td>0.039305</td>\n",
       "      <td>3.979379</td>\n",
       "      <td>0.077544</td>\n",
       "      <td>0.372712</td>\n",
       "      <td>3.591420</td>\n",
       "      <td>4.105384</td>\n",
       "      <td>0.039305</td>\n",
       "      <td>3.979379</td>\n",
       "      <td>0.077544</td>\n",
       "      <td>0.372712</td>\n",
       "      <td>3.591420</td>\n",
       "      <td>-0.111558</td>\n",
       "      <td>537.84720</td>\n",
       "      <td>0.000000</td>\n",
       "      <td>0.000000</td>\n",
       "      <td>5217.443037</td>\n",
       "      <td>-0.026197</td>\n",
       "      <td>33.162117</td>\n",
       "      <td>-39.656940</td>\n",
       "      <td>51.695260</td>\n",
       "      <td>2.126628e+09</td>\n",
       "      <td>1.571586</td>\n",
       "      <td>1.467709</td>\n",
       "      <td>-0.862275</td>\n",
       "      <td>1.665013</td>\n",
       "      <td>0.827068</td>\n",
       "      <td>2.049348</td>\n",
       "      <td>1.0</td>\n",
       "      <td>524.89600</td>\n",
       "      <td>False</td>\n",
       "    </tr>\n",
       "    <tr>\n",
       "      <th>2017-01-01 01:49:13.236552</th>\n",
       "      <td>160474430.0</td>\n",
       "      <td>134115120.0</td>\n",
       "      <td>113082936.0</td>\n",
       "      <td>106597736.0</td>\n",
       "      <td>118977260.0</td>\n",
       "      <td>157128700.0</td>\n",
       "      <td>234196500.0</td>\n",
       "      <td>368190240.0</td>\n",
       "      <td>588617700.0</td>\n",
       "      <td>9.143196e+08</td>\n",
       "      <td>1.280595e+09</td>\n",
       "      <td>1.386385e+09</td>\n",
       "      <td>1.020292e+09</td>\n",
       "      <td>546922600.0</td>\n",
       "      <td>238565300.0</td>\n",
       "      <td>95543030.0</td>\n",
       "      <td>34221956.0</td>\n",
       "      <td>10795790.0</td>\n",
       "      <td>3346869.8</td>\n",
       "      <td>1132098.6</td>\n",
       "      <td>1230606.6</td>\n",
       "      <td>1290689.8</td>\n",
       "      <td>1370548.60</td>\n",
       "      <td>1217164.6</td>\n",
       "      <td>1303508.00</td>\n",
       "      <td>1396131.6</td>\n",
       "      <td>1496823.2</td>\n",
       "      <td>1930027.9</td>\n",
       "      <td>1878429.5</td>\n",
       "      <td>675747.1</td>\n",
       "      <td>2085773.5</td>\n",
       "      <td>47.806107</td>\n",
       "      <td>-34.529873</td>\n",
       "      <td>-128.342510</td>\n",
       "      <td>0.091984</td>\n",
       "      <td>-0.000412</td>\n",
       "      <td>59.059840</td>\n",
       "      <td>62.034630</td>\n",
       "      <td>0.473132</td>\n",
       "      <td>0.000187</td>\n",
       "      <td>...</td>\n",
       "      <td>1385553.0</td>\n",
       "      <td>1053661.50</td>\n",
       "      <td>46.629120</td>\n",
       "      <td>-60.415287</td>\n",
       "      <td>-118.971080</td>\n",
       "      <td>-0.003761</td>\n",
       "      <td>0.163968</td>\n",
       "      <td>415.75192</td>\n",
       "      <td>523.83150</td>\n",
       "      <td>3.883746</td>\n",
       "      <td>0.074054</td>\n",
       "      <td>3.943084</td>\n",
       "      <td>0.049551</td>\n",
       "      <td>0.003202</td>\n",
       "      <td>3.105979</td>\n",
       "      <td>3.883746</td>\n",
       "      <td>0.074054</td>\n",
       "      <td>3.943084</td>\n",
       "      <td>0.049551</td>\n",
       "      <td>0.003202</td>\n",
       "      <td>3.105979</td>\n",
       "      <td>-0.206325</td>\n",
       "      <td>487.80496</td>\n",
       "      <td>1.097182</td>\n",
       "      <td>39.256162</td>\n",
       "      <td>6031.144668</td>\n",
       "      <td>3.003209</td>\n",
       "      <td>-17.920328</td>\n",
       "      <td>-18.677692</td>\n",
       "      <td>26.057890</td>\n",
       "      <td>5.403419e+08</td>\n",
       "      <td>-1.404753</td>\n",
       "      <td>2.396316</td>\n",
       "      <td>-0.572842</td>\n",
       "      <td>0.670425</td>\n",
       "      <td>-0.570290</td>\n",
       "      <td>1.050165</td>\n",
       "      <td>1.0</td>\n",
       "      <td>929.00616</td>\n",
       "      <td>False</td>\n",
       "    </tr>\n",
       "    <tr>\n",
       "      <th>2017-01-01 01:49:17.736573</th>\n",
       "      <td>143446660.0</td>\n",
       "      <td>120096200.0</td>\n",
       "      <td>103888320.0</td>\n",
       "      <td>99487384.0</td>\n",
       "      <td>114008050.0</td>\n",
       "      <td>152906400.0</td>\n",
       "      <td>228558100.0</td>\n",
       "      <td>359750530.0</td>\n",
       "      <td>572418500.0</td>\n",
       "      <td>8.799912e+08</td>\n",
       "      <td>1.192516e+09</td>\n",
       "      <td>1.208780e+09</td>\n",
       "      <td>8.369016e+08</td>\n",
       "      <td>437589570.0</td>\n",
       "      <td>191214960.0</td>\n",
       "      <td>78865330.0</td>\n",
       "      <td>28987052.0</td>\n",
       "      <td>9752265.0</td>\n",
       "      <td>3037489.2</td>\n",
       "      <td>1132141.2</td>\n",
       "      <td>1230653.4</td>\n",
       "      <td>1290740.1</td>\n",
       "      <td>1361307.60</td>\n",
       "      <td>1453176.6</td>\n",
       "      <td>1303684.90</td>\n",
       "      <td>1417762.9</td>\n",
       "      <td>1178981.4</td>\n",
       "      <td>1254457.6</td>\n",
       "      <td>1834328.2</td>\n",
       "      <td>1900604.5</td>\n",
       "      <td>1562550.4</td>\n",
       "      <td>43.848970</td>\n",
       "      <td>-17.841991</td>\n",
       "      <td>-80.636430</td>\n",
       "      <td>-0.017504</td>\n",
       "      <td>0.007353</td>\n",
       "      <td>55.005360</td>\n",
       "      <td>61.100243</td>\n",
       "      <td>0.432611</td>\n",
       "      <td>0.002111</td>\n",
       "      <td>...</td>\n",
       "      <td>1216220.0</td>\n",
       "      <td>1003711.90</td>\n",
       "      <td>42.998802</td>\n",
       "      <td>-37.589535</td>\n",
       "      <td>-101.116325</td>\n",
       "      <td>0.002284</td>\n",
       "      <td>0.062132</td>\n",
       "      <td>379.23505</td>\n",
       "      <td>442.85294</td>\n",
       "      <td>3.202901</td>\n",
       "      <td>-0.023277</td>\n",
       "      <td>2.898829</td>\n",
       "      <td>0.074439</td>\n",
       "      <td>-0.131550</td>\n",
       "      <td>2.612594</td>\n",
       "      <td>3.202901</td>\n",
       "      <td>-0.023277</td>\n",
       "      <td>2.898829</td>\n",
       "      <td>0.074439</td>\n",
       "      <td>-0.131550</td>\n",
       "      <td>2.612594</td>\n",
       "      <td>-0.143655</td>\n",
       "      <td>421.64697</td>\n",
       "      <td>1.625556</td>\n",
       "      <td>47.437222</td>\n",
       "      <td>5204.241455</td>\n",
       "      <td>0.250873</td>\n",
       "      <td>-3.805478</td>\n",
       "      <td>-25.772310</td>\n",
       "      <td>26.052958</td>\n",
       "      <td>5.401373e+08</td>\n",
       "      <td>-1.504967</td>\n",
       "      <td>1.586905</td>\n",
       "      <td>-0.357424</td>\n",
       "      <td>0.633575</td>\n",
       "      <td>-0.160308</td>\n",
       "      <td>0.744894</td>\n",
       "      <td>1.0</td>\n",
       "      <td>1132.09920</td>\n",
       "      <td>False</td>\n",
       "    </tr>\n",
       "    <tr>\n",
       "      <th>2017-01-01 01:49:22.236602</th>\n",
       "      <td>143115380.0</td>\n",
       "      <td>120483730.0</td>\n",
       "      <td>103335910.0</td>\n",
       "      <td>99983890.0</td>\n",
       "      <td>115342700.0</td>\n",
       "      <td>156445900.0</td>\n",
       "      <td>236307790.0</td>\n",
       "      <td>374869920.0</td>\n",
       "      <td>598786900.0</td>\n",
       "      <td>9.304425e+08</td>\n",
       "      <td>1.259985e+09</td>\n",
       "      <td>1.203378e+09</td>\n",
       "      <td>7.605617e+08</td>\n",
       "      <td>361202240.0</td>\n",
       "      <td>147414610.0</td>\n",
       "      <td>58348600.0</td>\n",
       "      <td>21312232.0</td>\n",
       "      <td>7609467.0</td>\n",
       "      <td>3276093.5</td>\n",
       "      <td>1132188.6</td>\n",
       "      <td>1230705.2</td>\n",
       "      <td>1290795.8</td>\n",
       "      <td>1361368.00</td>\n",
       "      <td>1443556.0</td>\n",
       "      <td>1548742.10</td>\n",
       "      <td>1391640.8</td>\n",
       "      <td>1787557.8</td>\n",
       "      <td>1927728.0</td>\n",
       "      <td>1754844.5</td>\n",
       "      <td>1890987.5</td>\n",
       "      <td>2347546.8</td>\n",
       "      <td>44.116190</td>\n",
       "      <td>-24.291311</td>\n",
       "      <td>-51.504208</td>\n",
       "      <td>-0.010656</td>\n",
       "      <td>-0.065078</td>\n",
       "      <td>56.319736</td>\n",
       "      <td>57.496597</td>\n",
       "      <td>0.405184</td>\n",
       "      <td>0.001348</td>\n",
       "      <td>...</td>\n",
       "      <td>1146827.8</td>\n",
       "      <td>996494.75</td>\n",
       "      <td>42.281338</td>\n",
       "      <td>-15.571530</td>\n",
       "      <td>-88.482050</td>\n",
       "      <td>-0.039505</td>\n",
       "      <td>0.037287</td>\n",
       "      <td>350.79077</td>\n",
       "      <td>375.92334</td>\n",
       "      <td>2.608262</td>\n",
       "      <td>0.016238</td>\n",
       "      <td>2.484871</td>\n",
       "      <td>-0.012547</td>\n",
       "      <td>-0.062605</td>\n",
       "      <td>2.376314</td>\n",
       "      <td>2.608262</td>\n",
       "      <td>0.016238</td>\n",
       "      <td>2.484871</td>\n",
       "      <td>-0.012547</td>\n",
       "      <td>-0.062605</td>\n",
       "      <td>2.376314</td>\n",
       "      <td>-0.066856</td>\n",
       "      <td>367.54580</td>\n",
       "      <td>2.437950</td>\n",
       "      <td>63.604532</td>\n",
       "      <td>4158.129041</td>\n",
       "      <td>0.571565</td>\n",
       "      <td>-26.909445</td>\n",
       "      <td>-33.616943</td>\n",
       "      <td>43.064415</td>\n",
       "      <td>1.475799e+09</td>\n",
       "      <td>-1.549559</td>\n",
       "      <td>0.414231</td>\n",
       "      <td>1.962965</td>\n",
       "      <td>1.813941</td>\n",
       "      <td>-1.001314</td>\n",
       "      <td>2.854163</td>\n",
       "      <td>1.0</td>\n",
       "      <td>257.55072</td>\n",
       "      <td>False</td>\n",
       "    </tr>\n",
       "    <tr>\n",
       "      <th>2017-01-01 01:49:26.736624</th>\n",
       "      <td>154996270.0</td>\n",
       "      <td>129635576.0</td>\n",
       "      <td>109879810.0</td>\n",
       "      <td>104667430.0</td>\n",
       "      <td>118939120.0</td>\n",
       "      <td>159722750.0</td>\n",
       "      <td>240743730.0</td>\n",
       "      <td>384687520.0</td>\n",
       "      <td>622868740.0</td>\n",
       "      <td>9.923178e+08</td>\n",
       "      <td>1.407102e+09</td>\n",
       "      <td>1.379264e+09</td>\n",
       "      <td>8.729052e+08</td>\n",
       "      <td>412877600.0</td>\n",
       "      <td>165255970.0</td>\n",
       "      <td>64202252.0</td>\n",
       "      <td>22482496.0</td>\n",
       "      <td>7437224.5</td>\n",
       "      <td>3127818.0</td>\n",
       "      <td>1132103.5</td>\n",
       "      <td>1230611.9</td>\n",
       "      <td>1290695.2</td>\n",
       "      <td>1361258.80</td>\n",
       "      <td>1443435.9</td>\n",
       "      <td>1492447.10</td>\n",
       "      <td>1570121.2</td>\n",
       "      <td>1725425.4</td>\n",
       "      <td>1605647.4</td>\n",
       "      <td>2037316.2</td>\n",
       "      <td>1869736.6</td>\n",
       "      <td>2320483.0</td>\n",
       "      <td>47.787876</td>\n",
       "      <td>-43.337650</td>\n",
       "      <td>-68.804990</td>\n",
       "      <td>-0.138768</td>\n",
       "      <td>-0.233581</td>\n",
       "      <td>56.954014</td>\n",
       "      <td>58.321754</td>\n",
       "      <td>0.449897</td>\n",
       "      <td>-0.001409</td>\n",
       "      <td>...</td>\n",
       "      <td>1509011.9</td>\n",
       "      <td>1205417.50</td>\n",
       "      <td>44.735374</td>\n",
       "      <td>-29.033060</td>\n",
       "      <td>-83.403510</td>\n",
       "      <td>-0.047671</td>\n",
       "      <td>-0.056385</td>\n",
       "      <td>396.54170</td>\n",
       "      <td>400.25833</td>\n",
       "      <td>2.947306</td>\n",
       "      <td>0.007026</td>\n",
       "      <td>2.790271</td>\n",
       "      <td>-0.076785</td>\n",
       "      <td>-0.311423</td>\n",
       "      <td>2.842150</td>\n",
       "      <td>2.947306</td>\n",
       "      <td>0.007026</td>\n",
       "      <td>2.790271</td>\n",
       "      <td>-0.076785</td>\n",
       "      <td>-0.311423</td>\n",
       "      <td>2.842150</td>\n",
       "      <td>-0.009286</td>\n",
       "      <td>399.01944</td>\n",
       "      <td>0.083262</td>\n",
       "      <td>57.780416</td>\n",
       "      <td>4519.709417</td>\n",
       "      <td>-1.338079</td>\n",
       "      <td>-25.596290</td>\n",
       "      <td>-35.260128</td>\n",
       "      <td>43.591710</td>\n",
       "      <td>1.512161e+09</td>\n",
       "      <td>-1.623025</td>\n",
       "      <td>0.009667</td>\n",
       "      <td>1.674221</td>\n",
       "      <td>0.755573</td>\n",
       "      <td>-0.422870</td>\n",
       "      <td>1.884867</td>\n",
       "      <td>1.0</td>\n",
       "      <td>423.39264</td>\n",
       "      <td>False</td>\n",
       "    </tr>\n",
       "    <tr>\n",
       "      <th>...</th>\n",
       "      <td>...</td>\n",
       "      <td>...</td>\n",
       "      <td>...</td>\n",
       "      <td>...</td>\n",
       "      <td>...</td>\n",
       "      <td>...</td>\n",
       "      <td>...</td>\n",
       "      <td>...</td>\n",
       "      <td>...</td>\n",
       "      <td>...</td>\n",
       "      <td>...</td>\n",
       "      <td>...</td>\n",
       "      <td>...</td>\n",
       "      <td>...</td>\n",
       "      <td>...</td>\n",
       "      <td>...</td>\n",
       "      <td>...</td>\n",
       "      <td>...</td>\n",
       "      <td>...</td>\n",
       "      <td>...</td>\n",
       "      <td>...</td>\n",
       "      <td>...</td>\n",
       "      <td>...</td>\n",
       "      <td>...</td>\n",
       "      <td>...</td>\n",
       "      <td>...</td>\n",
       "      <td>...</td>\n",
       "      <td>...</td>\n",
       "      <td>...</td>\n",
       "      <td>...</td>\n",
       "      <td>...</td>\n",
       "      <td>...</td>\n",
       "      <td>...</td>\n",
       "      <td>...</td>\n",
       "      <td>...</td>\n",
       "      <td>...</td>\n",
       "      <td>...</td>\n",
       "      <td>...</td>\n",
       "      <td>...</td>\n",
       "      <td>...</td>\n",
       "      <td>...</td>\n",
       "      <td>...</td>\n",
       "      <td>...</td>\n",
       "      <td>...</td>\n",
       "      <td>...</td>\n",
       "      <td>...</td>\n",
       "      <td>...</td>\n",
       "      <td>...</td>\n",
       "      <td>...</td>\n",
       "      <td>...</td>\n",
       "      <td>...</td>\n",
       "      <td>...</td>\n",
       "      <td>...</td>\n",
       "      <td>...</td>\n",
       "      <td>...</td>\n",
       "      <td>...</td>\n",
       "      <td>...</td>\n",
       "      <td>...</td>\n",
       "      <td>...</td>\n",
       "      <td>...</td>\n",
       "      <td>...</td>\n",
       "      <td>...</td>\n",
       "      <td>...</td>\n",
       "      <td>...</td>\n",
       "      <td>...</td>\n",
       "      <td>...</td>\n",
       "      <td>...</td>\n",
       "      <td>...</td>\n",
       "      <td>...</td>\n",
       "      <td>...</td>\n",
       "      <td>...</td>\n",
       "      <td>...</td>\n",
       "      <td>...</td>\n",
       "      <td>...</td>\n",
       "      <td>...</td>\n",
       "      <td>...</td>\n",
       "      <td>...</td>\n",
       "      <td>...</td>\n",
       "      <td>...</td>\n",
       "      <td>...</td>\n",
       "      <td>...</td>\n",
       "    </tr>\n",
       "    <tr>\n",
       "      <th>2017-01-31 01:59:37.612761</th>\n",
       "      <td>195522660.0</td>\n",
       "      <td>169047760.0</td>\n",
       "      <td>151144740.0</td>\n",
       "      <td>155255970.0</td>\n",
       "      <td>187461070.0</td>\n",
       "      <td>260878460.0</td>\n",
       "      <td>391024700.0</td>\n",
       "      <td>601519170.0</td>\n",
       "      <td>933239230.0</td>\n",
       "      <td>1.431671e+09</td>\n",
       "      <td>2.001644e+09</td>\n",
       "      <td>1.911962e+09</td>\n",
       "      <td>9.213409e+08</td>\n",
       "      <td>266009100.0</td>\n",
       "      <td>70228190.0</td>\n",
       "      <td>23561248.0</td>\n",
       "      <td>8219571.0</td>\n",
       "      <td>3132344.0</td>\n",
       "      <td>1069388.6</td>\n",
       "      <td>1156007.0</td>\n",
       "      <td>1205684.8</td>\n",
       "      <td>1285194.1</td>\n",
       "      <td>776630.40</td>\n",
       "      <td>1443075.8</td>\n",
       "      <td>1507529.50</td>\n",
       "      <td>1614608.1</td>\n",
       "      <td>1747582.8</td>\n",
       "      <td>1609458.8</td>\n",
       "      <td>2050434.2</td>\n",
       "      <td>2227281.8</td>\n",
       "      <td>2083288.2</td>\n",
       "      <td>66.366800</td>\n",
       "      <td>-114.178600</td>\n",
       "      <td>-66.354935</td>\n",
       "      <td>0.118533</td>\n",
       "      <td>-0.167590</td>\n",
       "      <td>54.738000</td>\n",
       "      <td>49.998760</td>\n",
       "      <td>0.542538</td>\n",
       "      <td>0.017298</td>\n",
       "      <td>...</td>\n",
       "      <td>1173978.5</td>\n",
       "      <td>946332.50</td>\n",
       "      <td>46.211296</td>\n",
       "      <td>-99.599365</td>\n",
       "      <td>-137.597990</td>\n",
       "      <td>-0.087668</td>\n",
       "      <td>-0.111775</td>\n",
       "      <td>269.56824</td>\n",
       "      <td>291.43158</td>\n",
       "      <td>2.067940</td>\n",
       "      <td>-0.059106</td>\n",
       "      <td>2.042181</td>\n",
       "      <td>0.032945</td>\n",
       "      <td>0.023344</td>\n",
       "      <td>2.201118</td>\n",
       "      <td>2.067940</td>\n",
       "      <td>-0.059106</td>\n",
       "      <td>2.042181</td>\n",
       "      <td>0.032945</td>\n",
       "      <td>0.023344</td>\n",
       "      <td>2.201118</td>\n",
       "      <td>-0.075020</td>\n",
       "      <td>284.14380</td>\n",
       "      <td>2.026775</td>\n",
       "      <td>10.799598</td>\n",
       "      <td>722.083772</td>\n",
       "      <td>-12.985076</td>\n",
       "      <td>-21.649717</td>\n",
       "      <td>3.804093</td>\n",
       "      <td>25.530249</td>\n",
       "      <td>5.186808e+08</td>\n",
       "      <td>-2.111054</td>\n",
       "      <td>1.825885</td>\n",
       "      <td>0.569317</td>\n",
       "      <td>-1.014906</td>\n",
       "      <td>-0.478203</td>\n",
       "      <td>1.258107</td>\n",
       "      <td>1.0</td>\n",
       "      <td>451.70038</td>\n",
       "      <td>False</td>\n",
       "    </tr>\n",
       "    <tr>\n",
       "      <th>2017-01-31 01:59:42.112805</th>\n",
       "      <td>188999890.0</td>\n",
       "      <td>167058830.0</td>\n",
       "      <td>153385100.0</td>\n",
       "      <td>160276850.0</td>\n",
       "      <td>194781820.0</td>\n",
       "      <td>265345520.0</td>\n",
       "      <td>388861400.0</td>\n",
       "      <td>597449200.0</td>\n",
       "      <td>947348600.0</td>\n",
       "      <td>1.491336e+09</td>\n",
       "      <td>1.999952e+09</td>\n",
       "      <td>1.605463e+09</td>\n",
       "      <td>6.863398e+08</td>\n",
       "      <td>206139580.0</td>\n",
       "      <td>60198680.0</td>\n",
       "      <td>21560316.0</td>\n",
       "      <td>8027363.5</td>\n",
       "      <td>3163052.5</td>\n",
       "      <td>1069362.9</td>\n",
       "      <td>1155979.5</td>\n",
       "      <td>1205655.9</td>\n",
       "      <td>1227593.4</td>\n",
       "      <td>1093269.80</td>\n",
       "      <td>1310439.9</td>\n",
       "      <td>1257120.90</td>\n",
       "      <td>1626893.6</td>\n",
       "      <td>1687317.9</td>\n",
       "      <td>1547724.2</td>\n",
       "      <td>1889413.2</td>\n",
       "      <td>1736235.6</td>\n",
       "      <td>2222297.0</td>\n",
       "      <td>64.247070</td>\n",
       "      <td>-114.180830</td>\n",
       "      <td>-57.873524</td>\n",
       "      <td>0.079878</td>\n",
       "      <td>-0.027051</td>\n",
       "      <td>49.837917</td>\n",
       "      <td>48.950280</td>\n",
       "      <td>0.507997</td>\n",
       "      <td>-0.001615</td>\n",
       "      <td>...</td>\n",
       "      <td>1173978.5</td>\n",
       "      <td>946332.50</td>\n",
       "      <td>46.211296</td>\n",
       "      <td>-99.599365</td>\n",
       "      <td>-137.597990</td>\n",
       "      <td>-0.087668</td>\n",
       "      <td>-0.111775</td>\n",
       "      <td>269.56824</td>\n",
       "      <td>291.43158</td>\n",
       "      <td>2.067940</td>\n",
       "      <td>-0.059106</td>\n",
       "      <td>2.042181</td>\n",
       "      <td>0.032945</td>\n",
       "      <td>0.023344</td>\n",
       "      <td>2.201118</td>\n",
       "      <td>2.067940</td>\n",
       "      <td>-0.059106</td>\n",
       "      <td>2.042181</td>\n",
       "      <td>0.032945</td>\n",
       "      <td>0.023344</td>\n",
       "      <td>2.201118</td>\n",
       "      <td>-0.075020</td>\n",
       "      <td>284.14380</td>\n",
       "      <td>2.026775</td>\n",
       "      <td>10.799598</td>\n",
       "      <td>722.083772</td>\n",
       "      <td>-15.436447</td>\n",
       "      <td>11.214994</td>\n",
       "      <td>4.809845</td>\n",
       "      <td>19.677261</td>\n",
       "      <td>3.081197e+08</td>\n",
       "      <td>2.513284</td>\n",
       "      <td>2.099205</td>\n",
       "      <td>1.721005</td>\n",
       "      <td>-1.033757</td>\n",
       "      <td>1.900864</td>\n",
       "      <td>2.764742</td>\n",
       "      <td>1.0</td>\n",
       "      <td>205.54817</td>\n",
       "      <td>False</td>\n",
       "    </tr>\n",
       "    <tr>\n",
       "      <th>2017-01-31 01:59:46.612839</th>\n",
       "      <td>156668940.0</td>\n",
       "      <td>136574260.0</td>\n",
       "      <td>123834980.0</td>\n",
       "      <td>129313670.0</td>\n",
       "      <td>158046480.0</td>\n",
       "      <td>222452110.0</td>\n",
       "      <td>343151600.0</td>\n",
       "      <td>552882500.0</td>\n",
       "      <td>898671700.0</td>\n",
       "      <td>1.377260e+09</td>\n",
       "      <td>1.645098e+09</td>\n",
       "      <td>1.142623e+09</td>\n",
       "      <td>4.697292e+08</td>\n",
       "      <td>148775630.0</td>\n",
       "      <td>47467200.0</td>\n",
       "      <td>18703922.0</td>\n",
       "      <td>7264802.5</td>\n",
       "      <td>2508120.0</td>\n",
       "      <td>1085820.6</td>\n",
       "      <td>1155923.6</td>\n",
       "      <td>1167832.6</td>\n",
       "      <td>1042989.0</td>\n",
       "      <td>1352492.10</td>\n",
       "      <td>1176428.9</td>\n",
       "      <td>1383997.80</td>\n",
       "      <td>1534980.2</td>\n",
       "      <td>1675194.2</td>\n",
       "      <td>1783336.1</td>\n",
       "      <td>1992431.1</td>\n",
       "      <td>1171974.1</td>\n",
       "      <td>2034246.5</td>\n",
       "      <td>53.937880</td>\n",
       "      <td>-147.811950</td>\n",
       "      <td>-66.332436</td>\n",
       "      <td>0.031849</td>\n",
       "      <td>0.021172</td>\n",
       "      <td>48.725334</td>\n",
       "      <td>47.522090</td>\n",
       "      <td>0.415525</td>\n",
       "      <td>-0.001351</td>\n",
       "      <td>...</td>\n",
       "      <td>1173978.5</td>\n",
       "      <td>946332.50</td>\n",
       "      <td>46.211296</td>\n",
       "      <td>-99.599365</td>\n",
       "      <td>-137.597990</td>\n",
       "      <td>-0.087668</td>\n",
       "      <td>-0.111775</td>\n",
       "      <td>269.56824</td>\n",
       "      <td>291.43158</td>\n",
       "      <td>2.067940</td>\n",
       "      <td>-0.059106</td>\n",
       "      <td>2.042181</td>\n",
       "      <td>0.032945</td>\n",
       "      <td>0.023344</td>\n",
       "      <td>2.201118</td>\n",
       "      <td>2.067940</td>\n",
       "      <td>-0.059106</td>\n",
       "      <td>2.042181</td>\n",
       "      <td>0.032945</td>\n",
       "      <td>0.023344</td>\n",
       "      <td>2.201118</td>\n",
       "      <td>-0.075020</td>\n",
       "      <td>284.14380</td>\n",
       "      <td>2.026775</td>\n",
       "      <td>10.799598</td>\n",
       "      <td>722.083772</td>\n",
       "      <td>9.732903</td>\n",
       "      <td>-5.534757</td>\n",
       "      <td>21.615046</td>\n",
       "      <td>24.342825</td>\n",
       "      <td>4.715547e+08</td>\n",
       "      <td>-0.517060</td>\n",
       "      <td>2.347574</td>\n",
       "      <td>2.787715</td>\n",
       "      <td>-2.293623</td>\n",
       "      <td>-2.082477</td>\n",
       "      <td>4.167586</td>\n",
       "      <td>1.0</td>\n",
       "      <td>136.35893</td>\n",
       "      <td>False</td>\n",
       "    </tr>\n",
       "    <tr>\n",
       "      <th>2017-01-31 01:59:51.112882</th>\n",
       "      <td>148339340.0</td>\n",
       "      <td>131617280.0</td>\n",
       "      <td>123383950.0</td>\n",
       "      <td>133689650.0</td>\n",
       "      <td>169121890.0</td>\n",
       "      <td>242394990.0</td>\n",
       "      <td>371708160.0</td>\n",
       "      <td>592586500.0</td>\n",
       "      <td>940750800.0</td>\n",
       "      <td>1.356828e+09</td>\n",
       "      <td>1.457272e+09</td>\n",
       "      <td>9.310631e+08</td>\n",
       "      <td>3.592990e+08</td>\n",
       "      <td>107206430.0</td>\n",
       "      <td>34867150.0</td>\n",
       "      <td>14601406.0</td>\n",
       "      <td>5957955.0</td>\n",
       "      <td>1804840.9</td>\n",
       "      <td>1102969.0</td>\n",
       "      <td>1155993.6</td>\n",
       "      <td>1165338.0</td>\n",
       "      <td>1181596.9</td>\n",
       "      <td>630540.94</td>\n",
       "      <td>1371131.6</td>\n",
       "      <td>1339956.00</td>\n",
       "      <td>1473016.6</td>\n",
       "      <td>1658352.9</td>\n",
       "      <td>1457381.9</td>\n",
       "      <td>1135691.6</td>\n",
       "      <td>2071354.1</td>\n",
       "      <td>2416306.0</td>\n",
       "      <td>52.308780</td>\n",
       "      <td>-141.634200</td>\n",
       "      <td>-85.162560</td>\n",
       "      <td>-0.031770</td>\n",
       "      <td>0.035757</td>\n",
       "      <td>45.698080</td>\n",
       "      <td>44.961994</td>\n",
       "      <td>0.374102</td>\n",
       "      <td>-0.003214</td>\n",
       "      <td>...</td>\n",
       "      <td>1173978.5</td>\n",
       "      <td>946332.50</td>\n",
       "      <td>46.211296</td>\n",
       "      <td>-99.599365</td>\n",
       "      <td>-137.597990</td>\n",
       "      <td>-0.087668</td>\n",
       "      <td>-0.111775</td>\n",
       "      <td>269.56824</td>\n",
       "      <td>291.43158</td>\n",
       "      <td>2.067940</td>\n",
       "      <td>-0.059106</td>\n",
       "      <td>2.042181</td>\n",
       "      <td>0.032945</td>\n",
       "      <td>0.023344</td>\n",
       "      <td>2.201118</td>\n",
       "      <td>2.067940</td>\n",
       "      <td>-0.059106</td>\n",
       "      <td>2.042181</td>\n",
       "      <td>0.032945</td>\n",
       "      <td>0.023344</td>\n",
       "      <td>2.201118</td>\n",
       "      <td>-0.075020</td>\n",
       "      <td>284.14380</td>\n",
       "      <td>2.026775</td>\n",
       "      <td>10.799598</td>\n",
       "      <td>722.083772</td>\n",
       "      <td>13.513677</td>\n",
       "      <td>-6.461386</td>\n",
       "      <td>29.848564</td>\n",
       "      <td>33.396190</td>\n",
       "      <td>8.875320e+08</td>\n",
       "      <td>-0.446005</td>\n",
       "      <td>3.369051</td>\n",
       "      <td>3.261839</td>\n",
       "      <td>-4.248680</td>\n",
       "      <td>-2.128106</td>\n",
       "      <td>5.763654</td>\n",
       "      <td>1.0</td>\n",
       "      <td>98.59849</td>\n",
       "      <td>False</td>\n",
       "    </tr>\n",
       "    <tr>\n",
       "      <th>2017-01-31 01:59:55.612917</th>\n",
       "      <td>135440930.0</td>\n",
       "      <td>119457550.0</td>\n",
       "      <td>111787400.0</td>\n",
       "      <td>121276030.0</td>\n",
       "      <td>155176540.0</td>\n",
       "      <td>227165100.0</td>\n",
       "      <td>355259520.0</td>\n",
       "      <td>570692000.0</td>\n",
       "      <td>891547700.0</td>\n",
       "      <td>1.239421e+09</td>\n",
       "      <td>1.285931e+09</td>\n",
       "      <td>8.412920e+08</td>\n",
       "      <td>3.517979e+08</td>\n",
       "      <td>116526360.0</td>\n",
       "      <td>41865636.0</td>\n",
       "      <td>18613406.0</td>\n",
       "      <td>8321585.5</td>\n",
       "      <td>3825070.0</td>\n",
       "      <td>1326246.5</td>\n",
       "      <td>1155995.0</td>\n",
       "      <td>1205672.4</td>\n",
       "      <td>1224776.4</td>\n",
       "      <td>1275854.50</td>\n",
       "      <td>1217636.2</td>\n",
       "      <td>838192.25</td>\n",
       "      <td>1057988.5</td>\n",
       "      <td>1786348.4</td>\n",
       "      <td>1358997.8</td>\n",
       "      <td>2065777.1</td>\n",
       "      <td>2144108.0</td>\n",
       "      <td>2296880.8</td>\n",
       "      <td>48.376137</td>\n",
       "      <td>-109.131290</td>\n",
       "      <td>-104.492080</td>\n",
       "      <td>-0.023458</td>\n",
       "      <td>-0.053285</td>\n",
       "      <td>46.801380</td>\n",
       "      <td>45.059790</td>\n",
       "      <td>0.350553</td>\n",
       "      <td>-0.002084</td>\n",
       "      <td>...</td>\n",
       "      <td>1173978.5</td>\n",
       "      <td>946332.50</td>\n",
       "      <td>46.211296</td>\n",
       "      <td>-99.599365</td>\n",
       "      <td>-137.597990</td>\n",
       "      <td>-0.087668</td>\n",
       "      <td>-0.111775</td>\n",
       "      <td>269.56824</td>\n",
       "      <td>291.43158</td>\n",
       "      <td>2.067940</td>\n",
       "      <td>-0.059106</td>\n",
       "      <td>2.042181</td>\n",
       "      <td>0.032945</td>\n",
       "      <td>0.023344</td>\n",
       "      <td>2.201118</td>\n",
       "      <td>2.067940</td>\n",
       "      <td>-0.059106</td>\n",
       "      <td>2.042181</td>\n",
       "      <td>0.032945</td>\n",
       "      <td>0.023344</td>\n",
       "      <td>2.201118</td>\n",
       "      <td>-0.075020</td>\n",
       "      <td>284.14380</td>\n",
       "      <td>2.026775</td>\n",
       "      <td>10.799598</td>\n",
       "      <td>722.083772</td>\n",
       "      <td>-9.631133</td>\n",
       "      <td>29.820732</td>\n",
       "      <td>-9.856265</td>\n",
       "      <td>32.850887</td>\n",
       "      <td>8.587848e+08</td>\n",
       "      <td>1.883189</td>\n",
       "      <td>3.069619</td>\n",
       "      <td>-0.251488</td>\n",
       "      <td>1.193291</td>\n",
       "      <td>0.494789</td>\n",
       "      <td>1.316057</td>\n",
       "      <td>1.0</td>\n",
       "      <td>431.81090</td>\n",
       "      <td>False</td>\n",
       "    </tr>\n",
       "  </tbody>\n",
       "</table>\n",
       "<p>302188 rows × 124 columns</p>\n",
       "</div>"
      ],
      "text/plain": [
       "                            mms1_des_energyspectr_omni_fast_0  ...  selected\n",
       "Epoch                                                          ...          \n",
       "2017-01-01 01:49:08.736524                        172560370.0  ...     False\n",
       "2017-01-01 01:49:13.236552                        160474430.0  ...     False\n",
       "2017-01-01 01:49:17.736573                        143446660.0  ...     False\n",
       "2017-01-01 01:49:22.236602                        143115380.0  ...     False\n",
       "2017-01-01 01:49:26.736624                        154996270.0  ...     False\n",
       "...                                                       ...  ...       ...\n",
       "2017-01-31 01:59:37.612761                        195522660.0  ...     False\n",
       "2017-01-31 01:59:42.112805                        188999890.0  ...     False\n",
       "2017-01-31 01:59:46.612839                        156668940.0  ...     False\n",
       "2017-01-31 01:59:51.112882                        148339340.0  ...     False\n",
       "2017-01-31 01:59:55.612917                        135440930.0  ...     False\n",
       "\n",
       "[302188 rows x 124 columns]"
      ]
     },
     "execution_count": 5,
     "metadata": {
      "tags": []
     },
     "output_type": "execute_result"
    }
   ],
   "source": [
    "mms_data[mms_data['selected'] == False]"
   ]
  },
  {
   "cell_type": "markdown",
   "metadata": {
    "colab_type": "text",
    "id": "Fe4HZy7CHvFF"
   },
   "source": [
    "We save references to data's index and column names for later use and additionally pop off the ground truths column. We will reattach the ground truths column after standardizing and interpolating the data."
   ]
  },
  {
   "cell_type": "code",
   "execution_count": 6,
   "metadata": {
    "colab": {},
    "colab_type": "code",
    "id": "d2bm6URzIeFT"
   },
   "outputs": [],
   "source": [
    "index = mms_data.index\n",
    "selections = mms_data.pop(\"selected\")\n",
    "column_names = mms_data.columns"
   ]
  },
  {
   "cell_type": "markdown",
   "metadata": {
    "colab_type": "text",
    "id": "9gBjgkNsJvPV"
   },
   "source": [
    "Since there exists a possibility that the training contains missing data or data misreported by the MMS spacecraft (reported as either infinity or negative infinity), we need to fill in (interpolate) any missing data."
   ]
  },
  {
   "cell_type": "code",
   "execution_count": 7,
   "metadata": {
    "colab": {},
    "colab_type": "code",
    "id": "IBg8Fds8KIhW"
   },
   "outputs": [],
   "source": [
    "mms_data = mms_data.replace([np.inf, -np.inf], np.nan)\n",
    "mms_data = mms_data.interpolate(method='time', limit_area='inside')"
   ]
  },
  {
   "cell_type": "markdown",
   "metadata": {
    "colab_type": "text",
    "id": "rdMDvmcYLQ-1"
   },
   "source": [
    "We normalize all features with standardization:\n",
    "\n",
    "![z = (x - u) / s ](https://wikimedia.org/api/rest_v1/media/math/render/svg/b0aa2e7d203db1526c577192f2d9102b718eafd5)\n",
    "\n",
    "Where x̄ is the mean of the data, and σ is the standard deviation of the data.\n",
    "\n",
    "Normalization ensures that the numerical values of all features of the data fall within a range from one to negative one and are centered around their mean (zero-mean and unit variance). Normalization improves the speed and performance of training neural networks as it unifies the scale by which differences in the data are represented without altering the data themselves."
   ]
  },
  {
   "cell_type": "code",
   "execution_count": 8,
   "metadata": {
    "colab": {},
    "colab_type": "code",
    "id": "pXlE0dj_PbqI"
   },
   "outputs": [],
   "source": [
    "scaler = preprocessing.StandardScaler()\n",
    "mms_data = scaler.fit_transform(mms_data)\n",
    "mms_data = pd.DataFrame(mms_data, index, column_names)\n",
    "mms_data = mms_data.join(selections)"
   ]
  },
  {
   "cell_type": "markdown",
   "metadata": {
    "colab_type": "text",
    "id": "HytkkKWLR6KS"
   },
   "source": [
    "Next, we calculate class weights for our data classes (selected data points and non-selected data points). Since the distribution of our data is heavily skewed towards non-selected data points (just 1.9% of all data points in our training data were selected), it's important to give the class of selected data points a higher weight when training. In fact, without establishing these class weights our model would quickly acheive 98% accuracy by naively leaving all data points unselected."
   ]
  },
  {
   "cell_type": "code",
   "execution_count": 9,
   "metadata": {
    "colab": {},
    "colab_type": "code",
    "id": "03pNFL5zTINT"
   },
   "outputs": [],
   "source": [
    "false_weight = len(mms_data)/(2*np.bincount(mms_data['selected'].values)[0])\n",
    "true_weight = len(mms_data)/(2*np.bincount(mms_data['selected'].values)[1])"
   ]
  },
  {
   "cell_type": "markdown",
   "metadata": {
    "colab_type": "text",
    "id": "ckN-_FOuTlI4"
   },
   "source": [
    "Our entire dataset is not contigous, and it contains time intervals with no observations. Therefore, we break it up into contigous chunks. We can do so by breaking up the data into the windows that the SITLs used to review the data."
   ]
  },
  {
   "cell_type": "code",
   "execution_count": 10,
   "metadata": {
    "colab": {},
    "colab_type": "code",
    "id": "vuoPyoU5UV3Q"
   },
   "outputs": [],
   "source": [
    "sitl_windows = mms.mission_events('sroi', mms_data.index[0].to_pydatetime(), mms_data.index[-1].to_pydatetime(), sc='mms1')\n",
    "windows = []\n",
    "for start, end in zip(sitl_windows['tstart'], sitl_windows['tend']):\n",
    "  window = mms_data[start:end]\n",
    "  if not window.empty and len(window[window['selected']==True])>1:\n",
    "    windows.append(window)"
   ]
  },
  {
   "cell_type": "code",
   "execution_count": 11,
   "metadata": {
    "colab": {
     "base_uri": "https://localhost:8080/",
     "height": 1000
    },
    "colab_type": "code",
    "id": "cyCpZWhRfIOc",
    "outputId": "eeab4449-7153-41b4-cfec-8c4dab623228"
   },
   "outputs": [
    {
     "data": {
      "text/plain": [
       "[                            mms1_des_energyspectr_omni_fast_0  ...  selected\n",
       " Epoch                                                          ...          \n",
       " 2017-01-01 01:49:31.236651                           1.883959  ...     False\n",
       " 2017-01-01 01:49:35.736674                           1.458570  ...     False\n",
       " 2017-01-01 01:49:40.236701                           1.368072  ...     False\n",
       " 2017-01-01 01:49:44.736723                           1.338055  ...     False\n",
       " 2017-01-01 01:49:49.236750                           1.660276  ...     False\n",
       " ...                                                       ...  ...       ...\n",
       " 2017-01-01 15:42:28.613021                          -0.710802  ...     False\n",
       " 2017-01-01 15:42:33.113061                          -0.251731  ...     False\n",
       " 2017-01-01 15:42:37.613092                          -0.093185  ...     False\n",
       " 2017-01-01 15:42:42.113131                          -0.247850  ...     False\n",
       " 2017-01-01 15:42:46.613161                          -0.708025  ...     False\n",
       " \n",
       " [11111 rows x 124 columns],\n",
       "                             mms1_des_energyspectr_omni_fast_0  ...  selected\n",
       " Epoch                                                          ...          \n",
       " 2017-01-02 01:39:35.994680                           0.320164  ...     False\n",
       " 2017-01-02 01:39:40.494716                           0.196985  ...     False\n",
       " 2017-01-02 01:39:44.994745                           0.157529  ...     False\n",
       " 2017-01-02 01:39:49.494779                           0.300838  ...     False\n",
       " 2017-01-02 01:39:53.994809                           0.211870  ...     False\n",
       " ...                                                       ...  ...       ...\n",
       " 2017-01-02 15:32:28.885849                          -0.294389  ...     False\n",
       " 2017-01-02 15:32:33.385891                          -0.736511  ...     False\n",
       " 2017-01-02 15:32:37.885924                          -1.195971  ...     False\n",
       " 2017-01-02 15:32:42.385967                          -1.370307  ...     False\n",
       " 2017-01-02 15:32:46.886000                          -1.384843  ...     False\n",
       " \n",
       " [11110 rows x 124 columns],\n",
       "                             mms1_des_energyspectr_omni_fast_0  ...  selected\n",
       " Epoch                                                          ...          \n",
       " 2017-01-03 01:34:28.067529                           0.549291  ...     False\n",
       " 2017-01-03 01:34:32.567559                           0.407271  ...     False\n",
       " 2017-01-03 01:34:37.067596                           0.337537  ...     False\n",
       " 2017-01-03 01:34:41.567624                           0.476185  ...     False\n",
       " 2017-01-03 01:34:46.067661                           0.387942  ...     False\n",
       " ...                                                       ...  ...       ...\n",
       " 2017-01-03 15:27:29.959758                           2.154355  ...     False\n",
       " 2017-01-03 15:27:34.459798                           2.084295  ...     False\n",
       " 2017-01-03 15:27:38.959830                           2.215957  ...     False\n",
       " 2017-01-03 15:27:43.459870                           2.168310  ...     False\n",
       " 2017-01-03 15:27:47.959902                           2.102627  ...     False\n",
       " \n",
       " [11112 rows x 124 columns],\n",
       "                             mms1_des_energyspectr_omni_fast_0  ...  selected\n",
       " Epoch                                                          ...          \n",
       " 2017-01-04 01:29:30.169168                           0.265701  ...     False\n",
       " 2017-01-04 01:29:34.669196                           0.287085  ...     False\n",
       " 2017-01-04 01:29:39.169233                           0.482386  ...     False\n",
       " 2017-01-04 01:29:43.669261                           0.021679  ...     False\n",
       " 2017-01-04 01:29:48.169297                          -0.160651  ...     False\n",
       " ...                                                       ...  ...       ...\n",
       " 2017-01-04 15:22:27.565195                          -0.666403  ...     False\n",
       " 2017-01-04 15:22:32.065236                          -0.602717  ...     False\n",
       " 2017-01-04 15:22:36.565269                          -0.642503  ...     False\n",
       " 2017-01-04 15:22:41.065311                          -0.610725  ...     False\n",
       " 2017-01-04 15:22:45.565345                          -0.660693  ...     False\n",
       " \n",
       " [11111 rows x 124 columns],\n",
       "                             mms1_des_energyspectr_omni_fast_0  ...  selected\n",
       " Epoch                                                          ...          \n",
       " 2017-01-05 01:19:35.672379                           0.927498  ...     False\n",
       " 2017-01-05 01:19:40.172417                           0.804923  ...     False\n",
       " 2017-01-05 01:19:44.672446                           1.021925  ...     False\n",
       " 2017-01-05 01:19:49.172483                           0.780899  ...     False\n",
       " 2017-01-05 01:19:53.672513                           0.700766  ...     False\n",
       " ...                                                       ...  ...       ...\n",
       " 2017-01-05 15:12:28.574822                           0.022651  ...     False\n",
       " 2017-01-05 15:12:33.074864                          -0.033623  ...     False\n",
       " 2017-01-05 15:12:37.574897                          -0.141828  ...     False\n",
       " 2017-01-05 15:12:42.074939                          -0.203950  ...     False\n",
       " 2017-01-05 15:12:46.574971                          -0.221731  ...     False\n",
       " \n",
       " [9510 rows x 124 columns],\n",
       "                             mms1_des_energyspectr_omni_fast_0  ...  selected\n",
       " Epoch                                                          ...          \n",
       " 2017-01-06 01:14:31.176632                          -0.941931  ...     False\n",
       " 2017-01-06 01:14:35.676662                           0.299075  ...     False\n",
       " 2017-01-06 01:14:40.176699                           0.678641  ...     False\n",
       " 2017-01-06 01:14:44.676728                           0.428966  ...     False\n",
       " 2017-01-06 01:14:49.176766                           0.655676  ...     False\n",
       " ...                                                       ...  ...       ...\n",
       " 2017-01-06 13:59:40.546992                          -1.342667  ...      True\n",
       " 2017-01-06 13:59:45.047032                          -1.300301  ...      True\n",
       " 2017-01-06 13:59:49.547066                          -1.278993  ...      True\n",
       " 2017-01-06 13:59:54.047106                          -1.267142  ...      True\n",
       " 2017-01-06 13:59:58.547140                          -1.197250  ...      True\n",
       " \n",
       " [10207 rows x 124 columns],\n",
       "                             mms1_des_energyspectr_omni_fast_0  ...  selected\n",
       " Epoch                                                          ...          \n",
       " 2017-01-07 02:00:02.850541                           0.578615  ...     False\n",
       " 2017-01-07 02:00:07.350580                           0.330658  ...     False\n",
       " 2017-01-07 02:00:11.850611                           0.615171  ...     False\n",
       " 2017-01-07 02:00:16.350650                           0.575314  ...     False\n",
       " 2017-01-07 02:00:20.850681                           0.645435  ...     False\n",
       " ...                                                       ...  ...       ...\n",
       " 2017-01-07 14:57:25.736533                           0.171769  ...     False\n",
       " 2017-01-07 14:57:30.236577                           0.024648  ...     False\n",
       " 2017-01-07 14:57:34.736611                           0.036262  ...     False\n",
       " 2017-01-07 14:57:39.236655                           0.129640  ...     False\n",
       " 2017-01-07 14:57:43.736689                           0.209871  ...     False\n",
       " \n",
       " [10370 rows x 124 columns],\n",
       "                             mms1_des_energyspectr_omni_fast_0  ...  selected\n",
       " Epoch                                                          ...          \n",
       " 2017-01-08 00:59:30.743854                          -0.149322  ...     False\n",
       " 2017-01-08 00:59:35.243893                           0.051192  ...     False\n",
       " 2017-01-08 00:59:39.743923                          -0.109274  ...     False\n",
       " 2017-01-08 00:59:44.243962                          -0.134377  ...     False\n",
       " 2017-01-08 00:59:48.743993                           0.040231  ...     False\n",
       " ...                                                       ...  ...       ...\n",
       " 2017-01-08 14:52:28.160111                          -1.145365  ...     False\n",
       " 2017-01-08 14:52:32.660144                          -1.120129  ...     False\n",
       " 2017-01-08 14:52:37.160187                          -0.970623  ...     False\n",
       " 2017-01-08 14:52:41.660221                          -1.047322  ...     False\n",
       " 2017-01-08 14:52:46.160263                          -1.139481  ...     False\n",
       " \n",
       " [11111 rows x 124 columns],\n",
       "                             mms1_des_energyspectr_omni_fast_0  ...  selected\n",
       " Epoch                                                          ...          \n",
       " 2017-01-09 00:54:34.297495                           0.150986  ...     False\n",
       " 2017-01-09 00:54:38.797525                           0.054092  ...     False\n",
       " 2017-01-09 00:54:43.297564                           0.041586  ...     False\n",
       " 2017-01-09 00:54:47.797595                           0.211846  ...     False\n",
       " 2017-01-09 00:54:52.297634                           0.138488  ...     False\n",
       " ...                                                       ...  ...       ...\n",
       " 2017-01-09 14:47:27.214472                          -1.425762  ...     False\n",
       " 2017-01-09 14:47:31.714506                          -1.444290  ...     False\n",
       " 2017-01-09 14:47:36.214549                          -1.437870  ...     False\n",
       " 2017-01-09 14:47:40.714583                          -1.402435  ...     False\n",
       " 2017-01-09 14:47:45.214625                          -1.435300  ...     False\n",
       " \n",
       " [11110 rows x 124 columns],\n",
       "                             mms1_des_energyspectr_omni_fast_0  ...  selected\n",
       " Epoch                                                          ...          \n",
       " 2017-01-10 00:49:30.129621                           0.250380  ...     False\n",
       " 2017-01-10 00:49:34.629653                           0.356107  ...     False\n",
       " 2017-01-10 00:49:39.129693                           0.265523  ...     False\n",
       " 2017-01-10 00:49:43.629726                           0.210121  ...     False\n",
       " 2017-01-10 00:49:48.129766                           0.314735  ...     False\n",
       " ...                                                       ...  ...       ...\n",
       " 2017-01-10 14:42:27.556663                          -1.232397  ...     False\n",
       " 2017-01-10 14:42:32.056708                          -1.235161  ...     False\n",
       " 2017-01-10 14:42:36.556742                          -1.265290  ...     False\n",
       " 2017-01-10 14:42:41.056784                          -1.235246  ...     False\n",
       " 2017-01-10 14:42:45.556820                          -1.244504  ...     False\n",
       " \n",
       " [11111 rows x 124 columns],\n",
       "                             mms1_des_energyspectr_omni_fast_0  ...  selected\n",
       " Epoch                                                          ...          \n",
       " 2017-01-11 00:44:31.554608                          -0.438260  ...     False\n",
       " 2017-01-11 00:44:36.054647                          -0.247389  ...     False\n",
       " 2017-01-11 00:44:40.554679                          -0.360649  ...     False\n",
       " 2017-01-11 00:44:45.054719                          -0.461376  ...     False\n",
       " 2017-01-11 00:44:49.554749                          -0.250608  ...     False\n",
       " ...                                                       ...  ...       ...\n",
       " 2017-01-11 12:39:34.919214                          -1.374367  ...     False\n",
       " 2017-01-11 12:39:39.419257                          -1.388974  ...     False\n",
       " 2017-01-11 12:39:43.919291                          -1.387084  ...     False\n",
       " 2017-01-11 12:39:48.419334                          -1.379114  ...     False\n",
       " 2017-01-11 12:39:52.919369                          -1.375000  ...     False\n",
       " \n",
       " [9539 rows x 124 columns],\n",
       "                             mms1_des_energyspectr_omni_fast_0  ...  selected\n",
       " Epoch                                                          ...          \n",
       " 2017-01-12 00:34:26.372263                           0.282036  ...     False\n",
       " 2017-01-12 00:34:30.872292                           0.207331  ...     False\n",
       " 2017-01-12 00:34:35.372328                           0.135283  ...     False\n",
       " 2017-01-12 00:34:39.872357                           0.205012  ...     False\n",
       " 2017-01-12 00:34:44.372392                           0.200723  ...     False\n",
       " ...                                                       ...  ...       ...\n",
       " 2017-01-12 14:27:37.628688                          -1.174282  ...     False\n",
       " 2017-01-12 14:27:42.128726                          -1.222883  ...     False\n",
       " 2017-01-12 14:27:46.628757                          -1.191178  ...     False\n",
       " 2017-01-12 14:27:51.128794                          -1.202539  ...     False\n",
       " 2017-01-12 14:27:55.628825                          -1.169961  ...     False\n",
       " \n",
       " [9328 rows x 124 columns],\n",
       "                             mms1_des_energyspectr_omni_fast_0  ...  selected\n",
       " Epoch                                                          ...          \n",
       " 2017-01-13 00:29:31.532187                           0.433031  ...     False\n",
       " 2017-01-13 00:29:36.032218                           0.775808  ...     False\n",
       " 2017-01-13 00:29:40.532246                           0.681540  ...     False\n",
       " 2017-01-13 00:29:45.032280                           0.447294  ...     False\n",
       " 2017-01-13 00:29:49.532306                           0.495920  ...     False\n",
       " ...                                                       ...  ...       ...\n",
       " 2017-01-13 14:22:37.896918                          -1.122267  ...     False\n",
       " 2017-01-13 14:22:42.396955                          -1.095192  ...     False\n",
       " 2017-01-13 14:22:46.896974                          -1.078990  ...     False\n",
       " 2017-01-13 14:22:51.397022                          -1.045212  ...     False\n",
       " 2017-01-13 14:22:55.897051                          -1.078421  ...     False\n",
       " \n",
       " [11113 rows x 124 columns],\n",
       "                             mms1_des_energyspectr_omni_fast_0  ...  selected\n",
       " Epoch                                                          ...          \n",
       " 2017-01-14 00:24:33.973502                           0.516664  ...     False\n",
       " 2017-01-14 00:24:38.473535                           0.454663  ...     False\n",
       " 2017-01-14 00:24:42.973562                           0.536189  ...     False\n",
       " 2017-01-14 00:24:47.473595                           0.508872  ...     False\n",
       " 2017-01-14 00:24:51.973623                           0.595519  ...     False\n",
       " ...                                                       ...  ...       ...\n",
       " 2017-01-14 14:17:35.850795                          -1.048623  ...     False\n",
       " 2017-01-14 14:17:40.350835                          -1.060130  ...     False\n",
       " 2017-01-14 14:17:44.850865                          -1.046742  ...     False\n",
       " 2017-01-14 14:17:49.350906                          -1.101527  ...     False\n",
       " 2017-01-14 14:17:53.850938                          -1.069602  ...     False\n",
       " \n",
       " [11112 rows x 124 columns],\n",
       "                             mms1_des_energyspectr_omni_fast_0  ...  selected\n",
       " Epoch                                                          ...          \n",
       " 2017-01-15 00:19:33.423590                           0.124151  ...     False\n",
       " 2017-01-15 00:19:37.923618                           0.203979  ...     False\n",
       " 2017-01-15 00:19:42.423652                           0.194321  ...     False\n",
       " 2017-01-15 00:19:46.923680                           0.273831  ...     False\n",
       " 2017-01-15 00:19:51.423716                           0.097556  ...     False\n",
       " ...                                                       ...  ...       ...\n",
       " 2017-01-15 14:12:35.302495                          -1.251178  ...     False\n",
       " 2017-01-15 14:12:39.802527                          -1.217158  ...     False\n",
       " 2017-01-15 14:12:44.302565                          -1.277525  ...     False\n",
       " 2017-01-15 14:12:48.802596                          -1.249092  ...     False\n",
       " 2017-01-15 14:12:53.302636                          -1.251487  ...     False\n",
       " \n",
       " [11112 rows x 124 columns],\n",
       "                             mms1_des_energyspectr_omni_fast_0  ...  selected\n",
       " Epoch                                                          ...          \n",
       " 2017-01-16 00:14:29.606218                          -0.753529  ...     False\n",
       " 2017-01-16 00:14:34.106254                          -0.608870  ...     False\n",
       " 2017-01-16 00:14:38.606282                          -0.700074  ...     False\n",
       " 2017-01-16 00:14:43.106318                          -0.569566  ...     False\n",
       " 2017-01-16 00:14:47.606346                          -0.840524  ...     False\n",
       " ...                                                       ...  ...       ...\n",
       " 2017-01-16 14:07:35.991104                          -1.021327  ...     False\n",
       " 2017-01-16 14:07:40.491143                          -1.073761  ...     False\n",
       " 2017-01-16 14:07:44.991175                          -1.060275  ...     False\n",
       " 2017-01-16 14:07:49.491213                          -1.045543  ...     False\n",
       " 2017-01-16 14:07:53.991245                          -1.043030  ...     False\n",
       " \n",
       " [11113 rows x 124 columns],\n",
       "                             mms1_des_energyspectr_omni_fast_0  ...  selected\n",
       " Epoch                                                          ...          \n",
       " 2017-01-17 00:09:33.097461                           0.618697  ...     False\n",
       " 2017-01-17 00:09:37.597490                          -0.010759  ...     False\n",
       " 2017-01-17 00:09:42.097524                          -0.202842  ...     False\n",
       " 2017-01-17 00:09:46.597553                           0.128834  ...     False\n",
       " 2017-01-17 00:09:51.097587                           0.501555  ...     False\n",
       " ...                                                       ...  ...       ...\n",
       " 2017-01-17 13:57:33.480536                          -1.056261  ...     False\n",
       " 2017-01-17 13:57:37.980569                          -1.028945  ...     False\n",
       " 2017-01-17 13:57:42.480608                          -1.056892  ...     False\n",
       " 2017-01-17 13:57:46.980639                          -1.055822  ...     False\n",
       " 2017-01-17 13:57:51.480679                          -1.044705  ...     False\n",
       " \n",
       " [11045 rows x 124 columns],\n",
       "                             mms1_des_energyspectr_omni_fast_0  ...  selected\n",
       " Epoch                                                          ...          \n",
       " 2017-01-17 23:59:30.257868                          -0.460953  ...     False\n",
       " 2017-01-17 23:59:34.757896                          -0.477479  ...      True\n",
       " 2017-01-17 23:59:39.257933                          -0.540812  ...      True\n",
       " 2017-01-17 23:59:43.757962                          -0.410302  ...      True\n",
       " 2017-01-17 23:59:48.257997                          -0.714016  ...      True\n",
       " ...                                                       ...  ...       ...\n",
       " 2017-01-18 13:47:35.148867                          -0.351026  ...     False\n",
       " 2017-01-18 13:47:39.648900                           0.028805  ...     False\n",
       " 2017-01-18 13:47:44.148942                          -0.060379  ...     False\n",
       " 2017-01-18 13:47:48.648976                          -0.036331  ...     False\n",
       " 2017-01-18 13:47:53.149017                           0.230107  ...     False\n",
       " \n",
       " [11046 rows x 124 columns],\n",
       "                             mms1_des_energyspectr_omni_fast_0  ...  selected\n",
       " Epoch                                                          ...          \n",
       " 2017-01-18 23:54:30.109686                          -1.077935  ...     False\n",
       " 2017-01-18 23:54:34.609716                          -0.473158  ...     False\n",
       " 2017-01-18 23:54:39.109751                          -0.668999  ...     False\n",
       " 2017-01-18 23:54:43.609781                          -0.616445  ...     False\n",
       " 2017-01-18 23:54:48.109818                          -1.026126  ...     False\n",
       " ...                                                       ...  ...       ...\n",
       " 2017-01-19 13:42:35.005498                          -0.561375  ...     False\n",
       " 2017-01-19 13:42:39.505531                          -0.582718  ...     False\n",
       " 2017-01-19 13:42:44.005572                          -0.569202  ...     False\n",
       " 2017-01-19 13:42:48.505605                          -0.630146  ...     False\n",
       " 2017-01-19 13:42:53.005646                          -0.643737  ...     False\n",
       " \n",
       " [11046 rows x 124 columns],\n",
       "                             mms1_des_energyspectr_omni_fast_0  ...  selected\n",
       " Epoch                                                          ...          \n",
       " 2017-01-19 23:54:32.495962                           0.887217  ...     False\n",
       " 2017-01-19 23:54:36.995991                           1.040867  ...     False\n",
       " 2017-01-19 23:54:41.496029                           0.968065  ...     False\n",
       " 2017-01-19 23:54:45.996058                           0.874947  ...     False\n",
       " 2017-01-19 23:54:50.496094                           0.996150  ...     False\n",
       " ...                                                       ...  ...       ...\n",
       " 2017-01-20 13:42:32.893654                          -1.341355  ...     False\n",
       " 2017-01-20 13:42:37.393695                          -1.340042  ...     False\n",
       " 2017-01-20 13:42:41.893728                          -1.315527  ...     False\n",
       " 2017-01-20 13:42:46.393768                          -1.372444  ...     False\n",
       " 2017-01-20 13:42:50.893801                          -1.342465  ...     False\n",
       " \n",
       " [11045 rows x 124 columns],\n",
       "                             mms1_des_energyspectr_omni_fast_0  ...  selected\n",
       " Epoch                                                          ...          \n",
       " 2017-01-20 23:44:28.879445                           0.258103  ...     False\n",
       " 2017-01-20 23:44:33.379480                           0.165344  ...     False\n",
       " 2017-01-20 23:44:37.879512                           0.238723  ...     False\n",
       " 2017-01-20 23:44:42.379549                           0.240764  ...     False\n",
       " 2017-01-20 23:44:46.879579                           0.325817  ...     False\n",
       " ...                                                       ...  ...       ...\n",
       " 2017-01-21 13:32:33.783922                          -1.281203  ...     False\n",
       " 2017-01-21 13:32:38.283965                          -1.240908  ...     False\n",
       " 2017-01-21 13:32:42.783999                          -1.245359  ...     False\n",
       " 2017-01-21 13:32:47.284043                          -1.222616  ...     False\n",
       " 2017-01-21 13:32:51.784076                          -1.244364  ...     False\n",
       " \n",
       " [11046 rows x 124 columns],\n",
       "                             mms1_des_energyspectr_omni_fast_0  ...  selected\n",
       " Epoch                                                          ...          \n",
       " 2017-01-21 23:39:32.397247                           0.648462  ...     False\n",
       " 2017-01-21 23:39:36.897277                           0.125554  ...     False\n",
       " 2017-01-21 23:39:41.397315                           0.644362  ...     False\n",
       " 2017-01-21 23:39:45.897345                           0.794314  ...     False\n",
       " 2017-01-21 23:39:50.397383                           0.748639  ...     False\n",
       " ...                                                       ...  ...       ...\n",
       " 2017-01-22 13:27:32.804047                          -1.281105  ...     False\n",
       " 2017-01-22 13:27:37.304090                          -1.316070  ...     False\n",
       " 2017-01-22 13:27:41.804122                          -1.296095  ...     False\n",
       " 2017-01-22 13:27:46.304166                          -1.274427  ...     False\n",
       " 2017-01-22 13:27:50.804198                          -1.259403  ...     False\n",
       " \n",
       " [11045 rows x 124 columns],\n",
       "                             mms1_des_energyspectr_omni_fast_0  ...  selected\n",
       " Epoch                                                          ...          \n",
       " 2017-01-22 23:34:32.497506                           0.371171  ...     False\n",
       " 2017-01-22 23:34:36.997536                           0.306008  ...     False\n",
       " 2017-01-22 23:34:41.497574                           0.222378  ...     False\n",
       " 2017-01-22 23:34:45.997588                           0.303669  ...     False\n",
       " 2017-01-22 23:34:50.497642                           0.300867  ...     False\n",
       " ...                                                       ...  ...       ...\n",
       " 2017-01-23 13:22:37.407060                          -1.084231  ...     False\n",
       " 2017-01-23 13:22:41.907095                          -1.132926  ...     False\n",
       " 2017-01-23 13:22:46.407137                          -1.138529  ...     False\n",
       " 2017-01-23 13:22:50.907171                          -1.112983  ...     False\n",
       " 2017-01-23 13:22:55.407213                          -1.114196  ...     False\n",
       " \n",
       " [11046 rows x 124 columns],\n",
       "                             mms1_des_energyspectr_omni_fast_0  ...  selected\n",
       " Epoch                                                          ...          \n",
       " 2017-01-23 23:30:17.579249                           0.625622  ...     False\n",
       " 2017-01-23 23:30:22.079286                           0.446295  ...     False\n",
       " 2017-01-23 23:30:26.579317                           0.340665  ...     False\n",
       " 2017-01-23 23:30:31.079355                           0.494095  ...     False\n",
       " 2017-01-23 23:30:35.579386                           0.285995  ...     False\n",
       " ...                                                       ...  ...       ...\n",
       " 2017-01-24 08:16:56.833894                           0.304322  ...     False\n",
       " 2017-01-24 08:17:01.333935                           0.400155  ...     False\n",
       " 2017-01-24 08:17:05.833968                           0.147983  ...     False\n",
       " 2017-01-24 08:17:10.334009                           0.348916  ...     False\n",
       " 2017-01-24 08:17:14.834041                           0.285743  ...     False\n",
       " \n",
       " [7026 rows x 124 columns],\n",
       "                             mms1_des_energyspectr_omni_fast_0  ...  selected\n",
       " Epoch                                                          ...          \n",
       " 2017-01-24 23:25:19.951727                           0.397294  ...     False\n",
       " 2017-01-24 23:25:24.451768                           0.536392  ...     False\n",
       " 2017-01-24 23:25:28.951798                           0.343806  ...     False\n",
       " 2017-01-24 23:25:33.451838                           0.284095  ...     False\n",
       " 2017-01-24 23:25:37.951870                           0.483337  ...     False\n",
       " ...                                                       ...  ...       ...\n",
       " 2017-01-25 13:06:44.364210                          -1.271923  ...     False\n",
       " 2017-01-25 13:06:48.864244                          -1.243242  ...     False\n",
       " 2017-01-25 13:06:53.364289                          -1.241685  ...     False\n",
       " 2017-01-25 13:06:57.864325                          -1.216165  ...     False\n",
       " 2017-01-25 13:07:02.364367                          -1.243583  ...     False\n",
       " \n",
       " [10957 rows x 124 columns],\n",
       "                             mms1_des_energyspectr_omni_fast_0  ...  selected\n",
       " Epoch                                                          ...          \n",
       " 2017-01-25 23:20:21.915845                           0.629981  ...     False\n",
       " 2017-01-25 23:20:26.415884                           0.712099  ...     False\n",
       " 2017-01-25 23:20:30.915915                           0.690743  ...     False\n",
       " 2017-01-25 23:20:35.415953                           0.771954  ...     False\n",
       " 2017-01-25 23:20:39.915985                           0.598590  ...     False\n",
       " ...                                                       ...  ...       ...\n",
       " 2017-01-26 13:01:41.834981                           1.751733  ...     False\n",
       " 2017-01-26 13:01:46.335025                           1.385139  ...     False\n",
       " 2017-01-26 13:01:50.835061                           1.505051  ...     False\n",
       " 2017-01-26 13:01:55.335105                           2.003533  ...     False\n",
       " 2017-01-26 13:01:59.835140                           2.122904  ...     False\n",
       " \n",
       " [10956 rows x 124 columns],\n",
       "                             mms1_des_energyspectr_omni_fast_0  ...  selected\n",
       " Epoch                                                          ...          \n",
       " 2017-01-26 23:15:17.804388                           1.620798  ...     False\n",
       " 2017-01-26 23:15:22.304427                           1.499084  ...     False\n",
       " 2017-01-26 23:15:26.804459                           1.292690  ...     False\n",
       " 2017-01-26 23:15:31.304499                           1.313568  ...     False\n",
       " 2017-01-26 23:15:35.804530                           1.579847  ...     False\n",
       " ...                                                       ...  ...       ...\n",
       " 2017-01-27 12:56:46.723774                          -1.481024  ...     False\n",
       " 2017-01-27 12:56:51.223817                          -1.474493  ...     False\n",
       " 2017-01-27 12:56:55.723852                          -1.458199  ...     False\n",
       " 2017-01-27 12:57:00.223895                          -1.479174  ...     False\n",
       " 2017-01-27 12:57:04.723930                          -1.497171  ...     False\n",
       " \n",
       " [10957 rows x 124 columns],\n",
       "                             mms1_des_energyspectr_omni_fast_0  ...  selected\n",
       " Epoch                                                          ...          \n",
       " 2017-01-27 23:05:17.911570                           0.274722  ...     False\n",
       " 2017-01-27 23:05:22.411609                           0.108195  ...     False\n",
       " 2017-01-27 23:05:26.911641                           0.005769  ...     False\n",
       " 2017-01-27 23:05:31.411680                          -0.030007  ...     False\n",
       " 2017-01-27 23:05:35.911711                          -0.060532  ...     False\n",
       " ...                                                       ...  ...       ...\n",
       " 2017-01-28 12:46:42.333037                          -1.247610  ...     False\n",
       " 2017-01-28 12:46:46.833072                          -1.237887  ...     False\n",
       " 2017-01-28 12:46:51.333117                          -1.219926  ...     False\n",
       " 2017-01-28 12:46:55.833153                          -1.233068  ...     False\n",
       " 2017-01-28 12:47:00.333198                          -1.255480  ...     False\n",
       " \n",
       " [10957 rows x 124 columns],\n",
       "                             mms1_des_energyspectr_omni_fast_0  ...  selected\n",
       " Epoch                                                          ...          \n",
       " 2017-01-28 23:00:18.906511                           0.274405  ...     False\n",
       " 2017-01-28 23:00:23.406551                           0.333638  ...     False\n",
       " 2017-01-28 23:00:27.906583                           0.324077  ...     False\n",
       " 2017-01-28 23:00:32.406623                           0.413629  ...     False\n",
       " 2017-01-28 23:00:36.906655                           0.240758  ...     False\n",
       " ...                                                       ...  ...       ...\n",
       " 2017-01-29 12:41:43.330800                          -1.292784  ...     False\n",
       " 2017-01-29 12:41:47.830835                          -1.283827  ...     False\n",
       " 2017-01-29 12:41:52.330878                          -1.331312  ...     False\n",
       " 2017-01-29 12:41:56.830914                          -1.298229  ...     False\n",
       " 2017-01-29 12:42:01.330958                          -1.317063  ...     False\n",
       " \n",
       " [10957 rows x 124 columns],\n",
       "                             mms1_des_energyspectr_omni_fast_0  ...  selected\n",
       " Epoch                                                          ...          \n",
       " 2017-01-29 23:00:22.371527                           0.205416  ...     False\n",
       " 2017-01-29 23:00:26.871558                           0.070299  ...     False\n",
       " 2017-01-29 23:00:31.371597                           0.251162  ...     False\n",
       " 2017-01-29 23:00:35.871629                           0.143420  ...     False\n",
       " 2017-01-29 23:00:40.371669                           0.299162  ...     False\n",
       " ...                                                       ...  ...       ...\n",
       " 2017-01-30 12:41:37.792835                           3.766927  ...     False\n",
       " 2017-01-30 12:41:42.292879                           3.941938  ...     False\n",
       " 2017-01-30 12:41:46.792914                           4.024080  ...     False\n",
       " 2017-01-30 12:41:51.292959                           4.471779  ...     False\n",
       " 2017-01-30 12:41:55.792994                           4.125512  ...     False\n",
       " \n",
       " [10954 rows x 124 columns]]"
      ]
     },
     "execution_count": 11,
     "metadata": {
      "tags": []
     },
     "output_type": "execute_result"
    }
   ],
   "source": [
    "windows"
   ]
  },
  {
   "cell_type": "markdown",
   "metadata": {
    "colab_type": "text",
    "id": "btKBuEPkUrXW"
   },
   "source": [
    "Finally, we break up our data into individual sequences that will be fed to our neural network."
   ]
  },
  {
   "cell_type": "markdown",
   "metadata": {
    "colab_type": "text",
    "id": "pY_SGxXFU88m"
   },
   "source": [
    "We define a SEQ_LEN variable that will determine the length of our sequences. This variable will also be passed to our network so that it knows how long of a data sequence to expect while training. The choice of sequence length is largely arbitrary."
   ]
  },
  {
   "cell_type": "code",
   "execution_count": 12,
   "metadata": {
    "colab": {},
    "colab_type": "code",
    "id": "YQzSPJXkU7J8"
   },
   "outputs": [],
   "source": [
    "SEQ_LEN = 250"
   ]
  },
  {
   "cell_type": "markdown",
   "metadata": {
    "colab_type": "text",
    "id": "gtXhi2H2j7x6"
   },
   "source": [
    "For each window, we assemble two sequences: an X_sequence containing individual data points from our training data and a y_sequence containing the truth values for those data points (whether or not those data points were selected by a SITL). \n",
    "\n",
    "We add those sequences to four collections: X_train and y_train containing X_sequences and y_sequences for our training data and X_test and y_test containing X_sequences and y_sequences for our testing data. We allocate 80% of the sequences to trainining and the remaining 20% to testing. "
   ]
  },
  {
   "cell_type": "code",
   "execution_count": 13,
   "metadata": {
    "colab": {},
    "colab_type": "code",
    "id": "w9ajG41MVJWc"
   },
   "outputs": [],
   "source": [
    " while True:\n",
    "    X_train, X_test, y_train, y_test = [], [], [], []\n",
    "\n",
    "    sequences = []\n",
    "    for i in range(len(windows)):\n",
    "      X_sequence = []\n",
    "      y_sequence = []\n",
    "\n",
    "      if random.random() < 0.6:\n",
    "        for value in windows[i].values:\n",
    "          X_sequence.append(value[:-1])\n",
    "          y_sequence.append(value[-1])\n",
    "          if len(X_sequence) == SEQ_LEN:\n",
    "            X_train.append(X_sequence.copy())\n",
    "            \n",
    "            y_train.append(y_sequence.copy())\n",
    "\n",
    "            X_sequence = []\n",
    "            y_sequence = []\n",
    "\n",
    "      else:\n",
    "        for value in windows[i].values:\n",
    "          X_sequence.append(value[:-1])\n",
    "          y_sequence.append(value[-1])\n",
    "          if len(X_sequence) == SEQ_LEN:\n",
    "            X_test.append(X_sequence.copy())\n",
    "            \n",
    "            y_test.append(y_sequence.copy())\n",
    "\n",
    "            X_sequence = []\n",
    "            y_sequence = []\n",
    "\n",
    "    X_train = np.array(X_train)\n",
    "    X_test = np.array(X_test)\n",
    "    y_train = np.expand_dims(np.array(y_train), axis=2)\n",
    "    y_test = np.expand_dims(np.array(y_test), axis=2)\n",
    "\n",
    "    if len(X_train) > len(X_test):\n",
    "        break"
   ]
  },
  {
   "cell_type": "markdown",
   "metadata": {
    "colab_type": "text",
    "id": "NcGTxO4tYIEa"
   },
   "source": [
    "We can see how many sequences of data we have for training and testing, respectively:"
   ]
  },
  {
   "cell_type": "code",
   "execution_count": 14,
   "metadata": {
    "colab": {
     "base_uri": "https://localhost:8080/",
     "height": 52
    },
    "colab_type": "code",
    "id": "w6Xc30NSYIgK",
    "outputId": "dc987b91-eaab-46f3-ddd0-bb3ee20bb321"
   },
   "outputs": [
    {
     "name": "stdout",
     "output_type": "stream",
     "text": [
      "Number of sequences in training data: 753\n",
      "Number of sequences in test data: 519\n"
     ]
    }
   ],
   "source": [
    "print(f\"Number of sequences in training data: {len(X_train)}\")\n",
    "print(f\"Number of sequences in test data: {len(X_test)}\")"
   ]
  },
  {
   "cell_type": "markdown",
   "metadata": {
    "colab_type": "text",
    "id": "CRsSmLuDs029"
   },
   "source": [
    "## Define and Train LSTM\n",
    "\n",
    "Now that we have processed our data into our training and test sets, we can begin to build and train and our LSTM."
   ]
  },
  {
   "cell_type": "markdown",
   "metadata": {
    "colab_type": "text",
    "id": "r8Hqo34gs4cx"
   },
   "source": [
    "First, we need to define a custom F1 score and weighted binary crossentropy functions."
   ]
  },
  {
   "cell_type": "markdown",
   "metadata": {
    "colab_type": "text",
    "id": "MPl9Nicf4K_d"
   },
   "source": [
    "An F1 score is a measure of a model's accuracy, calculated as a balance of the model's precision (the number of true positives predicted by the model divided by the total number of positives predicted by the model) and recall (the number of true positives predicted by the model divided by the number of actual positives in the data):\n",
    "\n",
    "![F1 = 2 * (precision * recall) / (precision + recall)](https://wikimedia.org/api/rest_v1/media/math/render/svg/1bf179c30b00db201ce1895d88fe2915d58e6bfd)\n",
    "\n",
    "We will evaluate our model using the F1 score since we want to strike a balance between the model's precision and recall. Remember, we cannot use true accuracy (the number of true positives and true negatives divided by the number of data points in the data) because of the imbalance between our classes.\n"
   ]
  },
  {
   "cell_type": "code",
   "execution_count": 15,
   "metadata": {
    "colab": {},
    "colab_type": "code",
    "id": "EKhoUVlFmfUx"
   },
   "outputs": [],
   "source": [
    "# (Credit: Paddy and Kev1n91 from https://stackoverflow.com/a/45305384/3988976)\n",
    "def f1(y_true, y_pred):\n",
    "    def recall(y_true, y_pred):\n",
    "        \"\"\"Recall metric.\n",
    "\n",
    "        Only computes a batch-wise average of recall.\n",
    "\n",
    "        Computes the recall, a metric for multi-label classification of\n",
    "        how many relevant items are selected.\n",
    "        \"\"\"\n",
    "        true_positives = K.sum(K.round(K.clip(y_true * y_pred, 0, 1)))\n",
    "        possible_positives = K.sum(K.round(K.clip(y_true, 0, 1)))\n",
    "        recall = true_positives / (possible_positives + K.epsilon())\n",
    "        return recall\n",
    "\n",
    "    def precision(y_true, y_pred):\n",
    "        \"\"\"Precision metric.\n",
    "\n",
    "        Only computes a batch-wise average of precision.\n",
    "\n",
    "        Computes the precision, a metric for multi-label classification of\n",
    "        how many selected items are relevant.\n",
    "        \"\"\"\n",
    "        true_positives = K.sum(K.round(K.clip(y_true * y_pred, 0, 1)))\n",
    "        predicted_positives = K.sum(K.round(K.clip(y_pred, 0, 1)))\n",
    "        precision = true_positives / (predicted_positives + K.epsilon())\n",
    "        return precision\n",
    "    precision = precision(y_true, y_pred)\n",
    "    recall = recall(y_true, y_pred)\n",
    "    return 2*((precision*recall)/(precision+recall+K.epsilon()))"
   ]
  },
  {
   "cell_type": "markdown",
   "metadata": {
    "colab_type": "text",
    "id": "emVoV71O4MAD"
   },
   "source": [
    "Cross-entropy is a function used to determine the loss between a set of predictions and their truth values. The larger the difference between a prediction and its true value, the larger the loss will be. In general, many machine learning architectures (including our LSTM) are designed to minimize their given loss function. A perfect model will have a loss of 0.\n",
    "\n",
    "Binary cross-entropy is used when we only have two classes (in our case, selected or not selected) and weighted binary cross-entropy allows us to assign a weight to one of the classes. This weight can effectively increase or decrease the loss of that class. In our case, we have previously defined a variable *true_weight* to be the class weight for positive (selected) datapoints. We will pass that weight into the function.\n",
    "\n",
    "This cross-entropy function will be passed in to our model as our loss function.\n",
    "\n",
    "(Because the loss function of a model needs to be differentiable to perform gradient descent, we cannot use our F1 score as our loss function.)"
   ]
  },
  {
   "cell_type": "code",
   "execution_count": 16,
   "metadata": {
    "colab": {},
    "colab_type": "code",
    "id": "yBxIZXbMpJG9"
   },
   "outputs": [],
   "source": [
    "# (Credit: tobigue from https://stackoverflow.com/questions/42158866/neural-network-for-multi-label-classification-with-large-number-of-classes-outpu)\n",
    "def weighted_binary_crossentropy(target, output):\n",
    "    \"\"\"\n",
    "    Weighted binary crossentropy between an output tensor \n",
    "    and a target tensor. POS_WEIGHT is used as a multiplier \n",
    "    for the positive targets.\n",
    "\n",
    "    Combination of the following functions:\n",
    "    * keras.losses.binary_crossentropy\n",
    "    * keras.backend.tensorflow_backend.binary_crossentropy\n",
    "    * tf.nn.weighted_cross_entropy_with_logits\n",
    "    \"\"\"\n",
    "    # transform back to logits\n",
    "    _epsilon = tfb._to_tensor(tfb.epsilon(), output.dtype.base_dtype)\n",
    "    output = tf.clip_by_value(output, _epsilon, 1 - _epsilon)\n",
    "    output = tf.log(output / (1 - output))\n",
    "    # compute weighted loss\n",
    "    loss = tf.nn.weighted_cross_entropy_with_logits(targets=target,\n",
    "                                                    logits=output,\n",
    "                                                    pos_weight=true_weight)\n",
    "    return tf.reduce_mean(loss, axis=-1)"
   ]
  },
  {
   "cell_type": "markdown",
   "metadata": {
    "colab_type": "text",
    "id": "V7ScqhL295sl"
   },
   "source": [
    "Before building our LSTM, we define several hyperparameters that will define how the model is trained:\n",
    "\n",
    "EPOCHS: The number of times the model trains through our entire dataset\n",
    "\n",
    "BATCH_SIZE: The number of sequences that our model trains using at any given point\n",
    "\n",
    "LAYER_SIZE: The number of LSTM internal to each layer of the model.\n",
    "\n",
    "Choices for these hyperparameters are largely arbitrary and can be altered to tune our LSTM."
   ]
  },
  {
   "cell_type": "code",
   "execution_count": 17,
   "metadata": {
    "colab": {},
    "colab_type": "code",
    "id": "U7HBAE5wwTDU"
   },
   "outputs": [],
   "source": [
    "EPOCHS = 100\n",
    "BATCH_SIZE = 128\n",
    "LAYER_SIZE = 300"
   ]
  },
  {
   "cell_type": "markdown",
   "metadata": {
    "colab_type": "text",
    "id": "WMHwIiE9Aec9"
   },
   "source": [
    "We now define our LSTM.\n",
    "\n",
    "For this version of the model, we two bidirectional LSTM layers, two dropout layers, and one time distributed dense layer.\n",
    "\n",
    "Internally, an LSTM layer uses a for loop to iterate over the timesteps of a sequence, while maintaining states that encode information from those timesteps. Using these internal states, the LSTM learns the characteristics of our data (the X_sequences we defined earlier) and how those data relate to our expected output (the y_sequences we defined earlier). Normal (unidirectional) LSTMs only encode information from prior-seen timesteps. Bidirectional LSTMs can can encode information prior to and after a given timestep.\n",
    "\n",
    "With the addition of a dense layer, the LSTM will output a value between 0 and 1 that corresponds to the model's certainty about whether or not a timestep was selected by the SITL.\n"
   ]
  },
  {
   "cell_type": "code",
   "execution_count": 18,
   "metadata": {
    "colab": {
     "base_uri": "https://localhost:8080/",
     "height": 303
    },
    "colab_type": "code",
    "id": "3jU7BfnJBj0V",
    "outputId": "9605a3ef-47b3-4477-faf8-a60049a7719d"
   },
   "outputs": [
    {
     "name": "stdout",
     "output_type": "stream",
     "text": [
      "WARNING:tensorflow:From /tensorflow-1.15.2/python3.6/tensorflow_core/python/ops/init_ops.py:97: calling GlorotUniform.__init__ (from tensorflow.python.ops.init_ops) with dtype is deprecated and will be removed in a future version.\n",
      "Instructions for updating:\n",
      "Call initializer instance with the dtype argument instead of passing it to the constructor\n",
      "WARNING:tensorflow:From /tensorflow-1.15.2/python3.6/tensorflow_core/python/ops/init_ops.py:97: calling Orthogonal.__init__ (from tensorflow.python.ops.init_ops) with dtype is deprecated and will be removed in a future version.\n",
      "Instructions for updating:\n",
      "Call initializer instance with the dtype argument instead of passing it to the constructor\n",
      "WARNING:tensorflow:From /tensorflow-1.15.2/python3.6/tensorflow_core/python/ops/init_ops.py:97: calling Zeros.__init__ (from tensorflow.python.ops.init_ops) with dtype is deprecated and will be removed in a future version.\n",
      "Instructions for updating:\n",
      "Call initializer instance with the dtype argument instead of passing it to the constructor\n",
      "WARNING:tensorflow:From /tensorflow-1.15.2/python3.6/tensorflow_core/python/ops/resource_variable_ops.py:1630: calling BaseResourceVariable.__init__ (from tensorflow.python.ops.resource_variable_ops) with constraint is deprecated and will be removed in a future version.\n",
      "Instructions for updating:\n",
      "If using Keras pass *_constraint arguments to layers.\n",
      "WARNING:tensorflow:From <ipython-input-16-f6bf984e786f>:20: calling weighted_cross_entropy_with_logits (from tensorflow.python.ops.nn_impl) with targets is deprecated and will be removed in a future version.\n",
      "Instructions for updating:\n",
      "targets is deprecated, use labels instead\n"
     ]
    }
   ],
   "source": [
    "model_name = f\"{SEQ_LEN}-SEQ_LEN-{BATCH_SIZE}-BATCH_SIZE-{LAYER_SIZE}-LAYER_SIZE-{int(time.time())}\"\n",
    "\n",
    "model = Sequential()\n",
    "\n",
    "model.add(Bidirectional(LSTM(LAYER_SIZE, return_sequences=True), input_shape=(None, X_train.shape[2])))\n",
    "\n",
    "model.add(Dropout(0.4))\n",
    "\n",
    "model.add(Bidirectional(LSTM(LAYER_SIZE, return_sequences=True), input_shape=(None, X_train.shape[2])))\n",
    "\n",
    "model.add(Dropout(0.4))\n",
    "\n",
    "model.add(TimeDistributed(Dense(1, activation='sigmoid')))\n",
    "\n",
    "opt = tf.keras.optimizers.Adam()\n",
    "\n",
    "model.compile(loss=weighted_binary_crossentropy,\n",
    "        optimizer=opt,\n",
    "        metrics=['accuracy', f1, tf.keras.metrics.Precision()])"
   ]
  },
  {
   "cell_type": "code",
   "execution_count": 19,
   "metadata": {
    "colab": {
     "base_uri": "https://localhost:8080/",
     "height": 336
    },
    "colab_type": "code",
    "id": "asBMdOujBrbk",
    "outputId": "8cecf30c-864d-485b-ce81-05d1fb1b31ed"
   },
   "outputs": [
    {
     "name": "stdout",
     "output_type": "stream",
     "text": [
      "Model: \"sequential\"\n",
      "_________________________________________________________________\n",
      "Layer (type)                 Output Shape              Param #   \n",
      "=================================================================\n",
      "bidirectional (Bidirectional (None, None, 600)         1017600   \n",
      "_________________________________________________________________\n",
      "dropout (Dropout)            (None, None, 600)         0         \n",
      "_________________________________________________________________\n",
      "bidirectional_1 (Bidirection (None, None, 600)         2162400   \n",
      "_________________________________________________________________\n",
      "dropout_1 (Dropout)          (None, None, 600)         0         \n",
      "_________________________________________________________________\n",
      "time_distributed (TimeDistri (None, None, 1)           601       \n",
      "=================================================================\n",
      "Total params: 3,180,601\n",
      "Trainable params: 3,180,601\n",
      "Non-trainable params: 0\n",
      "_________________________________________________________________\n"
     ]
    }
   ],
   "source": [
    "model.summary()"
   ]
  },
  {
   "cell_type": "markdown",
   "metadata": {
    "colab_type": "text",
    "id": "vIaRlNZJBkNE"
   },
   "source": [
    "We set our training process to save the best versions of our model according to the previously defined F1 score. Each epoch, if a version of the model is trained with a higher F1 score than the previous best, the model saved on disk will be overwritten with the current best model."
   ]
  },
  {
   "cell_type": "code",
   "execution_count": 20,
   "metadata": {
    "colab": {},
    "colab_type": "code",
    "id": "rFaaHkcwCP7X"
   },
   "outputs": [],
   "source": [
    "filepath = \"mp-dl-unh\" \n",
    "checkpoint = ModelCheckpoint(filepath, monitor='val_f1', verbose=1, save_best_only=True, mode='max')"
   ]
  },
  {
   "cell_type": "markdown",
   "metadata": {
    "colab_type": "text",
    "id": "l8TWoDyKCRrE"
   },
   "source": [
    "The following will train the model and save the training history for later visualization."
   ]
  },
  {
   "cell_type": "code",
   "execution_count": 21,
   "metadata": {
    "colab": {
     "base_uri": "https://localhost:8080/",
     "height": 1000
    },
    "colab_type": "code",
    "id": "UCHQs29JCZMU",
    "outputId": "ab439715-f690-438e-a0d1-d0745dc11466"
   },
   "outputs": [
    {
     "name": "stdout",
     "output_type": "stream",
     "text": [
      "WARNING:tensorflow:From /tensorflow-1.15.2/python3.6/tensorflow_core/python/ops/math_grad.py:1424: where (from tensorflow.python.ops.array_ops) is deprecated and will be removed in a future version.\n",
      "Instructions for updating:\n",
      "Use tf.where in 2.0, which has the same broadcast rule as np.where\n",
      "Train on 753 samples, validate on 519 samples\n",
      "Epoch 1/100\n",
      "640/753 [========================>.....] - ETA: 1s - loss: 0.8397 - acc: 0.6974 - f1: 0.3451 - precision: 0.1849\n",
      "Epoch 00001: val_f1 improved from -inf to 0.42757, saving model to mp-dl-unh\n",
      "753/753 [==============================] - 15s 19ms/sample - loss: 0.7737 - acc: 0.7232 - f1: 0.3541 - precision: 0.1909 - val_loss: 0.6396 - val_acc: 0.8299 - val_f1: 0.4276 - val_precision: 0.2014\n",
      "Epoch 2/100\n",
      "640/753 [========================>.....] - ETA: 1s - loss: 0.6136 - acc: 0.8747 - f1: 0.5461 - precision: 0.3894\n",
      "Epoch 00002: val_f1 did not improve from 0.42757\n",
      "753/753 [==============================] - 11s 14ms/sample - loss: 0.5620 - acc: 0.8849 - f1: 0.5549 - precision: 0.3958 - val_loss: 0.5994 - val_acc: 0.8189 - val_f1: 0.2793 - val_precision: 0.1862\n",
      "Epoch 3/100\n",
      "640/753 [========================>.....] - ETA: 1s - loss: 0.5949 - acc: 0.8367 - f1: 0.4756 - precision: 0.3271\n",
      "Epoch 00003: val_f1 did not improve from 0.42757\n",
      "753/753 [==============================] - 11s 14ms/sample - loss: 0.5476 - acc: 0.8467 - f1: 0.4810 - precision: 0.3289 - val_loss: 0.4256 - val_acc: 0.8731 - val_f1: 0.3077 - val_precision: 0.2567\n",
      "Epoch 4/100\n",
      "640/753 [========================>.....] - ETA: 1s - loss: 0.4788 - acc: 0.8978 - f1: 0.5785 - precision: 0.4482\n",
      "Epoch 00004: val_f1 improved from 0.42757 to 0.50001, saving model to mp-dl-unh\n",
      "753/753 [==============================] - 11s 14ms/sample - loss: 0.4369 - acc: 0.9070 - f1: 0.5971 - precision: 0.4580 - val_loss: 0.3668 - val_acc: 0.9128 - val_f1: 0.5000 - val_precision: 0.3469\n",
      "Epoch 5/100\n",
      "640/753 [========================>.....] - ETA: 1s - loss: 0.4156 - acc: 0.8689 - f1: 0.5636 - precision: 0.3923\n",
      "Epoch 00005: val_f1 did not improve from 0.50001\n",
      "753/753 [==============================] - 11s 14ms/sample - loss: 0.3772 - acc: 0.8815 - f1: 0.5819 - precision: 0.4019 - val_loss: 0.3872 - val_acc: 0.9183 - val_f1: 0.4034 - val_precision: 0.3632\n",
      "Epoch 6/100\n",
      "640/753 [========================>.....] - ETA: 1s - loss: 0.3745 - acc: 0.9192 - f1: 0.6637 - precision: 0.5168\n",
      "Epoch 00006: val_f1 did not improve from 0.50001\n",
      "753/753 [==============================] - 11s 14ms/sample - loss: 0.3420 - acc: 0.9244 - f1: 0.6662 - precision: 0.5181 - val_loss: 0.4222 - val_acc: 0.8848 - val_f1: 0.3684 - val_precision: 0.2857\n",
      "Epoch 7/100\n",
      "640/753 [========================>.....] - ETA: 1s - loss: 0.3198 - acc: 0.9050 - f1: 0.6347 - precision: 0.4735\n",
      "Epoch 00007: val_f1 improved from 0.50001 to 0.51366, saving model to mp-dl-unh\n",
      "753/753 [==============================] - 11s 14ms/sample - loss: 0.2950 - acc: 0.9119 - f1: 0.6405 - precision: 0.4771 - val_loss: 0.4070 - val_acc: 0.8908 - val_f1: 0.5137 - val_precision: 0.2971\n",
      "Epoch 8/100\n",
      "640/753 [========================>.....] - ETA: 1s - loss: 0.2917 - acc: 0.9302 - f1: 0.6997 - precision: 0.5554\n",
      "Epoch 00008: val_f1 did not improve from 0.51366\n",
      "753/753 [==============================] - 11s 14ms/sample - loss: 0.2700 - acc: 0.9330 - f1: 0.6947 - precision: 0.5498 - val_loss: 0.4036 - val_acc: 0.9009 - val_f1: 0.4554 - val_precision: 0.3199\n",
      "Epoch 9/100\n",
      "640/753 [========================>.....] - ETA: 1s - loss: 0.2607 - acc: 0.9331 - f1: 0.7108 - precision: 0.5656\n",
      "Epoch 00009: val_f1 did not improve from 0.51366\n",
      "753/753 [==============================] - 11s 14ms/sample - loss: 0.2403 - acc: 0.9365 - f1: 0.7086 - precision: 0.5627 - val_loss: 0.4023 - val_acc: 0.9023 - val_f1: 0.4948 - val_precision: 0.3243\n",
      "Epoch 10/100\n",
      "640/753 [========================>.....] - ETA: 1s - loss: 0.2405 - acc: 0.9361 - f1: 0.7232 - precision: 0.5768\n",
      "Epoch 00010: val_f1 did not improve from 0.51366\n",
      "753/753 [==============================] - 11s 14ms/sample - loss: 0.2214 - acc: 0.9394 - f1: 0.7211 - precision: 0.5741 - val_loss: 0.4330 - val_acc: 0.9020 - val_f1: 0.4683 - val_precision: 0.3236\n",
      "Epoch 11/100\n",
      "640/753 [========================>.....] - ETA: 1s - loss: 0.2338 - acc: 0.9385 - f1: 0.7312 - precision: 0.5870\n",
      "Epoch 00011: val_f1 did not improve from 0.51366\n",
      "753/753 [==============================] - 11s 14ms/sample - loss: 0.2133 - acc: 0.9426 - f1: 0.7347 - precision: 0.5887 - val_loss: 0.4408 - val_acc: 0.9032 - val_f1: 0.3857 - val_precision: 0.3265\n",
      "Epoch 12/100\n",
      "640/753 [========================>.....] - ETA: 1s - loss: 0.2178 - acc: 0.9344 - f1: 0.7238 - precision: 0.5687\n",
      "Epoch 00012: val_f1 did not improve from 0.51366\n",
      "753/753 [==============================] - 11s 14ms/sample - loss: 0.1993 - acc: 0.9396 - f1: 0.7310 - precision: 0.5738 - val_loss: 0.4235 - val_acc: 0.9129 - val_f1: 0.4649 - val_precision: 0.3482\n",
      "Epoch 13/100\n",
      "640/753 [========================>.....] - ETA: 1s - loss: 0.2071 - acc: 0.9458 - f1: 0.7570 - precision: 0.6187\n",
      "Epoch 00013: val_f1 did not improve from 0.51366\n",
      "753/753 [==============================] - 11s 14ms/sample - loss: 0.1917 - acc: 0.9483 - f1: 0.7531 - precision: 0.6145 - val_loss: 0.4799 - val_acc: 0.9062 - val_f1: 0.4858 - val_precision: 0.3319\n",
      "Epoch 14/100\n",
      "640/753 [========================>.....] - ETA: 1s - loss: 0.2104 - acc: 0.9504 - f1: 0.7719 - precision: 0.6420\n",
      "Epoch 00014: val_f1 improved from 0.51366 to 0.52297, saving model to mp-dl-unh\n",
      "753/753 [==============================] - 11s 14ms/sample - loss: 0.1932 - acc: 0.9527 - f1: 0.7684 - precision: 0.6379 - val_loss: 0.5000 - val_acc: 0.8869 - val_f1: 0.5230 - val_precision: 0.2922\n",
      "Epoch 15/100\n",
      "640/753 [========================>.....] - ETA: 1s - loss: 0.2647 - acc: 0.9105 - f1: 0.6608 - precision: 0.4893\n",
      "Epoch 00015: val_f1 did not improve from 0.52297\n",
      "753/753 [==============================] - 10s 14ms/sample - loss: 0.2380 - acc: 0.9205 - f1: 0.6866 - precision: 0.5039 - val_loss: 0.4565 - val_acc: 0.9263 - val_f1: 0.4257 - val_precision: 0.3876\n",
      "Epoch 16/100\n",
      "640/753 [========================>.....] - ETA: 1s - loss: 0.2233 - acc: 0.9420 - f1: 0.7482 - precision: 0.6011\n",
      "Epoch 00016: val_f1 did not improve from 0.52297\n",
      "753/753 [==============================] - 11s 14ms/sample - loss: 0.2056 - acc: 0.9446 - f1: 0.7432 - precision: 0.5968 - val_loss: 0.4489 - val_acc: 0.8952 - val_f1: 0.3653 - val_precision: 0.3088\n",
      "Epoch 17/100\n",
      "640/753 [========================>.....] - ETA: 1s - loss: 0.2032 - acc: 0.9488 - f1: 0.7627 - precision: 0.6338\n",
      "Epoch 00017: val_f1 did not improve from 0.52297\n",
      "753/753 [==============================] - 11s 14ms/sample - loss: 0.1852 - acc: 0.9525 - f1: 0.7681 - precision: 0.6367 - val_loss: 0.4300 - val_acc: 0.9151 - val_f1: 0.4169 - val_precision: 0.3557\n",
      "Epoch 18/100\n",
      "640/753 [========================>.....] - ETA: 1s - loss: 0.1870 - acc: 0.9412 - f1: 0.7454 - precision: 0.5952\n",
      "Epoch 00018: val_f1 improved from 0.52297 to 0.54961, saving model to mp-dl-unh\n",
      "753/753 [==============================] - 11s 14ms/sample - loss: 0.1700 - acc: 0.9465 - f1: 0.7572 - precision: 0.6034 - val_loss: 0.4437 - val_acc: 0.9228 - val_f1: 0.5496 - val_precision: 0.3775\n",
      "Epoch 19/100\n",
      "640/753 [========================>.....] - ETA: 1s - loss: 0.1757 - acc: 0.9597 - f1: 0.8024 - precision: 0.6911\n",
      "Epoch 00019: val_f1 did not improve from 0.54961\n",
      "753/753 [==============================] - 11s 14ms/sample - loss: 0.1617 - acc: 0.9615 - f1: 0.7995 - precision: 0.6864 - val_loss: 0.4601 - val_acc: 0.9069 - val_f1: 0.4623 - val_precision: 0.3355\n",
      "Epoch 20/100\n",
      "640/753 [========================>.....] - ETA: 1s - loss: 0.1771 - acc: 0.9395 - f1: 0.7388 - precision: 0.5875\n",
      "Epoch 00020: val_f1 improved from 0.54961 to 0.57562, saving model to mp-dl-unh\n",
      "753/753 [==============================] - 11s 14ms/sample - loss: 0.1675 - acc: 0.9453 - f1: 0.7526 - precision: 0.5974 - val_loss: 0.4548 - val_acc: 0.9226 - val_f1: 0.5756 - val_precision: 0.3766\n",
      "Epoch 21/100\n",
      "640/753 [========================>.....] - ETA: 1s - loss: 0.1746 - acc: 0.9539 - f1: 0.7852 - precision: 0.6552\n",
      "Epoch 00021: val_f1 did not improve from 0.57562\n",
      "753/753 [==============================] - 11s 14ms/sample - loss: 0.1626 - acc: 0.9557 - f1: 0.7794 - precision: 0.6496 - val_loss: 0.4955 - val_acc: 0.9261 - val_f1: 0.4233 - val_precision: 0.3881\n",
      "Epoch 22/100\n",
      "640/753 [========================>.....] - ETA: 1s - loss: 0.1686 - acc: 0.9592 - f1: 0.8006 - precision: 0.6878\n",
      "Epoch 00022: val_f1 did not improve from 0.57562\n",
      "753/753 [==============================] - 11s 14ms/sample - loss: 0.1551 - acc: 0.9614 - f1: 0.8001 - precision: 0.6854 - val_loss: 0.5072 - val_acc: 0.9091 - val_f1: 0.4278 - val_precision: 0.3412\n",
      "Epoch 23/100\n",
      "640/753 [========================>.....] - ETA: 1s - loss: 0.1871 - acc: 0.9423 - f1: 0.7492 - precision: 0.6002\n",
      "Epoch 00023: val_f1 did not improve from 0.57562\n",
      "753/753 [==============================] - 11s 14ms/sample - loss: 0.1701 - acc: 0.9480 - f1: 0.7638 - precision: 0.6105 - val_loss: 0.4906 - val_acc: 0.9208 - val_f1: 0.4136 - val_precision: 0.3704\n",
      "Epoch 24/100\n",
      "640/753 [========================>.....] - ETA: 1s - loss: 0.1611 - acc: 0.9591 - f1: 0.8048 - precision: 0.6841\n",
      "Epoch 00024: val_f1 improved from 0.57562 to 0.58272, saving model to mp-dl-unh\n",
      "753/753 [==============================] - 11s 14ms/sample - loss: 0.1511 - acc: 0.9617 - f1: 0.8058 - precision: 0.6854 - val_loss: 0.4396 - val_acc: 0.9231 - val_f1: 0.5827 - val_precision: 0.3796\n",
      "Epoch 25/100\n",
      "640/753 [========================>.....] - ETA: 1s - loss: 0.1908 - acc: 0.9429 - f1: 0.7511 - precision: 0.6034\n",
      "Epoch 00025: val_f1 did not improve from 0.58272\n",
      "753/753 [==============================] - 11s 14ms/sample - loss: 0.1759 - acc: 0.9468 - f1: 0.7537 - precision: 0.6052 - val_loss: 0.4258 - val_acc: 0.9310 - val_f1: 0.5641 - val_precision: 0.4088\n",
      "Epoch 26/100\n",
      "640/753 [========================>.....] - ETA: 1s - loss: 0.1779 - acc: 0.9626 - f1: 0.8137 - precision: 0.7120\n",
      "Epoch 00026: val_f1 did not improve from 0.58272\n",
      "753/753 [==============================] - 10s 14ms/sample - loss: 0.1625 - acc: 0.9649 - f1: 0.8147 - precision: 0.7107 - val_loss: 0.4802 - val_acc: 0.9150 - val_f1: 0.5226 - val_precision: 0.3566\n",
      "Epoch 27/100\n",
      "640/753 [========================>.....] - ETA: 1s - loss: 0.2158 - acc: 0.9254 - f1: 0.7089 - precision: 0.5350\n",
      "Epoch 00027: val_f1 did not improve from 0.58272\n",
      "753/753 [==============================] - 11s 14ms/sample - loss: 0.1950 - acc: 0.9332 - f1: 0.7270 - precision: 0.5473 - val_loss: 0.4961 - val_acc: 0.9092 - val_f1: 0.3794 - val_precision: 0.3318\n",
      "Epoch 28/100\n",
      "640/753 [========================>.....] - ETA: 1s - loss: 0.1749 - acc: 0.9619 - f1: 0.8177 - precision: 0.7044\n",
      "Epoch 00028: val_f1 did not improve from 0.58272\n",
      "753/753 [==============================] - 11s 14ms/sample - loss: 0.1619 - acc: 0.9623 - f1: 0.8055 - precision: 0.6914 - val_loss: 0.4533 - val_acc: 0.9053 - val_f1: 0.4927 - val_precision: 0.3323\n",
      "Epoch 29/100\n",
      "640/753 [========================>.....] - ETA: 1s - loss: 0.1875 - acc: 0.9393 - f1: 0.7402 - precision: 0.5881\n",
      "Epoch 00029: val_f1 did not improve from 0.58272\n",
      "753/753 [==============================] - 11s 14ms/sample - loss: 0.1698 - acc: 0.9455 - f1: 0.7568 - precision: 0.5993 - val_loss: 0.4593 - val_acc: 0.9332 - val_f1: 0.5228 - val_precision: 0.4165\n",
      "Epoch 30/100\n",
      "640/753 [========================>.....] - ETA: 1s - loss: 0.1464 - acc: 0.9578 - f1: 0.8005 - precision: 0.6740\n",
      "Epoch 00030: val_f1 improved from 0.58272 to 0.58565, saving model to mp-dl-unh\n",
      "753/753 [==============================] - 11s 14ms/sample - loss: 0.1355 - acc: 0.9602 - f1: 0.8003 - precision: 0.6732 - val_loss: 0.4969 - val_acc: 0.9232 - val_f1: 0.5856 - val_precision: 0.3801\n",
      "Epoch 31/100\n",
      "640/753 [========================>.....] - ETA: 1s - loss: 0.1404 - acc: 0.9606 - f1: 0.8147 - precision: 0.6887\n",
      "Epoch 00031: val_f1 did not improve from 0.58565\n",
      "753/753 [==============================] - 10s 14ms/sample - loss: 0.1298 - acc: 0.9633 - f1: 0.8167 - precision: 0.6905 - val_loss: 0.5545 - val_acc: 0.9055 - val_f1: 0.4497 - val_precision: 0.3303\n",
      "Epoch 32/100\n",
      "640/753 [========================>.....] - ETA: 1s - loss: 0.1644 - acc: 0.9551 - f1: 0.7862 - precision: 0.6627\n",
      "Epoch 00032: val_f1 did not improve from 0.58565\n",
      "753/753 [==============================] - 10s 14ms/sample - loss: 0.1520 - acc: 0.9591 - f1: 0.7960 - precision: 0.6699 - val_loss: 0.5339 - val_acc: 0.9174 - val_f1: 0.3990 - val_precision: 0.3617\n",
      "Epoch 33/100\n",
      "640/753 [========================>.....] - ETA: 1s - loss: 0.1696 - acc: 0.9425 - f1: 0.7557 - precision: 0.6000\n",
      "Epoch 00033: val_f1 did not improve from 0.58565\n",
      "753/753 [==============================] - 11s 14ms/sample - loss: 0.1558 - acc: 0.9483 - f1: 0.7703 - precision: 0.6109 - val_loss: 0.5203 - val_acc: 0.9297 - val_f1: 0.4219 - val_precision: 0.3965\n",
      "Epoch 34/100\n",
      "640/753 [========================>.....] - ETA: 1s - loss: 0.2050 - acc: 0.9600 - f1: 0.8113 - precision: 0.6996\n",
      "Epoch 00034: val_f1 did not improve from 0.58565\n",
      "753/753 [==============================] - 11s 14ms/sample - loss: 0.1913 - acc: 0.9600 - f1: 0.7960 - precision: 0.6826 - val_loss: 0.5136 - val_acc: 0.8894 - val_f1: 0.4170 - val_precision: 0.2989\n",
      "Epoch 35/100\n",
      "640/753 [========================>.....] - ETA: 1s - loss: 0.2066 - acc: 0.9286 - f1: 0.7089 - precision: 0.5464\n",
      "Epoch 00035: val_f1 did not improve from 0.58565\n",
      "753/753 [==============================] - 10s 14ms/sample - loss: 0.1891 - acc: 0.9360 - f1: 0.7271 - precision: 0.5584 - val_loss: 0.4396 - val_acc: 0.9269 - val_f1: 0.4287 - val_precision: 0.3925\n",
      "Epoch 36/100\n",
      "640/753 [========================>.....] - ETA: 1s - loss: 0.1601 - acc: 0.9583 - f1: 0.7980 - precision: 0.6796\n",
      "Epoch 00036: val_f1 did not improve from 0.58565\n",
      "753/753 [==============================] - 10s 14ms/sample - loss: 0.1476 - acc: 0.9607 - f1: 0.7982 - precision: 0.6783 - val_loss: 0.4820 - val_acc: 0.9197 - val_f1: 0.4863 - val_precision: 0.3710\n",
      "Epoch 37/100\n",
      "640/753 [========================>.....] - ETA: 1s - loss: 0.1486 - acc: 0.9507 - f1: 0.7752 - precision: 0.6365\n",
      "Epoch 00037: val_f1 did not improve from 0.58565\n",
      "753/753 [==============================] - 11s 14ms/sample - loss: 0.1382 - acc: 0.9545 - f1: 0.7814 - precision: 0.6408 - val_loss: 0.4972 - val_acc: 0.9274 - val_f1: 0.4364 - val_precision: 0.3943\n",
      "Epoch 38/100\n",
      "640/753 [========================>.....] - ETA: 1s - loss: 0.1395 - acc: 0.9684 - f1: 0.8379 - precision: 0.7417\n",
      "Epoch 00038: val_f1 did not improve from 0.58565\n",
      "753/753 [==============================] - 11s 15ms/sample - loss: 0.1305 - acc: 0.9692 - f1: 0.8310 - precision: 0.7329 - val_loss: 0.5471 - val_acc: 0.9167 - val_f1: 0.5373 - val_precision: 0.3608\n",
      "Epoch 39/100\n",
      "640/753 [========================>.....] - ETA: 1s - loss: 0.1557 - acc: 0.9579 - f1: 0.8039 - precision: 0.6752\n",
      "Epoch 00039: val_f1 did not improve from 0.58565\n",
      "753/753 [==============================] - 10s 14ms/sample - loss: 0.1427 - acc: 0.9614 - f1: 0.8108 - precision: 0.6808 - val_loss: 0.5140 - val_acc: 0.9252 - val_f1: 0.4214 - val_precision: 0.3871\n",
      "Epoch 40/100\n",
      "640/753 [========================>.....] - ETA: 1s - loss: 0.1403 - acc: 0.9549 - f1: 0.7917 - precision: 0.6567\n",
      "Epoch 00040: val_f1 improved from 0.58565 to 0.61811, saving model to mp-dl-unh\n",
      "753/753 [==============================] - 11s 14ms/sample - loss: 0.1295 - acc: 0.9590 - f1: 0.8019 - precision: 0.6646 - val_loss: 0.5232 - val_acc: 0.9301 - val_f1: 0.6181 - val_precision: 0.4024\n",
      "Epoch 41/100\n",
      "640/753 [========================>.....] - ETA: 1s - loss: 0.1241 - acc: 0.9669 - f1: 0.8349 - precision: 0.7268\n",
      "Epoch 00041: val_f1 did not improve from 0.61811\n",
      "753/753 [==============================] - 11s 14ms/sample - loss: 0.1149 - acc: 0.9692 - f1: 0.8372 - precision: 0.7278 - val_loss: 0.5646 - val_acc: 0.9202 - val_f1: 0.5297 - val_precision: 0.3688\n",
      "Epoch 42/100\n",
      "640/753 [========================>.....] - ETA: 1s - loss: 0.1113 - acc: 0.9679 - f1: 0.8384 - precision: 0.7304\n",
      "Epoch 00042: val_f1 did not improve from 0.61811\n",
      "753/753 [==============================] - 11s 14ms/sample - loss: 0.1038 - acc: 0.9704 - f1: 0.8435 - precision: 0.7343 - val_loss: 0.5828 - val_acc: 0.9263 - val_f1: 0.5464 - val_precision: 0.3863\n",
      "Epoch 43/100\n",
      "640/753 [========================>.....] - ETA: 1s - loss: 0.0992 - acc: 0.9745 - f1: 0.8704 - precision: 0.7740\n",
      "Epoch 00043: val_f1 did not improve from 0.61811\n",
      "753/753 [==============================] - 11s 14ms/sample - loss: 0.0928 - acc: 0.9761 - f1: 0.8715 - precision: 0.7748 - val_loss: 0.5917 - val_acc: 0.9313 - val_f1: 0.5702 - val_precision: 0.4053\n",
      "Epoch 44/100\n",
      "640/753 [========================>.....] - ETA: 1s - loss: 0.0955 - acc: 0.9770 - f1: 0.8823 - precision: 0.7930\n",
      "Epoch 00044: val_f1 did not improve from 0.61811\n",
      "753/753 [==============================] - 10s 14ms/sample - loss: 0.0893 - acc: 0.9782 - f1: 0.8808 - precision: 0.7913 - val_loss: 0.6317 - val_acc: 0.9255 - val_f1: 0.4839 - val_precision: 0.3868\n",
      "Epoch 45/100\n",
      "640/753 [========================>.....] - ETA: 1s - loss: 0.1074 - acc: 0.9722 - f1: 0.8606 - precision: 0.7602\n",
      "Epoch 00045: val_f1 did not improve from 0.61811\n",
      "753/753 [==============================] - 10s 14ms/sample - loss: 0.0990 - acc: 0.9746 - f1: 0.8660 - precision: 0.7649 - val_loss: 0.6379 - val_acc: 0.9302 - val_f1: 0.5052 - val_precision: 0.4005\n",
      "Epoch 46/100\n",
      "640/753 [========================>.....] - ETA: 1s - loss: 0.1209 - acc: 0.9640 - f1: 0.8311 - precision: 0.7056\n",
      "Epoch 00046: val_f1 did not improve from 0.61811\n",
      "753/753 [==============================] - 10s 14ms/sample - loss: 0.1117 - acc: 0.9664 - f1: 0.8319 - precision: 0.7069 - val_loss: 0.6452 - val_acc: 0.9338 - val_f1: 0.4438 - val_precision: 0.4144\n",
      "Epoch 47/100\n",
      "640/753 [========================>.....] - ETA: 1s - loss: 0.1087 - acc: 0.9763 - f1: 0.8758 - precision: 0.7941\n",
      "Epoch 00047: val_f1 did not improve from 0.61811\n",
      "753/753 [==============================] - 11s 14ms/sample - loss: 0.1004 - acc: 0.9774 - f1: 0.8739 - precision: 0.7907 - val_loss: 0.6740 - val_acc: 0.9174 - val_f1: 0.5592 - val_precision: 0.3589\n",
      "Epoch 48/100\n",
      "640/753 [========================>.....] - ETA: 1s - loss: 0.1176 - acc: 0.9667 - f1: 0.8328 - precision: 0.7232\n",
      "Epoch 00048: val_f1 did not improve from 0.61811\n",
      "753/753 [==============================] - 11s 14ms/sample - loss: 0.1074 - acc: 0.9698 - f1: 0.8419 - precision: 0.7300 - val_loss: 0.7245 - val_acc: 0.9103 - val_f1: 0.4316 - val_precision: 0.3335\n",
      "Epoch 49/100\n",
      "640/753 [========================>.....] - ETA: 1s - loss: 0.0990 - acc: 0.9761 - f1: 0.8772 - precision: 0.7874\n",
      "Epoch 00049: val_f1 did not improve from 0.61811\n",
      "753/753 [==============================] - 10s 14ms/sample - loss: 0.0921 - acc: 0.9774 - f1: 0.8755 - precision: 0.7854 - val_loss: 0.6579 - val_acc: 0.9159 - val_f1: 0.4782 - val_precision: 0.3560\n",
      "Epoch 50/100\n",
      "640/753 [========================>.....] - ETA: 1s - loss: 0.1273 - acc: 0.9606 - f1: 0.8043 - precision: 0.6868\n",
      "Epoch 00050: val_f1 did not improve from 0.61811\n",
      "753/753 [==============================] - 10s 14ms/sample - loss: 0.1173 - acc: 0.9646 - f1: 0.8183 - precision: 0.6969 - val_loss: 0.6570 - val_acc: 0.9305 - val_f1: 0.4314 - val_precision: 0.3995\n",
      "Epoch 51/100\n",
      "640/753 [========================>.....] - ETA: 1s - loss: 0.1187 - acc: 0.9750 - f1: 0.8755 - precision: 0.7838\n",
      "Epoch 00051: val_f1 did not improve from 0.61811\n",
      "753/753 [==============================] - 11s 14ms/sample - loss: 0.1125 - acc: 0.9751 - f1: 0.8645 - precision: 0.7723 - val_loss: 0.5983 - val_acc: 0.9080 - val_f1: 0.5348 - val_precision: 0.3320\n",
      "Epoch 52/100\n",
      "640/753 [========================>.....] - ETA: 1s - loss: 0.1176 - acc: 0.9691 - f1: 0.8425 - precision: 0.7401\n",
      "Epoch 00052: val_f1 did not improve from 0.61811\n",
      "753/753 [==============================] - 11s 14ms/sample - loss: 0.1075 - acc: 0.9715 - f1: 0.8479 - precision: 0.7436 - val_loss: 0.5963 - val_acc: 0.9281 - val_f1: 0.5786 - val_precision: 0.3919\n",
      "Epoch 53/100\n",
      "640/753 [========================>.....] - ETA: 1s - loss: 0.0958 - acc: 0.9731 - f1: 0.8657 - precision: 0.7643\n",
      "Epoch 00053: val_f1 did not improve from 0.61811\n",
      "753/753 [==============================] - 11s 14ms/sample - loss: 0.0890 - acc: 0.9754 - f1: 0.8711 - precision: 0.7693 - val_loss: 0.5994 - val_acc: 0.9329 - val_f1: 0.4421 - val_precision: 0.4104\n",
      "Epoch 54/100\n",
      "640/753 [========================>.....] - ETA: 1s - loss: 0.0904 - acc: 0.9796 - f1: 0.8945 - precision: 0.8134\n",
      "Epoch 00054: val_f1 did not improve from 0.61811\n",
      "753/753 [==============================] - 10s 14ms/sample - loss: 0.0837 - acc: 0.9807 - f1: 0.8931 - precision: 0.8118 - val_loss: 0.6191 - val_acc: 0.9318 - val_f1: 0.5887 - val_precision: 0.4080\n",
      "Epoch 55/100\n",
      "640/753 [========================>.....] - ETA: 1s - loss: 0.0798 - acc: 0.9788 - f1: 0.8889 - precision: 0.8035\n",
      "Epoch 00055: val_f1 did not improve from 0.61811\n",
      "753/753 [==============================] - 10s 14ms/sample - loss: 0.0743 - acc: 0.9801 - f1: 0.8897 - precision: 0.8038 - val_loss: 0.6557 - val_acc: 0.9358 - val_f1: 0.5383 - val_precision: 0.4236\n",
      "Epoch 56/100\n",
      "640/753 [========================>.....] - ETA: 1s - loss: 0.0775 - acc: 0.9822 - f1: 0.9072 - precision: 0.8325\n",
      "Epoch 00056: val_f1 did not improve from 0.61811\n",
      "753/753 [==============================] - 11s 14ms/sample - loss: 0.0720 - acc: 0.9832 - f1: 0.9067 - precision: 0.8317 - val_loss: 0.6965 - val_acc: 0.9321 - val_f1: 0.5790 - val_precision: 0.4076\n",
      "Epoch 57/100\n",
      "640/753 [========================>.....] - ETA: 1s - loss: 0.0784 - acc: 0.9786 - f1: 0.8890 - precision: 0.8014\n",
      "Epoch 00057: val_f1 did not improve from 0.61811\n",
      "753/753 [==============================] - 10s 14ms/sample - loss: 0.0743 - acc: 0.9804 - f1: 0.8933 - precision: 0.8066 - val_loss: 0.7530 - val_acc: 0.9334 - val_f1: 0.4333 - val_precision: 0.4096\n",
      "Epoch 58/100\n",
      "640/753 [========================>.....] - ETA: 1s - loss: 0.0754 - acc: 0.9807 - f1: 0.8987 - precision: 0.8184\n",
      "Epoch 00058: val_f1 did not improve from 0.61811\n",
      "753/753 [==============================] - 11s 14ms/sample - loss: 0.0704 - acc: 0.9816 - f1: 0.8968 - precision: 0.8163 - val_loss: 0.7244 - val_acc: 0.9340 - val_f1: 0.4407 - val_precision: 0.4142\n",
      "Epoch 59/100\n",
      "640/753 [========================>.....] - ETA: 1s - loss: 0.0727 - acc: 0.9844 - f1: 0.9139 - precision: 0.8513\n",
      "Epoch 00059: val_f1 did not improve from 0.61811\n",
      "753/753 [==============================] - 11s 14ms/sample - loss: 0.0678 - acc: 0.9848 - f1: 0.9102 - precision: 0.8465 - val_loss: 0.7185 - val_acc: 0.9304 - val_f1: 0.4268 - val_precision: 0.4012\n",
      "Epoch 60/100\n",
      "640/753 [========================>.....] - ETA: 1s - loss: 0.0800 - acc: 0.9764 - f1: 0.8778 - precision: 0.7848\n",
      "Epoch 00060: val_f1 did not improve from 0.61811\n",
      "753/753 [==============================] - 11s 14ms/sample - loss: 0.0737 - acc: 0.9788 - f1: 0.8865 - precision: 0.7926 - val_loss: 0.8552 - val_acc: 0.9380 - val_f1: 0.5040 - val_precision: 0.4282\n",
      "Epoch 61/100\n",
      "640/753 [========================>.....] - ETA: 1s - loss: 0.0829 - acc: 0.9833 - f1: 0.9133 - precision: 0.8460\n",
      "Epoch 00061: val_f1 improved from 0.61811 to 0.62276, saving model to mp-dl-unh\n",
      "753/753 [==============================] - 11s 14ms/sample - loss: 0.0767 - acc: 0.9838 - f1: 0.9090 - precision: 0.8411 - val_loss: 0.6703 - val_acc: 0.9328 - val_f1: 0.6228 - val_precision: 0.4134\n",
      "Epoch 62/100\n",
      "640/753 [========================>.....] - ETA: 1s - loss: 0.1030 - acc: 0.9752 - f1: 0.8691 - precision: 0.7839\n",
      "Epoch 00062: val_f1 did not improve from 0.62276\n",
      "753/753 [==============================] - 11s 14ms/sample - loss: 0.0927 - acc: 0.9775 - f1: 0.8774 - precision: 0.7899 - val_loss: 0.6816 - val_acc: 0.9329 - val_f1: 0.4430 - val_precision: 0.4115\n",
      "Epoch 63/100\n",
      "640/753 [========================>.....] - ETA: 1s - loss: 0.1066 - acc: 0.9658 - f1: 0.8387 - precision: 0.7154\n",
      "Epoch 00063: val_f1 did not improve from 0.62276\n",
      "753/753 [==============================] - 11s 14ms/sample - loss: 0.0994 - acc: 0.9680 - f1: 0.8388 - precision: 0.7161 - val_loss: 0.7887 - val_acc: 0.9395 - val_f1: 0.5539 - val_precision: 0.4356\n",
      "Epoch 64/100\n",
      "640/753 [========================>.....] - ETA: 1s - loss: 0.1056 - acc: 0.9796 - f1: 0.8957 - precision: 0.8205\n",
      "Epoch 00064: val_f1 did not improve from 0.62276\n",
      "753/753 [==============================] - 10s 14ms/sample - loss: 0.0962 - acc: 0.9807 - f1: 0.8945 - precision: 0.8184 - val_loss: 0.6480 - val_acc: 0.9326 - val_f1: 0.5222 - val_precision: 0.4126\n",
      "Epoch 65/100\n",
      "640/753 [========================>.....] - ETA: 1s - loss: 0.0979 - acc: 0.9704 - f1: 0.8489 - precision: 0.7450\n",
      "Epoch 00065: val_f1 did not improve from 0.62276\n",
      "753/753 [==============================] - 10s 14ms/sample - loss: 0.0896 - acc: 0.9736 - f1: 0.8617 - precision: 0.7551 - val_loss: 0.6877 - val_acc: 0.9373 - val_f1: 0.5169 - val_precision: 0.4292\n",
      "Epoch 66/100\n",
      "640/753 [========================>.....] - ETA: 1s - loss: 0.0807 - acc: 0.9820 - f1: 0.9010 - precision: 0.8328\n",
      "Epoch 00066: val_f1 did not improve from 0.62276\n",
      "753/753 [==============================] - 11s 14ms/sample - loss: 0.0743 - acc: 0.9834 - f1: 0.9041 - precision: 0.8348 - val_loss: 0.7158 - val_acc: 0.9290 - val_f1: 0.5774 - val_precision: 0.3962\n",
      "Epoch 67/100\n",
      "640/753 [========================>.....] - ETA: 1s - loss: 0.0812 - acc: 0.9760 - f1: 0.8776 - precision: 0.7820\n",
      "Epoch 00067: val_f1 did not improve from 0.62276\n",
      "753/753 [==============================] - 11s 14ms/sample - loss: 0.0742 - acc: 0.9783 - f1: 0.8851 - precision: 0.7887 - val_loss: 0.7923 - val_acc: 0.9326 - val_f1: 0.5752 - val_precision: 0.4064\n",
      "Epoch 68/100\n",
      "640/753 [========================>.....] - ETA: 1s - loss: 0.0761 - acc: 0.9855 - f1: 0.9219 - precision: 0.8645\n",
      "Epoch 00068: val_f1 did not improve from 0.62276\n",
      "753/753 [==============================] - 11s 14ms/sample - loss: 0.0700 - acc: 0.9862 - f1: 0.9206 - precision: 0.8623 - val_loss: 0.7038 - val_acc: 0.9285 - val_f1: 0.5257 - val_precision: 0.3945\n",
      "Epoch 69/100\n",
      "640/753 [========================>.....] - ETA: 1s - loss: 0.0764 - acc: 0.9787 - f1: 0.8876 - precision: 0.8028\n",
      "Epoch 00069: val_f1 did not improve from 0.62276\n",
      "753/753 [==============================] - 10s 14ms/sample - loss: 0.0700 - acc: 0.9805 - f1: 0.8923 - precision: 0.8067 - val_loss: 0.7089 - val_acc: 0.9354 - val_f1: 0.5950 - val_precision: 0.4220\n",
      "Epoch 70/100\n",
      "640/753 [========================>.....] - ETA: 1s - loss: 0.0776 - acc: 0.9852 - f1: 0.9193 - precision: 0.8628\n",
      "Epoch 00070: val_f1 did not improve from 0.62276\n",
      "753/753 [==============================] - 11s 14ms/sample - loss: 0.0709 - acc: 0.9862 - f1: 0.9208 - precision: 0.8634 - val_loss: 0.7348 - val_acc: 0.9339 - val_f1: 0.5063 - val_precision: 0.4143\n",
      "Epoch 71/100\n",
      "640/753 [========================>.....] - ETA: 1s - loss: 0.0956 - acc: 0.9716 - f1: 0.8585 - precision: 0.7520\n",
      "Epoch 00071: val_f1 did not improve from 0.62276\n",
      "753/753 [==============================] - 11s 14ms/sample - loss: 0.0872 - acc: 0.9743 - f1: 0.8664 - precision: 0.7587 - val_loss: 0.7796 - val_acc: 0.9365 - val_f1: 0.4359 - val_precision: 0.4240\n",
      "Epoch 72/100\n",
      "640/753 [========================>.....] - ETA: 1s - loss: 0.0798 - acc: 0.9852 - f1: 0.9184 - precision: 0.8621\n",
      "Epoch 00072: val_f1 did not improve from 0.62276\n",
      "753/753 [==============================] - 10s 14ms/sample - loss: 0.0739 - acc: 0.9860 - f1: 0.9177 - precision: 0.8603 - val_loss: 0.6781 - val_acc: 0.9315 - val_f1: 0.5643 - val_precision: 0.4053\n",
      "Epoch 73/100\n",
      "640/753 [========================>.....] - ETA: 1s - loss: 0.0780 - acc: 0.9763 - f1: 0.8782 - precision: 0.7841\n",
      "Epoch 00073: val_f1 did not improve from 0.62276\n",
      "753/753 [==============================] - 10s 14ms/sample - loss: 0.0716 - acc: 0.9783 - f1: 0.8835 - precision: 0.7886 - val_loss: 0.7094 - val_acc: 0.9371 - val_f1: 0.4491 - val_precision: 0.4293\n",
      "Epoch 74/100\n",
      "640/753 [========================>.....] - ETA: 1s - loss: 0.0702 - acc: 0.9856 - f1: 0.9217 - precision: 0.8623\n",
      "Epoch 00074: val_f1 did not improve from 0.62276\n",
      "753/753 [==============================] - 10s 14ms/sample - loss: 0.0648 - acc: 0.9867 - f1: 0.9233 - precision: 0.8637 - val_loss: 0.7048 - val_acc: 0.9354 - val_f1: 0.5295 - val_precision: 0.4215\n",
      "Epoch 75/100\n",
      "640/753 [========================>.....] - ETA: 1s - loss: 0.0825 - acc: 0.9770 - f1: 0.8841 - precision: 0.7894\n",
      "Epoch 00075: val_f1 did not improve from 0.62276\n",
      "753/753 [==============================] - 10s 14ms/sample - loss: 0.0766 - acc: 0.9787 - f1: 0.8862 - precision: 0.7919 - val_loss: 0.7872 - val_acc: 0.9431 - val_f1: 0.4503 - val_precision: 0.4560\n",
      "Epoch 76/100\n",
      "640/753 [========================>.....] - ETA: 1s - loss: 0.0949 - acc: 0.9846 - f1: 0.9168 - precision: 0.8601\n",
      "Epoch 00076: val_f1 did not improve from 0.62276\n",
      "753/753 [==============================] - 10s 14ms/sample - loss: 0.0857 - acc: 0.9857 - f1: 0.9188 - precision: 0.8612 - val_loss: 0.7124 - val_acc: 0.9257 - val_f1: 0.5371 - val_precision: 0.3839\n",
      "Epoch 77/100\n",
      "640/753 [========================>.....] - ETA: 1s - loss: 0.1075 - acc: 0.9680 - f1: 0.8385 - precision: 0.7302\n",
      "Epoch 00077: val_f1 did not improve from 0.62276\n",
      "753/753 [==============================] - 11s 14ms/sample - loss: 0.0967 - acc: 0.9715 - f1: 0.8521 - precision: 0.7404 - val_loss: 0.6554 - val_acc: 0.9293 - val_f1: 0.5662 - val_precision: 0.3928\n",
      "Epoch 78/100\n",
      "640/753 [========================>.....] - ETA: 1s - loss: 0.1066 - acc: 0.9816 - f1: 0.9014 - precision: 0.8366\n",
      "Epoch 00078: val_f1 did not improve from 0.62276\n",
      "753/753 [==============================] - 11s 14ms/sample - loss: 0.0962 - acc: 0.9827 - f1: 0.9015 - precision: 0.8352 - val_loss: 0.5857 - val_acc: 0.9272 - val_f1: 0.5520 - val_precision: 0.3899\n",
      "Epoch 79/100\n",
      "640/753 [========================>.....] - ETA: 1s - loss: 0.1019 - acc: 0.9699 - f1: 0.8456 - precision: 0.7424\n",
      "Epoch 00079: val_f1 did not improve from 0.62276\n",
      "753/753 [==============================] - 10s 14ms/sample - loss: 0.0923 - acc: 0.9731 - f1: 0.8578 - precision: 0.7519 - val_loss: 0.6039 - val_acc: 0.9381 - val_f1: 0.5612 - val_precision: 0.4322\n",
      "Epoch 80/100\n",
      "640/753 [========================>.....] - ETA: 1s - loss: 0.0848 - acc: 0.9832 - f1: 0.9094 - precision: 0.8446\n",
      "Epoch 00080: val_f1 did not improve from 0.62276\n",
      "753/753 [==============================] - 11s 14ms/sample - loss: 0.0779 - acc: 0.9842 - f1: 0.9101 - precision: 0.8446 - val_loss: 0.6343 - val_acc: 0.9332 - val_f1: 0.5017 - val_precision: 0.4113\n",
      "Epoch 81/100\n",
      "640/753 [========================>.....] - ETA: 1s - loss: 0.0787 - acc: 0.9779 - f1: 0.8874 - precision: 0.7957\n",
      "Epoch 00081: val_f1 did not improve from 0.62276\n",
      "753/753 [==============================] - 10s 14ms/sample - loss: 0.0718 - acc: 0.9799 - f1: 0.8936 - precision: 0.8015 - val_loss: 0.7117 - val_acc: 0.9346 - val_f1: 0.4091 - val_precision: 0.4157\n",
      "Epoch 82/100\n",
      "640/753 [========================>.....] - ETA: 1s - loss: 0.0771 - acc: 0.9854 - f1: 0.9218 - precision: 0.8642\n",
      "Epoch 00082: val_f1 did not improve from 0.62276\n",
      "753/753 [==============================] - 10s 14ms/sample - loss: 0.0702 - acc: 0.9862 - f1: 0.9215 - precision: 0.8631 - val_loss: 0.7005 - val_acc: 0.9317 - val_f1: 0.4330 - val_precision: 0.4045\n",
      "Epoch 83/100\n",
      "640/753 [========================>.....] - ETA: 1s - loss: 0.0696 - acc: 0.9811 - f1: 0.9012 - precision: 0.8209\n",
      "Epoch 00083: val_f1 did not improve from 0.62276\n",
      "753/753 [==============================] - 10s 14ms/sample - loss: 0.0638 - acc: 0.9831 - f1: 0.9082 - precision: 0.8276 - val_loss: 0.7277 - val_acc: 0.9353 - val_f1: 0.4932 - val_precision: 0.4181\n",
      "Epoch 84/100\n",
      "640/753 [========================>.....] - ETA: 1s - loss: 0.0619 - acc: 0.9858 - f1: 0.9236 - precision: 0.8598\n",
      "Epoch 00084: val_f1 did not improve from 0.62276\n",
      "753/753 [==============================] - 10s 14ms/sample - loss: 0.0568 - acc: 0.9868 - f1: 0.9251 - precision: 0.8612 - val_loss: 0.7442 - val_acc: 0.9352 - val_f1: 0.5954 - val_precision: 0.4190\n",
      "Epoch 85/100\n",
      "640/753 [========================>.....] - ETA: 1s - loss: 0.0591 - acc: 0.9845 - f1: 0.9155 - precision: 0.8484\n",
      "Epoch 00085: val_f1 did not improve from 0.62276\n",
      "753/753 [==============================] - 11s 14ms/sample - loss: 0.0544 - acc: 0.9858 - f1: 0.9188 - precision: 0.8514 - val_loss: 0.8300 - val_acc: 0.9384 - val_f1: 0.5778 - val_precision: 0.4317\n",
      "Epoch 86/100\n",
      "640/753 [========================>.....] - ETA: 1s - loss: 0.0568 - acc: 0.9879 - f1: 0.9340 - precision: 0.8792\n",
      "Epoch 00086: val_f1 did not improve from 0.62276\n",
      "753/753 [==============================] - 10s 14ms/sample - loss: 0.0524 - acc: 0.9886 - f1: 0.9341 - precision: 0.8790 - val_loss: 0.8088 - val_acc: 0.9378 - val_f1: 0.5847 - val_precision: 0.4296\n",
      "Epoch 87/100\n",
      "640/753 [========================>.....] - ETA: 1s - loss: 0.0531 - acc: 0.9865 - f1: 0.9272 - precision: 0.8653\n",
      "Epoch 00087: val_f1 did not improve from 0.62276\n",
      "753/753 [==============================] - 10s 14ms/sample - loss: 0.0491 - acc: 0.9878 - f1: 0.9312 - precision: 0.8693 - val_loss: 0.8416 - val_acc: 0.9402 - val_f1: 0.5885 - val_precision: 0.4411\n",
      "Epoch 88/100\n",
      "640/753 [========================>.....] - ETA: 1s - loss: 0.0506 - acc: 0.9886 - f1: 0.9374 - precision: 0.8845\n",
      "Epoch 00088: val_f1 did not improve from 0.62276\n",
      "753/753 [==============================] - 10s 14ms/sample - loss: 0.0467 - acc: 0.9893 - f1: 0.9378 - precision: 0.8847 - val_loss: 0.8522 - val_acc: 0.9400 - val_f1: 0.4461 - val_precision: 0.4407\n",
      "Epoch 89/100\n",
      "640/753 [========================>.....] - ETA: 1s - loss: 0.0477 - acc: 0.9893 - f1: 0.9402 - precision: 0.8904\n",
      "Epoch 00089: val_f1 did not improve from 0.62276\n",
      "753/753 [==============================] - 10s 14ms/sample - loss: 0.0441 - acc: 0.9900 - f1: 0.9415 - precision: 0.8914 - val_loss: 0.8778 - val_acc: 0.9400 - val_f1: 0.5881 - val_precision: 0.4405\n",
      "Epoch 90/100\n",
      "640/753 [========================>.....] - ETA: 1s - loss: 0.0468 - acc: 0.9888 - f1: 0.9382 - precision: 0.8857\n",
      "Epoch 00090: val_f1 did not improve from 0.62276\n",
      "753/753 [==============================] - 10s 14ms/sample - loss: 0.0432 - acc: 0.9898 - f1: 0.9409 - precision: 0.8883 - val_loss: 0.9254 - val_acc: 0.9417 - val_f1: 0.5656 - val_precision: 0.4487\n",
      "Epoch 91/100\n",
      "640/753 [========================>.....] - ETA: 1s - loss: 0.0440 - acc: 0.9908 - f1: 0.9482 - precision: 0.9043\n",
      "Epoch 00091: val_f1 did not improve from 0.62276\n",
      "753/753 [==============================] - 10s 14ms/sample - loss: 0.0409 - acc: 0.9913 - f1: 0.9474 - precision: 0.9032 - val_loss: 0.9377 - val_acc: 0.9405 - val_f1: 0.5700 - val_precision: 0.4427\n",
      "Epoch 92/100\n",
      "640/753 [========================>.....] - ETA: 1s - loss: 0.0436 - acc: 0.9906 - f1: 0.9463 - precision: 0.9025\n",
      "Epoch 00092: val_f1 did not improve from 0.62276\n",
      "753/753 [==============================] - 10s 14ms/sample - loss: 0.0403 - acc: 0.9912 - f1: 0.9471 - precision: 0.9030 - val_loss: 0.9483 - val_acc: 0.9404 - val_f1: 0.4586 - val_precision: 0.4416\n",
      "Epoch 93/100\n",
      "640/753 [========================>.....] - ETA: 1s - loss: 0.0461 - acc: 0.9889 - f1: 0.9404 - precision: 0.8862\n",
      "Epoch 00093: val_f1 did not improve from 0.62276\n",
      "753/753 [==============================] - 10s 14ms/sample - loss: 0.0426 - acc: 0.9898 - f1: 0.9423 - precision: 0.8885 - val_loss: 0.9636 - val_acc: 0.9421 - val_f1: 0.4537 - val_precision: 0.4496\n",
      "Epoch 94/100\n",
      "640/753 [========================>.....] - ETA: 1s - loss: 0.0441 - acc: 0.9914 - f1: 0.9523 - precision: 0.9107\n",
      "Epoch 00094: val_f1 did not improve from 0.62276\n",
      "753/753 [==============================] - 10s 14ms/sample - loss: 0.0413 - acc: 0.9916 - f1: 0.9497 - precision: 0.9080 - val_loss: 0.8937 - val_acc: 0.9405 - val_f1: 0.5775 - val_precision: 0.4432\n",
      "Epoch 95/100\n",
      "640/753 [========================>.....] - ETA: 1s - loss: 0.0471 - acc: 0.9886 - f1: 0.9361 - precision: 0.8842\n",
      "Epoch 00095: val_f1 did not improve from 0.62276\n",
      "753/753 [==============================] - 10s 14ms/sample - loss: 0.0435 - acc: 0.9896 - f1: 0.9392 - precision: 0.8874 - val_loss: 0.9624 - val_acc: 0.9423 - val_f1: 0.4566 - val_precision: 0.4509\n",
      "Epoch 96/100\n",
      "640/753 [========================>.....] - ETA: 1s - loss: 0.0444 - acc: 0.9905 - f1: 0.9482 - precision: 0.9015\n",
      "Epoch 00096: val_f1 did not improve from 0.62276\n",
      "753/753 [==============================] - 10s 14ms/sample - loss: 0.0414 - acc: 0.9909 - f1: 0.9465 - precision: 0.8997 - val_loss: 0.9201 - val_acc: 0.9415 - val_f1: 0.4490 - val_precision: 0.4480\n",
      "Epoch 97/100\n",
      "640/753 [========================>.....] - ETA: 1s - loss: 0.0445 - acc: 0.9914 - f1: 0.9511 - precision: 0.9121\n",
      "Epoch 00097: val_f1 did not improve from 0.62276\n",
      "753/753 [==============================] - 11s 14ms/sample - loss: 0.0410 - acc: 0.9919 - f1: 0.9505 - precision: 0.9109 - val_loss: 0.9170 - val_acc: 0.9384 - val_f1: 0.4426 - val_precision: 0.4335\n",
      "Epoch 98/100\n",
      "640/753 [========================>.....] - ETA: 1s - loss: 0.0584 - acc: 0.9850 - f1: 0.9210 - precision: 0.8519\n",
      "Epoch 00098: val_f1 did not improve from 0.62276\n",
      "753/753 [==============================] - 10s 14ms/sample - loss: 0.0533 - acc: 0.9865 - f1: 0.9264 - precision: 0.8576 - val_loss: 1.0123 - val_acc: 0.9432 - val_f1: 0.5754 - val_precision: 0.4548\n",
      "Epoch 99/100\n",
      "640/753 [========================>.....] - ETA: 1s - loss: 0.0556 - acc: 0.9910 - f1: 0.9505 - precision: 0.9138\n",
      "Epoch 00099: val_f1 did not improve from 0.62276\n",
      "753/753 [==============================] - 10s 14ms/sample - loss: 0.0513 - acc: 0.9912 - f1: 0.9472 - precision: 0.9093 - val_loss: 0.8208 - val_acc: 0.9389 - val_f1: 0.4494 - val_precision: 0.4374\n",
      "Epoch 100/100\n",
      "640/753 [========================>.....] - ETA: 1s - loss: 0.0715 - acc: 0.9814 - f1: 0.9007 - precision: 0.8240\n",
      "Epoch 00100: val_f1 did not improve from 0.62276\n",
      "753/753 [==============================] - 10s 14ms/sample - loss: 0.0645 - acc: 0.9832 - f1: 0.9072 - precision: 0.8296 - val_loss: 0.7622 - val_acc: 0.9396 - val_f1: 0.4736 - val_precision: 0.4397\n"
     ]
    }
   ],
   "source": [
    "history = model.fit(\n",
    "  x=X_train, y=y_train,\n",
    "  batch_size=BATCH_SIZE,\n",
    "  epochs=EPOCHS,\n",
    "  validation_data=(X_test, y_test),\n",
    "  callbacks=[checkpoint],\n",
    "  verbose=1,\n",
    "  shuffle=False\n",
    ")"
   ]
  },
  {
   "cell_type": "markdown",
   "metadata": {
    "colab_type": "text",
    "id": "VzBPJKF0Q5sW"
   },
   "source": [
    "## Performance Visualization"
   ]
  },
  {
   "cell_type": "markdown",
   "metadata": {
    "colab_type": "text",
    "id": "mWCIq-enCh3U"
   },
   "source": [
    "To evaluate the training of our model over time, we visualize the model's loss on its training and testing data."
   ]
  },
  {
   "cell_type": "code",
   "execution_count": 22,
   "metadata": {
    "colab": {
     "base_uri": "https://localhost:8080/",
     "height": 316
    },
    "colab_type": "code",
    "id": "ZhneNTcYChdt",
    "outputId": "84529fcd-1875-493f-f03d-fb36e69487a3"
   },
   "outputs": [
    {
     "data": {
      "image/png": "[encoded data removed]",
      "text/plain": [
       "<Figure size 432x288 with 1 Axes>"
      ]
     },
     "metadata": {
      "needs_background": "light",
      "tags": []
     },
     "output_type": "display_data"
    }
   ],
   "source": [
    "plt.plot(history.history['loss'])\n",
    "plt.plot(history.history['val_loss'])\n",
    "plt.title('Model Training Loss vs. Testing Loss by Epoch')\n",
    "plt.ylabel('Loss')\n",
    "plt.xlabel('Epoch')\n",
    "plt.legend(['train', 'testing'], loc='upper right')\n",
    "plt.show()"
   ]
  },
  {
   "cell_type": "code",
   "execution_count": 23,
   "metadata": {
    "colab": {
     "base_uri": "https://localhost:8080/",
     "height": 316
    },
    "colab_type": "code",
    "id": "DlTr3Cs4VNOB",
    "outputId": "c4f34a1a-1372-40f8-85e9-14c40913d08c"
   },
   "outputs": [
    {
     "data": {
      "image/png": "[encoded data removed]",
      "text/plain": [
       "<Figure size 432x288 with 1 Axes>"
      ]
     },
     "metadata": {
      "needs_background": "light",
      "tags": []
     },
     "output_type": "display_data"
    }
   ],
   "source": [
    "plt.plot(history.history['f1'])\n",
    "plt.plot(history.history['val_f1'])\n",
    "plt.title('Model Training F1 vs. Testing F1 by Epoch')\n",
    "plt.ylabel('F1')\n",
    "plt.xlabel('Epoch')\n",
    "plt.legend(['train', 'testing'], loc='upper right')\n",
    "plt.show()"
   ]
  },
  {
   "cell_type": "code",
   "execution_count": 24,
   "metadata": {
    "colab": {
     "base_uri": "https://localhost:8080/",
     "height": 316
    },
    "colab_type": "code",
    "id": "NQnqV-Kaw6fm",
    "outputId": "9840871d-7ab2-4892-e126-458ec21106e1"
   },
   "outputs": [
    {
     "data": {
      "image/png": "[encoded data removed]",
      "text/plain": [
       "<Figure size 432x288 with 1 Axes>"
      ]
     },
     "metadata": {
      "needs_background": "light",
      "tags": []
     },
     "output_type": "display_data"
    }
   ],
   "source": [
    "plt.plot(history.history['precision'])\n",
    "plt.plot(history.history['val_precision'])\n",
    "plt.title('Model Training Precision vs. Testing Precision by Epoch')\n",
    "plt.ylabel('Precision')\n",
    "plt.xlabel('Epoch')\n",
    "plt.legend(['train', 'testing'], loc='upper right')\n",
    "plt.show()"
   ]
  },
  {
   "cell_type": "markdown",
   "metadata": {
    "colab_type": "text",
    "id": "D8cXg6gpsZbN"
   },
   "source": [
    "(We can see that the model performs much better on its training data. This is expected, as the model learns to recreate the selections of the training data. We can also see that the performance of the model on the testing data decreases over time. This is evidence of the model overfitting. At some point, the model begins to naively recreate the selections of the training data rather than truly learning how to make selections. In practice, we effectively ignore this as we have already saved the version of the model with the best performance on the testing data - mitigating any overfitting.)"
   ]
  },
  {
   "cell_type": "code",
   "execution_count": 25,
   "metadata": {
    "colab": {},
    "colab_type": "code",
    "id": "EVdN-Urh-mdX"
   },
   "outputs": [],
   "source": [
    "model = tf.keras.models.load_model('/content/mp-dl-unh', {'weighted_binary_crossentropy':weighted_binary_crossentropy, 'f1':f1})"
   ]
  },
  {
   "cell_type": "markdown",
   "metadata": {
    "colab_type": "text",
    "id": "K2Hd8FlY2Xty"
   },
   "source": [
    "## Model Performance Visualization\n",
    "\n",
    "Now that we have trained the model, we will visualize its selection-making ability compared to the SITLs."
   ]
  },
  {
   "cell_type": "markdown",
   "metadata": {
    "colab_type": "text",
    "id": "jwbEhnbi2Xt0"
   },
   "source": [
    "Since we've already preprocessed the testing/training data into a format suitable for model training, we reload that data to preprocess it into a format suitable for evaluation."
   ]
  },
  {
   "cell_type": "code",
   "execution_count": 26,
   "metadata": {
    "colab": {},
    "colab_type": "code",
    "id": "loaf_Rpz2Xt0"
   },
   "outputs": [],
   "source": [
    "validation_data = pd.read_csv('training_data.csv', index_col=0, infer_datetime_format=True,\n",
    "\t\t\t\t\t\t   parse_dates=[0])"
   ]
  },
  {
   "cell_type": "markdown",
   "metadata": {
    "colab_type": "text",
    "id": "oujploNp2Xt4"
   },
   "source": [
    "We apply the same preprocessing steps to this data as we did for the original training and testing data."
   ]
  },
  {
   "cell_type": "code",
   "execution_count": 27,
   "metadata": {
    "colab": {},
    "colab_type": "code",
    "id": "UarjtN552Xt4"
   },
   "outputs": [],
   "source": [
    "index = validation_data.index\n",
    "selections = validation_data.pop(\"selected\")\n",
    "column_names = validation_data.columns"
   ]
  },
  {
   "cell_type": "code",
   "execution_count": 28,
   "metadata": {
    "colab": {},
    "colab_type": "code",
    "id": "PB666aem2Xt7"
   },
   "outputs": [],
   "source": [
    "validation_data = validation_data.replace([np.inf, -np.inf], np.nan)\n",
    "validation_data = validation_data.interpolate(method='time', limit_area='inside')"
   ]
  },
  {
   "cell_type": "code",
   "execution_count": 29,
   "metadata": {
    "colab": {},
    "colab_type": "code",
    "id": "DtkJHVze2Xt-"
   },
   "outputs": [],
   "source": [
    "validation_data = scaler.transform(validation_data)\n",
    "validation_data = pd.DataFrame(validation_data, index, column_names)\n",
    "validation_data = validation_data.join(selections)"
   ]
  },
  {
   "cell_type": "code",
   "execution_count": 30,
   "metadata": {
    "colab": {},
    "colab_type": "code",
    "id": "k84Veyug2XuC"
   },
   "outputs": [],
   "source": [
    "validation_X = validation_data.values[:,:-1]\n",
    "validation_y = validation_data.values[:,-1]"
   ]
  },
  {
   "cell_type": "markdown",
   "metadata": {
    "colab_type": "text",
    "id": "zux-H0AMLRF0"
   },
   "source": [
    "Using the model we trainend earlier, we make test predctions on our validation data."
   ]
  },
  {
   "cell_type": "code",
   "execution_count": 31,
   "metadata": {
    "colab": {},
    "colab_type": "code",
    "id": "QWHQ9x8x2XuH"
   },
   "outputs": [],
   "source": [
    "test_predictions = model.predict(np.expand_dims(validation_X, axis=0))"
   ]
  },
  {
   "cell_type": "markdown",
   "metadata": {
    "colab_type": "text",
    "id": "jTUqi-6C2XuJ"
   },
   "source": [
    "We visualize the true SITL selections made over the validation data by plotting the ground truth values for each datapoint in the data (where a 1 denotes that an individual datapoint was selected and a 0 denotes that it wasn't).\n"
   ]
  },
  {
   "cell_type": "code",
   "execution_count": 32,
   "metadata": {
    "colab": {
     "base_uri": "https://localhost:8080/",
     "height": 372
    },
    "colab_type": "code",
    "id": "izyEw0C32XuJ",
    "outputId": "091dd4bf-6170-4765-b927-c438e4f4b742"
   },
   "outputs": [
    {
     "data": {
      "image/png": "[encoded data removed]",
      "text/plain": [
       "<Figure size 2016x360 with 1 Axes>"
      ]
     },
     "metadata": {
      "needs_background": "light",
      "tags": []
     },
     "output_type": "display_data"
    }
   ],
   "source": [
    "plt.figure(figsize=(28, 5))\n",
    "plt.plot(validation_y.astype(int))\n",
    "plt.title(\"Ground Truth (SITL) Selections by Datapoint\")\n",
    "plt.ylabel('Selected (1) or not (0)')\n",
    "plt.xlabel('Datapoint')\n",
    "plt.show()"
   ]
  },
  {
   "cell_type": "markdown",
   "metadata": {
    "colab_type": "text",
    "id": "C_f_rD7T2XuM"
   },
   "source": [
    "...and we do the same for the model's predictions."
   ]
  },
  {
   "cell_type": "code",
   "execution_count": 33,
   "metadata": {
    "colab": {
     "base_uri": "https://localhost:8080/",
     "height": 372
    },
    "colab_type": "code",
    "id": "QRFwAeCF2XuN",
    "outputId": "f91a11ea-9ed9-4644-b9f8-bef79b7a92a5"
   },
   "outputs": [
    {
     "data": {
      "image/png": "[encoded data removed]",
      "text/plain": [
       "<Figure size 2016x360 with 1 Axes>"
      ]
     },
     "metadata": {
      "needs_background": "light",
      "tags": []
     },
     "output_type": "display_data"
    }
   ],
   "source": [
    "plt.figure(figsize=(28, 5))\n",
    "plt.plot(test_predictions.squeeze())\n",
    "plt.title(\"Model Predicted Selections by Datapoint\")\n",
    "plt.ylabel('Selection confidence (continous)')\n",
    "plt.xlabel('Datapoint')\n",
    "plt.show()"
   ]
  },
  {
   "cell_type": "markdown",
   "metadata": {
    "colab_type": "text",
    "id": "nzomETjp3tUa"
   },
   "source": [
    "From this plot, we can see the continuous nature of the model's predictions. As mentioned earlier, the model outputs a continuous value between 0 and 1 for each datapoint that(very roughly) corresponds to its confidence in the selection of a point (i.e. an outputted value of 0.95 for a datapoint roughly means that the model is 95% certain that that point should be selected)."
   ]
  },
  {
   "cell_type": "markdown",
   "metadata": {
    "colab_type": "text",
    "id": "KRuZkV0t2XuP"
   },
   "source": [
    "With this in mind, we filter the model's predictions so that only those predictions with a >= 50% probability of being a magnetopause crossing are kept. This choice of probability/certainty is known as the threshold. \n",
    "\n",
    "This choice of threshold is chosen to optimize between over-selecting datapoints (resulting in more false-positives) and under-selecting them (resulting in more false-negatives).\n",
    "\n",
    "As an example, consider an email server's spam-detection system. Such a system might have a fairly high threshold (>99%), as you don't want to accidentally send a user's non-spam email to their spam inbox. At the same time, it's okay if a handful of spam emails make it through their regular inbox.\n",
    "\n",
    "In our case, we can afford to over-select datapoints as we do not want to miss out on any potential magnetopause crossings."
   ]
  },
  {
   "cell_type": "code",
   "execution_count": 34,
   "metadata": {
    "colab": {
     "base_uri": "https://localhost:8080/",
     "height": 372
    },
    "colab_type": "code",
    "id": "Qq6_n8gP2XuP",
    "outputId": "ecab9483-0719-4a43-8b17-5a636d3b7914"
   },
   "outputs": [
    {
     "data": {
      "image/png": "[encoded data removed]",
      "text/plain": [
       "<Figure size 2016x360 with 1 Axes>"
      ]
     },
     "metadata": {
      "needs_background": "light",
      "tags": []
     },
     "output_type": "display_data"
    }
   ],
   "source": [
    "t_output = [0 if x < 0.5 else 1 for x in test_predictions.squeeze()]\n",
    "plt.figure(figsize=(28, 5))\n",
    "plt.plot(t_output)\n",
    "plt.title(\"Filtered Model Predictions by Datapoint\")\n",
    "plt.ylabel('Selected (1) or not (0)')\n",
    "plt.xlabel('Datapoint')\n",
    "plt.show()"
   ]
  },
  {
   "cell_type": "markdown",
   "metadata": {
    "colab_type": "text",
    "id": "--HNA2LF-AE4"
   },
   "source": [
    "## Model Validation\n",
    "\n",
    "Although we have already validated our model on data it has not seen (the testing set), we need to make sure that its ability to select magnetopause crossings is transferable to another range of data."
   ]
  },
  {
   "cell_type": "markdown",
   "metadata": {
    "colab_type": "text",
    "id": "tfv571-4MdaP"
   },
   "source": [
    "We load a third set of data, the validation set, which serves as an independent check on the model. "
   ]
  },
  {
   "cell_type": "code",
   "execution_count": 35,
   "metadata": {
    "colab": {},
    "colab_type": "code",
    "id": "1YUj-vy80I2l"
   },
   "outputs": [],
   "source": [
    "validation_data = pd.read_csv('validation_data.csv', index_col=0, infer_datetime_format=True,\n",
    "\t\t\t\t\t\t   parse_dates=[0])"
   ]
  },
  {
   "cell_type": "markdown",
   "metadata": {
    "colab_type": "text",
    "id": "tsg-zH1Y0I1p"
   },
   "source": [
    "We apply the same preprocessing steps to the validation data as we did for the training and testing data."
   ]
  },
  {
   "cell_type": "code",
   "execution_count": 36,
   "metadata": {
    "colab": {},
    "colab_type": "code",
    "id": "Z3AsLjh-xsYd"
   },
   "outputs": [],
   "source": [
    "index = validation_data.index\n",
    "selections = validation_data.pop(\"selected\")\n",
    "column_names = validation_data.columns"
   ]
  },
  {
   "cell_type": "code",
   "execution_count": 37,
   "metadata": {
    "colab": {},
    "colab_type": "code",
    "id": "FMXckJVX0QMs"
   },
   "outputs": [],
   "source": [
    "validation_data = validation_data.replace([np.inf, -np.inf], np.nan)\n",
    "validation_data = validation_data.interpolate(method='time', limit_area='inside')"
   ]
  },
  {
   "cell_type": "markdown",
   "metadata": {
    "colab_type": "text",
    "id": "dcgfN3Y20bs8"
   },
   "source": [
    "However, we standardize the validation data to the scale of the training/testing data."
   ]
  },
  {
   "cell_type": "code",
   "execution_count": 38,
   "metadata": {
    "colab": {},
    "colab_type": "code",
    "id": "E2pTbLeH0Ryk"
   },
   "outputs": [],
   "source": [
    "validation_data = scaler.transform(validation_data)\n",
    "validation_data = pd.DataFrame(validation_data, index, column_names)\n",
    "validation_data = validation_data.join(selections)"
   ]
  },
  {
   "cell_type": "code",
   "execution_count": 39,
   "metadata": {
    "colab": {},
    "colab_type": "code",
    "id": "HmvIfkOQ0S1N"
   },
   "outputs": [],
   "source": [
    "validation_X = validation_data.values[:,:-1]\n",
    "validation_y = validation_data.values[:,-1]"
   ]
  },
  {
   "cell_type": "markdown",
   "metadata": {
    "colab_type": "text",
    "id": "8Iuoi7WQ53gk"
   },
   "source": [
    "Using the model we trained earlier, we make test predctions on our validation data."
   ]
  },
  {
   "cell_type": "code",
   "execution_count": 40,
   "metadata": {
    "colab": {},
    "colab_type": "code",
    "id": "AlOFmA_R0Wm1"
   },
   "outputs": [],
   "source": [
    "test_predictions = model.predict(np.expand_dims(validation_X, axis=0))"
   ]
  },
  {
   "cell_type": "markdown",
   "metadata": {
    "colab_type": "text",
    "id": "YZZPb5EjM9EB"
   },
   "source": [
    "We visualize the true SITL selections made over the validation data in the same way we did above.\n"
   ]
  },
  {
   "cell_type": "code",
   "execution_count": 41,
   "metadata": {
    "colab": {
     "base_uri": "https://localhost:8080/",
     "height": 372
    },
    "colab_type": "code",
    "id": "42AfNry2FO7V",
    "outputId": "2f281410-11c5-40f5-9740-3a071b488e3e"
   },
   "outputs": [
    {
     "data": {
      "image/png": "[encoded data removed]",
      "text/plain": [
       "<Figure size 2016x360 with 1 Axes>"
      ]
     },
     "metadata": {
      "needs_background": "light",
      "tags": []
     },
     "output_type": "display_data"
    }
   ],
   "source": [
    "plt.figure(figsize=(28, 5))\n",
    "plt.plot(validation_y.astype(int))\n",
    "plt.title(\"Ground Truth (SITL) Selections by Datapoint\")\n",
    "plt.ylabel('Selected (1) or not (0)')\n",
    "plt.xlabel('Datapoints')\n",
    "plt.show()"
   ]
  },
  {
   "cell_type": "markdown",
   "metadata": {
    "colab_type": "text",
    "id": "oSdniM9HND_c"
   },
   "source": [
    "...and we do the same for the model's predictions."
   ]
  },
  {
   "cell_type": "code",
   "execution_count": 42,
   "metadata": {
    "colab": {
     "base_uri": "https://localhost:8080/",
     "height": 372
    },
    "colab_type": "code",
    "id": "IQvn147CFVgq",
    "outputId": "7ffd419d-50f4-457a-8ba5-785d96c152bb"
   },
   "outputs": [
    {
     "data": {
      "image/png": "[encoded data removed]",
      "text/plain": [
       "<Figure size 2016x360 with 1 Axes>"
      ]
     },
     "metadata": {
      "needs_background": "light",
      "tags": []
     },
     "output_type": "display_data"
    }
   ],
   "source": [
    "plt.figure(figsize=(28, 5))\n",
    "plt.plot(test_predictions.squeeze())\n",
    "plt.title(\"Model Predicted Selections by Datapoint\")\n",
    "plt.ylabel('Selection confidence (continous)')\n",
    "plt.xlabel('Datapoints')\n",
    "plt.show()"
   ]
  },
  {
   "cell_type": "markdown",
   "metadata": {
    "colab_type": "text",
    "id": "Fbr_DnYhNJOJ"
   },
   "source": [
    "Once again, we filter the model's predictions so that only those predictions with a >= 50% probability of being a magnetopause crossing are kept."
   ]
  },
  {
   "cell_type": "code",
   "execution_count": 43,
   "metadata": {
    "colab": {
     "base_uri": "https://localhost:8080/",
     "height": 372
    },
    "colab_type": "code",
    "id": "kKbbKKOAFZ7y",
    "outputId": "e1a0b94c-2dce-4281-ed91-e755af68917f"
   },
   "outputs": [
    {
     "data": {
      "image/png": "[encoded data removed]",
      "text/plain": [
       "<Figure size 2016x360 with 1 Axes>"
      ]
     },
     "metadata": {
      "needs_background": "light",
      "tags": []
     },
     "output_type": "display_data"
    }
   ],
   "source": [
    "t_output = [0 if x < 0.5 else 1 for x in test_predictions.squeeze()]\n",
    "plt.figure(figsize=(28, 5))\n",
    "plt.plot(t_output)\n",
    "plt.title(\"Filtered Model Predictions by Datapoint\")\n",
    "plt.ylabel('Selected (1) or not (0)')\n",
    "plt.xlabel('Datapoints')\n",
    "plt.show()"
   ]
  },
  {
   "cell_type": "markdown",
   "metadata": {
    "colab_type": "text",
    "id": "7Z42aU4b4ieu"
   },
   "source": [
    "We now plot a receiver operating characteristic (ROC) curve based on the model's performance over the evaluation data. \n",
    "\n",
    "An ROC curve will plot a model's true-positive vs. false positive rates of predictions for varying choices of thresholds. As the threshold approaches 1, the false positive rate and the true positive rates approach 0, as every prediction made is over the threshold and is thus considered a selection. As the threshold approaches 1, the false positive rate and the true positive rates approach 0, as no prediction made surpasses the threshold of 1.\n",
    "\n",
    "While we can use the plot to determine where we want to set our threshold (considering the importance of under-selecting or over-selecting points), it is more often used to get a sense of the performance of our model.\n",
    "\n",
    "To do so, we calculate the total area under the ROC curve. This area is equal to the probability that the model will output a higher prediction value for a randomly chosen datapoint whose ground truth was \"selected\" than for a randomly chosen datapoint whose ground truth value was \"not selected\"."
   ]
  },
  {
   "cell_type": "code",
   "execution_count": 44,
   "metadata": {
    "colab": {
     "base_uri": "https://localhost:8080/",
     "height": 316
    },
    "colab_type": "code",
    "id": "62howqH4NP2h",
    "outputId": "0846195d-924d-47e5-8a84-d92e34ceb729"
   },
   "outputs": [
    {
     "data": {
      "image/png": "[encoded data removed]",
      "text/plain": [
       "<Figure size 432x288 with 1 Axes>"
      ]
     },
     "metadata": {
      "needs_background": "light",
      "tags": []
     },
     "output_type": "display_data"
    }
   ],
   "source": [
    "fpr, tpr, thresholds = roc_curve(validation_y.astype(int), test_predictions.squeeze())\n",
    "lw = 2\n",
    "plt.plot(fpr, tpr, color='darkorange',\n",
    "         lw=lw, label='ROC curve')\n",
    "plt.plot([0, 1], [0, 1], color='navy', lw=lw, linestyle='--')\n",
    "plt.xlim([0.0, 1.0])\n",
    "plt.ylim([0.0, 1.0])\n",
    "plt.xlabel('False Positive Rate')\n",
    "plt.ylabel('True Positive Rate')\n",
    "plt.title('ROC curve - AUC = {:.2f}'.format(auc(fpr, tpr)))\n",
    "plt.legend(loc=\"lower right\")\n",
    "plt.show()"
   ]
  },
  {
   "cell_type": "markdown",
   "metadata": {
    "colab_type": "text",
    "id": "J2X1ovuuNyE6"
   },
   "source": [
    "Finally, we generate a list of predicted selection windows. The following code groups contiguous selected datapoints into windows and list the start and dates of those windows.\n"
   ]
  },
  {
   "cell_type": "code",
   "execution_count": 45,
   "metadata": {
    "colab": {},
    "colab_type": "code",
    "id": "XC-65ktvIKUc"
   },
   "outputs": [],
   "source": [
    "predicts_df = pd.DataFrame()\n",
    "predicts_df.insert(0, \"time\", validation_data.index)\n",
    "predicts_df.insert(1, \"prediction\", t_output)\n",
    "predicts_df['group'] = (predicts_df.prediction != predicts_df.prediction.shift()).cumsum()\n",
    "predicts_df = predicts_df.loc[predicts_df['prediction'] == True]\n",
    "selections = pd.DataFrame({'BeginDate' : predicts_df.groupby('group').time.first(), \n",
    "              'EndDate' : predicts_df.groupby('group').time.last()})\n",
    "selections = selections.set_index('BeginDate')"
   ]
  },
  {
   "cell_type": "code",
   "execution_count": 46,
   "metadata": {
    "colab": {
     "base_uri": "https://localhost:8080/",
     "height": 436
    },
    "colab_type": "code",
    "id": "db_RET1gfmLf",
    "outputId": "6be953ad-02e1-4886-d1a9-20a1269b66a2"
   },
   "outputs": [
    {
     "data": {
      "text/html": [
       "<div>\n",
       "<style scoped>\n",
       "    .dataframe tbody tr th:only-of-type {\n",
       "        vertical-align: middle;\n",
       "    }\n",
       "\n",
       "    .dataframe tbody tr th {\n",
       "        vertical-align: top;\n",
       "    }\n",
       "\n",
       "    .dataframe thead th {\n",
       "        text-align: right;\n",
       "    }\n",
       "</style>\n",
       "<table border=\"1\" class=\"dataframe\">\n",
       "  <thead>\n",
       "    <tr style=\"text-align: right;\">\n",
       "      <th></th>\n",
       "      <th>EndDate</th>\n",
       "    </tr>\n",
       "    <tr>\n",
       "      <th>BeginDate</th>\n",
       "      <th></th>\n",
       "    </tr>\n",
       "  </thead>\n",
       "  <tbody>\n",
       "    <tr>\n",
       "      <th>2017-02-03 22:27:28.784841</th>\n",
       "      <td>2017-02-03 22:29:03.285435</td>\n",
       "    </tr>\n",
       "    <tr>\n",
       "      <th>2017-02-03 22:31:13.786249</th>\n",
       "      <td>2017-02-03 22:33:55.787267</td>\n",
       "    </tr>\n",
       "    <tr>\n",
       "      <th>2017-02-03 23:35:52.811378</th>\n",
       "      <td>2017-02-03 23:56:48.319683</td>\n",
       "    </tr>\n",
       "    <tr>\n",
       "      <th>2017-02-04 00:09:19.824671</th>\n",
       "      <td>2017-02-04 00:16:04.827367</td>\n",
       "    </tr>\n",
       "    <tr>\n",
       "      <th>2017-02-04 00:38:52.836503</th>\n",
       "      <td>2017-02-04 00:41:03.337379</td>\n",
       "    </tr>\n",
       "    <tr>\n",
       "      <th>...</th>\n",
       "      <td>...</td>\n",
       "    </tr>\n",
       "    <tr>\n",
       "      <th>2017-02-09 08:00:15.435380</th>\n",
       "      <td>2017-02-09 08:00:24.435452</td>\n",
       "    </tr>\n",
       "    <tr>\n",
       "      <th>2017-02-09 08:00:51.435666</th>\n",
       "      <td>2017-02-09 08:01:27.435952</td>\n",
       "    </tr>\n",
       "    <tr>\n",
       "      <th>2017-02-09 08:02:52.936624</th>\n",
       "      <td>2017-02-09 08:07:00.438590</td>\n",
       "    </tr>\n",
       "    <tr>\n",
       "      <th>2017-02-09 08:15:01.942399</th>\n",
       "      <td>2017-02-09 08:46:04.957144</td>\n",
       "    </tr>\n",
       "    <tr>\n",
       "      <th>2017-02-09 09:43:13.984273</th>\n",
       "      <td>2017-02-09 09:46:58.986053</td>\n",
       "    </tr>\n",
       "  </tbody>\n",
       "</table>\n",
       "<p>97 rows × 1 columns</p>\n",
       "</div>"
      ],
      "text/plain": [
       "                                              EndDate\n",
       "BeginDate                                            \n",
       "2017-02-03 22:27:28.784841 2017-02-03 22:29:03.285435\n",
       "2017-02-03 22:31:13.786249 2017-02-03 22:33:55.787267\n",
       "2017-02-03 23:35:52.811378 2017-02-03 23:56:48.319683\n",
       "2017-02-04 00:09:19.824671 2017-02-04 00:16:04.827367\n",
       "2017-02-04 00:38:52.836503 2017-02-04 00:41:03.337379\n",
       "...                                               ...\n",
       "2017-02-09 08:00:15.435380 2017-02-09 08:00:24.435452\n",
       "2017-02-09 08:00:51.435666 2017-02-09 08:01:27.435952\n",
       "2017-02-09 08:02:52.936624 2017-02-09 08:07:00.438590\n",
       "2017-02-09 08:15:01.942399 2017-02-09 08:46:04.957144\n",
       "2017-02-09 09:43:13.984273 2017-02-09 09:46:58.986053\n",
       "\n",
       "[97 rows x 1 columns]"
      ]
     },
     "execution_count": 46,
     "metadata": {
      "tags": []
     },
     "output_type": "execute_result"
    }
   ],
   "source": [
    "selections"
   ]
  },
  {
   "cell_type": "markdown",
   "metadata": {
    "colab_type": "text",
    "id": "O5H3KGodtKKR"
   },
   "source": [
    "## Conclusion\n",
    "\n",
    "The above steps have walked you through the development of the GLS-MP model currently deployed at NASA to assist SITLs with data selection. \n",
    "\n",
    "Since being implemented into the near real-time data stream, the GLS-MP model has selected 78% of SITL-identified MP crossings in the outbound leg of its orbit, 44% more than the existing MP-crossing selection algorithm onboard MMS spacecraft (ABS). \n",
    "\n",
    "The model and its associated paper represent the first attempt to introduce machine learning into critical mission operations. \n",
    "\n",
    "Additionally, the nature of the model and its training make it easily adoptable for use in other phenomena-detection tasks, such as identifying reconnection jets or Kelvin-Helmholtz waves in the magntopause. By expanding GLS-MP into a hierarchy of machine learning models, MMS progresses toward full autonomy in its burst management system, thereby reducing operations costs and transferring information and resources back to answering fundamental science questions."
   ]
  }
 ],
 "metadata": {
  "accelerator": "GPU",
  "colab": {
   "collapsed_sections": [],
   "machine_shape": "hm",
   "name": "notebook.ipynb",
   "provenance": [],
   "toc_visible": true
  },
  "kernelspec": {
   "display_name": "Python 3",
   "language": "python",
   "name": "python3"
  },
  "language_info": {
   "codemirror_mode": {
    "name": "ipython",
    "version": 3
   },
   "file_extension": ".py",
   "mimetype": "text/x-python",
   "name": "python",
   "nbconvert_exporter": "python",
   "pygments_lexer": "ipython3",
   "version": "3.8.2"
  }
 },
 "nbformat": 4,
 "nbformat_minor": 4
}
