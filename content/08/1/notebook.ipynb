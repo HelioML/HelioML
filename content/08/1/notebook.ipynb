{
 "cells": [
  {
   "cell_type": "markdown",
   "metadata": {
    "colab_type": "text",
    "id": "D7UvwwCM0wC7"
   },
   "source": [
    "# GLS-MP Model Development\n",
    "\n",
    "**Authors:** Colin Small (crs1031@wildcats.unh.edu), Matthew Argall (Matthew.Argall@unh.edu), Marek Petrik (Marek.Petrik@unh.edu)"
   ]
  },
  {
   "cell_type": "markdown",
   "metadata": {
    "colab_type": "text",
    "id": "tdDrn6mBTUgT"
   },
   "source": [
    "[![MMS Mission Video](https://upload.wikimedia.org/wikipedia/commons/thumb/b/b3/Artist_depiction_of_MMS_spacecraft_%28SVS12239%29.png/640px-Artist_depiction_of_MMS_spacecraft_%28SVS12239%29.png)](https://upload.wikimedia.org/wikipedia/commons/c/c9/NASA_Spacecraft_Finds_New_Magnetic_Process_in_Turbulent_Space.webm)"
   ]
  },
  {
   "cell_type": "markdown",
   "metadata": {
    "colab_type": "text",
    "id": "rL5p5pJQ39Dd"
   },
   "source": [
    "# Introduction\n",
    "Global-scale energy flow throughout Earth’s magnetosphere is catalyzed by processes that occur at Earth’s magnetopause (MP) in the electron diffusion region (EDR) of magnetic reconnection. Until the launch of the Magnetospheric Multiscale (MMS) mission, only rare, fortuitous circumstances permitted a glimpse of the electron dynamics that break magnetic field lines and energize plasma. MMS employs automated burst triggers onboard the spacecraft and a  Scientist-in-the-Loop (SITL) on the ground to select intervals likely to contain diffusion regions. Only low-resolution survey data is available to the SITL, which is insufficient to resolve electron dynamics. A strategy for the SITL, then, is to select all MP crossings. This has resulted in over 35 potential MP EDR encounters but is labor- and resource-intensive; after manual reclassification, just ∼ 0.7% of MP crossings, or 0.0001% of the mission lifetime during MMS’s first two years contained an EDR.\n",
    "\n",
    "In this notebook, we develop a Long-Short Term Memory (LSTM) neural network to detect magnetopause crossings and automate the SITL classification process. An LSTM developed with this notebook has been implemented in the MMS data stream to provide automated predictions to the SITL.\n",
    "\n",
    "\n",
    "This model facilitates EDR studies and helps free-up mission operation costs by consolidating manual classification processes into automated routines.\n",
    "\n",
    "**Authors' note:** This notebook was developed after the development of the original model in use at the SDC. We have tried our best to replicate the development steps and hyperparamteres of that model, but we cannot guarantee that models developed with this notebook will exactly match the performance of the original."
   ]
  },
  {
   "cell_type": "markdown",
   "metadata": {
    "colab_type": "text",
    "id": "rL5p5pJQ39Dd"
   },
   "source": [
    "**Authors' notes:** \n",
    "\n",
    "1. This notebook was developed after the development of the original model in use at the SDC. We have tried our best to replicate the development steps and hyperparamteres of that model, but we cannot guarantee that models developed with this notebook will exactly match the performance of the original.\n",
    "\n",
    "2. This notebook was designed on, and is best run on, Google Colab. It must either be run on Colab or on a machine with an NVIDIA GPU and cuDNN installed. If your machine does not have an NVIDIA GPU, does not have cuDNN installed, or if you run into issues running this notebook yourself, please open the notebook in Google Colab, which provides you with a virtual GPU to run the notebook:"
   ]
  },
  {
   "cell_type": "markdown",
   "metadata": {},
   "source": [
    "<a href="https://colab.research.google.com/github/colinrsmall/GLS-MP/blob/master/Model_Development.ipynb" target="_parent"><img src="https://colab.research.google.com/assets/colab-badge.svg" alt="Open In Colab"/></a>\n"
   ]
  },
  {
   "cell_type": "markdown",
   "metadata": {
    "colab_type": "text",
    "id": "4Em6RZ8Z6UFl"
   },
   "source": [
    "# Import Libraries\n",
    "\n",
    "To start, we import the neccesary libraries for this notebook."
   ]
  },
  {
   "cell_type": "code",
   "execution_count": 2,
   "metadata": {
    "colab": {
     "base_uri": "https://localhost:8080/",
     "height": 550
    },
    "colab_type": "code",
    "id": "3WshufyyiiLd",
    "outputId": "c24900dd-8f42-4a49-fb61-c5147d20bad6"
   },
   "outputs": [
    {
     "name": "stdout",
     "output_type": "stream",
     "text": [
      "Collecting nasa-pymms\n",
      "\u001b[?25l  Downloading https://files.pythonhosted.org/packages/8b/c8/b1a69a4aff60a9bb4d6ed288598372b878685ddcc2ba9faaf4a6aff1bf8d/nasa_pymms-0.3.1-py3-none-any.whl (70kB)\n",
      "\r",
      "\u001b[K     |████▊                           | 10kB 20.5MB/s eta 0:00:01\r",
      "\u001b[K     |█████████▍                      | 20kB 6.6MB/s eta 0:00:01\r",
      "\u001b[K     |██████████████                  | 30kB 7.6MB/s eta 0:00:01\r",
      "\u001b[K     |██████████████████▊             | 40kB 6.1MB/s eta 0:00:01\r",
      "\u001b[K     |███████████████████████▍        | 51kB 5.6MB/s eta 0:00:01\r",
      "\u001b[K     |████████████████████████████    | 61kB 5.7MB/s eta 0:00:01\r",
      "\u001b[K     |████████████████████████████████| 71kB 2.3MB/s \n",
      "\u001b[?25hRequirement already satisfied: tqdm>=4.36.1 in /usr/local/lib/python3.6/dist-packages (from nasa-pymms) (4.41.1)\n",
      "Requirement already satisfied: numpy>=1.8 in /usr/local/lib/python3.6/dist-packages (from nasa-pymms) (1.18.5)\n",
      "Requirement already satisfied: scipy>=1.4.1 in /usr/local/lib/python3.6/dist-packages (from nasa-pymms) (1.4.1)\n",
      "Requirement already satisfied: requests>=2.22.0 in /usr/local/lib/python3.6/dist-packages (from nasa-pymms) (2.23.0)\n",
      "Requirement already satisfied: matplotlib>=3.1.1 in /usr/local/lib/python3.6/dist-packages (from nasa-pymms) (3.2.2)\n",
      "Collecting cdflib\n",
      "\u001b[?25l  Downloading https://files.pythonhosted.org/packages/1f/d3/4c76dc94bc311ec779e9a2f662539028c7bd6ded1785bf27ead4e9f2f6a2/cdflib-0.3.18.tar.gz (66kB)\n",
      "\u001b[K     |████████████████████████████████| 71kB 4.8MB/s \n",
      "\u001b[?25h  Installing build dependencies ... \u001b[?25l\u001b[?25hdone\n",
      "  Getting requirements to build wheel ... \u001b[?25l\u001b[?25hdone\n",
      "    Preparing wheel metadata ... \u001b[?25l\u001b[?25hdone\n",
      "Requirement already satisfied: idna<3,>=2.5 in /usr/local/lib/python3.6/dist-packages (from requests>=2.22.0->nasa-pymms) (2.10)\n",
      "Requirement already satisfied: urllib3!=1.25.0,!=1.25.1,<1.26,>=1.21.1 in /usr/local/lib/python3.6/dist-packages (from requests>=2.22.0->nasa-pymms) (1.24.3)\n",
      "Requirement already satisfied: chardet<4,>=3.0.2 in /usr/local/lib/python3.6/dist-packages (from requests>=2.22.0->nasa-pymms) (3.0.4)\n",
      "Requirement already satisfied: certifi>=2017.4.17 in /usr/local/lib/python3.6/dist-packages (from requests>=2.22.0->nasa-pymms) (2020.6.20)\n",
      "Requirement already satisfied: kiwisolver>=1.0.1 in /usr/local/lib/python3.6/dist-packages (from matplotlib>=3.1.1->nasa-pymms) (1.2.0)\n",
      "Requirement already satisfied: python-dateutil>=2.1 in /usr/local/lib/python3.6/dist-packages (from matplotlib>=3.1.1->nasa-pymms) (2.8.1)\n",
      "Requirement already satisfied: cycler>=0.10 in /usr/local/lib/python3.6/dist-packages (from matplotlib>=3.1.1->nasa-pymms) (0.10.0)\n",
      "Requirement already satisfied: pyparsing!=2.0.4,!=2.1.2,!=2.1.6,>=2.0.1 in /usr/local/lib/python3.6/dist-packages (from matplotlib>=3.1.1->nasa-pymms) (2.4.7)\n",
      "Requirement already satisfied: six>=1.5 in /usr/local/lib/python3.6/dist-packages (from python-dateutil>=2.1->matplotlib>=3.1.1->nasa-pymms) (1.15.0)\n",
      "Building wheels for collected packages: cdflib\n",
      "  Building wheel for cdflib (PEP 517) ... \u001b[?25l\u001b[?25hdone\n",
      "  Created wheel for cdflib: filename=cdflib-0.3.18-cp36-none-any.whl size=60628 sha256=a6cee2508828bd65c25448750917c2f46a06ab6d99bff3991c15a9ea4882f847\n",
      "  Stored in directory: /root/.cache/pip/wheels/d4/fa/1f/fcb5a80cdf3b529877d1a692fa246e5328986b24eaa22442c1\n",
      "Successfully built cdflib\n",
      "Installing collected packages: cdflib, nasa-pymms\n",
      "Successfully installed cdflib-0.3.18 nasa-pymms-0.3.1\n"
     ]
    }
   ],
   "source": [
    "!pip install nasa-pymms"
   ]
  },
  {
   "cell_type": "code",
   "execution_count": 3,
   "metadata": {
    "colab": {
     "base_uri": "https://localhost:8080/",
     "height": 87
    },
    "colab_type": "code",
    "id": "MwnLUN2cUd4S",
    "outputId": "993be63b-8397-43db-9767-77d294858624"
   },
   "outputs": [
    {
     "name": "stdout",
     "output_type": "stream",
     "text": [
      "TensorFlow 1.x selected.\n"
     ]
    },
    {
     "name": "stderr",
     "output_type": "stream",
     "text": [
      "Using TensorFlow backend.\n"
     ]
    },
    {
     "name": "stdout",
     "output_type": "stream",
     "text": [
      "Creating root data directory /root/data/mms\n",
      "Creating root data directory /root/data/mms/dropbox\n"
     ]
    }
   ],
   "source": [
    "from pathlib import Path\n",
    "from sklearn import preprocessing\n",
    "from tensorflow.keras.models import Sequential\n",
    "from tensorflow.keras.layers import Dense, Dropout, LSTM, CuDNNLSTM, BatchNormalization, Bidirectional, Reshape, TimeDistributed\n",
    "from tensorflow.keras.callbacks import TensorBoard, ModelCheckpoint\n",
    "from matplotlib import pyplot\n",
    "from sklearn.metrics import roc_curve, auc, confusion_matrix\n",
    "from keras import backend as K\n",
    "from pymms.sdc import mrmms_sdc_api as mms\n",
    "import keras.backend.tensorflow_backend as tfb\n",
    "import tensorflow as tf\n",
    "import numpy as np\n",
    "import pandas as pd\n",
    "import tensorflow as tf\n",
    "import matplotlib.pyplot as plt\n",
    "import datetime as dt\n",
    "import os\n",
    "import time\n",
    "import sklearn\n",
    "import scipy\n",
    "import pickle\n",
    "import random\n",
    "import requests"
   ]
  },
  {
   "cell_type": "markdown",
   "metadata": {
    "colab_type": "text",
    "id": "x-LAsDIG3XD7"
   },
   "source": [
    "# Download, Preprocess, and Format MMS Data"
   ]
  },
  {
   "cell_type": "markdown",
   "metadata": {
    "colab_type": "text",
    "id": "gWIpfE2zSCOP"
   },
   "source": [
    "After installing and importinng the neccesary libraries, we download our training and validation data. "
   ]
  },
  {
   "cell_type": "code",
   "execution_count": 4,
   "metadata": {
    "colab": {
     "base_uri": "https://localhost:8080/",
     "height": 407
    },
    "colab_type": "code",
    "id": "mcytuTHUR8U8",
    "outputId": "e4a8fd18-76a2-4880-9034-78a535baecd7"
   },
   "outputs": [
    {
     "name": "stdout",
     "output_type": "stream",
     "text": [
      "--2020-09-01 15:46:13--  https://zenodo.org/record/3884266/files/original_training_data.csv?download=1\n",
      "Resolving zenodo.org (zenodo.org)... 188.184.117.155\n",
      "Connecting to zenodo.org (zenodo.org)|188.184.117.155|:443... connected.\n",
      "HTTP request sent, awaiting response... 200 OK\n",
      "Length: 447842635 (427M) [text/plain]\n",
      "Saving to: ‘training_data.csv’\n",
      "\n",
      "training_data.csv   100%[===================>] 427.10M  73.7MB/s    in 5.7s    \n",
      "\n",
      "2020-09-01 15:46:19 (74.7 MB/s) - ‘training_data.csv’ saved [447842635/447842635]\n",
      "\n",
      "--2020-09-01 15:46:19--  https://zenodo.org/record/3884266/files/original_validation_data.csv?download=1\n",
      "Resolving zenodo.org (zenodo.org)... 188.184.117.155\n",
      "Connecting to zenodo.org (zenodo.org)|188.184.117.155|:443... connected.\n",
      "HTTP request sent, awaiting response... 200 OK\n",
      "Length: 90314951 (86M) [text/plain]\n",
      "Saving to: ‘validation_data.csv’\n",
      "\n",
      "validation_data.csv 100%[===================>]  86.13M  49.6MB/s    in 1.7s    \n",
      "\n",
      "2020-09-01 15:46:23 (49.6 MB/s) - ‘validation_data.csv’ saved [90314951/90314951]\n",
      "\n"
     ]
    }
   ],
   "source": [
    "!wget -O training_data.csv https://zenodo.org/record/3884266/files/original_training_data.csv?download=1\n",
    "!wget -O validation_data.csv https://zenodo.org/record/3884266/files/original_validation_data.csv?download=1"
   ]
  },
  {
   "cell_type": "markdown",
   "metadata": {
    "colab_type": "text",
    "id": "aDg-HJ0MAtjS"
   },
   "source": [
    "After downloading the training and validation data, we preprocess our training data in preparation for training the neural network."
   ]
  },
  {
   "cell_type": "markdown",
   "metadata": {
    "colab_type": "text",
    "id": "fp4mcnLfFZXw"
   },
   "source": [
    "We first load the data we downloaded above. The data is a table of measurements from the MMS spacecraft, where each row represents individual measurements taken at a given time and where each column represents a feature (variable) recorded at that time. There is an additional column representing the ground truths for each measurement (whether this measurement was selected by a SITL or not). Then, we will adjust the formatting and datatypes of several of the columns and sort the data by the time of the measurement."
   ]
  },
  {
   "cell_type": "code",
   "execution_count": 5,
   "metadata": {
    "colab": {},
    "colab_type": "code",
    "id": "tojTr8i472HY"
   },
   "outputs": [],
   "source": [
    "mms_data = pd.read_csv('training_data.csv', index_col=0, infer_datetime_format=True,\n",
    "\t\t\t\t\t\t   parse_dates=[0])"
   ]
  },
  {
   "cell_type": "code",
   "execution_count": 6,
   "metadata": {
    "colab": {
     "base_uri": "https://localhost:8080/",
     "height": 623
    },
    "colab_type": "code",
    "id": "U2yZv1MwGqWQ",
    "outputId": "d3161bba-2f98-4a5a-d8c2-83e1a350c07c"
   },
   "outputs": [
    {
     "data": {
      "text/html": [
       "<div>\n",
       "<style scoped>\n",
       "    .dataframe tbody tr th:only-of-type {\n",
       "        vertical-align: middle;\n",
       "    }\n",
       "\n",
       "    .dataframe tbody tr th {\n",
       "        vertical-align: top;\n",
       "    }\n",
       "\n",
       "    .dataframe thead th {\n",
       "        text-align: right;\n",
       "    }\n",
       "</style>\n",
       "<table border=\"1\" class=\"dataframe\">\n",
       "  <thead>\n",
       "    <tr style=\"text-align: right;\">\n",
       "      <th></th>\n",
       "      <th>mms1_des_energyspectr_omni_fast_0</th>\n",
       "      <th>mms1_des_energyspectr_omni_fast_1</th>\n",
       "      <th>mms1_des_energyspectr_omni_fast_2</th>\n",
       "      <th>mms1_des_energyspectr_omni_fast_3</th>\n",
       "      <th>mms1_des_energyspectr_omni_fast_4</th>\n",
       "      <th>mms1_des_energyspectr_omni_fast_5</th>\n",
       "      <th>mms1_des_energyspectr_omni_fast_6</th>\n",
       "      <th>mms1_des_energyspectr_omni_fast_7</th>\n",
       "      <th>mms1_des_energyspectr_omni_fast_8</th>\n",
       "      <th>mms1_des_energyspectr_omni_fast_9</th>\n",
       "      <th>mms1_des_energyspectr_omni_fast_10</th>\n",
       "      <th>mms1_des_energyspectr_omni_fast_11</th>\n",
       "      <th>mms1_des_energyspectr_omni_fast_12</th>\n",
       "      <th>mms1_des_energyspectr_omni_fast_13</th>\n",
       "      <th>mms1_des_energyspectr_omni_fast_14</th>\n",
       "      <th>mms1_des_energyspectr_omni_fast_15</th>\n",
       "      <th>mms1_des_energyspectr_omni_fast_16</th>\n",
       "      <th>mms1_des_energyspectr_omni_fast_17</th>\n",
       "      <th>mms1_des_energyspectr_omni_fast_18</th>\n",
       "      <th>mms1_des_energyspectr_omni_fast_19</th>\n",
       "      <th>mms1_des_energyspectr_omni_fast_20</th>\n",
       "      <th>mms1_des_energyspectr_omni_fast_21</th>\n",
       "      <th>mms1_des_energyspectr_omni_fast_22</th>\n",
       "      <th>mms1_des_energyspectr_omni_fast_23</th>\n",
       "      <th>mms1_des_energyspectr_omni_fast_24</th>\n",
       "      <th>mms1_des_energyspectr_omni_fast_25</th>\n",
       "      <th>mms1_des_energyspectr_omni_fast_26</th>\n",
       "      <th>mms1_des_energyspectr_omni_fast_27</th>\n",
       "      <th>mms1_des_energyspectr_omni_fast_28</th>\n",
       "      <th>mms1_des_energyspectr_omni_fast_29</th>\n",
       "      <th>mms1_des_energyspectr_omni_fast_30</th>\n",
       "      <th>mms1_des_numberdensity_fast</th>\n",
       "      <th>mms1_des_bulkv_dbcs_fast_0</th>\n",
       "      <th>mms1_des_bulkv_dbcs_fast_1</th>\n",
       "      <th>mms1_des_heatq_dbcs_fast_0</th>\n",
       "      <th>mms1_des_heatq_dbcs_fast_1</th>\n",
       "      <th>mms1_des_temppara_fast</th>\n",
       "      <th>mms1_des_tempperp_fast</th>\n",
       "      <th>mms1_des_prestensor_dbcs_fast_x1_y1</th>\n",
       "      <th>mms1_des_prestensor_dbcs_fast_x2_y1</th>\n",
       "      <th>...</th>\n",
       "      <th>mms1_dis_energyspectr_omni_fast_29</th>\n",
       "      <th>mms1_dis_energyspectr_omni_fast_30</th>\n",
       "      <th>mms1_dis_numberdensity_fast</th>\n",
       "      <th>mms1_dis_bulkv_dbcs_fast_0</th>\n",
       "      <th>mms1_dis_bulkv_dbcs_fast_1</th>\n",
       "      <th>mms1_dis_heatq_dbcs_fast_0</th>\n",
       "      <th>mms1_dis_heatq_dbcs_fast_1</th>\n",
       "      <th>mms1_dis_temppara_fast</th>\n",
       "      <th>mms1_dis_tempperp_fast</th>\n",
       "      <th>mms1_dis_prestensor_dbcs_fast_x1_y1</th>\n",
       "      <th>mms1_dis_prestensor_dbcs_fast_x2_y1</th>\n",
       "      <th>mms1_dis_prestensor_dbcs_fast_x2_y2</th>\n",
       "      <th>mms1_dis_prestensor_dbcs_fast_x3_y1</th>\n",
       "      <th>mms1_dis_prestensor_dbcs_fast_x3_y2</th>\n",
       "      <th>mms1_dis_prestensor_dbcs_fast_x3_y3</th>\n",
       "      <th>mms1_dis_temptensor_dbcs_fast_x1_y1</th>\n",
       "      <th>mms1_dis_temptensor_dbcs_fast_x2_y1</th>\n",
       "      <th>mms1_dis_temptensor_dbcs_fast_x2_y2</th>\n",
       "      <th>mms1_dis_temptensor_dbcs_fast_x3_y1</th>\n",
       "      <th>mms1_dis_temptensor_dbcs_fast_x3_y2</th>\n",
       "      <th>mms1_dis_temptensor_dbcs_fast_x3_y3</th>\n",
       "      <th>mms1_dis_temp_anisotropy</th>\n",
       "      <th>mms1_dis_scalar_temperature</th>\n",
       "      <th>mms1_dis_N_Q</th>\n",
       "      <th>mms1_dis_Vz_Q</th>\n",
       "      <th>mms1_dis_nV_Q</th>\n",
       "      <th>mms1_afg_srvy_dmpa_Bx</th>\n",
       "      <th>mms1_afg_srvy_dmpa_By</th>\n",
       "      <th>mms1_afg_srvy_dmpa_Bz</th>\n",
       "      <th>mms1_afg_srvy_dmpa_|B|</th>\n",
       "      <th>mms1_afg_magnetic_pressure</th>\n",
       "      <th>mms1_afg_clock_angle</th>\n",
       "      <th>mms1_afg_Bz_Q</th>\n",
       "      <th>mms1_edp_x</th>\n",
       "      <th>mms1_edp_y</th>\n",
       "      <th>mms1_edp_z</th>\n",
       "      <th>mms1_edp_|E|</th>\n",
       "      <th>mms1_temp_ratio</th>\n",
       "      <th>mms1_plasma_beta</th>\n",
       "      <th>selected</th>\n",
       "    </tr>\n",
       "    <tr>\n",
       "      <th>Epoch</th>\n",
       "      <th></th>\n",
       "      <th></th>\n",
       "      <th></th>\n",
       "      <th></th>\n",
       "      <th></th>\n",
       "      <th></th>\n",
       "      <th></th>\n",
       "      <th></th>\n",
       "      <th></th>\n",
       "      <th></th>\n",
       "      <th></th>\n",
       "      <th></th>\n",
       "      <th></th>\n",
       "      <th></th>\n",
       "      <th></th>\n",
       "      <th></th>\n",
       "      <th></th>\n",
       "      <th></th>\n",
       "      <th></th>\n",
       "      <th></th>\n",
       "      <th></th>\n",
       "      <th></th>\n",
       "      <th></th>\n",
       "      <th></th>\n",
       "      <th></th>\n",
       "      <th></th>\n",
       "      <th></th>\n",
       "      <th></th>\n",
       "      <th></th>\n",
       "      <th></th>\n",
       "      <th></th>\n",
       "      <th></th>\n",
       "      <th></th>\n",
       "      <th></th>\n",
       "      <th></th>\n",
       "      <th></th>\n",
       "      <th></th>\n",
       "      <th></th>\n",
       "      <th></th>\n",
       "      <th></th>\n",
       "      <th></th>\n",
       "      <th></th>\n",
       "      <th></th>\n",
       "      <th></th>\n",
       "      <th></th>\n",
       "      <th></th>\n",
       "      <th></th>\n",
       "      <th></th>\n",
       "      <th></th>\n",
       "      <th></th>\n",
       "      <th></th>\n",
       "      <th></th>\n",
       "      <th></th>\n",
       "      <th></th>\n",
       "      <th></th>\n",
       "      <th></th>\n",
       "      <th></th>\n",
       "      <th></th>\n",
       "      <th></th>\n",
       "      <th></th>\n",
       "      <th></th>\n",
       "      <th></th>\n",
       "      <th></th>\n",
       "      <th></th>\n",
       "      <th></th>\n",
       "      <th></th>\n",
       "      <th></th>\n",
       "      <th></th>\n",
       "      <th></th>\n",
       "      <th></th>\n",
       "      <th></th>\n",
       "      <th></th>\n",
       "      <th></th>\n",
       "      <th></th>\n",
       "      <th></th>\n",
       "      <th></th>\n",
       "      <th></th>\n",
       "      <th></th>\n",
       "      <th></th>\n",
       "      <th></th>\n",
       "      <th></th>\n",
       "    </tr>\n",
       "  </thead>\n",
       "  <tbody>\n",
       "    <tr>\n",
       "      <th>2017-01-01 01:49:08.736524</th>\n",
       "      <td>172560370.0</td>\n",
       "      <td>141811650.0</td>\n",
       "      <td>115564310.0</td>\n",
       "      <td>103489660.0</td>\n",
       "      <td>109156240.0</td>\n",
       "      <td>138017710.0</td>\n",
       "      <td>199794740.0</td>\n",
       "      <td>313011970.0</td>\n",
       "      <td>495821400.0</td>\n",
       "      <td>7.675890e+08</td>\n",
       "      <td>1.102645e+09</td>\n",
       "      <td>1.355750e+09</td>\n",
       "      <td>1.283706e+09</td>\n",
       "      <td>876457860.0</td>\n",
       "      <td>437018100.0</td>\n",
       "      <td>178497440.0</td>\n",
       "      <td>61324772.0</td>\n",
       "      <td>17706034.0</td>\n",
       "      <td>5950672.0</td>\n",
       "      <td>1453186.0</td>\n",
       "      <td>1230702.8</td>\n",
       "      <td>1290793.0</td>\n",
       "      <td>1361365.00</td>\n",
       "      <td>1443553.0</td>\n",
       "      <td>1538581.10</td>\n",
       "      <td>1600447.1</td>\n",
       "      <td>1693706.6</td>\n",
       "      <td>1860683.8</td>\n",
       "      <td>1821310.1</td>\n",
       "      <td>1785482.6</td>\n",
       "      <td>2143655.0</td>\n",
       "      <td>47.289574</td>\n",
       "      <td>-64.066220</td>\n",
       "      <td>-59.850384</td>\n",
       "      <td>0.067417</td>\n",
       "      <td>-0.033087</td>\n",
       "      <td>68.663414</td>\n",
       "      <td>69.643720</td>\n",
       "      <td>0.530681</td>\n",
       "      <td>0.000513</td>\n",
       "      <td>...</td>\n",
       "      <td>1847614.4</td>\n",
       "      <td>1368769.60</td>\n",
       "      <td>45.166210</td>\n",
       "      <td>-65.301070</td>\n",
       "      <td>-75.960210</td>\n",
       "      <td>-0.017214</td>\n",
       "      <td>-0.054081</td>\n",
       "      <td>496.30145</td>\n",
       "      <td>558.62010</td>\n",
       "      <td>4.105384</td>\n",
       "      <td>0.039305</td>\n",
       "      <td>3.979379</td>\n",
       "      <td>0.077544</td>\n",
       "      <td>0.372712</td>\n",
       "      <td>3.591420</td>\n",
       "      <td>4.105384</td>\n",
       "      <td>0.039305</td>\n",
       "      <td>3.979379</td>\n",
       "      <td>0.077544</td>\n",
       "      <td>0.372712</td>\n",
       "      <td>3.591420</td>\n",
       "      <td>-0.111558</td>\n",
       "      <td>537.84720</td>\n",
       "      <td>0.000000</td>\n",
       "      <td>0.000000</td>\n",
       "      <td>5217.443037</td>\n",
       "      <td>-0.026197</td>\n",
       "      <td>33.162117</td>\n",
       "      <td>-39.656940</td>\n",
       "      <td>51.695260</td>\n",
       "      <td>2.126628e+09</td>\n",
       "      <td>1.571586</td>\n",
       "      <td>1.467709</td>\n",
       "      <td>-0.862275</td>\n",
       "      <td>1.665013</td>\n",
       "      <td>0.827068</td>\n",
       "      <td>2.049348</td>\n",
       "      <td>1.0</td>\n",
       "      <td>524.89600</td>\n",
       "      <td>False</td>\n",
       "    </tr>\n",
       "    <tr>\n",
       "      <th>2017-01-01 01:49:13.236552</th>\n",
       "      <td>160474430.0</td>\n",
       "      <td>134115120.0</td>\n",
       "      <td>113082936.0</td>\n",
       "      <td>106597736.0</td>\n",
       "      <td>118977260.0</td>\n",
       "      <td>157128700.0</td>\n",
       "      <td>234196500.0</td>\n",
       "      <td>368190240.0</td>\n",
       "      <td>588617700.0</td>\n",
       "      <td>9.143196e+08</td>\n",
       "      <td>1.280595e+09</td>\n",
       "      <td>1.386385e+09</td>\n",
       "      <td>1.020292e+09</td>\n",
       "      <td>546922600.0</td>\n",
       "      <td>238565300.0</td>\n",
       "      <td>95543030.0</td>\n",
       "      <td>34221956.0</td>\n",
       "      <td>10795790.0</td>\n",
       "      <td>3346869.8</td>\n",
       "      <td>1132098.6</td>\n",
       "      <td>1230606.6</td>\n",
       "      <td>1290689.8</td>\n",
       "      <td>1370548.60</td>\n",
       "      <td>1217164.6</td>\n",
       "      <td>1303508.00</td>\n",
       "      <td>1396131.6</td>\n",
       "      <td>1496823.2</td>\n",
       "      <td>1930027.9</td>\n",
       "      <td>1878429.5</td>\n",
       "      <td>675747.1</td>\n",
       "      <td>2085773.5</td>\n",
       "      <td>47.806107</td>\n",
       "      <td>-34.529873</td>\n",
       "      <td>-128.342510</td>\n",
       "      <td>0.091984</td>\n",
       "      <td>-0.000412</td>\n",
       "      <td>59.059840</td>\n",
       "      <td>62.034630</td>\n",
       "      <td>0.473132</td>\n",
       "      <td>0.000187</td>\n",
       "      <td>...</td>\n",
       "      <td>1385553.0</td>\n",
       "      <td>1053661.50</td>\n",
       "      <td>46.629120</td>\n",
       "      <td>-60.415287</td>\n",
       "      <td>-118.971080</td>\n",
       "      <td>-0.003761</td>\n",
       "      <td>0.163968</td>\n",
       "      <td>415.75192</td>\n",
       "      <td>523.83150</td>\n",
       "      <td>3.883746</td>\n",
       "      <td>0.074054</td>\n",
       "      <td>3.943084</td>\n",
       "      <td>0.049551</td>\n",
       "      <td>0.003202</td>\n",
       "      <td>3.105979</td>\n",
       "      <td>3.883746</td>\n",
       "      <td>0.074054</td>\n",
       "      <td>3.943084</td>\n",
       "      <td>0.049551</td>\n",
       "      <td>0.003202</td>\n",
       "      <td>3.105979</td>\n",
       "      <td>-0.206325</td>\n",
       "      <td>487.80496</td>\n",
       "      <td>1.097182</td>\n",
       "      <td>39.256162</td>\n",
       "      <td>6031.144668</td>\n",
       "      <td>3.003209</td>\n",
       "      <td>-17.920328</td>\n",
       "      <td>-18.677692</td>\n",
       "      <td>26.057890</td>\n",
       "      <td>5.403419e+08</td>\n",
       "      <td>-1.404753</td>\n",
       "      <td>2.396316</td>\n",
       "      <td>-0.572842</td>\n",
       "      <td>0.670425</td>\n",
       "      <td>-0.570290</td>\n",
       "      <td>1.050165</td>\n",
       "      <td>1.0</td>\n",
       "      <td>929.00616</td>\n",
       "      <td>False</td>\n",
       "    </tr>\n",
       "    <tr>\n",
       "      <th>2017-01-01 01:49:17.736573</th>\n",
       "      <td>143446660.0</td>\n",
       "      <td>120096200.0</td>\n",
       "      <td>103888320.0</td>\n",
       "      <td>99487384.0</td>\n",
       "      <td>114008050.0</td>\n",
       "      <td>152906400.0</td>\n",
       "      <td>228558100.0</td>\n",
       "      <td>359750530.0</td>\n",
       "      <td>572418500.0</td>\n",
       "      <td>8.799912e+08</td>\n",
       "      <td>1.192516e+09</td>\n",
       "      <td>1.208780e+09</td>\n",
       "      <td>8.369016e+08</td>\n",
       "      <td>437589570.0</td>\n",
       "      <td>191214960.0</td>\n",
       "      <td>78865330.0</td>\n",
       "      <td>28987052.0</td>\n",
       "      <td>9752265.0</td>\n",
       "      <td>3037489.2</td>\n",
       "      <td>1132141.2</td>\n",
       "      <td>1230653.4</td>\n",
       "      <td>1290740.1</td>\n",
       "      <td>1361307.60</td>\n",
       "      <td>1453176.6</td>\n",
       "      <td>1303684.90</td>\n",
       "      <td>1417762.9</td>\n",
       "      <td>1178981.4</td>\n",
       "      <td>1254457.6</td>\n",
       "      <td>1834328.2</td>\n",
       "      <td>1900604.5</td>\n",
       "      <td>1562550.4</td>\n",
       "      <td>43.848970</td>\n",
       "      <td>-17.841991</td>\n",
       "      <td>-80.636430</td>\n",
       "      <td>-0.017504</td>\n",
       "      <td>0.007353</td>\n",
       "      <td>55.005360</td>\n",
       "      <td>61.100243</td>\n",
       "      <td>0.432611</td>\n",
       "      <td>0.002111</td>\n",
       "      <td>...</td>\n",
       "      <td>1216220.0</td>\n",
       "      <td>1003711.90</td>\n",
       "      <td>42.998802</td>\n",
       "      <td>-37.589535</td>\n",
       "      <td>-101.116325</td>\n",
       "      <td>0.002284</td>\n",
       "      <td>0.062132</td>\n",
       "      <td>379.23505</td>\n",
       "      <td>442.85294</td>\n",
       "      <td>3.202901</td>\n",
       "      <td>-0.023277</td>\n",
       "      <td>2.898829</td>\n",
       "      <td>0.074439</td>\n",
       "      <td>-0.131550</td>\n",
       "      <td>2.612594</td>\n",
       "      <td>3.202901</td>\n",
       "      <td>-0.023277</td>\n",
       "      <td>2.898829</td>\n",
       "      <td>0.074439</td>\n",
       "      <td>-0.131550</td>\n",
       "      <td>2.612594</td>\n",
       "      <td>-0.143655</td>\n",
       "      <td>421.64697</td>\n",
       "      <td>1.625556</td>\n",
       "      <td>47.437222</td>\n",
       "      <td>5204.241455</td>\n",
       "      <td>0.250873</td>\n",
       "      <td>-3.805478</td>\n",
       "      <td>-25.772310</td>\n",
       "      <td>26.052958</td>\n",
       "      <td>5.401373e+08</td>\n",
       "      <td>-1.504967</td>\n",
       "      <td>1.586905</td>\n",
       "      <td>-0.357424</td>\n",
       "      <td>0.633575</td>\n",
       "      <td>-0.160308</td>\n",
       "      <td>0.744894</td>\n",
       "      <td>1.0</td>\n",
       "      <td>1132.09920</td>\n",
       "      <td>False</td>\n",
       "    </tr>\n",
       "    <tr>\n",
       "      <th>2017-01-01 01:49:22.236602</th>\n",
       "      <td>143115380.0</td>\n",
       "      <td>120483730.0</td>\n",
       "      <td>103335910.0</td>\n",
       "      <td>99983890.0</td>\n",
       "      <td>115342700.0</td>\n",
       "      <td>156445900.0</td>\n",
       "      <td>236307790.0</td>\n",
       "      <td>374869920.0</td>\n",
       "      <td>598786900.0</td>\n",
       "      <td>9.304425e+08</td>\n",
       "      <td>1.259985e+09</td>\n",
       "      <td>1.203378e+09</td>\n",
       "      <td>7.605617e+08</td>\n",
       "      <td>361202240.0</td>\n",
       "      <td>147414610.0</td>\n",
       "      <td>58348600.0</td>\n",
       "      <td>21312232.0</td>\n",
       "      <td>7609467.0</td>\n",
       "      <td>3276093.5</td>\n",
       "      <td>1132188.6</td>\n",
       "      <td>1230705.2</td>\n",
       "      <td>1290795.8</td>\n",
       "      <td>1361368.00</td>\n",
       "      <td>1443556.0</td>\n",
       "      <td>1548742.10</td>\n",
       "      <td>1391640.8</td>\n",
       "      <td>1787557.8</td>\n",
       "      <td>1927728.0</td>\n",
       "      <td>1754844.5</td>\n",
       "      <td>1890987.5</td>\n",
       "      <td>2347546.8</td>\n",
       "      <td>44.116190</td>\n",
       "      <td>-24.291311</td>\n",
       "      <td>-51.504208</td>\n",
       "      <td>-0.010656</td>\n",
       "      <td>-0.065078</td>\n",
       "      <td>56.319736</td>\n",
       "      <td>57.496597</td>\n",
       "      <td>0.405184</td>\n",
       "      <td>0.001348</td>\n",
       "      <td>...</td>\n",
       "      <td>1146827.8</td>\n",
       "      <td>996494.75</td>\n",
       "      <td>42.281338</td>\n",
       "      <td>-15.571530</td>\n",
       "      <td>-88.482050</td>\n",
       "      <td>-0.039505</td>\n",
       "      <td>0.037287</td>\n",
       "      <td>350.79077</td>\n",
       "      <td>375.92334</td>\n",
       "      <td>2.608262</td>\n",
       "      <td>0.016238</td>\n",
       "      <td>2.484871</td>\n",
       "      <td>-0.012547</td>\n",
       "      <td>-0.062605</td>\n",
       "      <td>2.376314</td>\n",
       "      <td>2.608262</td>\n",
       "      <td>0.016238</td>\n",
       "      <td>2.484871</td>\n",
       "      <td>-0.012547</td>\n",
       "      <td>-0.062605</td>\n",
       "      <td>2.376314</td>\n",
       "      <td>-0.066856</td>\n",
       "      <td>367.54580</td>\n",
       "      <td>2.437950</td>\n",
       "      <td>63.604532</td>\n",
       "      <td>4158.129041</td>\n",
       "      <td>0.571565</td>\n",
       "      <td>-26.909445</td>\n",
       "      <td>-33.616943</td>\n",
       "      <td>43.064415</td>\n",
       "      <td>1.475799e+09</td>\n",
       "      <td>-1.549559</td>\n",
       "      <td>0.414231</td>\n",
       "      <td>1.962965</td>\n",
       "      <td>1.813941</td>\n",
       "      <td>-1.001314</td>\n",
       "      <td>2.854163</td>\n",
       "      <td>1.0</td>\n",
       "      <td>257.55072</td>\n",
       "      <td>False</td>\n",
       "    </tr>\n",
       "    <tr>\n",
       "      <th>2017-01-01 01:49:26.736624</th>\n",
       "      <td>154996270.0</td>\n",
       "      <td>129635576.0</td>\n",
       "      <td>109879810.0</td>\n",
       "      <td>104667430.0</td>\n",
       "      <td>118939120.0</td>\n",
       "      <td>159722750.0</td>\n",
       "      <td>240743730.0</td>\n",
       "      <td>384687520.0</td>\n",
       "      <td>622868740.0</td>\n",
       "      <td>9.923178e+08</td>\n",
       "      <td>1.407102e+09</td>\n",
       "      <td>1.379264e+09</td>\n",
       "      <td>8.729052e+08</td>\n",
       "      <td>412877600.0</td>\n",
       "      <td>165255970.0</td>\n",
       "      <td>64202252.0</td>\n",
       "      <td>22482496.0</td>\n",
       "      <td>7437224.5</td>\n",
       "      <td>3127818.0</td>\n",
       "      <td>1132103.5</td>\n",
       "      <td>1230611.9</td>\n",
       "      <td>1290695.2</td>\n",
       "      <td>1361258.80</td>\n",
       "      <td>1443435.9</td>\n",
       "      <td>1492447.10</td>\n",
       "      <td>1570121.2</td>\n",
       "      <td>1725425.4</td>\n",
       "      <td>1605647.4</td>\n",
       "      <td>2037316.2</td>\n",
       "      <td>1869736.6</td>\n",
       "      <td>2320483.0</td>\n",
       "      <td>47.787876</td>\n",
       "      <td>-43.337650</td>\n",
       "      <td>-68.804990</td>\n",
       "      <td>-0.138768</td>\n",
       "      <td>-0.233581</td>\n",
       "      <td>56.954014</td>\n",
       "      <td>58.321754</td>\n",
       "      <td>0.449897</td>\n",
       "      <td>-0.001409</td>\n",
       "      <td>...</td>\n",
       "      <td>1509011.9</td>\n",
       "      <td>1205417.50</td>\n",
       "      <td>44.735374</td>\n",
       "      <td>-29.033060</td>\n",
       "      <td>-83.403510</td>\n",
       "      <td>-0.047671</td>\n",
       "      <td>-0.056385</td>\n",
       "      <td>396.54170</td>\n",
       "      <td>400.25833</td>\n",
       "      <td>2.947306</td>\n",
       "      <td>0.007026</td>\n",
       "      <td>2.790271</td>\n",
       "      <td>-0.076785</td>\n",
       "      <td>-0.311423</td>\n",
       "      <td>2.842150</td>\n",
       "      <td>2.947306</td>\n",
       "      <td>0.007026</td>\n",
       "      <td>2.790271</td>\n",
       "      <td>-0.076785</td>\n",
       "      <td>-0.311423</td>\n",
       "      <td>2.842150</td>\n",
       "      <td>-0.009286</td>\n",
       "      <td>399.01944</td>\n",
       "      <td>0.083262</td>\n",
       "      <td>57.780416</td>\n",
       "      <td>4519.709417</td>\n",
       "      <td>-1.338079</td>\n",
       "      <td>-25.596290</td>\n",
       "      <td>-35.260128</td>\n",
       "      <td>43.591710</td>\n",
       "      <td>1.512161e+09</td>\n",
       "      <td>-1.623025</td>\n",
       "      <td>0.009667</td>\n",
       "      <td>1.674221</td>\n",
       "      <td>0.755573</td>\n",
       "      <td>-0.422870</td>\n",
       "      <td>1.884867</td>\n",
       "      <td>1.0</td>\n",
       "      <td>423.39264</td>\n",
       "      <td>False</td>\n",
       "    </tr>\n",
       "    <tr>\n",
       "      <th>...</th>\n",
       "      <td>...</td>\n",
       "      <td>...</td>\n",
       "      <td>...</td>\n",
       "      <td>...</td>\n",
       "      <td>...</td>\n",
       "      <td>...</td>\n",
       "      <td>...</td>\n",
       "      <td>...</td>\n",
       "      <td>...</td>\n",
       "      <td>...</td>\n",
       "      <td>...</td>\n",
       "      <td>...</td>\n",
       "      <td>...</td>\n",
       "      <td>...</td>\n",
       "      <td>...</td>\n",
       "      <td>...</td>\n",
       "      <td>...</td>\n",
       "      <td>...</td>\n",
       "      <td>...</td>\n",
       "      <td>...</td>\n",
       "      <td>...</td>\n",
       "      <td>...</td>\n",
       "      <td>...</td>\n",
       "      <td>...</td>\n",
       "      <td>...</td>\n",
       "      <td>...</td>\n",
       "      <td>...</td>\n",
       "      <td>...</td>\n",
       "      <td>...</td>\n",
       "      <td>...</td>\n",
       "      <td>...</td>\n",
       "      <td>...</td>\n",
       "      <td>...</td>\n",
       "      <td>...</td>\n",
       "      <td>...</td>\n",
       "      <td>...</td>\n",
       "      <td>...</td>\n",
       "      <td>...</td>\n",
       "      <td>...</td>\n",
       "      <td>...</td>\n",
       "      <td>...</td>\n",
       "      <td>...</td>\n",
       "      <td>...</td>\n",
       "      <td>...</td>\n",
       "      <td>...</td>\n",
       "      <td>...</td>\n",
       "      <td>...</td>\n",
       "      <td>...</td>\n",
       "      <td>...</td>\n",
       "      <td>...</td>\n",
       "      <td>...</td>\n",
       "      <td>...</td>\n",
       "      <td>...</td>\n",
       "      <td>...</td>\n",
       "      <td>...</td>\n",
       "      <td>...</td>\n",
       "      <td>...</td>\n",
       "      <td>...</td>\n",
       "      <td>...</td>\n",
       "      <td>...</td>\n",
       "      <td>...</td>\n",
       "      <td>...</td>\n",
       "      <td>...</td>\n",
       "      <td>...</td>\n",
       "      <td>...</td>\n",
       "      <td>...</td>\n",
       "      <td>...</td>\n",
       "      <td>...</td>\n",
       "      <td>...</td>\n",
       "      <td>...</td>\n",
       "      <td>...</td>\n",
       "      <td>...</td>\n",
       "      <td>...</td>\n",
       "      <td>...</td>\n",
       "      <td>...</td>\n",
       "      <td>...</td>\n",
       "      <td>...</td>\n",
       "      <td>...</td>\n",
       "      <td>...</td>\n",
       "      <td>...</td>\n",
       "      <td>...</td>\n",
       "    </tr>\n",
       "    <tr>\n",
       "      <th>2017-01-31 01:59:37.612761</th>\n",
       "      <td>195522660.0</td>\n",
       "      <td>169047760.0</td>\n",
       "      <td>151144740.0</td>\n",
       "      <td>155255970.0</td>\n",
       "      <td>187461070.0</td>\n",
       "      <td>260878460.0</td>\n",
       "      <td>391024700.0</td>\n",
       "      <td>601519170.0</td>\n",
       "      <td>933239230.0</td>\n",
       "      <td>1.431671e+09</td>\n",
       "      <td>2.001644e+09</td>\n",
       "      <td>1.911962e+09</td>\n",
       "      <td>9.213409e+08</td>\n",
       "      <td>266009100.0</td>\n",
       "      <td>70228190.0</td>\n",
       "      <td>23561248.0</td>\n",
       "      <td>8219571.0</td>\n",
       "      <td>3132344.0</td>\n",
       "      <td>1069388.6</td>\n",
       "      <td>1156007.0</td>\n",
       "      <td>1205684.8</td>\n",
       "      <td>1285194.1</td>\n",
       "      <td>776630.40</td>\n",
       "      <td>1443075.8</td>\n",
       "      <td>1507529.50</td>\n",
       "      <td>1614608.1</td>\n",
       "      <td>1747582.8</td>\n",
       "      <td>1609458.8</td>\n",
       "      <td>2050434.2</td>\n",
       "      <td>2227281.8</td>\n",
       "      <td>2083288.2</td>\n",
       "      <td>66.366800</td>\n",
       "      <td>-114.178600</td>\n",
       "      <td>-66.354935</td>\n",
       "      <td>0.118533</td>\n",
       "      <td>-0.167590</td>\n",
       "      <td>54.738000</td>\n",
       "      <td>49.998760</td>\n",
       "      <td>0.542538</td>\n",
       "      <td>0.017298</td>\n",
       "      <td>...</td>\n",
       "      <td>1173978.5</td>\n",
       "      <td>946332.50</td>\n",
       "      <td>46.211296</td>\n",
       "      <td>-99.599365</td>\n",
       "      <td>-137.597990</td>\n",
       "      <td>-0.087668</td>\n",
       "      <td>-0.111775</td>\n",
       "      <td>269.56824</td>\n",
       "      <td>291.43158</td>\n",
       "      <td>2.067940</td>\n",
       "      <td>-0.059106</td>\n",
       "      <td>2.042181</td>\n",
       "      <td>0.032945</td>\n",
       "      <td>0.023344</td>\n",
       "      <td>2.201118</td>\n",
       "      <td>2.067940</td>\n",
       "      <td>-0.059106</td>\n",
       "      <td>2.042181</td>\n",
       "      <td>0.032945</td>\n",
       "      <td>0.023344</td>\n",
       "      <td>2.201118</td>\n",
       "      <td>-0.075020</td>\n",
       "      <td>284.14380</td>\n",
       "      <td>2.026775</td>\n",
       "      <td>10.799598</td>\n",
       "      <td>722.083772</td>\n",
       "      <td>-12.985076</td>\n",
       "      <td>-21.649717</td>\n",
       "      <td>3.804093</td>\n",
       "      <td>25.530249</td>\n",
       "      <td>5.186808e+08</td>\n",
       "      <td>-2.111054</td>\n",
       "      <td>1.825885</td>\n",
       "      <td>0.569317</td>\n",
       "      <td>-1.014906</td>\n",
       "      <td>-0.478203</td>\n",
       "      <td>1.258107</td>\n",
       "      <td>1.0</td>\n",
       "      <td>451.70038</td>\n",
       "      <td>False</td>\n",
       "    </tr>\n",
       "    <tr>\n",
       "      <th>2017-01-31 01:59:42.112805</th>\n",
       "      <td>188999890.0</td>\n",
       "      <td>167058830.0</td>\n",
       "      <td>153385100.0</td>\n",
       "      <td>160276850.0</td>\n",
       "      <td>194781820.0</td>\n",
       "      <td>265345520.0</td>\n",
       "      <td>388861400.0</td>\n",
       "      <td>597449200.0</td>\n",
       "      <td>947348600.0</td>\n",
       "      <td>1.491336e+09</td>\n",
       "      <td>1.999952e+09</td>\n",
       "      <td>1.605463e+09</td>\n",
       "      <td>6.863398e+08</td>\n",
       "      <td>206139580.0</td>\n",
       "      <td>60198680.0</td>\n",
       "      <td>21560316.0</td>\n",
       "      <td>8027363.5</td>\n",
       "      <td>3163052.5</td>\n",
       "      <td>1069362.9</td>\n",
       "      <td>1155979.5</td>\n",
       "      <td>1205655.9</td>\n",
       "      <td>1227593.4</td>\n",
       "      <td>1093269.80</td>\n",
       "      <td>1310439.9</td>\n",
       "      <td>1257120.90</td>\n",
       "      <td>1626893.6</td>\n",
       "      <td>1687317.9</td>\n",
       "      <td>1547724.2</td>\n",
       "      <td>1889413.2</td>\n",
       "      <td>1736235.6</td>\n",
       "      <td>2222297.0</td>\n",
       "      <td>64.247070</td>\n",
       "      <td>-114.180830</td>\n",
       "      <td>-57.873524</td>\n",
       "      <td>0.079878</td>\n",
       "      <td>-0.027051</td>\n",
       "      <td>49.837917</td>\n",
       "      <td>48.950280</td>\n",
       "      <td>0.507997</td>\n",
       "      <td>-0.001615</td>\n",
       "      <td>...</td>\n",
       "      <td>1173978.5</td>\n",
       "      <td>946332.50</td>\n",
       "      <td>46.211296</td>\n",
       "      <td>-99.599365</td>\n",
       "      <td>-137.597990</td>\n",
       "      <td>-0.087668</td>\n",
       "      <td>-0.111775</td>\n",
       "      <td>269.56824</td>\n",
       "      <td>291.43158</td>\n",
       "      <td>2.067940</td>\n",
       "      <td>-0.059106</td>\n",
       "      <td>2.042181</td>\n",
       "      <td>0.032945</td>\n",
       "      <td>0.023344</td>\n",
       "      <td>2.201118</td>\n",
       "      <td>2.067940</td>\n",
       "      <td>-0.059106</td>\n",
       "      <td>2.042181</td>\n",
       "      <td>0.032945</td>\n",
       "      <td>0.023344</td>\n",
       "      <td>2.201118</td>\n",
       "      <td>-0.075020</td>\n",
       "      <td>284.14380</td>\n",
       "      <td>2.026775</td>\n",
       "      <td>10.799598</td>\n",
       "      <td>722.083772</td>\n",
       "      <td>-15.436447</td>\n",
       "      <td>11.214994</td>\n",
       "      <td>4.809845</td>\n",
       "      <td>19.677261</td>\n",
       "      <td>3.081197e+08</td>\n",
       "      <td>2.513284</td>\n",
       "      <td>2.099205</td>\n",
       "      <td>1.721005</td>\n",
       "      <td>-1.033757</td>\n",
       "      <td>1.900864</td>\n",
       "      <td>2.764742</td>\n",
       "      <td>1.0</td>\n",
       "      <td>205.54817</td>\n",
       "      <td>False</td>\n",
       "    </tr>\n",
       "    <tr>\n",
       "      <th>2017-01-31 01:59:46.612839</th>\n",
       "      <td>156668940.0</td>\n",
       "      <td>136574260.0</td>\n",
       "      <td>123834980.0</td>\n",
       "      <td>129313670.0</td>\n",
       "      <td>158046480.0</td>\n",
       "      <td>222452110.0</td>\n",
       "      <td>343151600.0</td>\n",
       "      <td>552882500.0</td>\n",
       "      <td>898671700.0</td>\n",
       "      <td>1.377260e+09</td>\n",
       "      <td>1.645098e+09</td>\n",
       "      <td>1.142623e+09</td>\n",
       "      <td>4.697292e+08</td>\n",
       "      <td>148775630.0</td>\n",
       "      <td>47467200.0</td>\n",
       "      <td>18703922.0</td>\n",
       "      <td>7264802.5</td>\n",
       "      <td>2508120.0</td>\n",
       "      <td>1085820.6</td>\n",
       "      <td>1155923.6</td>\n",
       "      <td>1167832.6</td>\n",
       "      <td>1042989.0</td>\n",
       "      <td>1352492.10</td>\n",
       "      <td>1176428.9</td>\n",
       "      <td>1383997.80</td>\n",
       "      <td>1534980.2</td>\n",
       "      <td>1675194.2</td>\n",
       "      <td>1783336.1</td>\n",
       "      <td>1992431.1</td>\n",
       "      <td>1171974.1</td>\n",
       "      <td>2034246.5</td>\n",
       "      <td>53.937880</td>\n",
       "      <td>-147.811950</td>\n",
       "      <td>-66.332436</td>\n",
       "      <td>0.031849</td>\n",
       "      <td>0.021172</td>\n",
       "      <td>48.725334</td>\n",
       "      <td>47.522090</td>\n",
       "      <td>0.415525</td>\n",
       "      <td>-0.001351</td>\n",
       "      <td>...</td>\n",
       "      <td>1173978.5</td>\n",
       "      <td>946332.50</td>\n",
       "      <td>46.211296</td>\n",
       "      <td>-99.599365</td>\n",
       "      <td>-137.597990</td>\n",
       "      <td>-0.087668</td>\n",
       "      <td>-0.111775</td>\n",
       "      <td>269.56824</td>\n",
       "      <td>291.43158</td>\n",
       "      <td>2.067940</td>\n",
       "      <td>-0.059106</td>\n",
       "      <td>2.042181</td>\n",
       "      <td>0.032945</td>\n",
       "      <td>0.023344</td>\n",
       "      <td>2.201118</td>\n",
       "      <td>2.067940</td>\n",
       "      <td>-0.059106</td>\n",
       "      <td>2.042181</td>\n",
       "      <td>0.032945</td>\n",
       "      <td>0.023344</td>\n",
       "      <td>2.201118</td>\n",
       "      <td>-0.075020</td>\n",
       "      <td>284.14380</td>\n",
       "      <td>2.026775</td>\n",
       "      <td>10.799598</td>\n",
       "      <td>722.083772</td>\n",
       "      <td>9.732903</td>\n",
       "      <td>-5.534757</td>\n",
       "      <td>21.615046</td>\n",
       "      <td>24.342825</td>\n",
       "      <td>4.715547e+08</td>\n",
       "      <td>-0.517060</td>\n",
       "      <td>2.347574</td>\n",
       "      <td>2.787715</td>\n",
       "      <td>-2.293623</td>\n",
       "      <td>-2.082477</td>\n",
       "      <td>4.167586</td>\n",
       "      <td>1.0</td>\n",
       "      <td>136.35893</td>\n",
       "      <td>False</td>\n",
       "    </tr>\n",
       "    <tr>\n",
       "      <th>2017-01-31 01:59:51.112882</th>\n",
       "      <td>148339340.0</td>\n",
       "      <td>131617280.0</td>\n",
       "      <td>123383950.0</td>\n",
       "      <td>133689650.0</td>\n",
       "      <td>169121890.0</td>\n",
       "      <td>242394990.0</td>\n",
       "      <td>371708160.0</td>\n",
       "      <td>592586500.0</td>\n",
       "      <td>940750800.0</td>\n",
       "      <td>1.356828e+09</td>\n",
       "      <td>1.457272e+09</td>\n",
       "      <td>9.310631e+08</td>\n",
       "      <td>3.592990e+08</td>\n",
       "      <td>107206430.0</td>\n",
       "      <td>34867150.0</td>\n",
       "      <td>14601406.0</td>\n",
       "      <td>5957955.0</td>\n",
       "      <td>1804840.9</td>\n",
       "      <td>1102969.0</td>\n",
       "      <td>1155993.6</td>\n",
       "      <td>1165338.0</td>\n",
       "      <td>1181596.9</td>\n",
       "      <td>630540.94</td>\n",
       "      <td>1371131.6</td>\n",
       "      <td>1339956.00</td>\n",
       "      <td>1473016.6</td>\n",
       "      <td>1658352.9</td>\n",
       "      <td>1457381.9</td>\n",
       "      <td>1135691.6</td>\n",
       "      <td>2071354.1</td>\n",
       "      <td>2416306.0</td>\n",
       "      <td>52.308780</td>\n",
       "      <td>-141.634200</td>\n",
       "      <td>-85.162560</td>\n",
       "      <td>-0.031770</td>\n",
       "      <td>0.035757</td>\n",
       "      <td>45.698080</td>\n",
       "      <td>44.961994</td>\n",
       "      <td>0.374102</td>\n",
       "      <td>-0.003214</td>\n",
       "      <td>...</td>\n",
       "      <td>1173978.5</td>\n",
       "      <td>946332.50</td>\n",
       "      <td>46.211296</td>\n",
       "      <td>-99.599365</td>\n",
       "      <td>-137.597990</td>\n",
       "      <td>-0.087668</td>\n",
       "      <td>-0.111775</td>\n",
       "      <td>269.56824</td>\n",
       "      <td>291.43158</td>\n",
       "      <td>2.067940</td>\n",
       "      <td>-0.059106</td>\n",
       "      <td>2.042181</td>\n",
       "      <td>0.032945</td>\n",
       "      <td>0.023344</td>\n",
       "      <td>2.201118</td>\n",
       "      <td>2.067940</td>\n",
       "      <td>-0.059106</td>\n",
       "      <td>2.042181</td>\n",
       "      <td>0.032945</td>\n",
       "      <td>0.023344</td>\n",
       "      <td>2.201118</td>\n",
       "      <td>-0.075020</td>\n",
       "      <td>284.14380</td>\n",
       "      <td>2.026775</td>\n",
       "      <td>10.799598</td>\n",
       "      <td>722.083772</td>\n",
       "      <td>13.513677</td>\n",
       "      <td>-6.461386</td>\n",
       "      <td>29.848564</td>\n",
       "      <td>33.396190</td>\n",
       "      <td>8.875320e+08</td>\n",
       "      <td>-0.446005</td>\n",
       "      <td>3.369051</td>\n",
       "      <td>3.261839</td>\n",
       "      <td>-4.248680</td>\n",
       "      <td>-2.128106</td>\n",
       "      <td>5.763654</td>\n",
       "      <td>1.0</td>\n",
       "      <td>98.59849</td>\n",
       "      <td>False</td>\n",
       "    </tr>\n",
       "    <tr>\n",
       "      <th>2017-01-31 01:59:55.612917</th>\n",
       "      <td>135440930.0</td>\n",
       "      <td>119457550.0</td>\n",
       "      <td>111787400.0</td>\n",
       "      <td>121276030.0</td>\n",
       "      <td>155176540.0</td>\n",
       "      <td>227165100.0</td>\n",
       "      <td>355259520.0</td>\n",
       "      <td>570692000.0</td>\n",
       "      <td>891547700.0</td>\n",
       "      <td>1.239421e+09</td>\n",
       "      <td>1.285931e+09</td>\n",
       "      <td>8.412920e+08</td>\n",
       "      <td>3.517979e+08</td>\n",
       "      <td>116526360.0</td>\n",
       "      <td>41865636.0</td>\n",
       "      <td>18613406.0</td>\n",
       "      <td>8321585.5</td>\n",
       "      <td>3825070.0</td>\n",
       "      <td>1326246.5</td>\n",
       "      <td>1155995.0</td>\n",
       "      <td>1205672.4</td>\n",
       "      <td>1224776.4</td>\n",
       "      <td>1275854.50</td>\n",
       "      <td>1217636.2</td>\n",
       "      <td>838192.25</td>\n",
       "      <td>1057988.5</td>\n",
       "      <td>1786348.4</td>\n",
       "      <td>1358997.8</td>\n",
       "      <td>2065777.1</td>\n",
       "      <td>2144108.0</td>\n",
       "      <td>2296880.8</td>\n",
       "      <td>48.376137</td>\n",
       "      <td>-109.131290</td>\n",
       "      <td>-104.492080</td>\n",
       "      <td>-0.023458</td>\n",
       "      <td>-0.053285</td>\n",
       "      <td>46.801380</td>\n",
       "      <td>45.059790</td>\n",
       "      <td>0.350553</td>\n",
       "      <td>-0.002084</td>\n",
       "      <td>...</td>\n",
       "      <td>1173978.5</td>\n",
       "      <td>946332.50</td>\n",
       "      <td>46.211296</td>\n",
       "      <td>-99.599365</td>\n",
       "      <td>-137.597990</td>\n",
       "      <td>-0.087668</td>\n",
       "      <td>-0.111775</td>\n",
       "      <td>269.56824</td>\n",
       "      <td>291.43158</td>\n",
       "      <td>2.067940</td>\n",
       "      <td>-0.059106</td>\n",
       "      <td>2.042181</td>\n",
       "      <td>0.032945</td>\n",
       "      <td>0.023344</td>\n",
       "      <td>2.201118</td>\n",
       "      <td>2.067940</td>\n",
       "      <td>-0.059106</td>\n",
       "      <td>2.042181</td>\n",
       "      <td>0.032945</td>\n",
       "      <td>0.023344</td>\n",
       "      <td>2.201118</td>\n",
       "      <td>-0.075020</td>\n",
       "      <td>284.14380</td>\n",
       "      <td>2.026775</td>\n",
       "      <td>10.799598</td>\n",
       "      <td>722.083772</td>\n",
       "      <td>-9.631133</td>\n",
       "      <td>29.820732</td>\n",
       "      <td>-9.856265</td>\n",
       "      <td>32.850887</td>\n",
       "      <td>8.587848e+08</td>\n",
       "      <td>1.883189</td>\n",
       "      <td>3.069619</td>\n",
       "      <td>-0.251488</td>\n",
       "      <td>1.193291</td>\n",
       "      <td>0.494789</td>\n",
       "      <td>1.316057</td>\n",
       "      <td>1.0</td>\n",
       "      <td>431.81090</td>\n",
       "      <td>False</td>\n",
       "    </tr>\n",
       "  </tbody>\n",
       "</table>\n",
       "<p>302188 rows × 124 columns</p>\n",
       "</div>"
      ],
      "text/plain": [
       "                            mms1_des_energyspectr_omni_fast_0  ...  selected\n",
       "Epoch                                                          ...          \n",
       "2017-01-01 01:49:08.736524                        172560370.0  ...     False\n",
       "2017-01-01 01:49:13.236552                        160474430.0  ...     False\n",
       "2017-01-01 01:49:17.736573                        143446660.0  ...     False\n",
       "2017-01-01 01:49:22.236602                        143115380.0  ...     False\n",
       "2017-01-01 01:49:26.736624                        154996270.0  ...     False\n",
       "...                                                       ...  ...       ...\n",
       "2017-01-31 01:59:37.612761                        195522660.0  ...     False\n",
       "2017-01-31 01:59:42.112805                        188999890.0  ...     False\n",
       "2017-01-31 01:59:46.612839                        156668940.0  ...     False\n",
       "2017-01-31 01:59:51.112882                        148339340.0  ...     False\n",
       "2017-01-31 01:59:55.612917                        135440930.0  ...     False\n",
       "\n",
       "[302188 rows x 124 columns]"
      ]
     },
     "execution_count": 6,
     "metadata": {
      "tags": []
     },
     "output_type": "execute_result"
    }
   ],
   "source": [
    "mms_data[mms_data['selected'] == False]"
   ]
  },
  {
   "cell_type": "markdown",
   "metadata": {
    "colab_type": "text",
    "id": "Fe4HZy7CHvFF"
   },
   "source": [
    "We save references to data's index and column names for later use and additionally pop off the ground truths column. We will reattach the ground truths column after standardizing and interpolating the data."
   ]
  },
  {
   "cell_type": "code",
   "execution_count": 7,
   "metadata": {
    "colab": {},
    "colab_type": "code",
    "id": "d2bm6URzIeFT"
   },
   "outputs": [],
   "source": [
    "index = mms_data.index\n",
    "selections = mms_data.pop(\"selected\")\n",
    "column_names = mms_data.columns"
   ]
  },
  {
   "cell_type": "markdown",
   "metadata": {
    "colab_type": "text",
    "id": "9gBjgkNsJvPV"
   },
   "source": [
    "Since there exists a possibility that the training contains missing data or data misreported by the MMS spacecraft (reported as either infinity or negative infinity), we need to fill in (interpolate) any missing data."
   ]
  },
  {
   "cell_type": "code",
   "execution_count": 8,
   "metadata": {
    "colab": {},
    "colab_type": "code",
    "id": "IBg8Fds8KIhW"
   },
   "outputs": [],
   "source": [
    "mms_data = mms_data.replace([np.inf, -np.inf], np.nan)\n",
    "mms_data = mms_data.interpolate(method='time', limit_area='inside')"
   ]
  },
  {
   "cell_type": "markdown",
   "metadata": {
    "colab_type": "text",
    "id": "rdMDvmcYLQ-1"
   },
   "source": [
    "We normalize all features with standardization:\n",
    "\n",
    "![z = (x - u) / s ](https://wikimedia.org/api/rest_v1/media/math/render/svg/b0aa2e7d203db1526c577192f2d9102b718eafd5)\n",
    "\n",
    "Where x̄ is the mean of the data, and σ is the standard deviation of the data.\n",
    "\n",
    "Normalization ensures that the numerical values of all features of the data fall within a range from one to negative one and are centered around their mean (zero-mean and unit variance). Normalization improves the speed and performance of training neural networks as it unifies the scale by which differences in the data are represented without altering the data themselves."
   ]
  },
  {
   "cell_type": "code",
   "execution_count": 9,
   "metadata": {
    "colab": {},
    "colab_type": "code",
    "id": "pXlE0dj_PbqI"
   },
   "outputs": [],
   "source": [
    "scaler = preprocessing.StandardScaler()\n",
    "mms_data = scaler.fit_transform(mms_data)\n",
    "mms_data = pd.DataFrame(mms_data, index, column_names)\n",
    "mms_data = mms_data.join(selections)"
   ]
  },
  {
   "cell_type": "markdown",
   "metadata": {
    "colab_type": "text",
    "id": "HytkkKWLR6KS"
   },
   "source": [
    "Next, we calculate class weights for our data classes (selected data points and non-selected data points). Since the distribution of our data is heavily skewed towards non-selected data points (just 1.9% of all data points in our training data were selected), it's important to give the class of selected data points a higher weight when training. In fact, without establishing these class weights our model would quickly acheive 98% accuracy by naively leaving all data points unselected."
   ]
  },
  {
   "cell_type": "code",
   "execution_count": 10,
   "metadata": {
    "colab": {},
    "colab_type": "code",
    "id": "03pNFL5zTINT"
   },
   "outputs": [],
   "source": [
    "false_weight = len(mms_data)/(2*np.bincount(mms_data['selected'].values)[0])\n",
    "true_weight = len(mms_data)/(2*np.bincount(mms_data['selected'].values)[1])"
   ]
  },
  {
   "cell_type": "markdown",
   "metadata": {
    "colab_type": "text",
    "id": "ckN-_FOuTlI4"
   },
   "source": [
    "Our entire dataset is not contigous, and it contains time intervals with no observations. Therefore, we break it up into contigous chunks. We can do so by breaking up the data into the windows that the SITLs used to review the data."
   ]
  },
  {
   "cell_type": "code",
   "execution_count": 11,
   "metadata": {
    "colab": {},
    "colab_type": "code",
    "id": "vuoPyoU5UV3Q"
   },
   "outputs": [],
   "source": [
    "sitl_windows = mms.mission_events('sroi', mms_data.index[0].to_pydatetime(), mms_data.index[-1].to_pydatetime(), sc='mms1')\n",
    "windows = []\n",
    "for start, end in zip(sitl_windows['tstart'], sitl_windows['tend']):\n",
    "  window = mms_data[start:end]\n",
    "  if not window.empty and len(window[window['selected']==True])>1:\n",
    "    windows.append(window)"
   ]
  },
  {
   "cell_type": "code",
   "execution_count": 12,
   "metadata": {
    "colab": {
     "base_uri": "https://localhost:8080/",
     "height": 1000
    },
    "colab_type": "code",
    "id": "cyCpZWhRfIOc",
    "outputId": "a97a2573-9b4d-4e08-b718-ad7c3463c2d9"
   },
   "outputs": [
    {
     "data": {
      "text/plain": [
       "[                            mms1_des_energyspectr_omni_fast_0  ...  selected\n",
       " Epoch                                                          ...          \n",
       " 2017-01-01 01:49:31.236651                           1.883959  ...     False\n",
       " 2017-01-01 01:49:35.736674                           1.458570  ...     False\n",
       " 2017-01-01 01:49:40.236701                           1.368072  ...     False\n",
       " 2017-01-01 01:49:44.736723                           1.338055  ...     False\n",
       " 2017-01-01 01:49:49.236750                           1.660276  ...     False\n",
       " ...                                                       ...  ...       ...\n",
       " 2017-01-01 15:42:28.613021                          -0.710802  ...     False\n",
       " 2017-01-01 15:42:33.113061                          -0.251731  ...     False\n",
       " 2017-01-01 15:42:37.613092                          -0.093185  ...     False\n",
       " 2017-01-01 15:42:42.113131                          -0.247850  ...     False\n",
       " 2017-01-01 15:42:46.613161                          -0.708025  ...     False\n",
       " \n",
       " [11111 rows x 124 columns],\n",
       "                             mms1_des_energyspectr_omni_fast_0  ...  selected\n",
       " Epoch                                                          ...          \n",
       " 2017-01-02 01:39:35.994680                           0.320164  ...     False\n",
       " 2017-01-02 01:39:40.494716                           0.196985  ...     False\n",
       " 2017-01-02 01:39:44.994745                           0.157529  ...     False\n",
       " 2017-01-02 01:39:49.494779                           0.300838  ...     False\n",
       " 2017-01-02 01:39:53.994809                           0.211870  ...     False\n",
       " ...                                                       ...  ...       ...\n",
       " 2017-01-02 15:32:28.885849                          -0.294389  ...     False\n",
       " 2017-01-02 15:32:33.385891                          -0.736511  ...     False\n",
       " 2017-01-02 15:32:37.885924                          -1.195971  ...     False\n",
       " 2017-01-02 15:32:42.385967                          -1.370307  ...     False\n",
       " 2017-01-02 15:32:46.886000                          -1.384843  ...     False\n",
       " \n",
       " [11110 rows x 124 columns],\n",
       "                             mms1_des_energyspectr_omni_fast_0  ...  selected\n",
       " Epoch                                                          ...          \n",
       " 2017-01-03 01:34:28.067529                           0.549291  ...     False\n",
       " 2017-01-03 01:34:32.567559                           0.407271  ...     False\n",
       " 2017-01-03 01:34:37.067596                           0.337537  ...     False\n",
       " 2017-01-03 01:34:41.567624                           0.476185  ...     False\n",
       " 2017-01-03 01:34:46.067661                           0.387942  ...     False\n",
       " ...                                                       ...  ...       ...\n",
       " 2017-01-03 15:27:29.959758                           2.154355  ...     False\n",
       " 2017-01-03 15:27:34.459798                           2.084295  ...     False\n",
       " 2017-01-03 15:27:38.959830                           2.215957  ...     False\n",
       " 2017-01-03 15:27:43.459870                           2.168310  ...     False\n",
       " 2017-01-03 15:27:47.959902                           2.102627  ...     False\n",
       " \n",
       " [11112 rows x 124 columns],\n",
       "                             mms1_des_energyspectr_omni_fast_0  ...  selected\n",
       " Epoch                                                          ...          \n",
       " 2017-01-04 01:29:30.169168                           0.265701  ...     False\n",
       " 2017-01-04 01:29:34.669196                           0.287085  ...     False\n",
       " 2017-01-04 01:29:39.169233                           0.482386  ...     False\n",
       " 2017-01-04 01:29:43.669261                           0.021679  ...     False\n",
       " 2017-01-04 01:29:48.169297                          -0.160651  ...     False\n",
       " ...                                                       ...  ...       ...\n",
       " 2017-01-04 15:22:27.565195                          -0.666403  ...     False\n",
       " 2017-01-04 15:22:32.065236                          -0.602717  ...     False\n",
       " 2017-01-04 15:22:36.565269                          -0.642503  ...     False\n",
       " 2017-01-04 15:22:41.065311                          -0.610725  ...     False\n",
       " 2017-01-04 15:22:45.565345                          -0.660693  ...     False\n",
       " \n",
       " [11111 rows x 124 columns],\n",
       "                             mms1_des_energyspectr_omni_fast_0  ...  selected\n",
       " Epoch                                                          ...          \n",
       " 2017-01-05 01:19:35.672379                           0.927498  ...     False\n",
       " 2017-01-05 01:19:40.172417                           0.804923  ...     False\n",
       " 2017-01-05 01:19:44.672446                           1.021925  ...     False\n",
       " 2017-01-05 01:19:49.172483                           0.780899  ...     False\n",
       " 2017-01-05 01:19:53.672513                           0.700766  ...     False\n",
       " ...                                                       ...  ...       ...\n",
       " 2017-01-05 15:12:28.574822                           0.022651  ...     False\n",
       " 2017-01-05 15:12:33.074864                          -0.033623  ...     False\n",
       " 2017-01-05 15:12:37.574897                          -0.141828  ...     False\n",
       " 2017-01-05 15:12:42.074939                          -0.203950  ...     False\n",
       " 2017-01-05 15:12:46.574971                          -0.221731  ...     False\n",
       " \n",
       " [9510 rows x 124 columns],\n",
       "                             mms1_des_energyspectr_omni_fast_0  ...  selected\n",
       " Epoch                                                          ...          \n",
       " 2017-01-06 01:14:31.176632                          -0.941931  ...     False\n",
       " 2017-01-06 01:14:35.676662                           0.299075  ...     False\n",
       " 2017-01-06 01:14:40.176699                           0.678641  ...     False\n",
       " 2017-01-06 01:14:44.676728                           0.428966  ...     False\n",
       " 2017-01-06 01:14:49.176766                           0.655676  ...     False\n",
       " ...                                                       ...  ...       ...\n",
       " 2017-01-06 13:59:40.546992                          -1.342667  ...      True\n",
       " 2017-01-06 13:59:45.047032                          -1.300301  ...      True\n",
       " 2017-01-06 13:59:49.547066                          -1.278993  ...      True\n",
       " 2017-01-06 13:59:54.047106                          -1.267142  ...      True\n",
       " 2017-01-06 13:59:58.547140                          -1.197250  ...      True\n",
       " \n",
       " [10207 rows x 124 columns],\n",
       "                             mms1_des_energyspectr_omni_fast_0  ...  selected\n",
       " Epoch                                                          ...          \n",
       " 2017-01-07 02:00:02.850541                           0.578615  ...     False\n",
       " 2017-01-07 02:00:07.350580                           0.330658  ...     False\n",
       " 2017-01-07 02:00:11.850611                           0.615171  ...     False\n",
       " 2017-01-07 02:00:16.350650                           0.575314  ...     False\n",
       " 2017-01-07 02:00:20.850681                           0.645435  ...     False\n",
       " ...                                                       ...  ...       ...\n",
       " 2017-01-07 14:57:25.736533                           0.171769  ...     False\n",
       " 2017-01-07 14:57:30.236577                           0.024648  ...     False\n",
       " 2017-01-07 14:57:34.736611                           0.036262  ...     False\n",
       " 2017-01-07 14:57:39.236655                           0.129640  ...     False\n",
       " 2017-01-07 14:57:43.736689                           0.209871  ...     False\n",
       " \n",
       " [10370 rows x 124 columns],\n",
       "                             mms1_des_energyspectr_omni_fast_0  ...  selected\n",
       " Epoch                                                          ...          \n",
       " 2017-01-08 00:59:30.743854                          -0.149322  ...     False\n",
       " 2017-01-08 00:59:35.243893                           0.051192  ...     False\n",
       " 2017-01-08 00:59:39.743923                          -0.109274  ...     False\n",
       " 2017-01-08 00:59:44.243962                          -0.134377  ...     False\n",
       " 2017-01-08 00:59:48.743993                           0.040231  ...     False\n",
       " ...                                                       ...  ...       ...\n",
       " 2017-01-08 14:52:28.160111                          -1.145365  ...     False\n",
       " 2017-01-08 14:52:32.660144                          -1.120129  ...     False\n",
       " 2017-01-08 14:52:37.160187                          -0.970623  ...     False\n",
       " 2017-01-08 14:52:41.660221                          -1.047322  ...     False\n",
       " 2017-01-08 14:52:46.160263                          -1.139481  ...     False\n",
       " \n",
       " [11111 rows x 124 columns],\n",
       "                             mms1_des_energyspectr_omni_fast_0  ...  selected\n",
       " Epoch                                                          ...          \n",
       " 2017-01-09 00:54:34.297495                           0.150986  ...     False\n",
       " 2017-01-09 00:54:38.797525                           0.054092  ...     False\n",
       " 2017-01-09 00:54:43.297564                           0.041586  ...     False\n",
       " 2017-01-09 00:54:47.797595                           0.211846  ...     False\n",
       " 2017-01-09 00:54:52.297634                           0.138488  ...     False\n",
       " ...                                                       ...  ...       ...\n",
       " 2017-01-09 14:47:27.214472                          -1.425762  ...     False\n",
       " 2017-01-09 14:47:31.714506                          -1.444290  ...     False\n",
       " 2017-01-09 14:47:36.214549                          -1.437870  ...     False\n",
       " 2017-01-09 14:47:40.714583                          -1.402435  ...     False\n",
       " 2017-01-09 14:47:45.214625                          -1.435300  ...     False\n",
       " \n",
       " [11110 rows x 124 columns],\n",
       "                             mms1_des_energyspectr_omni_fast_0  ...  selected\n",
       " Epoch                                                          ...          \n",
       " 2017-01-10 00:49:30.129621                           0.250380  ...     False\n",
       " 2017-01-10 00:49:34.629653                           0.356107  ...     False\n",
       " 2017-01-10 00:49:39.129693                           0.265523  ...     False\n",
       " 2017-01-10 00:49:43.629726                           0.210121  ...     False\n",
       " 2017-01-10 00:49:48.129766                           0.314735  ...     False\n",
       " ...                                                       ...  ...       ...\n",
       " 2017-01-10 14:42:27.556663                          -1.232397  ...     False\n",
       " 2017-01-10 14:42:32.056708                          -1.235161  ...     False\n",
       " 2017-01-10 14:42:36.556742                          -1.265290  ...     False\n",
       " 2017-01-10 14:42:41.056784                          -1.235246  ...     False\n",
       " 2017-01-10 14:42:45.556820                          -1.244504  ...     False\n",
       " \n",
       " [11111 rows x 124 columns],\n",
       "                             mms1_des_energyspectr_omni_fast_0  ...  selected\n",
       " Epoch                                                          ...          \n",
       " 2017-01-11 00:44:31.554608                          -0.438260  ...     False\n",
       " 2017-01-11 00:44:36.054647                          -0.247389  ...     False\n",
       " 2017-01-11 00:44:40.554679                          -0.360649  ...     False\n",
       " 2017-01-11 00:44:45.054719                          -0.461376  ...     False\n",
       " 2017-01-11 00:44:49.554749                          -0.250608  ...     False\n",
       " ...                                                       ...  ...       ...\n",
       " 2017-01-11 12:39:34.919214                          -1.374367  ...     False\n",
       " 2017-01-11 12:39:39.419257                          -1.388974  ...     False\n",
       " 2017-01-11 12:39:43.919291                          -1.387084  ...     False\n",
       " 2017-01-11 12:39:48.419334                          -1.379114  ...     False\n",
       " 2017-01-11 12:39:52.919369                          -1.375000  ...     False\n",
       " \n",
       " [9539 rows x 124 columns],\n",
       "                             mms1_des_energyspectr_omni_fast_0  ...  selected\n",
       " Epoch                                                          ...          \n",
       " 2017-01-12 00:34:26.372263                           0.282036  ...     False\n",
       " 2017-01-12 00:34:30.872292                           0.207331  ...     False\n",
       " 2017-01-12 00:34:35.372328                           0.135283  ...     False\n",
       " 2017-01-12 00:34:39.872357                           0.205012  ...     False\n",
       " 2017-01-12 00:34:44.372392                           0.200723  ...     False\n",
       " ...                                                       ...  ...       ...\n",
       " 2017-01-12 14:27:37.628688                          -1.174282  ...     False\n",
       " 2017-01-12 14:27:42.128726                          -1.222883  ...     False\n",
       " 2017-01-12 14:27:46.628757                          -1.191178  ...     False\n",
       " 2017-01-12 14:27:51.128794                          -1.202539  ...     False\n",
       " 2017-01-12 14:27:55.628825                          -1.169961  ...     False\n",
       " \n",
       " [9328 rows x 124 columns],\n",
       "                             mms1_des_energyspectr_omni_fast_0  ...  selected\n",
       " Epoch                                                          ...          \n",
       " 2017-01-13 00:29:31.532187                           0.433031  ...     False\n",
       " 2017-01-13 00:29:36.032218                           0.775808  ...     False\n",
       " 2017-01-13 00:29:40.532246                           0.681540  ...     False\n",
       " 2017-01-13 00:29:45.032280                           0.447294  ...     False\n",
       " 2017-01-13 00:29:49.532306                           0.495920  ...     False\n",
       " ...                                                       ...  ...       ...\n",
       " 2017-01-13 14:22:37.896918                          -1.122267  ...     False\n",
       " 2017-01-13 14:22:42.396955                          -1.095192  ...     False\n",
       " 2017-01-13 14:22:46.896974                          -1.078990  ...     False\n",
       " 2017-01-13 14:22:51.397022                          -1.045212  ...     False\n",
       " 2017-01-13 14:22:55.897051                          -1.078421  ...     False\n",
       " \n",
       " [11113 rows x 124 columns],\n",
       "                             mms1_des_energyspectr_omni_fast_0  ...  selected\n",
       " Epoch                                                          ...          \n",
       " 2017-01-14 00:24:33.973502                           0.516664  ...     False\n",
       " 2017-01-14 00:24:38.473535                           0.454663  ...     False\n",
       " 2017-01-14 00:24:42.973562                           0.536189  ...     False\n",
       " 2017-01-14 00:24:47.473595                           0.508872  ...     False\n",
       " 2017-01-14 00:24:51.973623                           0.595519  ...     False\n",
       " ...                                                       ...  ...       ...\n",
       " 2017-01-14 14:17:35.850795                          -1.048623  ...     False\n",
       " 2017-01-14 14:17:40.350835                          -1.060130  ...     False\n",
       " 2017-01-14 14:17:44.850865                          -1.046742  ...     False\n",
       " 2017-01-14 14:17:49.350906                          -1.101527  ...     False\n",
       " 2017-01-14 14:17:53.850938                          -1.069602  ...     False\n",
       " \n",
       " [11112 rows x 124 columns],\n",
       "                             mms1_des_energyspectr_omni_fast_0  ...  selected\n",
       " Epoch                                                          ...          \n",
       " 2017-01-15 00:19:33.423590                           0.124151  ...     False\n",
       " 2017-01-15 00:19:37.923618                           0.203979  ...     False\n",
       " 2017-01-15 00:19:42.423652                           0.194321  ...     False\n",
       " 2017-01-15 00:19:46.923680                           0.273831  ...     False\n",
       " 2017-01-15 00:19:51.423716                           0.097556  ...     False\n",
       " ...                                                       ...  ...       ...\n",
       " 2017-01-15 14:12:35.302495                          -1.251178  ...     False\n",
       " 2017-01-15 14:12:39.802527                          -1.217158  ...     False\n",
       " 2017-01-15 14:12:44.302565                          -1.277525  ...     False\n",
       " 2017-01-15 14:12:48.802596                          -1.249092  ...     False\n",
       " 2017-01-15 14:12:53.302636                          -1.251487  ...     False\n",
       " \n",
       " [11112 rows x 124 columns],\n",
       "                             mms1_des_energyspectr_omni_fast_0  ...  selected\n",
       " Epoch                                                          ...          \n",
       " 2017-01-16 00:14:29.606218                          -0.753529  ...     False\n",
       " 2017-01-16 00:14:34.106254                          -0.608870  ...     False\n",
       " 2017-01-16 00:14:38.606282                          -0.700074  ...     False\n",
       " 2017-01-16 00:14:43.106318                          -0.569566  ...     False\n",
       " 2017-01-16 00:14:47.606346                          -0.840524  ...     False\n",
       " ...                                                       ...  ...       ...\n",
       " 2017-01-16 14:07:35.991104                          -1.021327  ...     False\n",
       " 2017-01-16 14:07:40.491143                          -1.073761  ...     False\n",
       " 2017-01-16 14:07:44.991175                          -1.060275  ...     False\n",
       " 2017-01-16 14:07:49.491213                          -1.045543  ...     False\n",
       " 2017-01-16 14:07:53.991245                          -1.043030  ...     False\n",
       " \n",
       " [11113 rows x 124 columns],\n",
       "                             mms1_des_energyspectr_omni_fast_0  ...  selected\n",
       " Epoch                                                          ...          \n",
       " 2017-01-17 00:09:33.097461                           0.618697  ...     False\n",
       " 2017-01-17 00:09:37.597490                          -0.010759  ...     False\n",
       " 2017-01-17 00:09:42.097524                          -0.202842  ...     False\n",
       " 2017-01-17 00:09:46.597553                           0.128834  ...     False\n",
       " 2017-01-17 00:09:51.097587                           0.501555  ...     False\n",
       " ...                                                       ...  ...       ...\n",
       " 2017-01-17 13:57:33.480536                          -1.056261  ...     False\n",
       " 2017-01-17 13:57:37.980569                          -1.028945  ...     False\n",
       " 2017-01-17 13:57:42.480608                          -1.056892  ...     False\n",
       " 2017-01-17 13:57:46.980639                          -1.055822  ...     False\n",
       " 2017-01-17 13:57:51.480679                          -1.044705  ...     False\n",
       " \n",
       " [11045 rows x 124 columns],\n",
       "                             mms1_des_energyspectr_omni_fast_0  ...  selected\n",
       " Epoch                                                          ...          \n",
       " 2017-01-17 23:59:30.257868                          -0.460953  ...     False\n",
       " 2017-01-17 23:59:34.757896                          -0.477479  ...      True\n",
       " 2017-01-17 23:59:39.257933                          -0.540812  ...      True\n",
       " 2017-01-17 23:59:43.757962                          -0.410302  ...      True\n",
       " 2017-01-17 23:59:48.257997                          -0.714016  ...      True\n",
       " ...                                                       ...  ...       ...\n",
       " 2017-01-18 13:47:35.148867                          -0.351026  ...     False\n",
       " 2017-01-18 13:47:39.648900                           0.028805  ...     False\n",
       " 2017-01-18 13:47:44.148942                          -0.060379  ...     False\n",
       " 2017-01-18 13:47:48.648976                          -0.036331  ...     False\n",
       " 2017-01-18 13:47:53.149017                           0.230107  ...     False\n",
       " \n",
       " [11046 rows x 124 columns],\n",
       "                             mms1_des_energyspectr_omni_fast_0  ...  selected\n",
       " Epoch                                                          ...          \n",
       " 2017-01-18 23:54:30.109686                          -1.077935  ...     False\n",
       " 2017-01-18 23:54:34.609716                          -0.473158  ...     False\n",
       " 2017-01-18 23:54:39.109751                          -0.668999  ...     False\n",
       " 2017-01-18 23:54:43.609781                          -0.616445  ...     False\n",
       " 2017-01-18 23:54:48.109818                          -1.026126  ...     False\n",
       " ...                                                       ...  ...       ...\n",
       " 2017-01-19 13:42:35.005498                          -0.561375  ...     False\n",
       " 2017-01-19 13:42:39.505531                          -0.582718  ...     False\n",
       " 2017-01-19 13:42:44.005572                          -0.569202  ...     False\n",
       " 2017-01-19 13:42:48.505605                          -0.630146  ...     False\n",
       " 2017-01-19 13:42:53.005646                          -0.643737  ...     False\n",
       " \n",
       " [11046 rows x 124 columns],\n",
       "                             mms1_des_energyspectr_omni_fast_0  ...  selected\n",
       " Epoch                                                          ...          \n",
       " 2017-01-19 23:54:32.495962                           0.887217  ...     False\n",
       " 2017-01-19 23:54:36.995991                           1.040867  ...     False\n",
       " 2017-01-19 23:54:41.496029                           0.968065  ...     False\n",
       " 2017-01-19 23:54:45.996058                           0.874947  ...     False\n",
       " 2017-01-19 23:54:50.496094                           0.996150  ...     False\n",
       " ...                                                       ...  ...       ...\n",
       " 2017-01-20 13:42:32.893654                          -1.341355  ...     False\n",
       " 2017-01-20 13:42:37.393695                          -1.340042  ...     False\n",
       " 2017-01-20 13:42:41.893728                          -1.315527  ...     False\n",
       " 2017-01-20 13:42:46.393768                          -1.372444  ...     False\n",
       " 2017-01-20 13:42:50.893801                          -1.342465  ...     False\n",
       " \n",
       " [11045 rows x 124 columns],\n",
       "                             mms1_des_energyspectr_omni_fast_0  ...  selected\n",
       " Epoch                                                          ...          \n",
       " 2017-01-20 23:44:28.879445                           0.258103  ...     False\n",
       " 2017-01-20 23:44:33.379480                           0.165344  ...     False\n",
       " 2017-01-20 23:44:37.879512                           0.238723  ...     False\n",
       " 2017-01-20 23:44:42.379549                           0.240764  ...     False\n",
       " 2017-01-20 23:44:46.879579                           0.325817  ...     False\n",
       " ...                                                       ...  ...       ...\n",
       " 2017-01-21 13:32:33.783922                          -1.281203  ...     False\n",
       " 2017-01-21 13:32:38.283965                          -1.240908  ...     False\n",
       " 2017-01-21 13:32:42.783999                          -1.245359  ...     False\n",
       " 2017-01-21 13:32:47.284043                          -1.222616  ...     False\n",
       " 2017-01-21 13:32:51.784076                          -1.244364  ...     False\n",
       " \n",
       " [11046 rows x 124 columns],\n",
       "                             mms1_des_energyspectr_omni_fast_0  ...  selected\n",
       " Epoch                                                          ...          \n",
       " 2017-01-21 23:39:32.397247                           0.648462  ...     False\n",
       " 2017-01-21 23:39:36.897277                           0.125554  ...     False\n",
       " 2017-01-21 23:39:41.397315                           0.644362  ...     False\n",
       " 2017-01-21 23:39:45.897345                           0.794314  ...     False\n",
       " 2017-01-21 23:39:50.397383                           0.748639  ...     False\n",
       " ...                                                       ...  ...       ...\n",
       " 2017-01-22 13:27:32.804047                          -1.281105  ...     False\n",
       " 2017-01-22 13:27:37.304090                          -1.316070  ...     False\n",
       " 2017-01-22 13:27:41.804122                          -1.296095  ...     False\n",
       " 2017-01-22 13:27:46.304166                          -1.274427  ...     False\n",
       " 2017-01-22 13:27:50.804198                          -1.259403  ...     False\n",
       " \n",
       " [11045 rows x 124 columns],\n",
       "                             mms1_des_energyspectr_omni_fast_0  ...  selected\n",
       " Epoch                                                          ...          \n",
       " 2017-01-22 23:34:32.497506                           0.371171  ...     False\n",
       " 2017-01-22 23:34:36.997536                           0.306008  ...     False\n",
       " 2017-01-22 23:34:41.497574                           0.222378  ...     False\n",
       " 2017-01-22 23:34:45.997588                           0.303669  ...     False\n",
       " 2017-01-22 23:34:50.497642                           0.300867  ...     False\n",
       " ...                                                       ...  ...       ...\n",
       " 2017-01-23 13:22:37.407060                          -1.084231  ...     False\n",
       " 2017-01-23 13:22:41.907095                          -1.132926  ...     False\n",
       " 2017-01-23 13:22:46.407137                          -1.138529  ...     False\n",
       " 2017-01-23 13:22:50.907171                          -1.112983  ...     False\n",
       " 2017-01-23 13:22:55.407213                          -1.114196  ...     False\n",
       " \n",
       " [11046 rows x 124 columns],\n",
       "                             mms1_des_energyspectr_omni_fast_0  ...  selected\n",
       " Epoch                                                          ...          \n",
       " 2017-01-23 23:30:17.579249                           0.625622  ...     False\n",
       " 2017-01-23 23:30:22.079286                           0.446295  ...     False\n",
       " 2017-01-23 23:30:26.579317                           0.340665  ...     False\n",
       " 2017-01-23 23:30:31.079355                           0.494095  ...     False\n",
       " 2017-01-23 23:30:35.579386                           0.285995  ...     False\n",
       " ...                                                       ...  ...       ...\n",
       " 2017-01-24 08:16:56.833894                           0.304322  ...     False\n",
       " 2017-01-24 08:17:01.333935                           0.400155  ...     False\n",
       " 2017-01-24 08:17:05.833968                           0.147983  ...     False\n",
       " 2017-01-24 08:17:10.334009                           0.348916  ...     False\n",
       " 2017-01-24 08:17:14.834041                           0.285743  ...     False\n",
       " \n",
       " [7026 rows x 124 columns],\n",
       "                             mms1_des_energyspectr_omni_fast_0  ...  selected\n",
       " Epoch                                                          ...          \n",
       " 2017-01-24 23:25:19.951727                           0.397294  ...     False\n",
       " 2017-01-24 23:25:24.451768                           0.536392  ...     False\n",
       " 2017-01-24 23:25:28.951798                           0.343806  ...     False\n",
       " 2017-01-24 23:25:33.451838                           0.284095  ...     False\n",
       " 2017-01-24 23:25:37.951870                           0.483337  ...     False\n",
       " ...                                                       ...  ...       ...\n",
       " 2017-01-25 13:06:44.364210                          -1.271923  ...     False\n",
       " 2017-01-25 13:06:48.864244                          -1.243242  ...     False\n",
       " 2017-01-25 13:06:53.364289                          -1.241685  ...     False\n",
       " 2017-01-25 13:06:57.864325                          -1.216165  ...     False\n",
       " 2017-01-25 13:07:02.364367                          -1.243583  ...     False\n",
       " \n",
       " [10957 rows x 124 columns],\n",
       "                             mms1_des_energyspectr_omni_fast_0  ...  selected\n",
       " Epoch                                                          ...          \n",
       " 2017-01-25 23:20:21.915845                           0.629981  ...     False\n",
       " 2017-01-25 23:20:26.415884                           0.712099  ...     False\n",
       " 2017-01-25 23:20:30.915915                           0.690743  ...     False\n",
       " 2017-01-25 23:20:35.415953                           0.771954  ...     False\n",
       " 2017-01-25 23:20:39.915985                           0.598590  ...     False\n",
       " ...                                                       ...  ...       ...\n",
       " 2017-01-26 13:01:41.834981                           1.751733  ...     False\n",
       " 2017-01-26 13:01:46.335025                           1.385139  ...     False\n",
       " 2017-01-26 13:01:50.835061                           1.505051  ...     False\n",
       " 2017-01-26 13:01:55.335105                           2.003533  ...     False\n",
       " 2017-01-26 13:01:59.835140                           2.122904  ...     False\n",
       " \n",
       " [10956 rows x 124 columns],\n",
       "                             mms1_des_energyspectr_omni_fast_0  ...  selected\n",
       " Epoch                                                          ...          \n",
       " 2017-01-26 23:15:17.804388                           1.620798  ...     False\n",
       " 2017-01-26 23:15:22.304427                           1.499084  ...     False\n",
       " 2017-01-26 23:15:26.804459                           1.292690  ...     False\n",
       " 2017-01-26 23:15:31.304499                           1.313568  ...     False\n",
       " 2017-01-26 23:15:35.804530                           1.579847  ...     False\n",
       " ...                                                       ...  ...       ...\n",
       " 2017-01-27 12:56:46.723774                          -1.481024  ...     False\n",
       " 2017-01-27 12:56:51.223817                          -1.474493  ...     False\n",
       " 2017-01-27 12:56:55.723852                          -1.458199  ...     False\n",
       " 2017-01-27 12:57:00.223895                          -1.479174  ...     False\n",
       " 2017-01-27 12:57:04.723930                          -1.497171  ...     False\n",
       " \n",
       " [10957 rows x 124 columns],\n",
       "                             mms1_des_energyspectr_omni_fast_0  ...  selected\n",
       " Epoch                                                          ...          \n",
       " 2017-01-27 23:05:17.911570                           0.274722  ...     False\n",
       " 2017-01-27 23:05:22.411609                           0.108195  ...     False\n",
       " 2017-01-27 23:05:26.911641                           0.005769  ...     False\n",
       " 2017-01-27 23:05:31.411680                          -0.030007  ...     False\n",
       " 2017-01-27 23:05:35.911711                          -0.060532  ...     False\n",
       " ...                                                       ...  ...       ...\n",
       " 2017-01-28 12:46:42.333037                          -1.247610  ...     False\n",
       " 2017-01-28 12:46:46.833072                          -1.237887  ...     False\n",
       " 2017-01-28 12:46:51.333117                          -1.219926  ...     False\n",
       " 2017-01-28 12:46:55.833153                          -1.233068  ...     False\n",
       " 2017-01-28 12:47:00.333198                          -1.255480  ...     False\n",
       " \n",
       " [10957 rows x 124 columns],\n",
       "                             mms1_des_energyspectr_omni_fast_0  ...  selected\n",
       " Epoch                                                          ...          \n",
       " 2017-01-28 23:00:18.906511                           0.274405  ...     False\n",
       " 2017-01-28 23:00:23.406551                           0.333638  ...     False\n",
       " 2017-01-28 23:00:27.906583                           0.324077  ...     False\n",
       " 2017-01-28 23:00:32.406623                           0.413629  ...     False\n",
       " 2017-01-28 23:00:36.906655                           0.240758  ...     False\n",
       " ...                                                       ...  ...       ...\n",
       " 2017-01-29 12:41:43.330800                          -1.292784  ...     False\n",
       " 2017-01-29 12:41:47.830835                          -1.283827  ...     False\n",
       " 2017-01-29 12:41:52.330878                          -1.331312  ...     False\n",
       " 2017-01-29 12:41:56.830914                          -1.298229  ...     False\n",
       " 2017-01-29 12:42:01.330958                          -1.317063  ...     False\n",
       " \n",
       " [10957 rows x 124 columns],\n",
       "                             mms1_des_energyspectr_omni_fast_0  ...  selected\n",
       " Epoch                                                          ...          \n",
       " 2017-01-29 23:00:22.371527                           0.205416  ...     False\n",
       " 2017-01-29 23:00:26.871558                           0.070299  ...     False\n",
       " 2017-01-29 23:00:31.371597                           0.251162  ...     False\n",
       " 2017-01-29 23:00:35.871629                           0.143420  ...     False\n",
       " 2017-01-29 23:00:40.371669                           0.299162  ...     False\n",
       " ...                                                       ...  ...       ...\n",
       " 2017-01-30 12:41:37.792835                           3.766927  ...     False\n",
       " 2017-01-30 12:41:42.292879                           3.941938  ...     False\n",
       " 2017-01-30 12:41:46.792914                           4.024080  ...     False\n",
       " 2017-01-30 12:41:51.292959                           4.471779  ...     False\n",
       " 2017-01-30 12:41:55.792994                           4.125512  ...     False\n",
       " \n",
       " [10954 rows x 124 columns]]"
      ]
     },
     "execution_count": 12,
     "metadata": {
      "tags": []
     },
     "output_type": "execute_result"
    }
   ],
   "source": [
    "windows"
   ]
  },
  {
   "cell_type": "markdown",
   "metadata": {
    "colab_type": "text",
    "id": "btKBuEPkUrXW"
   },
   "source": [
    "Finally, we break up our data into individual sequences that will be fed to our neural network."
   ]
  },
  {
   "cell_type": "markdown",
   "metadata": {
    "colab_type": "text",
    "id": "pY_SGxXFU88m"
   },
   "source": [
    "We define a SEQ_LEN variable that will determine the length of our sequences. This variable will also be passed to our network so that it knows how long of a data sequence to expect while training. The choice of sequence length is largely arbitrary."
   ]
  },
  {
   "cell_type": "code",
   "execution_count": 13,
   "metadata": {
    "colab": {},
    "colab_type": "code",
    "id": "YQzSPJXkU7J8"
   },
   "outputs": [],
   "source": [
    "SEQ_LEN = 250"
   ]
  },
  {
   "cell_type": "markdown",
   "metadata": {
    "colab_type": "text",
    "id": "gtXhi2H2j7x6"
   },
   "source": [
    "For each window, we assemble two sequences: an X_sequence containing individual data points from our training data and a y_sequence containing the truth values for those data points (whether or not those data points were selected by a SITL). \n",
    "\n",
    "We add those sequences to four collections: X_train and y_train containing X_sequences and y_sequences for our training data and X_test and y_test containing X_sequences and y_sequences for our testing data. We allocate 80% of the sequences to trainining and the remaining 20% to testing. "
   ]
  },
  {
   "cell_type": "code",
   "execution_count": 14,
   "metadata": {
    "colab": {},
    "colab_type": "code",
    "id": "w9ajG41MVJWc"
   },
   "outputs": [],
   "source": [
    " while True:\n",
    "    X_train, X_test, y_train, y_test = [], [], [], []\n",
    "\n",
    "    sequences = []\n",
    "    for i in range(len(windows)):\n",
    "      X_sequence = []\n",
    "      y_sequence = []\n",
    "\n",
    "      if random.random() < 0.6:\n",
    "        for value in windows[i].values:\n",
    "          X_sequence.append(value[:-1])\n",
    "          y_sequence.append(value[-1])\n",
    "          if len(X_sequence) == SEQ_LEN:\n",
    "            X_train.append(X_sequence.copy())\n",
    "            \n",
    "            y_train.append(y_sequence.copy())\n",
    "\n",
    "            X_sequence = []\n",
    "            y_sequence = []\n",
    "\n",
    "      else:\n",
    "        for value in windows[i].values:\n",
    "          X_sequence.append(value[:-1])\n",
    "          y_sequence.append(value[-1])\n",
    "          if len(X_sequence) == SEQ_LEN:\n",
    "            X_test.append(X_sequence.copy())\n",
    "            \n",
    "            y_test.append(y_sequence.copy())\n",
    "\n",
    "            X_sequence = []\n",
    "            y_sequence = []\n",
    "\n",
    "    X_train = np.array(X_train)\n",
    "    X_test = np.array(X_test)\n",
    "    y_train = np.expand_dims(np.array(y_train), axis=2)\n",
    "    y_test = np.expand_dims(np.array(y_test), axis=2)\n",
    "\n",
    "    if len(X_train) > len(X_test):\n",
    "        break"
   ]
  },
  {
   "cell_type": "markdown",
   "metadata": {
    "colab_type": "text",
    "id": "NcGTxO4tYIEa"
   },
   "source": [
    "We can see how many sequences of data we have for training and testing, respectively:"
   ]
  },
  {
   "cell_type": "code",
   "execution_count": 15,
   "metadata": {
    "colab": {
     "base_uri": "https://localhost:8080/",
     "height": 52
    },
    "colab_type": "code",
    "id": "w6Xc30NSYIgK",
    "outputId": "ef8987a5-8c44-4320-ab62-515d911e8312"
   },
   "outputs": [
    {
     "name": "stdout",
     "output_type": "stream",
     "text": [
      "Number of sequences in training data: 858\n",
      "Number of sequences in test data: 414\n"
     ]
    }
   ],
   "source": [
    "print(f\"Number of sequences in training data: {len(X_train)}\")\n",
    "print(f\"Number of sequences in test data: {len(X_test)}\")"
   ]
  },
  {
   "cell_type": "markdown",
   "metadata": {
    "colab_type": "text",
    "id": "CRsSmLuDs029"
   },
   "source": [
    "# Define and Train LSTM\n",
    "\n",
    "Now that we have processed our data into our training and test sets, we can begin to build and train and our LSTM."
   ]
  },
  {
   "cell_type": "markdown",
   "metadata": {
    "colab_type": "text",
    "id": "r8Hqo34gs4cx"
   },
   "source": [
    "First, we need to define a custom F1 score and weighted binary crossentropy functions."
   ]
  },
  {
   "cell_type": "markdown",
   "metadata": {
    "colab_type": "text",
    "id": "MPl9Nicf4K_d"
   },
   "source": [
    "An F1 score is a measure of a model's accuracy, calculated as a balance of the model's precision (the number of true positives predicted by the model divided by the total number of positives predicted by the model) and recall (the number of true positives predicted by the model divided by the number of actual positives in the data):\n",
    "\n",
    "![F1 = 2 * (precision * recall) / (precision + recall)](https://wikimedia.org/api/rest_v1/media/math/render/svg/1bf179c30b00db201ce1895d88fe2915d58e6bfd)\n",
    "\n",
    "We will evaluate our model using the F1 score since we want to strike a balance between the model's precision and recall. Remember, we cannot use true accuracy (the number of true positives and true negatives divided by the number of data points in the data) because of the imbalance between our classes.\n"
   ]
  },
  {
   "cell_type": "code",
   "execution_count": 16,
   "metadata": {
    "colab": {},
    "colab_type": "code",
    "id": "EKhoUVlFmfUx"
   },
   "outputs": [],
   "source": [
    "# (Credit: Paddy and Kev1n91 from https://stackoverflow.com/a/45305384/3988976)\n",
    "def f1(y_true, y_pred):\n",
    "    def recall(y_true, y_pred):\n",
    "        \"\"\"Recall metric.\n",
    "\n",
    "        Only computes a batch-wise average of recall.\n",
    "\n",
    "        Computes the recall, a metric for multi-label classification of\n",
    "        how many relevant items are selected.\n",
    "        \"\"\"\n",
    "        true_positives = K.sum(K.round(K.clip(y_true * y_pred, 0, 1)))\n",
    "        possible_positives = K.sum(K.round(K.clip(y_true, 0, 1)))\n",
    "        recall = true_positives / (possible_positives + K.epsilon())\n",
    "        return recall\n",
    "\n",
    "    def precision(y_true, y_pred):\n",
    "        \"\"\"Precision metric.\n",
    "\n",
    "        Only computes a batch-wise average of precision.\n",
    "\n",
    "        Computes the precision, a metric for multi-label classification of\n",
    "        how many selected items are relevant.\n",
    "        \"\"\"\n",
    "        true_positives = K.sum(K.round(K.clip(y_true * y_pred, 0, 1)))\n",
    "        predicted_positives = K.sum(K.round(K.clip(y_pred, 0, 1)))\n",
    "        precision = true_positives / (predicted_positives + K.epsilon())\n",
    "        return precision\n",
    "    precision = precision(y_true, y_pred)\n",
    "    recall = recall(y_true, y_pred)\n",
    "    return 2*((precision*recall)/(precision+recall+K.epsilon()))"
   ]
  },
  {
   "cell_type": "markdown",
   "metadata": {
    "colab_type": "text",
    "id": "emVoV71O4MAD"
   },
   "source": [
    "Cross-entropy is a function used to determine the loss between a set of predictions and their truth values. The larger the difference between a prediction and its true value, the larger the loss will be. In general, many machine learning architectures (including our LSTM) are designed to minimize their given loss function. A perfect model will have a loss of 0.\n",
    "\n",
    "Binary cross-entropy is used when we only have two classes (in our case, selected or not selected) and weighted binary cross-entropy allows us to assign a weight to one of the classes. This weight can effectively increase or decrease the loss of that class. In our case, we have previously defined a variable *true_weight* to be the class weight for positive (selected) datapoints. We will pass that weight into the function.\n",
    "\n",
    "This cross-entropy function will be passed in to our model as our loss function.\n",
    "\n",
    "(Because the loss function of a model needs to be differentiable to perform gradient descent, we cannot use our F1 score as our loss function.)"
   ]
  },
  {
   "cell_type": "code",
   "execution_count": 17,
   "metadata": {
    "colab": {},
    "colab_type": "code",
    "id": "yBxIZXbMpJG9"
   },
   "outputs": [],
   "source": [
    "# (Credit: tobigue from https://stackoverflow.com/questions/42158866/neural-network-for-multi-label-classification-with-large-number-of-classes-outpu)\n",
    "def weighted_binary_crossentropy(target, output):\n",
    "    \"\"\"\n",
    "    Weighted binary crossentropy between an output tensor \n",
    "    and a target tensor. POS_WEIGHT is used as a multiplier \n",
    "    for the positive targets.\n",
    "\n",
    "    Combination of the following functions:\n",
    "    * keras.losses.binary_crossentropy\n",
    "    * keras.backend.tensorflow_backend.binary_crossentropy\n",
    "    * tf.nn.weighted_cross_entropy_with_logits\n",
    "    \"\"\"\n",
    "    # transform back to logits\n",
    "    _epsilon = tfb._to_tensor(tfb.epsilon(), output.dtype.base_dtype)\n",
    "    output = tf.clip_by_value(output, _epsilon, 1 - _epsilon)\n",
    "    output = tf.log(output / (1 - output))\n",
    "    # compute weighted loss\n",
    "    loss = tf.nn.weighted_cross_entropy_with_logits(targets=target,\n",
    "                                                    logits=output,\n",
    "                                                    pos_weight=true_weight)\n",
    "    return tf.reduce_mean(loss, axis=-1)"
   ]
  },
  {
   "cell_type": "markdown",
   "metadata": {
    "colab_type": "text",
    "id": "V7ScqhL295sl"
   },
   "source": [
    "Before building our LSTM, we define several hyperparameters that will define how the model is trained:\n",
    "\n",
    "EPOCHS: The number of times the model trains through our entire dataset\n",
    "\n",
    "BATCH_SIZE: The number of sequences that our model trains using at any given point\n",
    "\n",
    "LAYER_SIZE: The number of LSTM internal to each layer of the model.\n",
    "\n",
    "Choices for these hyperparameters are largely arbitrary and can be altered to tune our LSTM."
   ]
  },
  {
   "cell_type": "code",
   "execution_count": 18,
   "metadata": {
    "colab": {},
    "colab_type": "code",
    "id": "U7HBAE5wwTDU"
   },
   "outputs": [],
   "source": [
    "EPOCHS = 100\n",
    "BATCH_SIZE = 128\n",
    "LAYER_SIZE = 300"
   ]
  },
  {
   "cell_type": "markdown",
   "metadata": {
    "colab_type": "text",
    "id": "WMHwIiE9Aec9"
   },
   "source": [
    "We now define our LSTM.\n",
    "\n",
    "For this version of the model, we two bidirectional LSTM layers, two dropout layers, and one time distributed dense layer.\n",
    "\n",
    "Internally, an LSTM layer uses a for loop to iterate over the timesteps of a sequence, while maintaining states that encode information from those timesteps. Using these internal states, the LSTM learns the characteristics of our data (the X_sequences we defined earlier) and how those data relate to our expected output (the y_sequences we defined earlier). Normal (unidirectional) LSTMs only encode information from prior-seen timesteps. Bidirectional LSTMs can can encode information prior to and after a given timestep.\n",
    "\n",
    "With the addition of a dense layer, the LSTM will output a value between 0 and 1 that corresponds to the model's certainty about whether or not a timestep was selected by the SITL.\n"
   ]
  },
  {
   "cell_type": "code",
   "execution_count": 19,
   "metadata": {
    "colab": {
     "base_uri": "https://localhost:8080/",
     "height": 303
    },
    "colab_type": "code",
    "id": "3jU7BfnJBj0V",
    "outputId": "7324869f-7f94-46cb-f3e3-9f9764ad99cf"
   },
   "outputs": [
    {
     "name": "stdout",
     "output_type": "stream",
     "text": [
      "WARNING:tensorflow:From /tensorflow-1.15.2/python3.6/tensorflow_core/python/ops/init_ops.py:97: calling GlorotUniform.__init__ (from tensorflow.python.ops.init_ops) with dtype is deprecated and will be removed in a future version.\n",
      "Instructions for updating:\n",
      "Call initializer instance with the dtype argument instead of passing it to the constructor\n",
      "WARNING:tensorflow:From /tensorflow-1.15.2/python3.6/tensorflow_core/python/ops/init_ops.py:97: calling Orthogonal.__init__ (from tensorflow.python.ops.init_ops) with dtype is deprecated and will be removed in a future version.\n",
      "Instructions for updating:\n",
      "Call initializer instance with the dtype argument instead of passing it to the constructor\n",
      "WARNING:tensorflow:From /tensorflow-1.15.2/python3.6/tensorflow_core/python/ops/init_ops.py:97: calling Zeros.__init__ (from tensorflow.python.ops.init_ops) with dtype is deprecated and will be removed in a future version.\n",
      "Instructions for updating:\n",
      "Call initializer instance with the dtype argument instead of passing it to the constructor\n",
      "WARNING:tensorflow:From /tensorflow-1.15.2/python3.6/tensorflow_core/python/ops/resource_variable_ops.py:1630: calling BaseResourceVariable.__init__ (from tensorflow.python.ops.resource_variable_ops) with constraint is deprecated and will be removed in a future version.\n",
      "Instructions for updating:\n",
      "If using Keras pass *_constraint arguments to layers.\n",
      "WARNING:tensorflow:From <ipython-input-17-f6bf984e786f>:20: calling weighted_cross_entropy_with_logits (from tensorflow.python.ops.nn_impl) with targets is deprecated and will be removed in a future version.\n",
      "Instructions for updating:\n",
      "targets is deprecated, use labels instead\n"
     ]
    }
   ],
   "source": [
    "model_name = f\"{SEQ_LEN}-SEQ_LEN-{BATCH_SIZE}-BATCH_SIZE-{LAYER_SIZE}-LAYER_SIZE-{int(time.time())}\"\n",
    "\n",
    "model = Sequential()\n",
    "\n",
    "model.add(Bidirectional(LSTM(LAYER_SIZE, return_sequences=True), input_shape=(None, X_train.shape[2])))\n",
    "\n",
    "model.add(Dropout(0.4))\n",
    "\n",
    "model.add(Bidirectional(LSTM(LAYER_SIZE, return_sequences=True), input_shape=(None, X_train.shape[2])))\n",
    "\n",
    "model.add(Dropout(0.4))\n",
    "\n",
    "model.add(TimeDistributed(Dense(1, activation='sigmoid')))\n",
    "\n",
    "opt = tf.keras.optimizers.Adam()\n",
    "\n",
    "model.compile(loss=weighted_binary_crossentropy,\n",
    "        optimizer=opt,\n",
    "        metrics=['accuracy', f1, tf.keras.metrics.Precision()])"
   ]
  },
  {
   "cell_type": "code",
   "execution_count": 20,
   "metadata": {
    "colab": {
     "base_uri": "https://localhost:8080/",
     "height": 336
    },
    "colab_type": "code",
    "id": "asBMdOujBrbk",
    "outputId": "e1ce9eb2-96ff-437f-a6df-e51d37e7ffda"
   },
   "outputs": [
    {
     "name": "stdout",
     "output_type": "stream",
     "text": [
      "Model: \"sequential\"\n",
      "_________________________________________________________________\n",
      "Layer (type)                 Output Shape              Param #   \n",
      "=================================================================\n",
      "bidirectional (Bidirectional (None, None, 600)         1017600   \n",
      "_________________________________________________________________\n",
      "dropout (Dropout)            (None, None, 600)         0         \n",
      "_________________________________________________________________\n",
      "bidirectional_1 (Bidirection (None, None, 600)         2162400   \n",
      "_________________________________________________________________\n",
      "dropout_1 (Dropout)          (None, None, 600)         0         \n",
      "_________________________________________________________________\n",
      "time_distributed (TimeDistri (None, None, 1)           601       \n",
      "=================================================================\n",
      "Total params: 3,180,601\n",
      "Trainable params: 3,180,601\n",
      "Non-trainable params: 0\n",
      "_________________________________________________________________\n"
     ]
    }
   ],
   "source": [
    "model.summary()"
   ]
  },
  {
   "cell_type": "markdown",
   "metadata": {
    "colab_type": "text",
    "id": "vIaRlNZJBkNE"
   },
   "source": [
    "We set our training process to save the best versions of our model according to the previously defined F1 score. Each epoch, if a version of the model is trained with a higher F1 score than the previous best, the model saved on disk will be overwritten with the current best model."
   ]
  },
  {
   "cell_type": "code",
   "execution_count": 21,
   "metadata": {
    "colab": {},
    "colab_type": "code",
    "id": "rFaaHkcwCP7X"
   },
   "outputs": [],
   "source": [
    "filepath = \"mp-dl-unh\" \n",
    "checkpoint = ModelCheckpoint(filepath, monitor='val_f1', verbose=1, save_best_only=True, mode='max')"
   ]
  },
  {
   "cell_type": "markdown",
   "metadata": {
    "colab_type": "text",
    "id": "l8TWoDyKCRrE"
   },
   "source": [
    "The following will train the model and save the training history for later visualization."
   ]
  },
  {
   "cell_type": "code",
   "execution_count": 22,
   "metadata": {
    "colab": {
     "base_uri": "https://localhost:8080/",
     "height": 1000
    },
    "colab_type": "code",
    "id": "UCHQs29JCZMU",
    "outputId": "9fc02b8c-a7a2-421a-9709-d2ee626e1f3c"
   },
   "outputs": [
    {
     "name": "stdout",
     "output_type": "stream",
     "text": [
      "WARNING:tensorflow:From /tensorflow-1.15.2/python3.6/tensorflow_core/python/ops/math_grad.py:1424: where (from tensorflow.python.ops.array_ops) is deprecated and will be removed in a future version.\n",
      "Instructions for updating:\n",
      "Use tf.where in 2.0, which has the same broadcast rule as np.where\n",
      "Train on 858 samples, validate on 414 samples\n",
      "Epoch 1/100\n",
      "768/858 [=========================>....] - ETA: 1s - loss: 0.7517 - acc: 0.6978 - f1: 0.2521 - precision: 0.1249\n",
      "Epoch 00001: val_f1 improved from -inf to 0.47439, saving model to mp-dl-unh\n",
      "858/858 [==============================] - 18s 21ms/sample - loss: 0.7198 - acc: 0.7164 - f1: 0.2876 - precision: 0.1385 - val_loss: 0.6654 - val_acc: 0.8403 - val_f1: 0.4744 - val_precision: 0.3256\n",
      "Epoch 2/100\n",
      "768/858 [=========================>....] - ETA: 1s - loss: 0.5374 - acc: 0.9084 - f1: 0.5037 - precision: 0.3628\n",
      "Epoch 00002: val_f1 improved from 0.47439 to 0.55575, saving model to mp-dl-unh\n",
      "858/858 [==============================] - 13s 16ms/sample - loss: 0.5334 - acc: 0.8963 - f1: 0.4879 - precision: 0.3380 - val_loss: 0.4219 - val_acc: 0.9204 - val_f1: 0.5558 - val_precision: 0.5118\n",
      "Epoch 3/100\n",
      "768/858 [=========================>....] - ETA: 1s - loss: 0.3948 - acc: 0.9017 - f1: 0.5155 - precision: 0.3629\n",
      "Epoch 00003: val_f1 did not improve from 0.55575\n",
      "858/858 [==============================] - 13s 16ms/sample - loss: 0.3902 - acc: 0.9058 - f1: 0.5366 - precision: 0.3783 - val_loss: 0.5934 - val_acc: 0.9031 - val_f1: 0.5539 - val_precision: 0.4434\n",
      "Epoch 4/100\n",
      "768/858 [=========================>....] - ETA: 1s - loss: 0.3037 - acc: 0.9327 - f1: 0.6500 - precision: 0.4660\n",
      "Epoch 00004: val_f1 improved from 0.55575 to 0.69238, saving model to mp-dl-unh\n",
      "858/858 [==============================] - 13s 16ms/sample - loss: 0.3028 - acc: 0.9301 - f1: 0.6418 - precision: 0.4609 - val_loss: 0.3414 - val_acc: 0.9292 - val_f1: 0.6924 - val_precision: 0.5435\n",
      "Epoch 5/100\n",
      "768/858 [=========================>....] - ETA: 1s - loss: 0.2710 - acc: 0.9320 - f1: 0.6261 - precision: 0.4648\n",
      "Epoch 00005: val_f1 did not improve from 0.69238\n",
      "858/858 [==============================] - 13s 16ms/sample - loss: 0.2723 - acc: 0.9303 - f1: 0.6246 - precision: 0.4633 - val_loss: 0.4135 - val_acc: 0.9210 - val_f1: 0.6809 - val_precision: 0.5133\n",
      "Epoch 6/100\n",
      "768/858 [=========================>....] - ETA: 1s - loss: 0.2392 - acc: 0.9364 - f1: 0.6877 - precision: 0.4836\n",
      "Epoch 00006: val_f1 improved from 0.69238 to 0.71046, saving model to mp-dl-unh\n",
      "858/858 [==============================] - 13s 16ms/sample - loss: 0.2398 - acc: 0.9362 - f1: 0.6850 - precision: 0.4875 - val_loss: 0.4269 - val_acc: 0.9443 - val_f1: 0.7105 - val_precision: 0.6272\n",
      "Epoch 7/100\n",
      "768/858 [=========================>....] - ETA: 1s - loss: 0.2069 - acc: 0.9484 - f1: 0.7132 - precision: 0.5399\n",
      "Epoch 00007: val_f1 improved from 0.71046 to 0.73847, saving model to mp-dl-unh\n",
      "858/858 [==============================] - 13s 16ms/sample - loss: 0.2106 - acc: 0.9462 - f1: 0.7041 - precision: 0.5334 - val_loss: 0.3802 - val_acc: 0.9508 - val_f1: 0.7385 - val_precision: 0.6615\n",
      "Epoch 8/100\n",
      "768/858 [=========================>....] - ETA: 1s - loss: 0.1852 - acc: 0.9523 - f1: 0.7171 - precision: 0.5605\n",
      "Epoch 00008: val_f1 did not improve from 0.73847\n",
      "858/858 [==============================] - 14s 16ms/sample - loss: 0.1913 - acc: 0.9485 - f1: 0.7030 - precision: 0.5448 - val_loss: 0.3792 - val_acc: 0.9380 - val_f1: 0.6745 - val_precision: 0.5827\n",
      "Epoch 9/100\n",
      "768/858 [=========================>....] - ETA: 1s - loss: 0.1978 - acc: 0.9533 - f1: 0.7368 - precision: 0.5687\n",
      "Epoch 00009: val_f1 did not improve from 0.73847\n",
      "858/858 [==============================] - 13s 16ms/sample - loss: 0.2043 - acc: 0.9505 - f1: 0.7229 - precision: 0.5570 - val_loss: 0.4080 - val_acc: 0.9104 - val_f1: 0.6486 - val_precision: 0.4784\n",
      "Epoch 10/100\n",
      "768/858 [=========================>....] - ETA: 1s - loss: 0.1967 - acc: 0.9423 - f1: 0.6962 - precision: 0.5093\n",
      "Epoch 00010: val_f1 did not improve from 0.73847\n",
      "858/858 [==============================] - 13s 16ms/sample - loss: 0.1966 - acc: 0.9426 - f1: 0.6984 - precision: 0.5157 - val_loss: 0.4764 - val_acc: 0.9519 - val_f1: 0.6831 - val_precision: 0.6854\n",
      "Epoch 11/100\n",
      "768/858 [=========================>....] - ETA: 1s - loss: 0.1923 - acc: 0.9425 - f1: 0.7001 - precision: 0.5103\n",
      "Epoch 00011: val_f1 did not improve from 0.73847\n",
      "858/858 [==============================] - 13s 16ms/sample - loss: 0.1970 - acc: 0.9385 - f1: 0.6843 - precision: 0.4974 - val_loss: 0.4457 - val_acc: 0.9412 - val_f1: 0.7090 - val_precision: 0.6020\n",
      "Epoch 12/100\n",
      "768/858 [=========================>....] - ETA: 1s - loss: 0.1778 - acc: 0.9649 - f1: 0.7807 - precision: 0.6460\n",
      "Epoch 00012: val_f1 did not improve from 0.73847\n",
      "858/858 [==============================] - 13s 16ms/sample - loss: 0.1799 - acc: 0.9634 - f1: 0.7735 - precision: 0.6388 - val_loss: 0.4138 - val_acc: 0.9320 - val_f1: 0.6878 - val_precision: 0.5563\n",
      "Epoch 13/100\n",
      "768/858 [=========================>....] - ETA: 1s - loss: 0.1718 - acc: 0.9420 - f1: 0.7074 - precision: 0.5078\n",
      "Epoch 00013: val_f1 did not improve from 0.73847\n",
      "858/858 [==============================] - 13s 16ms/sample - loss: 0.1727 - acc: 0.9425 - f1: 0.7091 - precision: 0.5147 - val_loss: 0.5934 - val_acc: 0.9511 - val_f1: 0.7077 - val_precision: 0.7011\n",
      "Epoch 14/100\n",
      "768/858 [=========================>....] - ETA: 1s - loss: 0.1898 - acc: 0.9574 - f1: 0.7555 - precision: 0.5924\n",
      "Epoch 00014: val_f1 did not improve from 0.73847\n",
      "858/858 [==============================] - 13s 16ms/sample - loss: 0.1943 - acc: 0.9526 - f1: 0.7348 - precision: 0.5678 - val_loss: 0.3329 - val_acc: 0.9238 - val_f1: 0.6813 - val_precision: 0.5224\n",
      "Epoch 15/100\n",
      "768/858 [=========================>....] - ETA: 1s - loss: 0.1794 - acc: 0.9504 - f1: 0.7031 - precision: 0.5501\n",
      "Epoch 00015: val_f1 did not improve from 0.73847\n",
      "858/858 [==============================] - 13s 16ms/sample - loss: 0.1806 - acc: 0.9510 - f1: 0.7099 - precision: 0.5580 - val_loss: 0.4021 - val_acc: 0.9480 - val_f1: 0.7284 - val_precision: 0.6369\n",
      "Epoch 16/100\n",
      "768/858 [=========================>....] - ETA: 1s - loss: 0.1573 - acc: 0.9494 - f1: 0.7264 - precision: 0.5430\n",
      "Epoch 00016: val_f1 did not improve from 0.73847\n",
      "858/858 [==============================] - 13s 16ms/sample - loss: 0.1579 - acc: 0.9498 - f1: 0.7291 - precision: 0.5499 - val_loss: 0.5253 - val_acc: 0.9549 - val_f1: 0.7361 - val_precision: 0.7143\n",
      "Epoch 17/100\n",
      "768/858 [=========================>....] - ETA: 1s - loss: 0.1396 - acc: 0.9668 - f1: 0.7947 - precision: 0.6519\n",
      "Epoch 00017: val_f1 did not improve from 0.73847\n",
      "858/858 [==============================] - 13s 16ms/sample - loss: 0.1436 - acc: 0.9636 - f1: 0.7794 - precision: 0.6332 - val_loss: 0.4449 - val_acc: 0.9409 - val_f1: 0.7194 - val_precision: 0.5967\n",
      "Epoch 18/100\n",
      "768/858 [=========================>....] - ETA: 1s - loss: 0.1296 - acc: 0.9637 - f1: 0.7835 - precision: 0.6271\n",
      "Epoch 00018: val_f1 improved from 0.73847 to 0.73942, saving model to mp-dl-unh\n",
      "858/858 [==============================] - 14s 16ms/sample - loss: 0.1319 - acc: 0.9637 - f1: 0.7843 - precision: 0.6321 - val_loss: 0.5455 - val_acc: 0.9525 - val_f1: 0.7394 - val_precision: 0.6886\n",
      "Epoch 19/100\n",
      "768/858 [=========================>....] - ETA: 1s - loss: 0.1129 - acc: 0.9660 - f1: 0.8026 - precision: 0.6401\n",
      "Epoch 00019: val_f1 did not improve from 0.73942\n",
      "858/858 [==============================] - 14s 16ms/sample - loss: 0.1165 - acc: 0.9644 - f1: 0.7936 - precision: 0.6334 - val_loss: 0.5935 - val_acc: 0.9510 - val_f1: 0.7353 - val_precision: 0.6815\n",
      "Epoch 20/100\n",
      "768/858 [=========================>....] - ETA: 1s - loss: 0.1051 - acc: 0.9751 - f1: 0.8393 - precision: 0.7137\n",
      "Epoch 00020: val_f1 did not improve from 0.73942\n",
      "858/858 [==============================] - 14s 16ms/sample - loss: 0.1081 - acc: 0.9731 - f1: 0.8284 - precision: 0.7011 - val_loss: 0.6130 - val_acc: 0.9500 - val_f1: 0.7229 - val_precision: 0.6617\n",
      "Epoch 21/100\n",
      "768/858 [=========================>....] - ETA: 1s - loss: 0.0947 - acc: 0.9743 - f1: 0.8373 - precision: 0.7040\n",
      "Epoch 00021: val_f1 did not improve from 0.73942\n",
      "858/858 [==============================] - 13s 16ms/sample - loss: 0.0980 - acc: 0.9732 - f1: 0.8307 - precision: 0.6985 - val_loss: 0.7341 - val_acc: 0.9488 - val_f1: 0.6978 - val_precision: 0.6781\n",
      "Epoch 22/100\n",
      "768/858 [=========================>....] - ETA: 1s - loss: 0.0914 - acc: 0.9728 - f1: 0.8367 - precision: 0.6907\n",
      "Epoch 00022: val_f1 did not improve from 0.73942\n",
      "858/858 [==============================] - 13s 16ms/sample - loss: 0.0934 - acc: 0.9720 - f1: 0.8312 - precision: 0.6879 - val_loss: 0.9319 - val_acc: 0.9485 - val_f1: 0.6909 - val_precision: 0.7098\n",
      "Epoch 23/100\n",
      "768/858 [=========================>....] - ETA: 1s - loss: 0.1012 - acc: 0.9746 - f1: 0.8438 - precision: 0.7102\n",
      "Epoch 00023: val_f1 did not improve from 0.73942\n",
      "858/858 [==============================] - 13s 16ms/sample - loss: 0.1032 - acc: 0.9732 - f1: 0.8349 - precision: 0.7013 - val_loss: 0.6068 - val_acc: 0.9393 - val_f1: 0.7034 - val_precision: 0.5937\n",
      "Epoch 24/100\n",
      "768/858 [=========================>....] - ETA: 1s - loss: 0.1271 - acc: 0.9736 - f1: 0.8396 - precision: 0.7093\n",
      "Epoch 00024: val_f1 did not improve from 0.73942\n",
      "858/858 [==============================] - 13s 16ms/sample - loss: 0.1270 - acc: 0.9723 - f1: 0.8316 - precision: 0.7008 - val_loss: 0.5551 - val_acc: 0.9109 - val_f1: 0.6356 - val_precision: 0.4796\n",
      "Epoch 25/100\n",
      "768/858 [=========================>....] - ETA: 1s - loss: 0.1539 - acc: 0.9465 - f1: 0.7292 - precision: 0.5283\n",
      "Epoch 00025: val_f1 did not improve from 0.73942\n",
      "858/858 [==============================] - 13s 16ms/sample - loss: 0.1520 - acc: 0.9490 - f1: 0.7424 - precision: 0.5450 - val_loss: 0.7967 - val_acc: 0.9507 - val_f1: 0.6555 - val_precision: 0.7460\n",
      "Epoch 26/100\n",
      "768/858 [=========================>....] - ETA: 1s - loss: 0.1411 - acc: 0.9660 - f1: 0.8083 - precision: 0.6471\n",
      "Epoch 00026: val_f1 did not improve from 0.73942\n",
      "858/858 [==============================] - 13s 16ms/sample - loss: 0.1438 - acc: 0.9626 - f1: 0.7899 - precision: 0.6268 - val_loss: 0.5267 - val_acc: 0.9254 - val_f1: 0.6634 - val_precision: 0.5297\n",
      "Epoch 27/100\n",
      "768/858 [=========================>....] - ETA: 1s - loss: 0.1314 - acc: 0.9643 - f1: 0.7904 - precision: 0.6325\n",
      "Epoch 00027: val_f1 improved from 0.73942 to 0.75403, saving model to mp-dl-unh\n",
      "858/858 [==============================] - 13s 16ms/sample - loss: 0.1394 - acc: 0.9645 - f1: 0.7907 - precision: 0.6395 - val_loss: 0.5157 - val_acc: 0.9570 - val_f1: 0.7540 - val_precision: 0.7253\n",
      "Epoch 28/100\n",
      "768/858 [=========================>....] - ETA: 1s - loss: 0.1241 - acc: 0.9615 - f1: 0.7769 - precision: 0.6106\n",
      "Epoch 00028: val_f1 did not improve from 0.75403\n",
      "858/858 [==============================] - 13s 16ms/sample - loss: 0.1330 - acc: 0.9579 - f1: 0.7600 - precision: 0.5929 - val_loss: 0.6201 - val_acc: 0.9516 - val_f1: 0.7242 - val_precision: 0.6948\n",
      "Epoch 29/100\n",
      "768/858 [=========================>....] - ETA: 1s - loss: 0.1387 - acc: 0.9754 - f1: 0.8380 - precision: 0.7314\n",
      "Epoch 00029: val_f1 improved from 0.75403 to 0.76316, saving model to mp-dl-unh\n",
      "858/858 [==============================] - 13s 16ms/sample - loss: 0.1404 - acc: 0.9732 - f1: 0.8258 - precision: 0.7128 - val_loss: 0.4380 - val_acc: 0.9507 - val_f1: 0.7632 - val_precision: 0.6561\n",
      "Epoch 30/100\n",
      "768/858 [=========================>....] - ETA: 1s - loss: 0.1206 - acc: 0.9662 - f1: 0.7752 - precision: 0.6437\n",
      "Epoch 00030: val_f1 did not improve from 0.76316\n",
      "858/858 [==============================] - 13s 16ms/sample - loss: 0.1231 - acc: 0.9662 - f1: 0.7788 - precision: 0.6485 - val_loss: 0.6783 - val_acc: 0.9532 - val_f1: 0.7432 - val_precision: 0.7204\n",
      "Epoch 31/100\n",
      "768/858 [=========================>....] - ETA: 1s - loss: 0.1509 - acc: 0.9601 - f1: 0.7833 - precision: 0.6044\n",
      "Epoch 00031: val_f1 did not improve from 0.76316\n",
      "858/858 [==============================] - 13s 16ms/sample - loss: 0.1614 - acc: 0.9546 - f1: 0.7573 - precision: 0.5754 - val_loss: 0.4850 - val_acc: 0.9217 - val_f1: 0.6444 - val_precision: 0.5167\n",
      "Epoch 32/100\n",
      "768/858 [=========================>....] - ETA: 1s - loss: 0.1370 - acc: 0.9720 - f1: 0.8244 - precision: 0.6961\n",
      "Epoch 00032: val_f1 did not improve from 0.76316\n",
      "858/858 [==============================] - 13s 16ms/sample - loss: 0.1398 - acc: 0.9714 - f1: 0.8208 - precision: 0.6957 - val_loss: 0.4485 - val_acc: 0.9462 - val_f1: 0.7313 - val_precision: 0.6261\n",
      "Epoch 33/100\n",
      "768/858 [=========================>....] - ETA: 1s - loss: 0.1262 - acc: 0.9616 - f1: 0.7850 - precision: 0.6116\n",
      "Epoch 00033: val_f1 did not improve from 0.76316\n",
      "858/858 [==============================] - 13s 16ms/sample - loss: 0.1274 - acc: 0.9616 - f1: 0.7840 - precision: 0.6156 - val_loss: 0.6564 - val_acc: 0.9544 - val_f1: 0.7283 - val_precision: 0.7341\n",
      "Epoch 34/100\n",
      "768/858 [=========================>....] - ETA: 1s - loss: 0.1146 - acc: 0.9686 - f1: 0.8106 - precision: 0.6616\n",
      "Epoch 00034: val_f1 did not improve from 0.76316\n",
      "858/858 [==============================] - 13s 16ms/sample - loss: 0.1180 - acc: 0.9660 - f1: 0.7970 - precision: 0.6469 - val_loss: 0.4949 - val_acc: 0.9427 - val_f1: 0.7157 - val_precision: 0.6085\n",
      "Epoch 35/100\n",
      "768/858 [=========================>....] - ETA: 1s - loss: 0.1186 - acc: 0.9729 - f1: 0.8332 - precision: 0.7009\n",
      "Epoch 00035: val_f1 did not improve from 0.76316\n",
      "858/858 [==============================] - 13s 16ms/sample - loss: 0.1186 - acc: 0.9724 - f1: 0.8304 - precision: 0.6998 - val_loss: 0.5245 - val_acc: 0.9505 - val_f1: 0.7320 - val_precision: 0.6701\n",
      "Epoch 36/100\n",
      "768/858 [=========================>....] - ETA: 1s - loss: 0.1007 - acc: 0.9673 - f1: 0.8056 - precision: 0.6482\n",
      "Epoch 00036: val_f1 did not improve from 0.76316\n",
      "858/858 [==============================] - 13s 16ms/sample - loss: 0.1014 - acc: 0.9670 - f1: 0.8047 - precision: 0.6506 - val_loss: 0.6982 - val_acc: 0.9523 - val_f1: 0.7108 - val_precision: 0.7290\n",
      "Epoch 37/100\n",
      "768/858 [=========================>....] - ETA: 1s - loss: 0.0892 - acc: 0.9805 - f1: 0.8668 - precision: 0.7643\n",
      "Epoch 00037: val_f1 did not improve from 0.76316\n",
      "858/858 [==============================] - 13s 16ms/sample - loss: 0.0914 - acc: 0.9785 - f1: 0.8551 - precision: 0.7477 - val_loss: 0.5736 - val_acc: 0.9461 - val_f1: 0.6966 - val_precision: 0.6341\n",
      "Epoch 38/100\n",
      "768/858 [=========================>....] - ETA: 1s - loss: 0.0897 - acc: 0.9757 - f1: 0.8524 - precision: 0.7167\n",
      "Epoch 00038: val_f1 did not improve from 0.76316\n",
      "858/858 [==============================] - 13s 16ms/sample - loss: 0.0910 - acc: 0.9757 - f1: 0.8521 - precision: 0.7215 - val_loss: 0.7751 - val_acc: 0.9515 - val_f1: 0.7005 - val_precision: 0.7068\n",
      "Epoch 39/100\n",
      "768/858 [=========================>....] - ETA: 1s - loss: 0.0769 - acc: 0.9779 - f1: 0.8585 - precision: 0.7332\n",
      "Epoch 00039: val_f1 did not improve from 0.76316\n",
      "858/858 [==============================] - 13s 16ms/sample - loss: 0.0789 - acc: 0.9767 - f1: 0.8509 - precision: 0.7257 - val_loss: 0.7554 - val_acc: 0.9524 - val_f1: 0.7358 - val_precision: 0.7111\n",
      "Epoch 40/100\n",
      "768/858 [=========================>....] - ETA: 1s - loss: 0.0719 - acc: 0.9833 - f1: 0.8858 - precision: 0.7895\n",
      "Epoch 00040: val_f1 did not improve from 0.76316\n",
      "858/858 [==============================] - 13s 16ms/sample - loss: 0.0742 - acc: 0.9820 - f1: 0.8775 - precision: 0.7787 - val_loss: 0.7492 - val_acc: 0.9449 - val_f1: 0.6997 - val_precision: 0.6452\n",
      "Epoch 41/100\n",
      "768/858 [=========================>....] - ETA: 1s - loss: 0.0723 - acc: 0.9799 - f1: 0.8711 - precision: 0.7532\n",
      "Epoch 00041: val_f1 did not improve from 0.76316\n",
      "858/858 [==============================] - 13s 16ms/sample - loss: 0.0737 - acc: 0.9797 - f1: 0.8703 - precision: 0.7557 - val_loss: 0.9697 - val_acc: 0.9505 - val_f1: 0.6956 - val_precision: 0.7232\n",
      "Epoch 42/100\n",
      "768/858 [=========================>....] - ETA: 1s - loss: 0.0741 - acc: 0.9788 - f1: 0.8679 - precision: 0.7408\n",
      "Epoch 00042: val_f1 did not improve from 0.76316\n",
      "858/858 [==============================] - 13s 16ms/sample - loss: 0.0751 - acc: 0.9783 - f1: 0.8644 - precision: 0.7398 - val_loss: 1.0738 - val_acc: 0.9521 - val_f1: 0.6984 - val_precision: 0.7511\n",
      "Epoch 43/100\n",
      "768/858 [=========================>....] - ETA: 1s - loss: 0.0695 - acc: 0.9862 - f1: 0.9000 - precision: 0.8247\n",
      "Epoch 00043: val_f1 did not improve from 0.76316\n",
      "858/858 [==============================] - 14s 16ms/sample - loss: 0.0720 - acc: 0.9843 - f1: 0.8882 - precision: 0.8056 - val_loss: 0.7143 - val_acc: 0.9454 - val_f1: 0.7002 - val_precision: 0.6315\n",
      "Epoch 44/100\n",
      "768/858 [=========================>....] - ETA: 1s - loss: 0.0896 - acc: 0.9773 - f1: 0.8606 - precision: 0.7311\n",
      "Epoch 00044: val_f1 did not improve from 0.76316\n",
      "858/858 [==============================] - 13s 16ms/sample - loss: 0.0904 - acc: 0.9775 - f1: 0.8613 - precision: 0.7371 - val_loss: 0.9962 - val_acc: 0.9528 - val_f1: 0.6912 - val_precision: 0.7306\n",
      "Epoch 45/100\n",
      "768/858 [=========================>....] - ETA: 1s - loss: 0.0689 - acc: 0.9794 - f1: 0.8683 - precision: 0.7470\n",
      "Epoch 00045: val_f1 did not improve from 0.76316\n",
      "858/858 [==============================] - 13s 16ms/sample - loss: 0.0711 - acc: 0.9780 - f1: 0.8590 - precision: 0.7369 - val_loss: 0.7534 - val_acc: 0.9535 - val_f1: 0.7187 - val_precision: 0.6924\n",
      "Epoch 46/100\n",
      "768/858 [=========================>....] - ETA: 1s - loss: 0.0629 - acc: 0.9848 - f1: 0.8954 - precision: 0.8025\n",
      "Epoch 00046: val_f1 did not improve from 0.76316\n",
      "858/858 [==============================] - 13s 16ms/sample - loss: 0.0642 - acc: 0.9844 - f1: 0.8926 - precision: 0.8006 - val_loss: 1.0539 - val_acc: 0.9530 - val_f1: 0.7041 - val_precision: 0.7594\n",
      "Epoch 47/100\n",
      "768/858 [=========================>....] - ETA: 1s - loss: 0.0614 - acc: 0.9838 - f1: 0.8889 - precision: 0.7906\n",
      "Epoch 00047: val_f1 did not improve from 0.76316\n",
      "858/858 [==============================] - 13s 16ms/sample - loss: 0.0636 - acc: 0.9825 - f1: 0.8808 - precision: 0.7801 - val_loss: 0.9919 - val_acc: 0.9519 - val_f1: 0.6812 - val_precision: 0.7275\n",
      "Epoch 48/100\n",
      "768/858 [=========================>....] - ETA: 1s - loss: 0.0565 - acc: 0.9883 - f1: 0.9166 - precision: 0.8441\n",
      "Epoch 00048: val_f1 did not improve from 0.76316\n",
      "858/858 [==============================] - 13s 15ms/sample - loss: 0.0583 - acc: 0.9871 - f1: 0.9081 - precision: 0.8315 - val_loss: 1.0171 - val_acc: 0.9508 - val_f1: 0.7172 - val_precision: 0.6993\n",
      "Epoch 49/100\n",
      "768/858 [=========================>....] - ETA: 1s - loss: 0.0549 - acc: 0.9852 - f1: 0.8979 - precision: 0.8044\n",
      "Epoch 00049: val_f1 did not improve from 0.76316\n",
      "858/858 [==============================] - 13s 15ms/sample - loss: 0.0564 - acc: 0.9848 - f1: 0.8959 - precision: 0.8031 - val_loss: 1.4307 - val_acc: 0.9494 - val_f1: 0.6471 - val_precision: 0.7540\n",
      "Epoch 50/100\n",
      "768/858 [=========================>....] - ETA: 1s - loss: 0.0603 - acc: 0.9856 - f1: 0.9013 - precision: 0.8132\n",
      "Epoch 00050: val_f1 did not improve from 0.76316\n",
      "858/858 [==============================] - 13s 15ms/sample - loss: 0.0634 - acc: 0.9839 - f1: 0.8895 - precision: 0.7963 - val_loss: 0.9860 - val_acc: 0.9502 - val_f1: 0.6965 - val_precision: 0.6912\n",
      "Epoch 51/100\n",
      "768/858 [=========================>....] - ETA: 1s - loss: 0.0675 - acc: 0.9842 - f1: 0.8914 - precision: 0.7998\n",
      "Epoch 00051: val_f1 did not improve from 0.76316\n",
      "858/858 [==============================] - 13s 15ms/sample - loss: 0.0670 - acc: 0.9839 - f1: 0.8903 - precision: 0.7990 - val_loss: 0.9790 - val_acc: 0.9329 - val_f1: 0.6276 - val_precision: 0.5727\n",
      "Epoch 52/100\n",
      "768/858 [=========================>....] - ETA: 1s - loss: 0.0855 - acc: 0.9768 - f1: 0.8629 - precision: 0.7247\n",
      "Epoch 00052: val_f1 did not improve from 0.76316\n",
      "858/858 [==============================] - 13s 16ms/sample - loss: 0.0845 - acc: 0.9773 - f1: 0.8658 - precision: 0.7328 - val_loss: 1.1022 - val_acc: 0.9522 - val_f1: 0.6504 - val_precision: 0.7529\n",
      "Epoch 53/100\n",
      "768/858 [=========================>....] - ETA: 1s - loss: 0.0850 - acc: 0.9784 - f1: 0.8616 - precision: 0.7393\n",
      "Epoch 00053: val_f1 did not improve from 0.76316\n",
      "858/858 [==============================] - 13s 16ms/sample - loss: 0.0857 - acc: 0.9777 - f1: 0.8576 - precision: 0.7362 - val_loss: 1.0941 - val_acc: 0.9511 - val_f1: 0.7045 - val_precision: 0.7209\n",
      "Epoch 54/100\n",
      "768/858 [=========================>....] - ETA: 1s - loss: 0.0936 - acc: 0.9826 - f1: 0.8789 - precision: 0.7887\n",
      "Epoch 00054: val_f1 did not improve from 0.76316\n",
      "858/858 [==============================] - 13s 16ms/sample - loss: 0.1066 - acc: 0.9768 - f1: 0.8474 - precision: 0.7337 - val_loss: 0.8041 - val_acc: 0.8993 - val_f1: 0.5459 - val_precision: 0.4367\n",
      "Epoch 55/100\n",
      "768/858 [=========================>....] - ETA: 1s - loss: 0.1603 - acc: 0.9619 - f1: 0.7450 - precision: 0.6192\n",
      "Epoch 00055: val_f1 did not improve from 0.76316\n",
      "858/858 [==============================] - 13s 16ms/sample - loss: 0.1563 - acc: 0.9632 - f1: 0.7587 - precision: 0.6326 - val_loss: 0.6248 - val_acc: 0.9469 - val_f1: 0.7045 - val_precision: 0.6504\n",
      "Epoch 56/100\n",
      "768/858 [=========================>....] - ETA: 1s - loss: 0.1422 - acc: 0.9569 - f1: 0.7535 - precision: 0.5825\n",
      "Epoch 00056: val_f1 did not improve from 0.76316\n",
      "858/858 [==============================] - 13s 16ms/sample - loss: 0.1427 - acc: 0.9562 - f1: 0.7509 - precision: 0.5830 - val_loss: 0.9062 - val_acc: 0.9494 - val_f1: 0.6864 - val_precision: 0.7315\n",
      "Epoch 57/100\n",
      "768/858 [=========================>....] - ETA: 1s - loss: 0.1434 - acc: 0.9742 - f1: 0.8221 - precision: 0.7176\n",
      "Epoch 00057: val_f1 did not improve from 0.76316\n",
      "858/858 [==============================] - 13s 16ms/sample - loss: 0.1461 - acc: 0.9717 - f1: 0.8097 - precision: 0.6975 - val_loss: 0.4283 - val_acc: 0.9444 - val_f1: 0.7176 - val_precision: 0.6175\n",
      "Epoch 58/100\n",
      "768/858 [=========================>....] - ETA: 1s - loss: 0.1073 - acc: 0.9729 - f1: 0.8149 - precision: 0.6946\n",
      "Epoch 00058: val_f1 did not improve from 0.76316\n",
      "858/858 [==============================] - 13s 16ms/sample - loss: 0.1078 - acc: 0.9734 - f1: 0.8205 - precision: 0.7025 - val_loss: 0.8814 - val_acc: 0.9528 - val_f1: 0.6945 - val_precision: 0.7684\n",
      "Epoch 59/100\n",
      "768/858 [=========================>....] - ETA: 1s - loss: 0.1020 - acc: 0.9764 - f1: 0.8419 - precision: 0.7262\n",
      "Epoch 00059: val_f1 did not improve from 0.76316\n",
      "858/858 [==============================] - 13s 16ms/sample - loss: 0.1050 - acc: 0.9740 - f1: 0.8289 - precision: 0.7083 - val_loss: 0.7036 - val_acc: 0.9275 - val_f1: 0.6384 - val_precision: 0.5448\n",
      "Epoch 60/100\n",
      "768/858 [=========================>....] - ETA: 1s - loss: 0.0926 - acc: 0.9762 - f1: 0.8350 - precision: 0.7224\n",
      "Epoch 00060: val_f1 did not improve from 0.76316\n",
      "858/858 [==============================] - 13s 16ms/sample - loss: 0.0937 - acc: 0.9765 - f1: 0.8393 - precision: 0.7292 - val_loss: 0.7878 - val_acc: 0.9471 - val_f1: 0.7112 - val_precision: 0.6677\n",
      "Epoch 61/100\n",
      "768/858 [=========================>....] - ETA: 1s - loss: 0.0805 - acc: 0.9765 - f1: 0.8417 - precision: 0.7204\n",
      "Epoch 00061: val_f1 did not improve from 0.76316\n",
      "858/858 [==============================] - 13s 16ms/sample - loss: 0.0803 - acc: 0.9765 - f1: 0.8444 - precision: 0.7249 - val_loss: 0.9252 - val_acc: 0.9506 - val_f1: 0.6872 - val_precision: 0.7082\n",
      "Epoch 62/100\n",
      "768/858 [=========================>....] - ETA: 1s - loss: 0.0649 - acc: 0.9853 - f1: 0.8905 - precision: 0.8099\n",
      "Epoch 00062: val_f1 did not improve from 0.76316\n",
      "858/858 [==============================] - 13s 16ms/sample - loss: 0.0665 - acc: 0.9842 - f1: 0.8842 - precision: 0.8002 - val_loss: 0.9149 - val_acc: 0.9481 - val_f1: 0.6975 - val_precision: 0.6778\n",
      "Epoch 63/100\n",
      "768/858 [=========================>....] - ETA: 1s - loss: 0.0554 - acc: 0.9845 - f1: 0.8858 - precision: 0.7954\n",
      "Epoch 00063: val_f1 did not improve from 0.76316\n",
      "858/858 [==============================] - 13s 16ms/sample - loss: 0.0563 - acc: 0.9843 - f1: 0.8863 - precision: 0.7965 - val_loss: 1.3431 - val_acc: 0.9489 - val_f1: 0.6401 - val_precision: 0.7334\n",
      "Epoch 64/100\n",
      "768/858 [=========================>....] - ETA: 1s - loss: 0.0527 - acc: 0.9877 - f1: 0.9055 - precision: 0.8332\n",
      "Epoch 00064: val_f1 did not improve from 0.76316\n",
      "858/858 [==============================] - 13s 16ms/sample - loss: 0.0539 - acc: 0.9868 - f1: 0.9012 - precision: 0.8262 - val_loss: 1.0615 - val_acc: 0.9502 - val_f1: 0.6868 - val_precision: 0.7029\n",
      "Epoch 65/100\n",
      "768/858 [=========================>....] - ETA: 1s - loss: 0.0538 - acc: 0.9876 - f1: 0.9085 - precision: 0.8339\n",
      "Epoch 00065: val_f1 did not improve from 0.76316\n",
      "858/858 [==============================] - 14s 16ms/sample - loss: 0.0540 - acc: 0.9873 - f1: 0.9079 - precision: 0.8333 - val_loss: 1.0594 - val_acc: 0.9500 - val_f1: 0.6545 - val_precision: 0.7056\n",
      "Epoch 66/100\n",
      "768/858 [=========================>....] - ETA: 1s - loss: 0.0547 - acc: 0.9837 - f1: 0.8869 - precision: 0.7863\n",
      "Epoch 00066: val_f1 did not improve from 0.76316\n",
      "858/858 [==============================] - 14s 16ms/sample - loss: 0.0555 - acc: 0.9837 - f1: 0.8881 - precision: 0.7894 - val_loss: 1.4055 - val_acc: 0.9494 - val_f1: 0.5982 - val_precision: 0.7585\n",
      "Epoch 67/100\n",
      "768/858 [=========================>....] - ETA: 1s - loss: 0.0486 - acc: 0.9903 - f1: 0.9253 - precision: 0.8664\n",
      "Epoch 00067: val_f1 did not improve from 0.76316\n",
      "858/858 [==============================] - 13s 16ms/sample - loss: 0.0499 - acc: 0.9893 - f1: 0.9191 - precision: 0.8561 - val_loss: 1.1052 - val_acc: 0.9525 - val_f1: 0.6921 - val_precision: 0.7278\n",
      "Epoch 68/100\n",
      "768/858 [=========================>....] - ETA: 1s - loss: 0.0449 - acc: 0.9889 - f1: 0.9157 - precision: 0.8455\n",
      "Epoch 00068: val_f1 did not improve from 0.76316\n",
      "858/858 [==============================] - 13s 16ms/sample - loss: 0.0457 - acc: 0.9888 - f1: 0.9162 - precision: 0.8467 - val_loss: 1.4508 - val_acc: 0.9517 - val_f1: 0.6736 - val_precision: 0.7792\n",
      "Epoch 69/100\n",
      "768/858 [=========================>....] - ETA: 1s - loss: 0.0430 - acc: 0.9895 - f1: 0.9210 - precision: 0.8531\n",
      "Epoch 00069: val_f1 did not improve from 0.76316\n",
      "858/858 [==============================] - 13s 15ms/sample - loss: 0.0441 - acc: 0.9889 - f1: 0.9177 - precision: 0.8482 - val_loss: 1.2878 - val_acc: 0.9510 - val_f1: 0.6890 - val_precision: 0.7353\n",
      "Epoch 70/100\n",
      "768/858 [=========================>....] - ETA: 1s - loss: 0.0404 - acc: 0.9901 - f1: 0.9225 - precision: 0.8602\n",
      "Epoch 00070: val_f1 did not improve from 0.76316\n",
      "858/858 [==============================] - 13s 15ms/sample - loss: 0.0414 - acc: 0.9901 - f1: 0.9242 - precision: 0.8630 - val_loss: 1.5731 - val_acc: 0.9490 - val_f1: 0.6437 - val_precision: 0.7570\n",
      "Epoch 71/100\n",
      "768/858 [=========================>....] - ETA: 1s - loss: 0.0381 - acc: 0.9904 - f1: 0.9271 - precision: 0.8625\n",
      "Epoch 00071: val_f1 did not improve from 0.76316\n",
      "858/858 [==============================] - 13s 15ms/sample - loss: 0.0392 - acc: 0.9898 - f1: 0.9239 - precision: 0.8579 - val_loss: 1.6687 - val_acc: 0.9491 - val_f1: 0.6373 - val_precision: 0.7597\n",
      "Epoch 72/100\n",
      "768/858 [=========================>....] - ETA: 1s - loss: 0.0394 - acc: 0.9927 - f1: 0.9411 - precision: 0.8972\n",
      "Epoch 00072: val_f1 did not improve from 0.76316\n",
      "858/858 [==============================] - 13s 15ms/sample - loss: 0.0402 - acc: 0.9920 - f1: 0.9367 - precision: 0.8892 - val_loss: 1.2820 - val_acc: 0.9497 - val_f1: 0.6638 - val_precision: 0.7133\n",
      "Epoch 73/100\n",
      "768/858 [=========================>....] - ETA: 1s - loss: 0.0443 - acc: 0.9882 - f1: 0.9101 - precision: 0.8359\n",
      "Epoch 00073: val_f1 did not improve from 0.76316\n",
      "858/858 [==============================] - 13s 15ms/sample - loss: 0.0455 - acc: 0.9885 - f1: 0.9147 - precision: 0.8435 - val_loss: 1.6446 - val_acc: 0.9478 - val_f1: 0.6532 - val_precision: 0.7569\n",
      "Epoch 74/100\n",
      "768/858 [=========================>....] - ETA: 1s - loss: 0.0395 - acc: 0.9915 - f1: 0.9331 - precision: 0.8783\n",
      "Epoch 00074: val_f1 did not improve from 0.76316\n",
      "858/858 [==============================] - 13s 15ms/sample - loss: 0.0417 - acc: 0.9903 - f1: 0.9253 - precision: 0.8654 - val_loss: 1.0834 - val_acc: 0.9504 - val_f1: 0.6684 - val_precision: 0.7105\n",
      "Epoch 75/100\n",
      "768/858 [=========================>....] - ETA: 1s - loss: 0.0383 - acc: 0.9917 - f1: 0.9365 - precision: 0.8810\n",
      "Epoch 00075: val_f1 did not improve from 0.76316\n",
      "858/858 [==============================] - 13s 15ms/sample - loss: 0.0388 - acc: 0.9914 - f1: 0.9355 - precision: 0.8795 - val_loss: 1.4967 - val_acc: 0.9505 - val_f1: 0.6296 - val_precision: 0.7629\n",
      "Epoch 76/100\n",
      "768/858 [=========================>....] - ETA: 1s - loss: 0.0398 - acc: 0.9902 - f1: 0.9251 - precision: 0.8624\n",
      "Epoch 00076: val_f1 did not improve from 0.76316\n",
      "858/858 [==============================] - 13s 15ms/sample - loss: 0.0407 - acc: 0.9896 - f1: 0.9216 - precision: 0.8570 - val_loss: 1.3266 - val_acc: 0.9493 - val_f1: 0.6551 - val_precision: 0.7177\n",
      "Epoch 77/100\n",
      "768/858 [=========================>....] - ETA: 1s - loss: 0.0383 - acc: 0.9917 - f1: 0.9380 - precision: 0.8815\n",
      "Epoch 00077: val_f1 did not improve from 0.76316\n",
      "858/858 [==============================] - 13s 16ms/sample - loss: 0.0387 - acc: 0.9916 - f1: 0.9380 - precision: 0.8824 - val_loss: 1.4692 - val_acc: 0.9494 - val_f1: 0.6556 - val_precision: 0.7418\n",
      "Epoch 78/100\n",
      "768/858 [=========================>....] - ETA: 1s - loss: 0.0351 - acc: 0.9910 - f1: 0.9308 - precision: 0.8700\n",
      "Epoch 00078: val_f1 did not improve from 0.76316\n",
      "858/858 [==============================] - 13s 15ms/sample - loss: 0.0355 - acc: 0.9907 - f1: 0.9299 - precision: 0.8688 - val_loss: 1.7172 - val_acc: 0.9498 - val_f1: 0.5930 - val_precision: 0.7717\n",
      "Epoch 79/100\n",
      "768/858 [=========================>....] - ETA: 1s - loss: 0.0320 - acc: 0.9937 - f1: 0.9487 - precision: 0.9069\n",
      "Epoch 00079: val_f1 did not improve from 0.76316\n",
      "858/858 [==============================] - 13s 15ms/sample - loss: 0.0325 - acc: 0.9932 - f1: 0.9457 - precision: 0.9017 - val_loss: 1.3564 - val_acc: 0.9514 - val_f1: 0.6845 - val_precision: 0.7295\n",
      "Epoch 80/100\n",
      "768/858 [=========================>....] - ETA: 1s - loss: 0.0322 - acc: 0.9923 - f1: 0.9413 - precision: 0.8874\n",
      "Epoch 00080: val_f1 did not improve from 0.76316\n",
      "858/858 [==============================] - 13s 16ms/sample - loss: 0.0327 - acc: 0.9925 - f1: 0.9438 - precision: 0.8919 - val_loss: 1.7088 - val_acc: 0.9513 - val_f1: 0.6751 - val_precision: 0.7685\n",
      "Epoch 81/100\n",
      "768/858 [=========================>....] - ETA: 1s - loss: 0.0313 - acc: 0.9926 - f1: 0.9425 - precision: 0.8914\n",
      "Epoch 00081: val_f1 did not improve from 0.76316\n",
      "858/858 [==============================] - 13s 16ms/sample - loss: 0.0321 - acc: 0.9921 - f1: 0.9392 - precision: 0.8865 - val_loss: 1.5886 - val_acc: 0.9531 - val_f1: 0.6867 - val_precision: 0.7715\n",
      "Epoch 82/100\n",
      "768/858 [=========================>....] - ETA: 1s - loss: 0.0306 - acc: 0.9939 - f1: 0.9502 - precision: 0.9100\n",
      "Epoch 00082: val_f1 did not improve from 0.76316\n",
      "858/858 [==============================] - 13s 15ms/sample - loss: 0.0310 - acc: 0.9935 - f1: 0.9481 - precision: 0.9063 - val_loss: 1.5464 - val_acc: 0.9519 - val_f1: 0.6647 - val_precision: 0.7531\n",
      "Epoch 83/100\n",
      "768/858 [=========================>....] - ETA: 1s - loss: 0.0306 - acc: 0.9925 - f1: 0.9412 - precision: 0.8888\n",
      "Epoch 00083: val_f1 did not improve from 0.76316\n",
      "858/858 [==============================] - 13s 15ms/sample - loss: 0.0309 - acc: 0.9925 - f1: 0.9424 - precision: 0.8910 - val_loss: 1.8156 - val_acc: 0.9517 - val_f1: 0.6844 - val_precision: 0.7795\n",
      "Epoch 84/100\n",
      "768/858 [=========================>....] - ETA: 1s - loss: 0.0295 - acc: 0.9935 - f1: 0.9475 - precision: 0.9040\n",
      "Epoch 00084: val_f1 did not improve from 0.76316\n",
      "858/858 [==============================] - 13s 15ms/sample - loss: 0.0299 - acc: 0.9932 - f1: 0.9457 - precision: 0.9008 - val_loss: 1.6246 - val_acc: 0.9527 - val_f1: 0.6758 - val_precision: 0.7598\n",
      "Epoch 85/100\n",
      "768/858 [=========================>....] - ETA: 1s - loss: 0.0294 - acc: 0.9941 - f1: 0.9536 - precision: 0.9135\n",
      "Epoch 00085: val_f1 did not improve from 0.76316\n",
      "858/858 [==============================] - 13s 16ms/sample - loss: 0.0295 - acc: 0.9939 - f1: 0.9528 - precision: 0.9123 - val_loss: 1.7144 - val_acc: 0.9504 - val_f1: 0.6111 - val_precision: 0.7492\n",
      "Epoch 86/100\n",
      "768/858 [=========================>....] - ETA: 1s - loss: 0.0332 - acc: 0.9917 - f1: 0.9358 - precision: 0.8788\n",
      "Epoch 00086: val_f1 did not improve from 0.76316\n",
      "858/858 [==============================] - 13s 16ms/sample - loss: 0.0332 - acc: 0.9919 - f1: 0.9382 - precision: 0.8828 - val_loss: 2.1461 - val_acc: 0.9481 - val_f1: 0.6216 - val_precision: 0.7803\n",
      "Epoch 87/100\n",
      "768/858 [=========================>....] - ETA: 1s - loss: 0.0346 - acc: 0.9926 - f1: 0.9424 - precision: 0.8943\n",
      "Epoch 00087: val_f1 did not improve from 0.76316\n",
      "858/858 [==============================] - 13s 16ms/sample - loss: 0.0348 - acc: 0.9923 - f1: 0.9402 - precision: 0.8906 - val_loss: 1.3901 - val_acc: 0.9499 - val_f1: 0.6758 - val_precision: 0.7058\n",
      "Epoch 88/100\n",
      "768/858 [=========================>....] - ETA: 1s - loss: 0.0399 - acc: 0.9917 - f1: 0.9390 - precision: 0.8845\n",
      "Epoch 00088: val_f1 did not improve from 0.76316\n",
      "858/858 [==============================] - 13s 16ms/sample - loss: 0.0395 - acc: 0.9918 - f1: 0.9405 - precision: 0.8874 - val_loss: 1.5020 - val_acc: 0.9515 - val_f1: 0.6841 - val_precision: 0.7542\n",
      "Epoch 89/100\n",
      "768/858 [=========================>....] - ETA: 1s - loss: 0.0325 - acc: 0.9917 - f1: 0.9352 - precision: 0.8785\n",
      "Epoch 00089: val_f1 did not improve from 0.76316\n",
      "858/858 [==============================] - 13s 16ms/sample - loss: 0.0331 - acc: 0.9916 - f1: 0.9355 - precision: 0.8793 - val_loss: 1.8255 - val_acc: 0.9499 - val_f1: 0.6072 - val_precision: 0.7718\n",
      "Epoch 90/100\n",
      "768/858 [=========================>....] - ETA: 1s - loss: 0.0323 - acc: 0.9930 - f1: 0.9447 - precision: 0.8979\n",
      "Epoch 00090: val_f1 did not improve from 0.76316\n",
      "858/858 [==============================] - 14s 16ms/sample - loss: 0.0331 - acc: 0.9926 - f1: 0.9418 - precision: 0.8931 - val_loss: 1.4968 - val_acc: 0.9502 - val_f1: 0.6785 - val_precision: 0.7378\n",
      "Epoch 91/100\n",
      "768/858 [=========================>....] - ETA: 1s - loss: 0.0338 - acc: 0.9929 - f1: 0.9462 - precision: 0.8981\n",
      "Epoch 00091: val_f1 did not improve from 0.76316\n",
      "858/858 [==============================] - 13s 16ms/sample - loss: 0.0339 - acc: 0.9929 - f1: 0.9469 - precision: 0.9000 - val_loss: 1.5135 - val_acc: 0.9513 - val_f1: 0.6685 - val_precision: 0.7483\n",
      "Epoch 92/100\n",
      "768/858 [=========================>....] - ETA: 1s - loss: 0.0310 - acc: 0.9919 - f1: 0.9391 - precision: 0.8809\n",
      "Epoch 00092: val_f1 did not improve from 0.76316\n",
      "858/858 [==============================] - 13s 16ms/sample - loss: 0.0317 - acc: 0.9918 - f1: 0.9391 - precision: 0.8818 - val_loss: 1.7332 - val_acc: 0.9505 - val_f1: 0.6628 - val_precision: 0.7696\n",
      "Epoch 93/100\n",
      "768/858 [=========================>....] - ETA: 1s - loss: 0.0294 - acc: 0.9941 - f1: 0.9501 - precision: 0.9129\n",
      "Epoch 00093: val_f1 did not improve from 0.76316\n",
      "858/858 [==============================] - 13s 16ms/sample - loss: 0.0299 - acc: 0.9937 - f1: 0.9478 - precision: 0.9083 - val_loss: 1.6085 - val_acc: 0.9508 - val_f1: 0.6902 - val_precision: 0.7517\n",
      "Epoch 94/100\n",
      "768/858 [=========================>....] - ETA: 1s - loss: 0.0284 - acc: 0.9936 - f1: 0.9479 - precision: 0.9040\n",
      "Epoch 00094: val_f1 did not improve from 0.76316\n",
      "858/858 [==============================] - 13s 15ms/sample - loss: 0.0288 - acc: 0.9936 - f1: 0.9492 - precision: 0.9060 - val_loss: 1.8261 - val_acc: 0.9498 - val_f1: 0.6734 - val_precision: 0.7620\n",
      "Epoch 95/100\n",
      "768/858 [=========================>....] - ETA: 1s - loss: 0.0264 - acc: 0.9941 - f1: 0.9529 - precision: 0.9105\n",
      "Epoch 00095: val_f1 did not improve from 0.76316\n",
      "858/858 [==============================] - 13s 15ms/sample - loss: 0.0267 - acc: 0.9939 - f1: 0.9522 - precision: 0.9095 - val_loss: 1.7783 - val_acc: 0.9504 - val_f1: 0.6782 - val_precision: 0.7566\n",
      "Epoch 96/100\n",
      "768/858 [=========================>....] - ETA: 1s - loss: 0.0256 - acc: 0.9945 - f1: 0.9541 - precision: 0.9162\n",
      "Epoch 00096: val_f1 did not improve from 0.76316\n",
      "858/858 [==============================] - 13s 15ms/sample - loss: 0.0258 - acc: 0.9944 - f1: 0.9545 - precision: 0.9166 - val_loss: 1.8783 - val_acc: 0.9502 - val_f1: 0.6438 - val_precision: 0.7628\n",
      "Epoch 97/100\n",
      "768/858 [=========================>....] - ETA: 1s - loss: 0.0266 - acc: 0.9940 - f1: 0.9478 - precision: 0.9104\n",
      "Epoch 00097: val_f1 did not improve from 0.76316\n",
      "858/858 [==============================] - 13s 15ms/sample - loss: 0.0267 - acc: 0.9939 - f1: 0.9482 - precision: 0.9101 - val_loss: 1.9672 - val_acc: 0.9500 - val_f1: 0.6292 - val_precision: 0.7652\n",
      "Epoch 98/100\n",
      "768/858 [=========================>....] - ETA: 1s - loss: 0.0238 - acc: 0.9949 - f1: 0.9587 - precision: 0.9227\n",
      "Epoch 00098: val_f1 did not improve from 0.76316\n",
      "858/858 [==============================] - 13s 15ms/sample - loss: 0.0241 - acc: 0.9947 - f1: 0.9579 - precision: 0.9213 - val_loss: 1.9509 - val_acc: 0.9505 - val_f1: 0.6660 - val_precision: 0.7603\n",
      "Epoch 99/100\n",
      "768/858 [=========================>....] - ETA: 1s - loss: 0.0228 - acc: 0.9945 - f1: 0.9547 - precision: 0.9160\n",
      "Epoch 00099: val_f1 did not improve from 0.76316\n",
      "858/858 [==============================] - 13s 15ms/sample - loss: 0.0232 - acc: 0.9946 - f1: 0.9565 - precision: 0.9188 - val_loss: 2.1944 - val_acc: 0.9498 - val_f1: 0.6210 - val_precision: 0.7774\n",
      "Epoch 100/100\n",
      "768/858 [=========================>....] - ETA: 1s - loss: 0.0227 - acc: 0.9950 - f1: 0.9594 - precision: 0.9242\n",
      "Epoch 00100: val_f1 did not improve from 0.76316\n",
      "858/858 [==============================] - 13s 16ms/sample - loss: 0.0233 - acc: 0.9947 - f1: 0.9572 - precision: 0.9203 - val_loss: 2.0751 - val_acc: 0.9502 - val_f1: 0.6664 - val_precision: 0.7610\n"
     ]
    }
   ],
   "source": [
    "history = model.fit(\n",
    "  x=X_train, y=y_train,\n",
    "  batch_size=BATCH_SIZE,\n",
    "  epochs=EPOCHS,\n",
    "  validation_data=(X_test, y_test),\n",
    "  callbacks=[checkpoint],\n",
    "  verbose=1,\n",
    "  shuffle=False\n",
    ")"
   ]
  },
  {
   "cell_type": "markdown",
   "metadata": {
    "colab_type": "text",
    "id": "VzBPJKF0Q5sW"
   },
   "source": [
    "# Performance Visualization"
   ]
  },
  {
   "cell_type": "markdown",
   "metadata": {
    "colab_type": "text",
    "id": "mWCIq-enCh3U"
   },
   "source": [
    "To evaluate the training of our model over time, we visualize the model's loss on its training and testing data."
   ]
  },
  {
   "cell_type": "code",
   "execution_count": 23,
   "metadata": {
    "colab": {
     "base_uri": "https://localhost:8080/",
     "height": 294
    },
    "colab_type": "code",
    "id": "ZhneNTcYChdt",
    "outputId": "1a84e721-6112-450b-fe0a-5c79442c9546"
   },
   "outputs": [
    {
     "data": {
      "image/png": "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\n",
      "text/plain": [
       "<Figure size 432x288 with 1 Axes>"
      ]
     },
     "metadata": {
      "needs_background": "light",
      "tags": []
     },
     "output_type": "display_data"
    }
   ],
   "source": [
    "pyplot.plot(history.history['loss'])\n",
    "pyplot.plot(history.history['val_loss'])\n",
    "pyplot.title('model train vs testing loss')\n",
    "pyplot.ylabel('loss')\n",
    "pyplot.xlabel('epoch')\n",
    "pyplot.legend(['train', 'testing'], loc='upper right')\n",
    "pyplot.show()"
   ]
  },
  {
   "cell_type": "code",
   "execution_count": 24,
   "metadata": {
    "colab": {
     "base_uri": "https://localhost:8080/",
     "height": 294
    },
    "colab_type": "code",
    "id": "DlTr3Cs4VNOB",
    "outputId": "063a60c0-129f-4cd7-cfe2-31d9975d571f"
   },
   "outputs": [
    {
     "data": {
      "image/png": "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\n",
      "text/plain": [
       "<Figure size 432x288 with 1 Axes>"
      ]
     },
     "metadata": {
      "needs_background": "light",
      "tags": []
     },
     "output_type": "display_data"
    }
   ],
   "source": [
    "pyplot.plot(history.history['f1'])\n",
    "pyplot.plot(history.history['val_f1'])\n",
    "pyplot.title('model train vs testing f1')\n",
    "pyplot.ylabel('f1')\n",
    "pyplot.xlabel('epoch')\n",
    "pyplot.legend(['train', 'testing'], loc='upper right')\n",
    "pyplot.show()"
   ]
  },
  {
   "cell_type": "code",
   "execution_count": 25,
   "metadata": {
    "colab": {
     "base_uri": "https://localhost:8080/",
     "height": 294
    },
    "colab_type": "code",
    "id": "NQnqV-Kaw6fm",
    "outputId": "a6921521-3f6a-4225-f390-707641d616ae"
   },
   "outputs": [
    {
     "data": {
      "image/png": "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\n",
      "text/plain": [
       "<Figure size 432x288 with 1 Axes>"
      ]
     },
     "metadata": {
      "needs_background": "light",
      "tags": []
     },
     "output_type": "display_data"
    }
   ],
   "source": [
    "pyplot.plot(history.history['precision'])\n",
    "pyplot.plot(history.history['val_precision'])\n",
    "pyplot.title('model train vs testing precision')\n",
    "pyplot.ylabel('precision')\n",
    "pyplot.xlabel('epoch')\n",
    "pyplot.legend(['train', 'testing'], loc='upper right')\n",
    "pyplot.show()"
   ]
  },
  {
   "cell_type": "markdown",
   "metadata": {
    "colab_type": "text",
    "id": "D8cXg6gpsZbN"
   },
   "source": [
    "(We can see that the model performs much better on its training data. This is expected, as the model learns to recreate the selections of the training data. We can also see that the performance of the model on the testing data decreases over time. This is evidence of the model overfitting. At some point, the model begins to naively recreate the selections of the training data rather than truly learning how to make selections. In practice, we effectively ignore this as we have already saved the version of the model with the best performance on the testing data - mitigating any overfitting.)"
   ]
  },
  {
   "cell_type": "code",
   "execution_count": 26,
   "metadata": {
    "colab": {},
    "colab_type": "code",
    "id": "EVdN-Urh-mdX"
   },
   "outputs": [],
   "source": [
    "model = tf.keras.models.load_model('/content/mp-dl-unh', {'weighted_binary_crossentropy':weighted_binary_crossentropy, 'f1':f1})"
   ]
  },
  {
   "cell_type": "markdown",
   "metadata": {
    "colab_type": "text",
    "id": "K2Hd8FlY2Xty"
   },
   "source": [
    "# Model Performance Visualization\n",
    "\n",
    "Now that we have trained the model, we will visualize its selection-making ability compared to the SITLs."
   ]
  },
  {
   "cell_type": "markdown",
   "metadata": {
    "colab_type": "text",
    "id": "jwbEhnbi2Xt0"
   },
   "source": [
    "Since we've already preprocessed the testing/training data into a format suitable for model training, we reload that data to preprocess it into a format suitable for evaluation."
   ]
  },
  {
   "cell_type": "code",
   "execution_count": 27,
   "metadata": {
    "colab": {},
    "colab_type": "code",
    "id": "loaf_Rpz2Xt0"
   },
   "outputs": [],
   "source": [
    "validation_data = pd.read_csv('training_data.csv', index_col=0, infer_datetime_format=True,\n",
    "\t\t\t\t\t\t   parse_dates=[0])"
   ]
  },
  {
   "cell_type": "markdown",
   "metadata": {
    "colab_type": "text",
    "id": "oujploNp2Xt4"
   },
   "source": [
    "We apply the same preprocessing steps to this data as we did for the original training and testing data."
   ]
  },
  {
   "cell_type": "code",
   "execution_count": 28,
   "metadata": {
    "colab": {},
    "colab_type": "code",
    "id": "UarjtN552Xt4"
   },
   "outputs": [],
   "source": [
    "index = validation_data.index\n",
    "selections = validation_data.pop(\"selected\")\n",
    "column_names = validation_data.columns"
   ]
  },
  {
   "cell_type": "code",
   "execution_count": 29,
   "metadata": {
    "colab": {},
    "colab_type": "code",
    "id": "PB666aem2Xt7"
   },
   "outputs": [],
   "source": [
    "validation_data = validation_data.replace([np.inf, -np.inf], np.nan)\n",
    "validation_data = validation_data.interpolate(method='time', limit_area='inside')"
   ]
  },
  {
   "cell_type": "code",
   "execution_count": 30,
   "metadata": {
    "colab": {},
    "colab_type": "code",
    "id": "DtkJHVze2Xt-"
   },
   "outputs": [],
   "source": [
    "validation_data = scaler.transform(validation_data)\n",
    "validation_data = pd.DataFrame(validation_data, index, column_names)\n",
    "validation_data = validation_data.join(selections)"
   ]
  },
  {
   "cell_type": "code",
   "execution_count": 31,
   "metadata": {
    "colab": {},
    "colab_type": "code",
    "id": "k84Veyug2XuC"
   },
   "outputs": [],
   "source": [
    "validation_X = validation_data.values[:,:-1]\n",
    "validation_y = validation_data.values[:,-1]"
   ]
  },
  {
   "cell_type": "markdown",
   "metadata": {
    "colab_type": "text",
    "id": "zux-H0AMLRF0"
   },
   "source": [
    "Using the model we trainend earlier, we make test predctions on our validation data."
   ]
  },
  {
   "cell_type": "code",
   "execution_count": 32,
   "metadata": {
    "colab": {},
    "colab_type": "code",
    "id": "QWHQ9x8x2XuH"
   },
   "outputs": [],
   "source": [
    "test_predictions = model.predict(np.expand_dims(validation_X, axis=0))"
   ]
  },
  {
   "cell_type": "markdown",
   "metadata": {
    "colab_type": "text",
    "id": "jTUqi-6C2XuJ"
   },
   "source": [
    "We visualize the true SITL selections made over the validation data by plotting the ground truth values for each datapoint in the data (where a 1 denotes that an individual datapoint was selected and a 0 denotes that it wasn't).\n"
   ]
  },
  {
   "cell_type": "code",
   "execution_count": 33,
   "metadata": {
    "colab": {
     "base_uri": "https://localhost:8080/",
     "height": 352
    },
    "colab_type": "code",
    "id": "izyEw0C32XuJ",
    "outputId": "5e648212-6f01-4ba3-a195-060868b83a17"
   },
   "outputs": [
    {
     "data": {
      "text/plain": [
       "Text(0.5, 0, 'Datapoints')"
      ]
     },
     "execution_count": 33,
     "metadata": {
      "tags": []
     },
     "output_type": "execute_result"
    },
    {
     "data": {
      "image/png": "iVBORw0KGgoAAAANSUhEUgAABk0AAAE9CAYAAACm6SWGAAAABHNCSVQICAgIfAhkiAAAAAlwSFlzAAALEgAACxIB0t1+/AAAADh0RVh0U29mdHdhcmUAbWF0cGxvdGxpYiB2ZXJzaW9uMy4yLjIsIGh0dHA6Ly9tYXRwbG90bGliLm9yZy+WH4yJAAAgAElEQVR4nOzdd7xlVX3///fn3juVmWEYZqjDOHQdQURHJIqFiAporCkSy9cSSfJTjNGvicbeosafxkbylRjjT5NoEP0qKkVFiqAgAyJlKA5TmMb0fuf29fvjljn33FN232vt83o+HjD39M8qe+2111p7b3POCQAAAAAAAAAAoNN1lR0AAAAAAAAAAACAD5g0AQAAAAAAAAAAEJMmAAAAAAAAAAAAkpg0AQAAAAAAAAAAkMSkCQAAAAAAAAAAgCQmTQAAAAAAAAAAACRJPWUHENfChQvd0qVLyw4DAAAAAAAAAAAE6K677trunFvU6LXgJk2WLl2qFStWlB0GAAAAAAAAAAAIkJmta/Yal+cCAAAAAAAAAAAQkyYAAAAAAAAAAACSmDQBAAAAAAAAAACQxKQJAAAAAAAAAACAJCZNAAAAAAAAAAAAJDFpAgAAAAAAAAAAIIlJEwAAAAAAAAAAAEk5TpqY2dfNbKuZ3d/kdTOzL5nZKjO718yellcsAAAAAAAAAAAA7eR5psk3JF3Y4vWLJJ069t+lkv41x1gAAAAAAAAAAABa6snri51zt5jZ0hZvebmkbzrnnKTbzWy+mR3rnNucV0xVdqB/SJffuEonL5qjlzzlWM2c1l12SE1de99m/fV/3a2nLD5c//HGZ+jIOTMmvb5tX79Wbd0vM+k1V9wuSfrtB1+oIw6bXka4DR0cGNZ9G/foGUuP0Invu0avPPt4ve+iJ+qoeTMlSY9u26/3fu9e3bl2l777V3+gZyxdUHLEjW3Y1avzPnPjxOPV/3ixurqsxIiSed/379VLzjxO1z2wWf95+2OSpJc/9Th98TVnJ/q+lZv26uIv/VLzZ0/TO19wqk49eq6efcrCKe+7f+MeXXLF7br6svN04sLD9PVb1+isE+br6U84ou1v3Pr77Xrdv9+hd7/wNF32glMnnv/R7zbpsm//Vg99/MJMt+M9Bwd14Rdu0TfffI6+d/dG/d2LT58oa+ecTnn/tfrq656uC5Yd3fDze/sG9alrHtKMni5941drJUkrPnCBtu7t18K503XU3Jmp4usbHNYTP3idXvKUY/W5PzkrcdqvXLFen7n2IX3hNU/VqUfN1WM7e3XOiQt017qdevW//lrveuFpekdNfpfpm79eqxsf2qobH96mf3zlmVp8xCxt3nNQ923co0+84sxJ7z04MKxfr96u808/Sh/90cqJMvjEK87Qtn39euOzlsZqI/sGh/WBH9wv56RPvvIM7e8f0rX3bdYHf/iAZk3r1rknLdDcmdO0aO4MPWPpETphwWy95Eu36h0vOFUPbd6rnm7TNfc9rjWfulhmJuecPvTDB7Svb1D/+Koz9R+3rdVTT5jfcLu58s71OuKw6XphTV37zHUP6a51u/SbNTsnnvu//8+zdPaS9ttSUlv39Wnlpr2aOa1b5550ZNv37+8f0hkfvl5mknOHnr//oy/WnBm5daeaOvtjP9Wu3sGJxwvnzNCv3/eHmtYdfT3Mqq37JEmL5s7U/Rv3NCyvdh7cvFefvf5hHTV3hr5z53q94w9P0fNOP0o9XSYz6SmL5096//CI0zv/5x4dd/hMve/iJ8X+vTJ87Zer9YmfPKgnHzdPP77sPJkd2k/2DgzpSzes0pnHH66XPOXY2N/9H7et0VV3bdBP3vGcLEOe8Cf/51e6c+0u/e0Fp+lvLpjc9n3q2gf11ZtX66uvf7pe/ORjcvn9tF70zzfrkS37dfGZx+hfXvv0Ka/3DQ7rvM/cqM/96Vl63mmL2n7fVXdt0NrtB3T+E4/ScfNnqndgWMMjTqcdPTeP8PX5nz6sL/1ilV76lGP1lT+felL9jv39evonfi7J/z7Y+p29es4/3ajDpnfrgY+Nrov78g2/10vPOk4nLjys5OiSWbP9gM7/f2+SJN38nufrQP+wlh03L/b3bNnbpzXbD0Tal8R134Y9mjW9Sxd8/ha984JT9c4LTpvyntd+7XZN7+7SacfM1Y/u2aRNe/p0yTkn6JOvOHOiTm3Z26dLrrhd177zOZrRk13/8t9uWa2hEae/fv7Jum/DHv3jNQ/q16t36M+Wn6D9/UO6/LXtLybxmzU71T80rK/8YpVe9tTjdNe6XfrsH5+l7i7Thl29+q87HtPfX/jEzGJu5OHH9+m/71inmx7ZprkzezQ8Ij35uHl6ZMs+vfU5J+mPzjpOkrRq637duXanLjlnycRnR0acvn7bGp170pE64/jDc40zqtd+7XbdtmqHJOnS554kk/T3Fz4xUhtzoH9Id6zZofNPP2rS/m7cFbc8qr7BEZ28aI4+/uOVWnDYdD3r5CP19xc9cVIf5If3bNTffOceTe/u0oMfv1Brth/QwYFhfev2tbpyxYa2ffK/u+p3unLFBn3qVWdOyu8kNu85qO/fvVHfufMxrd95cNJrH3/FGXriMXO1dvsBveeqe3XSwsO0evsB/fxdz9UpRx3aN9z92C5947a1+vXqHdq2r1/vefHpOvuE+XrWKQu1dV+f/ujLt2rL3n7d95EXae7MaaniTWPrvj49tHmfnju2T/zpA4/rJ/dt1k8f2KJ/uPiJev0fLG362evu36y/+s+7Jx4vnDNdKz7wwrxDTuTyG1fps9c/rA+9dJnefN6JZYfT0gd+cN/EGIU0ui3+1fNOmrR9feqaB/XVW1ZP+lzW4wFxrdq6Xx/8wf0aHnF66pL5esMfPEHX3f+4/uI5J01579a9fdpxYEDDI04f/OH92rjroObM6NFFZx6jdTt6tWn3QX3xNWfrhAWzM4ltaHhEV921Qe/9/n2SpC9fcrYu+/ZvdcpRc/TMExforMXzddVdG/TNt5yjgeER3blmp17wpMbjHLVecfltumf9bknSI5+4SNN78r2jxcbdB7Vp98HU44U3P7JNj+3s1evPfUJGkWGcudoj/6y/fHTS5MfOuTMavPZjSZ92zt069vgGSX/vnFvR4L2XavRsFC1ZsuTp69atyy3mUI0f+ErSJeecoE+96iklR9Tc0vf+ZNLjtZ9+yaTHtZ28Vu8r0zu+/Vtd/btNevXTFut7d2+QJJ170gJ959I/kCQ9/eM/044DAxPv9yn2WvVl8fk/PUuvetrikqJJZnfvgJ76sZ81fC1pvtfni6SGk1+171v76ZdMPI7yu7Wfre0QjT//lMWH6+q3nxc/+CZOe/+1GhgemXj8yVeeodc+c3SneuWd6/V337u3Zex/+LmbtHrbgYavzZ3Ro/s++uJU8dXmx9vPP0X/+8Wnp/6epy2Zr7sf2z2pbCQ/tsfegSEt+9D1TV+vj/Gff/aIvnjD7/U/l56rPxubTK71kjOPjTQwMe4NX/+NbnlkmyTpvFMWqrvLdPPY4zjGD2RvfmSb/tfXfyNJuuBJR+vnD25pmA5JU7aTTbsP6lmf/kXD78+zrGr3NT/72+fq1DaDpo3aBUmaM6NH96es/3Hd+NBWvekbd055vtnAbDNnfuR6maQLlh2t79+9Ub/78It0+Kx4B/rN8mVcfRl+47Y1+siPVkqSvvnmcyYO6n1Wm8ZvvOkZev7pR008/stvrdD1DzSv71G/e8UHLtDCukUkaf185Rb9xTcPdav/8y3P1Hmnjk6MDY84nfwP10y85kO7WG/ngQE97eOH9u+NBg/itu217z/z+MO1afdB9Q4M68GPtzo5Prl28dW+/rU3LG+6cMEHtbHe8Q8v0M4DA7roi7+U5Gf9iaK+/TKT1nwqflrGJyfzyId2x033b9yjl3751oaf/dZbztFzTl006Xued9oi/X9vPifz+Or7WuOi7Fcafe49Lz5dbzv/lInXrn/nc3X6MflMbjaLodbKj71Ys6f3NGyzf/rA47r0W3dJ8mNbWLV1vy74/M1Tnr/67c+espChkfFxhR9fdl7DSaBmefXpV52p19RMbtS+79OvOlOfue6hSYs9pOb5Vb+wL22+vvwrt+p3G/bE/lzt7zZL99pPv0TP/vQvtHH3wUnPleV1X7tDt67argc/dqFmTe9u24bUapTGPPonaQ0Mjei0D1w78diH7a6Zrfv6dM4nb5jy/C/e/TydtGjOxONGeX/ZH56id78o2TFxFprV+eve+Rw98ZjJCwxOff81GhxuP7acVVmNL8Ru5+wl8/WkY+fpv+94TDe8+3k6uSbPG6lN818//+TcJ+wv/MIteujxfanzZTzuBz76Yh1WwmK+0JnZXc655Y1eCyI3nXNXSLpCkpYvX57fLE/AHti4d+LvR7bsLzGS9BpNmPjmwc2j+X3HmkOx3r760Arp2gmTkDy2s7fsEGLrGxxp/6YMbN/Xn9t3D49MbdbuTdCxb6V2wkSSHt16aALk92OrzVtpNmEiSfv6h5IH1sDKzXvbvymCux/bncn35GGoQZm3cv/G0fqwbX/jehh3wuOWmvffump7rM/WWrV1dH+zcdehA8XbYn5f3+Bw4t9Po3Zfs+fgYIt3trY/4/ofxYZdjdvquHm/r2809psfHq0Pg8P5t6e/33qoj7I1x3Y1L4/v6Zv0+IFN2bRXBwey3w42750c69Z9hx6P5LhoKiv9Q5PzpNG+Mo37Nma7n01r856D7d/kid6BYe3qDbOv20rSzeLOtbuyDSSGVuWws8HxSJIFEmkMDCXbr6zbMbnfubcv+X46C/X9ttq+S+1guQ+a9Wmi7uPvXT/aNu6N2TdqdRy5dkfvlAmTVrLuWyWZMInDpzow3q8fGhmRlP4shf6E23CeQujDjGs2kVB/bN5Iq+PvMu1usC1HmTDJ0pa6Pm4zv31st/rHxovi9rUfymhMouVvPN5+HCaOuGMMaC/fc41a2yjphJrHi8eeAwAAAAAAAAAAKFyZkyZXS3qDjTpX0h7uZwIAAAAAAAAAAMqS2+W5zOzbkp4vaaGZbZD0YUnTJMk5938kXSPpYkmrJPVKelNesQAAAAAAAAAAALST26SJc+6SNq87SW/L6/cBAAAAAAAAAADiKPPyXAAAAAAAAAAAAN5g0gQAAAAAAAAAAEBMmgCpOFd2BNmqWnpCUXa2U+7Fq0qeN0qHi1mjK5IVXggtL11VNoQAhZD19TEGEHLHYNv1h+9FEbdP0PR7Sk7nlPbI83xvpMyYs6oHiC6rHKe9TydN/rHdFKu+rMh9SEyaAAgcnYn0yMFw+HbcYjb6L9thsZrlthUaBQAgNMaOAiUweigAgAAxaQKkULWVFxxIAYgjiyaDZie+ZrseC6wRDy3e0JHdyArbrj/iHokUXXJVHSxnE4iH/AIQGpotSEyaAKhR1QMbTOXzwYvHoSEC2pHykPPFq9jaCQDwQn1fwud+K1BlTJKjXqfUCOo+JCZNAABAh6NPDAAAkBx9KQBA1TBpAgARcCAAAAAAAAAAVB+TJgAAAAAAAADgAS55DJSPSRMAAAAAAIDAcXY8UBFsy0DpmDSpINpWAEARuAc2AGQjuPY0uICryTkKAtlybNwAAEhi0gRIpWpdSjrJ5Sj7gJfj7RKQ5xPIiuyElpdlt32dLIT9fX2E1Bd/UBaIKqu2pvQqV/f7pceTQJkhx82vEPPXN1nloY/tvYchNZUq1oDSWQX1ZeVj3W8rwJB9x6QJkEKI7WjVUAaAX0IYjA1dkJ14AC1xpjgAH3AfBQAARjFpAgAdjkHucPhWUuOH1WnG8Dk0j69ZdoeWl8aF1wvFQBgA2t1skI3xxM0v8hcA4AMmTSrIt0G1KqvaYDMDKgDi4KDWL5QHgCKYWXiztBUV90ik6GLj2AISzQWA8LDIABKTJgBqsF/oHD4XNfUwbAyQlIm8BwCEr74vSN8QKAcDx6jXKXWiM1KJdpg0AQAAAAAAAAAAEJMmAACg47GWCAAAICnONAYAVA2TJgAAIJE0N4AHABxCc4pEqDiok7ZvVrV7dgIAkBSTJkAKVRswrFp6QlF2tlPuxavyAWnctFU3J8oQVm46Gp/ShJD19fUjgJA7Btsuosqqv1N2latPR9nxJFFmzAFmV/gyynQf2/sqHEdFydYqpDMk9bkdYu5TZ7LHpAkARMIp5wAAIB/0MgD4gMtsAX7wcL4K6DhMmgAIGn0JAJ2m+UFUWAMdZmHFCwCAJLH7AgCg+pg0AVJgwB5AkXw7RX580CBNVIw7xOdXLUAoGOQDQDtQfT6WsYchAd7zcVsGOg2TJgAmsGMGEAdnCviF4gBQBNr+cBV96SUu9QSJ/gmA8NBsQWLSBAAAAAAAAAAAQBKTJkAqnl0pB7misIEoWFVaHnIeADqLq2j/tP7MBM5UAMrBmYWo1ylVolPSidaYNKkgtm0kRd3pHH53ArwODgAAAAAAABXGpAkAAEjEtxvTA0VjG0BWgqtJwQVcTTRByFpVz14CACAuJk2AVKrVqaxWasJR9gEvg37FI8sPISuyE1pe0vaglfrqQXXxB9suospqAL7sKleF9qjM7TbE/Apddtuef4XnYUhNNYs1ShpCSmcV1Nf1EPM/xJh9x6QJAADITIgrFP2+XB2ATkAzBMAHSe9NR18KAFA1TJoACJqPq18AIE/N2r3Qxiu4uSgAIETsvgAAqD4mTQAAQGkYdwAAAAAAAD5h0gRIgZMcOkl1h3apxkhq4kwBGkMAAPxX3e4sPMaZOQCAEDFpAmAC/Vmg86Q5kKXN8AuDEgCKYGbsAAJVdLElvT8GqoV6ACA0HFdBYtIEAABkiAPj8pD3AIBqmLw/Y/AKKAf3n0O9zqkRnZNSNMekSQVxkZTikNdA9uibh6MqbSBXFwNQNpohJMH+C1lzCVsj6iIAoGqYNAFScPQOkYUSqlHtqiGqcfHI8kPIi+wkHegoSxX2oZPb0nDSE1Coh4QYc0WFVNeLVEa++F4SWe2Xyq5y9T9fdjyt+Lj2KLT+SRVkVUd9bO/9i6i5ZnWfbcI/U0skvDIKL2L/MWkCJMBKeABojIMAwA90VcJCeQHwAZf6BABgFJMmQAIeLrgAAACYQFcFAAAAAJJh0gRA0JjAAtBpmrV7oa0OrcLNRX28bAUAIF8V2H0BAIA2cp00MbMLzexhM1tlZu9t8PoSM7vRzH5rZvea2cV5xgMAAFAvtMEPLoGGSJjQAQAUJLS+FAAA7eQ2aWJm3ZIul3SRpGWSLjGzZXVv+4CkK51zZ0t6jaR/ySueTkJ/pTgMR6AKGIANh29joOP7mzRhsc8CilGFM3sApEMzgDKEdiYsAABSvmeanCNplXNutXNuQNJ3JL287j1O0ryxvw+XtCnHeAC0wYEU0HlSbfa0GV6hDQdQBCbgwlX04DWD5ZDonwAIEQ0XpJ4cv/t4SetrHm+Q9My693xE0k/N7DJJh0m6IMd4AABAlhqcYsIACQDE59mJhO0FF3A1cV8l1EtbIzgDHfADzTtQvrJvBH+JpG845xZLuljSt8xsSkxmdqmZrTCzFdu2bSs8SABghVRxyOr4fMoztpXyJM16ygwAOkMo7X19nKHEXSnkOcSZhZiqU6pEp6QTreU5abJR0gk1jxePPVfrLZKulCTn3K8lzZS0sP6LnHNXOOeWO+eWL1q0KKdwgfiY/ce4NCv9yl7RRT0uXrv6Erc++VSEceuTT7GHLmleltUGVG2FdEjJKXu/E0V9foYQc6eo2rablTKyJe5PFh1jVttt2VWuvs6XHU8SsUPOMI0h5lfosspyH9t7H2NqplmoUZJAv6dYU/qdAWZ/SNtGKPKcNLlT0qlmdqKZTdfojd6vrnvPY5JeIElm9iSNTppwKgm8Nz7rTKOEULFwAnmhgw94giVyQaG0APiAy6wCADAqt0kT59yQpLdLul7Sg5KudM49YGYfM7OXjb3t3ZLeama/k/RtSW90jEIjANRSAADgNTorAAAAAJBInjeCl3PuGknX1D33oZq/V0p6dp4xAAAAdILQ1oZynWwAQIjYfQEAUH1l3wgeAAAAMXACAaKgmgAAAABAMkyaAACA0rBYMz4Gw/0RUlmwrQFA9dHWA9XA/YWA8jFpAqQQ0mAJ0Az1OBy+3mQ99DMfOCQBULbAm1GUJO7+l8tKoZ2kfc1WVYt6BwAIEZMmACZwfXmg86Ta7mkyvEIbDqAIZkb7H6iii42V0pBoLgCEh8MqSEyaAOlUbFmgC325eInSZF3Z2V7273eidlkeWpmkaTsCSyoyVLV9TkipCSHr61c7hxBzp6jatpsVcmUqX8+Qjas+FSFuAmXGHGB2Ba/K7XRIKUsTa1Xaz1BUIb/DT4F/mDQBEmDWGQAA+IyuSlgoL+AQtofycHYQgNZoI9A5mDSpIGYX8ze+cIO87hwVXqwDAKggdlsAAAAAkAyTJgAAAAAAAAAAAGLSpJI4Wa445HXnqPIl2aqcNgD+4sb1AIAQsfsCAKD6mDQBEDQumwWg09DuIQrqCQAAAAAkw6QJAAAoDYs143PcrQIJsDIaAAAAAKJh0gRIgWErVAGrkcPha1l5GhYABCO4djS4gKsqXkFwWUS0k8fCDGodACBETJoAmMCBFHxANYwvTZal++zUTzd6DsVIuu2wzSXn60QmkCf6i+EquujoEwQsy6KjzQAQGFotSEyaAKm4io2WVC09RUqTc+XnevkR1OqEatgujXGzoOwsq01P3BWKZccuVWcAMOm2U9Y2V7V9Tpr0FJ0VIeR8fZ6EEHOnqNq2m5Ug8qXwtiabHyw7b6e0RwEUdb3YZRE3ja36UiFmWOCyynEfi87HmJpp1naFlIZOUYV+J/Uqe0yaAAlUZHwNADJHZw3wA32VsFBcALKQdiEIZwcBADCqJ8qbzOwoSc+WdJykg5Lul7TCOTeSY2yAtxgUBIDGGKgtD3kfrjzKjr4KgFDVt4lVOSMUCA2bHup1Sp3okGSijZaTJmZ2vqT3Slog6beStkqaKekVkk42s6skfc45tzfvQAEAANBcaAcxDIIBAELE7gsAgOprd6bJxZLe6px7rP4FM+uR9FJJL5T0vRxiA7zHIk4AAAAAZeCMMgAAgHy0nDRxzr2nxWtDkn6QeUQAShPiqt+sbjDZcTwu6gCrIVAoBskQRdk3TgYAAACAULW9p4mZvVijl+M6fuypjZJ+6Jy7Ls/AAACA37KYtGSODCgGN/f1G1NcSIJ6g3ppJ8xZkAb4gbUvQPna3dPkC5JOk/RNSRvGnl4s6R1mdpFz7m9yjg8AvMBQU3EY2IvPpxyj/MLD2V0AAGAS+gYAgA7X9p4mzrnT6p80s/+R9IgkJk3Q0Zj9x7g0q7pKuYRKzU/6Vo87YYVbuzSO1olDR6tu4vlm31eO8QmS2t+PW37VL23/jderItqCSXXFt8YnglYRp0lN0VkRQt7XRxhCzOhs1ND4om7XZW//9X0b53E/uqm4ccZ+fygZ0RmyKg4vi9XHmJpoFmqU46WAklm4OHnTSfnYCeMoRetq83qfmT2jwfPPkNSXQzxAUGiUUAVedobRkG9FNX6GQu1gBvUJADoAq9DDRLmhDJzSCgAIULszTd4k6V/MbK4OXZ7rBEl7JL0xx7iQAn2S/JHHCB51OChW92+m301dQIFCr2718fu8eMLYuINCaQFhqlpTm/gyq1XLCADeitPa0DIhjZaTJs65uyQ908yOUc2N4J1zj+ceGeAxVlIDQHVUpTPN/WRQq+zL2QAAAABAqNrdCH6pc27t2CTJlIkSG13CdrxzbsPUTwMAgE7DQsPyhJb3nAlxCFkBAIfULwLwbX/hWThAbqjrqNcpVYK6D6n95bk+a2Zdkn4o6S5J2yTNlHSKpPMlvUDSh3Xo0l0AAAAAAAAAAABBand5rj8xs2WSXivpzZKOldQr6UFJ10j6pHOOG8J7hqsxFIe8Lh9lUD1cYigcVdn+QktGs8suVaU8kA2qQ1iCK6/gAq6mqrb7Pt8vquoS531VKyOASTplS6dJg9T+TBM551ZKen8BsQAACuLzxASnwsZHlnWWrDvxbHPJ+dyW1qOcgephcgH1MruUGfsMoFRsgkD5usoOAAAAAAAAAAAAwAdMmgApsLYL49LUhbLrkW+rFDviVNg2aWz2ctzn89ZoMWPc8uuI8vbceBkU3RY0u8xYqNIkp+isCCHn6+tHCDGjsxWxHXdqu1l6uut+vuxwkogdcoBpLEPpdbOJrPp0PibPt2PXVprlX5R8DSeV1eBjXY+tCmnwDJMmQAITA4U0SqiASnQQkFiaywtNNIU1dYjqhKioK/nisg5hobxQBOoZ2snjspPUOwBAiCJNmpjZDVGeA4Cqyuz6wAAAAAAAAAC81fJG8GY2U9JsSQvN7AgdWiQwT9LxOccGeIuV+QAAwGd0VQAAAAAgmZaTJpL+UtI7JR0n6e6a5/dK+kpeQQEAACCe0E6ICyzchkK6rjYAIBuh7W8BAEB8LSdNnHNflPRFM7vMOfflgmICAAABaDRczDhCecj7cDEAB6bfkERVz36vv68Gl8ktDosBUItND/U6pUpQ9yG1P9Nk3FfN7B2Snjv2+CZJX3XODeYSFQBERLe+euigxOdTloVYfqGFnHW7F2KZob2qDqYCAApA3wAA0OGiTpr8i6RpY/9K0usl/aukv8gjKADwjWP0CYAnaI6QBONfAAAAABBN1EmTZzjnzqp5/Asz+10eAQEh4fRljEsziFn2ACi1uHjt8ry+TriJ5xt/Mk0ZZtGO1X5H/PpMDcxK0pycKLMCisI1+TsUrWJOsy0VvR8oe78TRX2IIcTcKSiKxoo4LnBu8tmBcX+x8LJr84NR4yl78VKr9iiUtil2nDHf33r/WF3eln9GcfmYPh9jai75sVtY6SxWnKyJvJ+pe2eI+R9gyN7rivi+YTM7efyBmZ0kaTifkJAWl9koTogNKQDkiWYRkVFZCkV2AwAAAEA0USdN3iPpRjO7ycxulvQLSe9u9yEzu9DMHjazVWb23ibv+VMzW2lmD5jZf0cPHSjP+MQUAxAI1aRVilRk7+U5F15/s9V4nx1FHUJUoa/rCCl+FtGEheJCEahn2YlSeoQAACAASURBVKtaW5u0X9jqUxXLIgAli9Om0P4gjUiX53LO3WBmp0o6feyph51z/a0+Y2bdki6X9EJJGyTdaWZXO+dW1rznVEnvk/Rs59wuMzsqSSIAAEBCKXqSVRsoCB3FAaAINvE/hMbYcaMEVDsAoaHdghT9niaS9HRJS8c+81Qzk3Pumy3ef46kVc651ZJkZt+R9HJJK2ve81ZJlzvndkmSc25rjHiA0rCqGgAA+Iy+CgB0Hsb5gGpg0B4oX6RJEzP7lqSTJd2jQ/cycZJaTZocL2l9zeMNkp5Z957Txr7/Nkndkj7inLsuSkwAAKBcDMoiFQ4GgQnBNafBBVxNZd8gvVP5PJiZtkbU3wwZAIBOFfVMk+WSlrnse2U9kk6V9HxJiyXdYmZnOud2177JzC6VdKkkLVmyJOMQAABAVjweRwAAAAAA7zEnDpQv6o3g75d0TMzv3ijphJrHi8eeq7VB0tXOuUHn3BpJj2h0EmUS59wVzrnlzrnlixYtihkGgCoraoUd14AuDlkdn09ZRvnlr9kq0KTtFGVWPsoAAA6pbxPph5eALIfon2CqTmmPjUYQin6myUJJK83sN5ImbgDvnHtZi8/cKelUMztRo5Mlr5H053Xv+YGkSyT9h5kt1OjlulZHjAkAAKDjsPLMHz6XhcehAQAAAIDXok6afCTuFzvnhszs7ZKu1+j9Sr7unHvAzD4maYVz7uqx115kZis1eq+U9zjndsT9LUzm8wF81VTtOsJVS0+R0lz/t+xrB5f9+/WyroY+1ut2IcUtk7JTWPv7cbPbh+KpyoKppHV9/GOFF4UHZZ+lNHW58O0ggLyvzxPf9lVxOecqszrTKYgqVLgituPU96souLFp92tR4ym7LzelPQpwA4jdhmaYxhDzKypfk5ZVXD6WnYchNdUs/6K1aSGlNHxV6Hf6uL2GLtKkiXPu5iRf7py7RtI1dc99qOZvJ+ldY/8BwRg/5qVNQiVQkZEhqhOiCvFgJCTVGJ7vHJQXAB9wSRoAAEZFvacJgAaqNpNblRWQaK+2pH2rxlTD5nwtq6q1hQAAVBF9fZSBagcACBGTJkACDBACqIo0x7GsRvQLg2GoRVcFeaGlCRe7CZQhbn+RY20AZeM4F1KESRMz6zaz/yoiGAAAAAAAAAAAgLK0nTRxzg1LeoKZTS8gHgAAEAjuSYE0WMEFHEJriiRYkV+OKp+x40Pfrsr5CwAIR6QbwUtaLek2M7ta0oHxJ51zn88lKgBAx2IgNT6fcsynWBANgxMAAGAS+gYAgA4XddLk0bH/uiTNzS8cZIHBD3SS8tdCAUCxaPcAAAAAAMhPpEkT59xHJcnM5ow93p9nUADK4TjHP7FUWVdCttf+pG/lnvVlATxLnqT2aayP2U35o8nriWJJL02ZeVg8/su4Uo9/XRHbyqS2J8DSDyniVm17GHnfrCEMk3PVWdgUeFEEbXS7Tl6Riu4Ttfu9Zi/7tqnUt5m16fKxn9lI7Dhjvr/V28PY5yTj23HUOE/DyoSved5Is0jDScFUPrTPcfIv6ntDLpNxVW5ry9L2niaSZGZnmNlvJT0g6QEzu8vMnpxvaAAAIDR01RBVQMe8AOqw/QJ+8mFAEwCAKog0aSLpCknvcs49wTn3BEnvlvRv+YUF+K0qKwURXdWKvGrpqTqb8kcO3w0UIPT6Vh+/z+PGRmclKJQWEKaqNbVJ7y1YsWwA4LE47Q1tE9KIOmlymHPuxvEHzrmbJB2WS0QAgEL5POgHFCHpAAEAAGXiUhwAAAD5iHoj+NVm9kFJ3xp7/DpJq/MJCfBfVS9JwKrUzlFb1L7VZwawW/C0rHyrQwDCuuY3gGLQ1UcZ6NsDAEIU9UyTN0taJOn7kr4naeHYcwAAIGAMoFQHRQmEK6QpLtoaf8SdG6Xs0E4eZy/R1wQQGtotSBHPNHHO7ZL0jpxjAQCAI/oEfMoyn2JBNGUdFHAwAgAIUUfsvzohjQAAtBD1TBMAAAAAAAAAAIBKY9IEQNC4ZDuATkOzBwAAAABAfpg0ATCBm8aWo+xcL/v3p8g4IO/Sp+wn+3xMY1Q0O/FlXn/Gvi+P65hH+d2qCCk9IcRaH2MAIbcUevy1nIpvL0JQxHaV9ieKLrV29aRZnpln17+a0h4FWP1jh5xhGkPMr6h8TVpWbbSPZedhSE01y78o+epj3kvhXp6wXX5WYSysAknwTtt7mpjZTEkvlfQcScdJOijpfkk/cc49kG94gJ9C3VEAQN7oqyEq6gpwCF1LAD4wWiMAACS1mTQxs49qdMLkJkl3SNoqaaak0yR9emxC5d3OuXtzjhMAAAAAAAAAACBX7c40+Y1z7sNNXvu8mR0laUnGMQEAAAAAAAAAABSu5aSJc+4nbV7fqtGzT4COwrUCAQAAkBW6lkiCYxJkLem9MKiKAICqSXwjeDO7IstAAABAMj5dfdqnWBBNWffpoq6gFe4f5y+KBp2uI9qnDNPYEfkFoFJotyC1v6fJgmYvSbo4+3AAAAAAAAAAAADK0e6eJtskrdPkdQZu7PFReQUFAAAAAAAAAABQtHaTJqslvcA591j9C2a2Pp+QAJSF6yInlybvysj32t90nhV80mspN/0+z9Intb/uc33IbuLfxp9Mk8Issqc2j+N+Xdbl3cmS5uR48RWxqbgmf4eiVcxp6nLR20EIeT+lHQwh6BZG28lqXOsh8KLITRHbcdrtoOjtqN3vRc2zsutc/e9P7kcXGkpisfvDcd/e4v2h5FESvqYtq7h87Kf7mueNNM+/9okIKJmFi5M37Y6jm31nkfXMOSfL4Hpg1JnstbunyRckHdHktX/KOBYASIBdA+AVNsnc+XgAm0RIB70AJmP7BQAAQJW1PNPEOXd5i9e+nH04QBi4KRRCRx0Oi038m33BZV4XqFu5azZYGULWhxBjK3nFn8e2jbBQA4DmfN4+qtanTro/qlo+AGjMhz5rnAiSRkubBqnNmSZmdl6b1+eZ2RnZhgQAAAAAAAAAAFC8dvc0ebWZ/ZOk6yTdpdEbw8+UdIqk8yU9QdK7c40QAAB4qSqXiQKAsoXWmoYWb1VRDsgafTsAAEa1uzzX35rZAkmvlvQnko6VdFDSg5K+6py7Nf8QAf9wHWcAAOAz+ioAAAAAkEy7M03knNsp6d/G/gMAVIxv42o+XCfVV81W/5WVY+NlVTs4S+mFp6xr9nKtYAAoFu1uNjoiHzshjQAAtNDyniYAgA7g26wJCpVmkqojBg1CQnkUjrM50IlMNDe+cDEbIcoNZaC/CCA0LOSExKQJgBp0aDsHnQAAAAAAAABgKiZNAExgxWxyaW6aWPYNF8v+/XpZx+NX6ka1WxkaNw/KTqNr8nekz5YdvCo0YZwwL8fLoOii8KHss5QmPUW0w7XxxV2dXob6CH3bV8UVdvSTOVUrPVkpYrNKux0U3s63ez1iQGXXt/o2M4AmdIrYIWeYxhDzKypf901ZReVj2fma5400y78o+RpCXy0k7bKz/vUi61lWRU2dyV7Le5qY2atave6c+3624QBhqMwAWwUUtV+gzIGI6KvlripZHNJBLwAAnYCz0QEAGNXuRvB/NPbvUZKeJekXY4/Pl/QrSUyaAAAAFIhFREiCyX8AqD7aeqAajI0ZKF3LSRPn3Jskycx+KmmZc27z2ONjJX0j9+gAAIC3Gg7e078vD3kfLFb2gslQJFHValM/VkgLWRzOAgXQSqfM5dA3hxT9niYnjE+YjNkiaUkO8SADbNwAAAAAAAAAAMTX7vJc424ws+slfXvs8Z9J+nk+IQH+YzUgkB8mfuPzKcd8igXRdMqKsU7DamEAoeJYywP0DQAAHS7SpIlz7u1m9kpJzx176grn3P/NLywAQFE4MA2Hb2U1PtjuW1wIAxOkAFAsWl0AAIBoop5pIkl3S9rnnPu5mc02s7nOuX15BQYAAPKX5iwDBl/8QnkAKAJtTbi4sTDKQLUDEBzaLSjiPU3M7K2SrpL01bGnjpf0g7yCQjpcjgEoXpqV9mWv0i/79+tl3Yb5lj6pfUz1r7u6f6e8P8dYIn1HTQStvs41+DEfyydUSbNyvAwalU/W3KS/wyv8lvU71fcWmxch5PyUdjCEoFsIPf5aFUpKporIlyn1KOaPFtHO5/F7Zde5VskIZtuOG2fsupXstdD5mraqbHsNeRlUY82KIUoSim6vQxInZ9odRzf90gKzP6ufospkL+qN4N8m6dmS9kqSc+73ko5q9yEzu9DMHjazVWb23hbve7WZOTNbHjEeAEBGQhy4hMeoToioGh37cBJRjfyGLxjMAQAAQJVFnTTpd84NjD8wsx61OUo0s25Jl0u6SNIySZeY2bIG75sr6W8k3RE1aKBsnGLsDw7Zk6EOh8Xq/s30u6kLwQl5ojP06hZ6/ACAbFWtH5X0fmNVywcA/orT3NA0IY2okyY3m9k/SJplZi+U9F1JP2rzmXMkrXLOrR6bcPmOpJc3eN/HJX1GUl/EWAAAADpXuHMmKBEDWgAAAAAQTdRJk/dK2ibpPkl/Keka59z723zmeEnrax5vGHtugpk9TdIJzrmfRIwDAAB4ouHYPQOzABBbaJe7Civa6gr5zEPkI21TQp0C/MCWCJSvJ+L7LnPOfVHSv40/YWZ/M/ZcImbWJenzkt4Y4b2XSrpUkpYsWZL0J4HMBHZciwywQrc4SS8L0Ml8yjGfYuk0SfOe9q2a6KsACFX9fondVAnIdACdjDYQin6myf9q8Nwb23xmo6QTah4vHntu3FxJZ0i6yczWSjpX0tWNbgbvnLvCObfcObd80aJFEUMGAAAAAAAAAACIruWZJmZ2iaQ/l3SimV1d89JcSTvbfPedkk41sxM1OlnymrHvkiQ55/ZIWljzWzdJ+t/OuRVxEgAAQKdg4TiqhDNcAAAAAAA+and5rl9J2qzRyY3P1Ty/T9K9rT7onBsys7dLul5St6SvO+ceMLOPSVrhnLu61ecBAMXgEi5IanzMmzoEAID/jNnqyqOIgWpgUwbK13LSxDm3TtI6M3utpE3OuT5JMrNZGr3c1to2n79G0jV1z32oyXufHzlqALlg3DO5NHlXdr6X/fv1sr4BZYg3tIwbcZoUpuqQjx2Z1/5+q1gaTa6EWD5VM14uRU9+VW2yLc2NvIvIi9rfCCHv69uGAEJuibau+tK0AVXVLkuiZplvORtiUcdugwJMIw7Jqo762K75F1Fzzba7KNkaUjpD0K4ul9lPG42NaTIfRb2nyZWSRmoeD0v6bvbhAGFgBU/n8bC/mJkqpw0loD4hIqpKvuirANVHHw5ZMwbuAACQFH3SpMc5NzD+YOzv6fmEhLTo6CCpEGsOB4vJhFjWAEbR7CEK9o8AAAAAkEzUSZNtZvay8Qdm9nJJ2/MJCQAABIFR2VL4eKkE+I8zT/zGVo0kqDfIGpcSBABgVLsbwY/7K0n/ZWaXa7RvtkHSG3KLCgDQsThbLj6vcsyrYBAFg+nJMX8FAKgk+gYAgA4XadLEOfeopHPNbM7Y4/25RgV4jkESAKgOJg1QRXRVAAAh4lgbAOCDSJfnMrOjzezfJX3XObffzJaZ2Vtyjg0A2uIUcsAvzD+Ux5j9AQBUEHs3APBDpxxudEgy0UbUe5p8Q9L1ko4be/yIpHfmERAAAACqj4MRAABQr1MGZQEAfos6abLQOXelpBFJcs4NSRrOLSoApajaORtZ3iy5Xec9zW+VcVNn1+JR2bI+e8jHU/zbxVRfJ9zE803enz6kZMY3jJrAWsXS6DUfy6fTFFkGrsnfoYhbv7P43jyEcJZmfb0sY1+ZpcDDRwRFFHHV6lHUtqjsZE9pj2oiCqVMYscZ8/2h5EPWqp5uH5MXUp43PXaLkIiQ0lm0OFnj6v5t+r4S8zurn6bOZC/qpMkBMztSY2VpZudK2pNbVACAwrBzDYdvA53jc4mTovIrRPiMxqdQZDcyRX0KEgv4AQAAool0I3hJ75J0taSTzew2SYsk/XFuUQGe45RhhI4qHBab+Df7kuM+GChS6LUtpPhDihUAQlW1blTSvmbV8gGAv+I0NzRNSCPSpIlz7m4ze56k0zVa5x52zg3mGhkS820lMpAnVs4C5anK5hdaOxJavADaC2275njDD6HVm6iqmq4QsG0DaIX2GZ2k5aSJmb2qyUunmZmcc9/PISYAQIHo9wBhabbNhn7PB2SL2gBUX6cMcLN78x9lBKBKaNIgtT/T5I9avOYkMWkCVAinLnYQj8+hz+MSVFVHjiENj5sD74WUdyHFCgBIJrN+NPsMoFT024DytZw0cc69qahAgJCwkgYAAPiMvgoAAAAAJNMV5U1mdrSZ/buZXTv2eJmZvSXf0ACgPQaFAABlYR8EAAAAANUTadJE0jckXS/puLHHj0h6Zx4BAQCAgAV4KnlVTn+30BISWrwAgELU7x7YXQCAHzqlPe6QZKKNqJMmC51zV0oakSTn3JCk4dyiAlCKqi2YLXIFcJqfKnulsm83j+6Em5q2S2PTG303eaXsHJtUhVoE41tdq5qk+Tv+sSKKZ9JPVKw+pElOEdtG1O3UF/VZkjaLaH+y41zlNt9MFNOGpvuRooutXZ5EzbOy61t9vpcdTxKxY84wjVXu2/uatqzqqI913dc8jyNKCnzM+5C13R+1eZynzLbXCmwbvok6aXLAzI7UWL0xs3Ml7cktKqTCTZTz1ymz6+gM7FqR1HhTWNtBo7OGqKgp+aKvAqAezQLaYSwBAIBRLW8EX+Ndkq6WdLKZ3SZpkaQ/zi0qAABQCA6NqyO4y3MBmBDaJCLNjR/irk6l3Kov/dlI2bdGTMQACA2tFqSIkybOubvN7HmSTtdo3XnYOTeYa2QAEAGr2gF0Gk7XBwAAAKqL7j5QvpaX5zKzZ5jZMdLEfUyeLumTkj5nZgsKiA8AvMAKqeKQ1/H5lGOUX/5GMp41YeVxNTG5BgBIjL4BAKDDtbunyVclDUiSmT1X0qclfVOj9zO5It/QAABFYGANAKqPyTGgeujCAQAA5KPd5bm6nXM7x/7+M0lXOOe+J+l7ZnZPvqEB/qrqIHOI4ylVLYu8hVjWAIDouHwlgFDRvwcAAGVrd6ZJt5mNT6y8QNIval6LehN5AAAAYBImbwEAAAAAPmo38fFtSTeb2XZJByX9UpLM7BSNXqILQIVUbVFXkekJbUWca/K3D7JeHe1j2bSLqf511+T5+tcTxZLisxPfUfMlrcqv0Ss+lk+nGS+DIs5MmFxXwtMy5hQJKjovQsj7qu0Lyv79bFUqMdkpIFvS1qOi62G77TiUmtSsX9boNV/FDjPmB1r3/wLJpAR8Lf/s8ty/BPqa5400PXYLKA0+ipN9rsFfDd9XYqFktb1Sr7LXctLEOfdJM7tB0rGSfuoO1aIuSZflHRyiq3JHBAAAVE8VOvYhJaEK+Q1/UJ+QJ+7BlJxxHieAHNHGoJO0vcSWc+72Bs89kk84QBjoyKNKylxVgWjybHLSfPd4W0gNQqcIaffPQS2AehzDZK9qeZp038E+B0BR4rQ2tExIo909TQAAQJXRk6zMgX41UgF0ptAWMAQWbnXFLgj2FGgtjytYVKWfBaBzWNVmxJEIkyYAAK9wYBWfTzlG+eUv68FVjgkAAMAk9A0AAB2OSRMAAICAsMAbUXC/OwAAAABIhkkTAAAAoOI4owgAAAAAomHSBEiA6zj7g7KoHlZHA0B67B8BACFi/wUA8AGTJgAAACgcZz4AAAAAAHzEpElFsBoDWahaPcr6ZsmtfyzFR8vId48LO+vQfDxzpW1EMUMuO4W1ZdYqvxuVrY/lE6qkOTleLsU0C4d+xONmKJE0dbmIvJi0nQaQ9/Uxpo257CRXqa1zrvz89FERZZz+F4otuXbbbdS+etnbT/2vF3qMkZHYMac6tpn84bLLL0++piyrKupjVfcwpKaa1f0o20SI7YzP2u6Ppry/uPzPbHvN5mtQg0kTIAFWxwJAY/TvERUHg/mirwIAiMvEzgMAAIlJEwAAguHbEHOjMW8GavPXbK6BrAeAzuJbvyAr9QP3DOQXp8pnhQBIr1OO9axTEoqWmDQBgA7n22Jv+ifxlZ1ltQfYDGyEh20uOc6WARAWGnxERFUBAHQ4Jk0ABI3VUEA6aY6JGWwvR7N2j/IAUBSamzCxn0AZWFADAAgRkyYAAKCjhTaIxMkNiIJ6AgAAAADJMGkCJMBABAAACElok4MAgPiq0NZzrA1wTw3AB7lOmpjZhWb2sJmtMrP3Nnj9XWa20szuNbMbzOwJecYDoHroVAMAAADVweV3AQBA2XKbNDGzbkmXS7pI0jJJl5jZsrq3/VbScufcUyRdJemf8ooHQOcp8nArzcFd2QeGZf9+vawnwnycWGt38+j6Mpl41ORzaZKYSfa42j+bf2Oj13wsn1AlzcvxzxVRFKGXd6vw06Wt2Izxrd1vpD4/08bcrt3NW+h1v1aFkpKpIsq4vh7H/c2i62G7n4saTtlt1pR8n/RasbEkFTvMuHWr5gNVa79b8TW2rKLyMXW+5nkjTUONkISQ0lm0ODnj6v5t+r76divA/A8xZt/leabJOZJWOedWO+cGJH1H0str3+Ccu9E51zv28HZJi3OMp9LYNgAkRfuBLFGfEBVVpVhsm8gS1QkAAABVluekyfGS1tc83jD2XDNvkXRtjvEAmeHykgCKNNHk5ND4pPlGBmHRadj9Iy+htaesZvQD5VA+344Ly6oSxh4SQEHitDa0TEijp+wAJMnMXidpuaTnNXn9UkmXStKSJUsKjAwAAMTh2+BBFTFEBgAAAABAfvI802SjpBNqHi8ee24SM7tA0vslvcw519/oi5xzVzjnljvnli9atCiXYAGgpQoPBPu2SJFB9xaaFFbZWVYbFSsNy5N022Gbg4/KvocBUEWhtPf1fQn6FiUgywE0EMp+JC3rlISipTwnTe6UdKqZnWhm0yW9RtLVtW8ws7MlfVWjEyZbc4wFAAA0kKZDSF/SLwwqAQBaYS+BMtA/AQCEKLdJE+fckKS3S7pe0oOSrnTOPWBmHzOzl4297bOS5kj6rpndY2ZXN/k6AGiIdagAOo1vZ4d1MooCAAAAAKon13uaOOeukXRN3XMfqvn7gjx/v2OxkCN3DFgBAMrDTgjt1d8gmjPDAAAAACCaPC/PBQC5qx8UAoC4GEwGAADwA/e0AgD4gEmTiqBjgSxUrR4VOZ+S5rfKmPdxk/72q9yzzg+/UjeqXUxx86DsNNZOXraqT43SVXbsVZJ0Wx4vlyImoas8z50maUXkS+1vhFAO9TGmjbnsJJf9+1lyrlrpyUoReZL2N4out3b7lajbddl91fpfD6ENrRc75jTHNlMep8swn/Pb19Cy6tP5mPc+xtRMs1CjJCGkdIagXX7Wt1NFLs7N6qeoMtlj0qSK2FJyx6pkAGgyCRLgPijEmKuAfM+X0VkJStmDwggTtQYAACAfTJoAQIdj4BIIC9ssAEBifwB/MPELAKgaJk0ATDCxKrVT+FzSLI6Oz6cso/zCQ5klR9YBAHyS2T6dHRxQKvrnQPmYNAEAIBAhrOFj8rU85D0AoArqBwvZvwGAHzqlPeYyt5CYNAGAjhfCQDz8xuVBAGSNZgXIHkNAAAAA0TBpAiBoDKoA6aRZRMMCnHI0m6SiPFDLMZuJHNHchIn9BMrQKSvTAQDVwqQJkADjEJ2Hrj4AX3CzVURR31dhsBQAEAKOtQEAPmDSBMCEEAfiWnWqi0xPml8qI9dd0wfly/pAycfV1u1Cqn95/HGzz6Wqfxlkj5v0d7wv9LF8QpU0K8c/V0RJhLifqdUq+jR1uehcCaEU6vMzbcxlNzVVautC347zUkQZp/2Joqth259r1q9x9W8rt85NzTfX4jVfxQw07ttd7d/17Xe6TPI5i30t/6zCKnvbC12z/UKUeuNr3fJBnKw5dBwd7wC8yH5bVtsZdSZ7TJpUBBsHAKBojfY97I8QVRWqSkhpYNv0W2jlE1i4lUU5AAAA5INJEyABLnEBoEjjTU4ebQ/tWXh5ENrgapWEVFVCq9cIC+0QMIq2dhT5AKAocZobmiakwaQJAETA2EBxOOiKz6cso/zCQ5kBAIBJ6BsAADockyYA0OG4Vi0AAEB4qnSvHAAAAJ8waVJFrApBQkbl6RiUNAAAAAAAADAVkyYA0OFYpBgOX8uqNi4mX8vDZbZQJZ42d0DQQtlP1MdJ3wIA/BDKfiQt65SEoiUmTQAEjmEVII003UH6kuUIqdXj0jHlIesB1GPyAWWg3gEAQsSkCZAAAxH+oCwAdBraPURRX02Y5AQAAAgD/TagfEyaVATjJ8hC1W4IXuTAYprV1GWsxHZN/vZB1tnhW/pGtY4qbp0oO421bUerdqRRssqOHYfKpYimqMoTPmmSVnTeh3AGUH2IaWMuu4/jf45HN1oUVUpRNgrJkZQ/UvR20G6zjRpP2dtvfcYH0IROETvmFGms/2ja8vN6n+VpaFllmY9Z72NMzTQLNco2EVI6Q9AuO6e0WwUWQHY/RaXJGpMmQALM+gNAk0kQ+mq5K3/wKBteD4JUAF2VsLA1AACAcVXp7wMhY9IEACJg8Kk4TErG51OWUX7hocwAAAAAADiESRMAAAAgAU6WAQAAAIDqYdIEAAB0NPPqXB0AAAAAAFAmJk2qiFWPAGLgvgIAAADhoQsHAACQDyZNAExgtXXnoKTDxAQXAAAAAABAvpg0ARA0hpDTIw+RVu1cDpOvBWCjRUegogNZC2UfXR9lKHEDQNV1Smts1ikpRStMmgAJVHWxtwtwgMKXskgTRhlJqP1NX/JwXNbx+JY+qX1M9S+7Js83e39RGvUlW7UjjV7zsXx8l3WWHSqD/Asj9OJuFX+aupzH/jevWItSH2PakMtOc9m/n6XRtDCYUK+IMo7TVvhR51oH0SzGqf2gchPTqj3yI5/bixtm7Pe7HqTXuwAAFRhJREFUxn8nkXX7n6ey62ZzLpMz1H2s3/7m+VRN27gISfAx730RJ2smjqPbHX/XtzsFFkBWv0SdyR6TJlXBxgEAKFijjhmdtfxxmTZEQTUJS3jlFVzAlRTS4CEAAEBImDQBEuBMPSA/bF9TWd2/zV5P9N0ZZzjlFx7KLLqQsopyRZ7Cm+QB8kFbO4p8AFCUOM0NTRPSYNIEAAAAAAAAAABATJpUE1OpAAAAAAAAAADExqQJAAAAAAAAAHiAS94B5WPSBAAAAEjAcWMHAAAAAKgcJk0AIIKsb5YNAAAAAAAAwD9MmgAJsLDUH6zyTY8cDIevZRX6dhjanGiz3GZyF7UC3yy9be8An8TdztlNAAAARMOkSUU4Di3RoVrV/CIHjNL8VtkDW74NeGcejl/Jk9Q+pLh5kCaJWYyfRP39xunysIA8l/U2Mv59RTQFtb/hWdOTWpq+WNXyIgv1eRJ8HrWJP6S+vAsq2uIUkStTtotW7/WglNptt00XAWQeSTr1cYbYHsXuW6Y5tklZ9+o/73N++xqbc9nE5kM7Us/XPG+scbBRkuBrOkOdfG9Xl8us61mNx3haZYLGpAmQQKg7CgDIm68d/CohiwEAAAAAyA+TJgAArzApGZ9PWUb5hYcyAwAAAADgECZNAAAAAAAAAAAAxKQJAAAAAAAAAACAJCZNAAAAAAAAAAAAJOU8aWJmF5rZw2a2ysze2+D1GWb2P2Ov32FmS/OMBwAAAAAAAAAAoJncJk3MrFvS5ZIukrRM0iVmtqzubW+RtMs5d4qkf5b0mbziAQAAAAAAAAAAaKUnx+8+R9Iq59xqSTKz70h6uaSVNe95uaSPjP19laSvmJk551yOcVXSfRv3TPz98OP79LOVW0qMJp6osfqUpjXbDzR8vlmMPsXeyr0b9gQT67jaul/vhoe2aEZPdya/c/vqHRoYGmn6+i2PbJv4O24e/urR7Q3rVJ5lcc/63RPff++GQ3mY9DezjDXrNuzGh7dOeuxDHd+0+2DL129+ZJsOnzVt4vGqbfslSSs37W34/n39Q4nTtePAQKLPSdLvNozWo7sf2zXx3ODwoV14fUx9g8NTXlu1dX/T7y+qrG79/Xat29Gb+PNF16m71+1q+PyDm/cmimX7/tE68KtHd2htinxo5Kcrt6jLbOLx/TVt9m/X7/Jie4zjnvW7deScGROP9/YNTfx988PbNH/29ETf++tHd2jDrtbtQly/27B78m+s3q7pPaPrpbbv75/0mo/l8ODmye1ds33luHZpaLUPLyL9Nz68VYfNaH7ode/6cPpgt6/eqXU7DpVFKHFHkSYtadqAqG56ZKvmzDjUP1ixtvH+QJJ+t37PpPdK0uY9fbmUV7PvbLdf2d8/2PD58f7FuBVrd+lA/3DD9xbhV6sm9xN+/eh2PbZz9HEW/egsrdneuF9174bdE/uAVlZvG92271q3SwcHo+f5A5sO9UGGhie3t/dtaHy81iy/fr9136THNzy4RT3dxV9ZPkp53vTI1inP+VAPfvXoDq3O4Pjy9tU7tWl3X1ZhZWLL3snx+JDfzTQ7zrl73a6W/RLJ33G9W3+/XWu2JzteyCo99zc5Jm5kvK2+q81+ZFfdMXHS46okfvHQVs2enn54vn5fVe+cpQt0+OxpTV/HVJbX/ISZ/bGkC51zfzH2+PWSnumce3vNe+4fe8+GscePjr1ne913XSrpUklasmTJ09etW5dLzCF72sd/pp0pBr4AAAAAAAAAANXyw7c9W2edML/sMLxjZnc555Y3ei3PM00y45y7QtIVkrR8+XLOQmngh297ttbv7NXQiNMRs6erZlGndw4ODmvlpr06et4MHT9/9pRYnZP6h4bVNziizXsOamB4RGct9mvDdk46MDCkOTN6dM/63TphwWwtqMn34RGnLXv7tH3/gJ507FxNK2FlTBRDI06/fGSb5s2apgWHTdeJCw8rO6RE1mw/oOPmz9Tu3kH1DY5o4+5ePenYeToi4Wq/geERPbh5rxYfMVuS1GVq+F39QyPauPuglh45W11m2t07qNkzujU9Qnn3DQ7rocf36UnHzp10NszevkFt2HlQy46blyj2ZpyTHt/bp6PnzdCO/QNaNHfGpNcffnyfli6c3fTMHOekTXsOanpPl7bs6dOwczpr8Xzt7RvUrGndqeu4c9K9G3fr6LkzdczhMxN/z/b9/eobHNHCOdM1vadLA0MjmjmtW/1Dw7pn/R4tO3ae5s70Y9e3v39IA0Mj2tU7oKPnzdTg8Ii6zDQ04nTkYVPrW+/AsGZP79aGXQe1q3dAR8yepjkzpslMmjdzWux2f+u+PplMi+bOkHOj8fx+6z4dM2+mZk3vlsm0s3dAx8ybqe4u06Pb9uvYw2dqeMTJSdrTO6hTjpoz6ftGRqRjDp+p/qFhmVnDbeFA/5B6um1SXRsYHtH+viE9trNX07u7tK9/SGcvmR9pW0qqdl8zP8KKG+ekFet2asFh09U7MKx1O3p1/BGzdHZJHc971u/W9O4ujTinfX1DOvrwmTopZhvePzQiM2laV5cODo7Wr7hGnNOu3kENDo3o4S37dPaS+ZrR0y0zqW9gWPNmTc3brfv61NPVpQUN6rmPdh4Y0D3rd2vZsfOmtE/OSRt29Wrh3BmaNS1+/o23WYuPmJVVuJOMr3CcNb1bx8+f/Bt7Dg5q+/5+HTd/VqLYi7BhV68e39On049p3HY7J92/aY9OO3pOpDNL9/YNau/BQS2cM0PTe7o0NOLknDQjwurrJHYeGNCqrft16tFzGvYjhkecbnhoq554zFwtWTA7lxiyMjTi9NDmvZo3a9pErFv39WnhnBmTziYLyeDwiK65b7POXDxfJxwxSyPOJTpD2TlpYHg4s7Oba/UNDqunu0vrdhzQsYfPathOb9x9UD1do/vVrfv6NDTsdOz8mZPq3PCI04ZdB/WEI7OtZ4/v6dOs6d06fNY09Q8Na+eBQfUODOnwWdM04pyOmtu+T9c3OKzpPV3ac3BQM6d1a9Pugzp50Wj/YmjEac/BwYb9oiz1D41od++AhkacxmvznLEzw6b3dGnmWBs5ODyigw32beOx59WWxPXotv1atXW/nnzc4Zo3s0c93V2x9vEHB4eb7he27B0t8xk93dq2r09mpp4u09HzJpf1gf4hrdvZqzkzerRkwWwNj7ixPsOA7ly7S885daHmzWze/1qz/YBGnNMx82a2PEsvihHntL9vSNsPDGh6t+nRbQc0rdt05GEztHThYeoyqW9wROt3jvbt+gaHteCw6ZOOb/qHRnSgf0hDIyMaGBrRkXNmqMukGT3dck7acaBf2/b160nHZnsMF5dz0uDIyEQfum9wWDsPDGjLvn4tWTC75bY0ODyiTbv7tGLdTjknnXfKwlTHZXk60D+kNdsPaOnCwya2VV/1Dgyrd2BIBwdGj48WzZ0xpa3Ytq9fvQPD6uk2TesebYWitJ95GhweHevoMtMRs///9u4/1q/6ruP48+UthWoHZdBsbKAUV7ewROp2g8zgxJnxK0vQBBWM0rlF/GMYnfMPNhOZS4hboptZcKAL2A0RJMxBs3UC2ZibUQbdLL9GyCoDBQtF27IyoNDbt3+cT8131/u95dbvj3u/9/lIbu45n/M553y+Td/3c873fT6fs5JVK6fYsecFTprjemXmQPFSu5d9YvfzrV88wGuPPoqde/ex+sgVnHBMd085KC+8PMMjT+1l5dQP8bo1q3jmue5e9LjVK1l1xBS7vv8SJx7bfd+4b/8r66P/fdfzPPSfz/LG1x694Puqw3Ggipdn6v/dd7w00/1dOlQsnLJ2aX7fN07DHGnyNuDDVXVOW/8gQFX9SU+d21udf0myAngKWDvf9FzT09O1devWobRZkiRJkiRJkiRNtvlGmgzzUYh7gfVJ1iVZCVwEbJ5VZzOwsS1fCHzF95lIkiRJkiRJkqRxGNo4tqran+Qy4HZgCriuqh5K8hFga1VtBq4Frk+yHdhFl1iRJEmSJEmSJEkauaFO/ldVW4Ats8r+qGf5ReCXh9kGSZIkSZIkSZKkV2JxvKlMkiRJkiRJkiRpzEyaSJIkSZIkSZIkYdJEkiRJkiRJkiQJMGkiSZIkSZIkSZIEmDSRJEmSJEmSJEkCTJpIkiRJkiRJkiQBJk0kSZIkSZIkSZIASFWNuw0LkuQZ4PFxt2OROh74r3E3QloGjDVpNIw1aTSMNWl0jDdpNIw1aTSMNS1lP1ZVa+fasOSSJuovydaqmh53O6RJZ6xJo2GsSaNhrEmjY7xJo2GsSaNhrGlSOT2XJEmSJEmSJEkSJk0kSZIkSZIkSZIAkyaT5q/G3QBpmTDWpNEw1qTRMNak0THepNEw1qTRMNY0kXyniSRJkiRJkiRJEo40kSRJkiRJkiRJAkyaTIwk5yZ5JMn2JJePuz3SUpDksSQPJNmWZGsre3WSO5N8p/0+tpUnySdbjN2f5C09x9nY6n8nycae8re2429v+2b0n1IajyTXJdmZ5MGesqHHV79zSJOqT6x9OMmTrX/bluT8nm0fbHHzSJJzesrnvJZMsi7JN1r53yVZ2cqPbOvb2/aTR/OJpfFIclKSu5J8O8lDSX63ldu3SQM0T6zZt0kDlOSoJPckua/F2h+38gXHx6BiUFpMTJpMgCRTwF8A5wGnAhcnOXW8rZKWjJ+vqg1VNd3WLwe+XFXrgS+3dejia337uRS4GrqbWOAK4KeB04Erem5krwZ+q2e/c4f/caRFYxP/9//8KOKr3zmkSbWJufuXT7T+bUNVbQFo14cXAW9u+3wqydQhriU/1o71BmA38N5W/l5gdyv/RKsnTbL9wAeq6lTgDOB9LU7s26TB6hdrYN8mDdI+4B1VdRqwATg3yRksMD4GHIPSomHSZDKcDmyvqker6iXgJuCCMbdJWqouAD7Tlj8D/GJP+WerczewJskJwDnAnVW1q6p2A3fSXWycABxdVXdX9/Koz/YcS5p4VfU1YNes4lHEV79zSBOpT6z1cwFwU1Xtq6rvAtvpriPnvJZsT7m/A7il7T87bg/G2i3ALxx8Kl6aRFW1o6q+1Zb3Ag8Dr8e+TRqoeWKtH/s26TC0/um5tnpE+ykWHh+DjEFp0TBpMhleD/xHz/oTzH9RIalTwB1Jvpnk0lb2mqra0ZafAl7TlvvF2XzlT8xRLi1no4ivfueQlpvL2pRA1/U8xb7QWDsO2FNV+2eV/8Cx2vZnW31p4rUpSX4K+Ab2bdLQzIo1sG+TBqqNCNkG7KRL4v8bC4+PQcagtGiYNJG0nJ1ZVW+hGy76viRv793YnvKrsbRMmnCjiC9jWMvY1cCP0021sAP4s/E2R5ocSVYDnwN+r6q+17vNvk0anDlizb5NGrCqmqmqDcCJdCND3jTmJkmLhkmTyfAkcFLP+omtTNI8qurJ9nsn8Hm6i4Sn2/QItN87W/V+cTZf+YlzlEvL2Sjiq985pGWjqp5uN8EHgE/T9W+w8Fj7b7ophVbMKv+BY7Xtx7T60sRKcgTdl7g3VNXft2L7NmnA5oo1+zZpeKpqD3AX8DYWHh+DjEFp0TBpMhnuBdYnWZdkJd0LmDaPuU3SopbkR5K86uAycDbwIF3sbGzVNgK3teXNwCXpnAE826ZJuB04O8mxbYj42cDtbdv3kpzR5uy8pOdY0nI1ivjqdw5p2Tj45WrzS3T9G3TxcVGSI5Oso3vR9D30uZZsT7TfBVzY9p8dtwdj7ULgK62+NJFaf3Mt8HBVfbxnk32bNED9Ys2+TRqsJGuTrGnLq4B30r1DaKHxMcgYlBaN+Pd/MiQ5H/hzYAq4rqquHHOTpEUtySl0o0sAVgB/W1VXJjkOuBn4UeBx4Feqale7eL8KOBd4HvjNqtrajvUe4EPtWFdW1V+38mlgE7AK+BLwO150a7lIciNwFnA88DRwBXArQ46vfjE89A8sjUmfWDuLbvqSAh4Dfvvg+xCS/CHwHmA/3ZQnX2rlc15Ltv7yJuDVwL8Cv15V+5IcBVxPN9f8LuCiqnp0+J9YGo8kZwJfBx4ADrTiD9G9a8G+TRqQeWLtYuzbpIFJ8pN0L2Gfonuo/uaq+sjhxMegYnA0n1x6ZUyaSJIkSZIkSZIk4fRckiRJkiRJkiRJgEkTSZIkSZIkSZIkwKSJJEmSJEmSJEkSYNJEkiRJkiRJkiQJMGkiSZIkSZIkSZIEmDSRJEmSNCJJZpJsS/JQkvuSfCDJvPckSU5O8mtDas+WJGsOUefdSV43jPNLkiRJWnxMmkiSJEkalReqakNVvRl4J3AecMUh9jkZGErSpKrOr6o9h6j2bsCkiSRJkrRMmDSRJEmSNHJVtRO4FLgsnZOTfD3Jt9rPz7SqHwV+to1QeX+/eknOSvK1JF9M8kiSaw6OYklycZIHkjyY5GMH25DksSTHt2M+nOTTbRTMHUlWJbkQmAZuaOdfleSjSb6d5P4kfzrafzVJkiRJw5aqGncbJEmSJC0DSZ6rqtWzyvYAbwT2Ageq6sUk64Ebq2o6yVnAH1TVu1r9H56n3j8ApwKPt+W/BP4ZuBt4K7AbuAP4ZFXdmuQxuqTIamA7MF1V25LcDGyuqr9J8tV2/q1JjmvHe1NVVZI1r2CkiiRJkqQlZMW4GyBJkiRJwBHAVUk2ADPATxxGvXuq6lGAJDcCZwIvA1+tqmda+Q3A24FbZx33u1W1rS1/k25asNmeBV4Erk3yBeALC/qEkiRJkhY9p+eSJEmSNBZJTqFLfOwE3g88DZxGN/pjZZ/d5qs3exj9QobV7+tZnmGOB8yqaj9wOnAL8C660SySJEmSJohJE0mSJEkjl2QtcA1wVXVzBh8D7KiqA8BvAFOt6l7gVT279qsHcHqSde1dJr8K/BNwD/Bz7d0lU8DFwD8uoKn/e/4kq4FjqmoLXfLmtIV8ZkmSJEmLn9NzSZIkSRqVVUm20U2xtR+4Hvh42/Yp4HNJLqEbwfH9Vn4/MJPkPmDTPPUA7gWuAt4A3AV8vqoOJLm8rQf4YlXdtoA2bwKuSfICcB5wW5Kj2rF+fwHHkSRJkrQE+CJ4SZIkSUve7BfGS5IkSdLhcHouSZIkSZIkSZIkHGkiSZIkSZIkSZIEONJEkiRJkiRJkiQJMGkiSZIkSZIkSZIEmDSRJEmSJEmSJEkCTJpIkiRJkiRJkiQBJk0kSZIkSZIkSZIAkyaSJEmSJEmSJEkA/A+ukwXCSBqYPgAAAABJRU5ErkJggg==\n",
      "text/plain": [
       "<Figure size 2016x360 with 1 Axes>"
      ]
     },
     "metadata": {
      "needs_background": "light",
      "tags": []
     },
     "output_type": "display_data"
    }
   ],
   "source": [
    "plt.figure(figsize=(28, 5))\n",
    "plt.plot(validation_y.astype(int))\n",
    "plt.show\n",
    "pyplot.ylabel('Selected (1) or not (0)')\n",
    "pyplot.xlabel('Datapoints')"
   ]
  },
  {
   "cell_type": "markdown",
   "metadata": {
    "colab_type": "text",
    "id": "C_f_rD7T2XuM"
   },
   "source": [
    "...and we do the same for the model's predictions."
   ]
  },
  {
   "cell_type": "code",
   "execution_count": 34,
   "metadata": {
    "colab": {
     "base_uri": "https://localhost:8080/",
     "height": 337
    },
    "colab_type": "code",
    "id": "QRFwAeCF2XuN",
    "outputId": "04d7ca4f-145e-4c11-956c-24ddf1161ad6"
   },
   "outputs": [
    {
     "data": {
      "text/plain": [
       "<function matplotlib.pyplot.show>"
      ]
     },
     "execution_count": 34,
     "metadata": {
      "tags": []
     },
     "output_type": "execute_result"
    },
    {
     "data": {
      "image/png": "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\n",
      "text/plain": [
       "<Figure size 2016x360 with 1 Axes>"
      ]
     },
     "metadata": {
      "needs_background": "light",
      "tags": []
     },
     "output_type": "display_data"
    }
   ],
   "source": [
    "plt.figure(figsize=(28, 5))\n",
    "plt.plot(test_predictions.squeeze())\n",
    "plt.show"
   ]
  },
  {
   "cell_type": "markdown",
   "metadata": {
    "colab_type": "text",
    "id": "nzomETjp3tUa"
   },
   "source": [
    "From this plot, we can see the continuous nature of the model's predictions. As mentioned earlier, the model outputs a continuous value between 0 and 1 for each datapoint that(very roughly) corresponds to its confidence in the selection of a point (i.e. an outputted value of 0.95 for a datapoint roughly means that the model is 95% certain that that point should be selected)."
   ]
  },
  {
   "cell_type": "markdown",
   "metadata": {
    "colab_type": "text",
    "id": "KRuZkV0t2XuP"
   },
   "source": [
    "With this in mind, we filter the model's predictions so that only those predictions with a >= 50% probability of being a magnetopause crossing are kept. This choice of probability/certainty is known as the threshold. \n",
    "\n",
    "This choice of threshold is chosen to optimize between over-selecting datapoints (resulting in more false-positives) and under-selecting them (resulting in more false-negatives).\n",
    "\n",
    "As an example, consider an email server's spam-detection system. Such a system might have a fairly high threshold (>99%), as you don't want to accidentally send a user's non-spam email to their spam inbox. At the same time, it's okay if a handful of spam emails make it through their regular inbox.\n",
    "\n",
    "In our case, we can afford to over-select datapoints as we do not want to miss out on any potential magnetopause crossings."
   ]
  },
  {
   "cell_type": "code",
   "execution_count": 35,
   "metadata": {
    "colab": {
     "base_uri": "https://localhost:8080/",
     "height": 320
    },
    "colab_type": "code",
    "id": "Qq6_n8gP2XuP",
    "outputId": "8d0aeb63-bcbd-402d-dac8-12b8fb9f7c06"
   },
   "outputs": [
    {
     "data": {
      "image/png": "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\n",
      "text/plain": [
       "<Figure size 2016x360 with 1 Axes>"
      ]
     },
     "metadata": {
      "needs_background": "light",
      "tags": []
     },
     "output_type": "display_data"
    }
   ],
   "source": [
    "t_output = [0 if x < 0.5 else 1 for x in test_predictions.squeeze()]\n",
    "plt.figure(figsize=(28, 5))\n",
    "plt.plot(t_output)\n",
    "plt.show()"
   ]
  },
  {
   "cell_type": "markdown",
   "metadata": {
    "colab_type": "text",
    "id": "--HNA2LF-AE4"
   },
   "source": [
    "# Model Validation\n",
    "\n",
    "Although we have already validated our model on data it has not seen (the testing set), we need to make sure that its ability to select magnetopause crossings is transferable to another range of data."
   ]
  },
  {
   "cell_type": "markdown",
   "metadata": {
    "colab_type": "text",
    "id": "tfv571-4MdaP"
   },
   "source": [
    "We load a third set of data, the validation set, which serves as an independent check on the model. "
   ]
  },
  {
   "cell_type": "code",
   "execution_count": 36,
   "metadata": {
    "colab": {},
    "colab_type": "code",
    "id": "1YUj-vy80I2l"
   },
   "outputs": [],
   "source": [
    "validation_data = pd.read_csv('validation_data.csv', index_col=0, infer_datetime_format=True,\n",
    "\t\t\t\t\t\t   parse_dates=[0])"
   ]
  },
  {
   "cell_type": "markdown",
   "metadata": {
    "colab_type": "text",
    "id": "tsg-zH1Y0I1p"
   },
   "source": [
    "We apply the same preprocessing steps to the validation data as we did for the training and testing data."
   ]
  },
  {
   "cell_type": "code",
   "execution_count": 37,
   "metadata": {
    "colab": {},
    "colab_type": "code",
    "id": "Z3AsLjh-xsYd"
   },
   "outputs": [],
   "source": [
    "index = validation_data.index\n",
    "selections = validation_data.pop(\"selected\")\n",
    "column_names = validation_data.columns"
   ]
  },
  {
   "cell_type": "code",
   "execution_count": 38,
   "metadata": {
    "colab": {},
    "colab_type": "code",
    "id": "FMXckJVX0QMs"
   },
   "outputs": [],
   "source": [
    "validation_data = validation_data.replace([np.inf, -np.inf], np.nan)\n",
    "validation_data = validation_data.interpolate(method='time', limit_area='inside')"
   ]
  },
  {
   "cell_type": "markdown",
   "metadata": {
    "colab_type": "text",
    "id": "dcgfN3Y20bs8"
   },
   "source": [
    "However, we standardize the validation data to the scale of the training/testing data."
   ]
  },
  {
   "cell_type": "code",
   "execution_count": 39,
   "metadata": {
    "colab": {},
    "colab_type": "code",
    "id": "E2pTbLeH0Ryk"
   },
   "outputs": [],
   "source": [
    "validation_data = scaler.transform(validation_data)\n",
    "validation_data = pd.DataFrame(validation_data, index, column_names)\n",
    "validation_data = validation_data.join(selections)"
   ]
  },
  {
   "cell_type": "code",
   "execution_count": 40,
   "metadata": {
    "colab": {},
    "colab_type": "code",
    "id": "HmvIfkOQ0S1N"
   },
   "outputs": [],
   "source": [
    "validation_X = validation_data.values[:,:-1]\n",
    "validation_y = validation_data.values[:,-1]"
   ]
  },
  {
   "cell_type": "markdown",
   "metadata": {
    "colab_type": "text",
    "id": "8Iuoi7WQ53gk"
   },
   "source": [
    "Using the model we trained earlier, we make test predctions on our validation data."
   ]
  },
  {
   "cell_type": "code",
   "execution_count": 41,
   "metadata": {
    "colab": {},
    "colab_type": "code",
    "id": "AlOFmA_R0Wm1"
   },
   "outputs": [],
   "source": [
    "test_predictions = model.predict(np.expand_dims(validation_X, axis=0))"
   ]
  },
  {
   "cell_type": "markdown",
   "metadata": {
    "colab_type": "text",
    "id": "YZZPb5EjM9EB"
   },
   "source": [
    "We visualize the true SITL selections made over the validation data in the same way we did above.\n"
   ]
  },
  {
   "cell_type": "code",
   "execution_count": 42,
   "metadata": {
    "colab": {
     "base_uri": "https://localhost:8080/",
     "height": 337
    },
    "colab_type": "code",
    "id": "42AfNry2FO7V",
    "outputId": "aa81f6a4-80ed-42f7-f744-924b94a0001f"
   },
   "outputs": [
    {
     "data": {
      "text/plain": [
       "<function matplotlib.pyplot.show>"
      ]
     },
     "execution_count": 42,
     "metadata": {
      "tags": []
     },
     "output_type": "execute_result"
    },
    {
     "data": {
      "image/png": "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\n",
      "text/plain": [
       "<Figure size 2016x360 with 1 Axes>"
      ]
     },
     "metadata": {
      "needs_background": "light",
      "tags": []
     },
     "output_type": "display_data"
    }
   ],
   "source": [
    "plt.figure(figsize=(28, 5))\n",
    "plt.plot(validation_y.astype(int))\n",
    "plt.show"
   ]
  },
  {
   "cell_type": "markdown",
   "metadata": {
    "colab_type": "text",
    "id": "oSdniM9HND_c"
   },
   "source": [
    "...and we do the same for the model's predictions."
   ]
  },
  {
   "cell_type": "code",
   "execution_count": 43,
   "metadata": {
    "colab": {
     "base_uri": "https://localhost:8080/",
     "height": 337
    },
    "colab_type": "code",
    "id": "IQvn147CFVgq",
    "outputId": "e7d7cae7-03b2-4bd2-ec21-a3c037834210"
   },
   "outputs": [
    {
     "data": {
      "text/plain": [
       "<function matplotlib.pyplot.show>"
      ]
     },
     "execution_count": 43,
     "metadata": {
      "tags": []
     },
     "output_type": "execute_result"
    },
    {
     "data": {
      "image/png": "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\n",
      "text/plain": [
       "<Figure size 2016x360 with 1 Axes>"
      ]
     },
     "metadata": {
      "needs_background": "light",
      "tags": []
     },
     "output_type": "display_data"
    }
   ],
   "source": [
    "plt.figure(figsize=(28, 5))\n",
    "plt.plot(test_predictions.squeeze())\n",
    "plt.show"
   ]
  },
  {
   "cell_type": "markdown",
   "metadata": {
    "colab_type": "text",
    "id": "Fbr_DnYhNJOJ"
   },
   "source": [
    "Once again, we filter the model's predictions so that only those predictions with a >= 50% probability of being a magnetopause crossing are kept."
   ]
  },
  {
   "cell_type": "code",
   "execution_count": 44,
   "metadata": {
    "colab": {
     "base_uri": "https://localhost:8080/",
     "height": 320
    },
    "colab_type": "code",
    "id": "kKbbKKOAFZ7y",
    "outputId": "e521d6e2-3d3a-415a-f5c7-41461f15398c"
   },
   "outputs": [
    {
     "data": {
      "image/png": "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\n",
      "text/plain": [
       "<Figure size 2016x360 with 1 Axes>"
      ]
     },
     "metadata": {
      "needs_background": "light",
      "tags": []
     },
     "output_type": "display_data"
    }
   ],
   "source": [
    "t_output = [0 if x < 0.5 else 1 for x in test_predictions.squeeze()]\n",
    "plt.figure(figsize=(28, 5))\n",
    "plt.plot(t_output)\n",
    "plt.show()"
   ]
  },
  {
   "cell_type": "markdown",
   "metadata": {
    "colab_type": "text",
    "id": "7Z42aU4b4ieu"
   },
   "source": [
    "We now plot a receiver operating characteristic (ROC) curve based on the model's performance over the evaluation data. \n",
    "\n",
    "An ROC curve will plot a model's true-positive vs. false positive rates of predictions for varying choices of thresholds. As the threshold approaches 1, the false positive rate and the true positive rates approach 0, as every prediction made is over the threshold and is thus considered a selection. As the threshold approaches 1, the false positive rate and the true positive rates approach 0, as no prediction made surpasses the threshold of 1.\n",
    "\n",
    "While we can use the plot to determine where we want to set our threshold (considering the importance of under-selecting or over-selecting points), it is more often used to get a sense of the performance of our model.\n",
    "\n",
    "To do so, we calculate the total area under the ROC curve. This area is equal to the probability that the model will output a higher prediction value for a randomly chosen datapoint whose ground truth was \"selected\" than for a randomly chosen datapoint whose ground truth value was \"not selected\"."
   ]
  },
  {
   "cell_type": "code",
   "execution_count": 45,
   "metadata": {
    "colab": {
     "base_uri": "https://localhost:8080/",
     "height": 294
    },
    "colab_type": "code",
    "id": "62howqH4NP2h",
    "outputId": "86d140b2-c236-44f8-e645-ebffe22feb3a"
   },
   "outputs": [
    {
     "data": {
      "image/png": "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\n",
      "text/plain": [
       "<Figure size 432x288 with 1 Axes>"
      ]
     },
     "metadata": {
      "needs_background": "light",
      "tags": []
     },
     "output_type": "display_data"
    }
   ],
   "source": [
    "fpr, tpr, thresholds = roc_curve(validation_y.astype(int), test_predictions.squeeze())\n",
    "lw = 2\n",
    "plt.plot(fpr, tpr, color='darkorange',\n",
    "         lw=lw, label='ROC curve')\n",
    "plt.plot([0, 1], [0, 1], color='navy', lw=lw, linestyle='--')\n",
    "plt.xlim([0.0, 1.0])\n",
    "plt.ylim([0.0, 1.0])\n",
    "plt.xlabel('False Positive Rate')\n",
    "plt.ylabel('True Positive Rate')\n",
    "plt.title('ROC curve - AUC = {:.2f}'.format(auc(fpr, tpr)))\n",
    "plt.legend(loc=\"lower right\")\n",
    "plt.show()"
   ]
  },
  {
   "cell_type": "markdown",
   "metadata": {
    "colab_type": "text",
    "id": "J2X1ovuuNyE6"
   },
   "source": [
    "Finally, we generate a list of predicted selection windows. The following code groups contiguous selected datapoints into windows and list the start and dates of those windows.\n"
   ]
  },
  {
   "cell_type": "code",
   "execution_count": 46,
   "metadata": {
    "colab": {},
    "colab_type": "code",
    "id": "XC-65ktvIKUc"
   },
   "outputs": [],
   "source": [
    "predicts_df = pd.DataFrame()\n",
    "predicts_df.insert(0, \"time\", validation_data.index)\n",
    "predicts_df.insert(1, \"prediction\", t_output)\n",
    "predicts_df['group'] = (predicts_df.prediction != predicts_df.prediction.shift()).cumsum()\n",
    "predicts_df = predicts_df.loc[predicts_df['prediction'] == True]\n",
    "selections = pd.DataFrame({'BeginDate' : predicts_df.groupby('group').time.first(), \n",
    "              'EndDate' : predicts_df.groupby('group').time.last()})\n",
    "selections = selections.set_index('BeginDate')"
   ]
  },
  {
   "cell_type": "code",
   "execution_count": 47,
   "metadata": {
    "colab": {
     "base_uri": "https://localhost:8080/",
     "height": 436
    },
    "colab_type": "code",
    "id": "db_RET1gfmLf",
    "outputId": "72a92eb3-d530-41d0-8ed6-f604fa7a1d84"
   },
   "outputs": [
    {
     "data": {
      "text/html": [
       "<div>\n",
       "<style scoped>\n",
       "    .dataframe tbody tr th:only-of-type {\n",
       "        vertical-align: middle;\n",
       "    }\n",
       "\n",
       "    .dataframe tbody tr th {\n",
       "        vertical-align: top;\n",
       "    }\n",
       "\n",
       "    .dataframe thead th {\n",
       "        text-align: right;\n",
       "    }\n",
       "</style>\n",
       "<table border=\"1\" class=\"dataframe\">\n",
       "  <thead>\n",
       "    <tr style=\"text-align: right;\">\n",
       "      <th></th>\n",
       "      <th>EndDate</th>\n",
       "    </tr>\n",
       "    <tr>\n",
       "      <th>BeginDate</th>\n",
       "      <th></th>\n",
       "    </tr>\n",
       "  </thead>\n",
       "  <tbody>\n",
       "    <tr>\n",
       "      <th>2017-02-03 22:27:37.784897</th>\n",
       "      <td>2017-02-03 22:28:58.785404</td>\n",
       "    </tr>\n",
       "    <tr>\n",
       "      <th>2017-02-03 22:31:22.786306</th>\n",
       "      <td>2017-02-03 22:33:24.287072</td>\n",
       "    </tr>\n",
       "    <tr>\n",
       "      <th>2017-02-03 23:36:01.811436</th>\n",
       "      <td>2017-02-03 23:38:43.812505</td>\n",
       "    </tr>\n",
       "    <tr>\n",
       "      <th>2017-02-03 23:41:07.813455</th>\n",
       "      <td>2017-02-03 23:56:07.819411</td>\n",
       "    </tr>\n",
       "    <tr>\n",
       "      <th>2017-02-04 00:09:55.824911</th>\n",
       "      <td>2017-02-04 00:14:43.826827</td>\n",
       "    </tr>\n",
       "    <tr>\n",
       "      <th>...</th>\n",
       "      <td>...</td>\n",
       "    </tr>\n",
       "    <tr>\n",
       "      <th>2017-02-09 07:45:10.928207</th>\n",
       "      <td>2017-02-09 07:53:34.932202</td>\n",
       "    </tr>\n",
       "    <tr>\n",
       "      <th>2017-02-09 07:54:55.932844</th>\n",
       "      <td>2017-02-09 07:59:03.434810</td>\n",
       "    </tr>\n",
       "    <tr>\n",
       "      <th>2017-02-09 08:03:24.436878</th>\n",
       "      <td>2017-02-09 08:07:09.438660</td>\n",
       "    </tr>\n",
       "    <tr>\n",
       "      <th>2017-02-09 08:15:06.442438</th>\n",
       "      <td>2017-02-09 08:46:22.957287</td>\n",
       "    </tr>\n",
       "    <tr>\n",
       "      <th>2017-02-09 09:42:51.484098</th>\n",
       "      <td>2017-02-09 09:47:52.986481</td>\n",
       "    </tr>\n",
       "  </tbody>\n",
       "</table>\n",
       "<p>122 rows × 1 columns</p>\n",
       "</div>"
      ],
      "text/plain": [
       "                                              EndDate\n",
       "BeginDate                                            \n",
       "2017-02-03 22:27:37.784897 2017-02-03 22:28:58.785404\n",
       "2017-02-03 22:31:22.786306 2017-02-03 22:33:24.287072\n",
       "2017-02-03 23:36:01.811436 2017-02-03 23:38:43.812505\n",
       "2017-02-03 23:41:07.813455 2017-02-03 23:56:07.819411\n",
       "2017-02-04 00:09:55.824911 2017-02-04 00:14:43.826827\n",
       "...                                               ...\n",
       "2017-02-09 07:45:10.928207 2017-02-09 07:53:34.932202\n",
       "2017-02-09 07:54:55.932844 2017-02-09 07:59:03.434810\n",
       "2017-02-09 08:03:24.436878 2017-02-09 08:07:09.438660\n",
       "2017-02-09 08:15:06.442438 2017-02-09 08:46:22.957287\n",
       "2017-02-09 09:42:51.484098 2017-02-09 09:47:52.986481\n",
       "\n",
       "[122 rows x 1 columns]"
      ]
     },
     "execution_count": 47,
     "metadata": {
      "tags": []
     },
     "output_type": "execute_result"
    }
   ],
   "source": [
    "selections"
   ]
  }
 ],
 "metadata": {
  "accelerator": "GPU",
  "colab": {
   "collapsed_sections": [],
   "machine_shape": "hm",
   "name": "Model Development",
   "provenance": [],
   "toc_visible": true
  },
  "kernelspec": {
   "display_name": "Python 3",
   "language": "python",
   "name": "python3"
  },
  "language_info": {
   "codemirror_mode": {
    "name": "ipython",
    "version": 3
   },
   "file_extension": ".py",
   "mimetype": "text/x-python",
   "name": "python",
   "nbconvert_exporter": "python",
   "pygments_lexer": "ipython3",
   "version": "3.6.8"
  }
 },
 "nbformat": 4,
 "nbformat_minor": 1
}
